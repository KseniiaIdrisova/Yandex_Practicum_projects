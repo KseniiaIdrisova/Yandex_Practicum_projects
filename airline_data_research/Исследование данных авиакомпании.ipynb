{
 "cells": [
  {
   "cell_type": "markdown",
   "metadata": {},
   "source": [
    "# Анализ данных в авиакомпании"
   ]
  },
  {
   "cell_type": "markdown",
   "metadata": {},
   "source": [
    "Цель: на основании данных определить самые популярные модели самолетов, выделить топ-10 городов по количеству рейсов"
   ]
  },
  {
   "cell_type": "markdown",
   "metadata": {},
   "source": [
    "# Оглавление:\n",
    "\n",
    "1  [Импорт данных](#part_0)\n",
    "\n",
    "2  [Обзор данных](#part_1)\n",
    "\n",
    "2.1  [Основные выводы по данным](#part_2)\n",
    "\n",
    "3  [Исследовательский анализ данных](#part_3)\n",
    "\n",
    "3.1  [Cessna 208 Caravan](#part_4)\n",
    "\n",
    "3.2  [SUkhoi Superjet 100](#part_5)\n",
    "\n",
    "3.3  [Bombardier CRJ-200](#part_6)\n",
    "\n",
    "3.4  [Airbus и Boeing](#part_7)\n",
    "\n",
    "4  [Общий вывод](#part_8)\n"
   ]
  },
  {
   "cell_type": "markdown",
   "metadata": {},
   "source": [
    "## Импорт данных: <a name=\"part_0\"></a>"
   ]
  },
  {
   "cell_type": "code",
   "execution_count": 1,
   "metadata": {},
   "outputs": [],
   "source": [
    "from scipy import stats as st\n",
    "import pandas as pd\n",
    "import numpy as np\n",
    "import matplotlib.pyplot as plt\n",
    "import seaborn as sns"
   ]
  },
  {
   "cell_type": "code",
   "execution_count": 2,
   "metadata": {},
   "outputs": [],
   "source": [
    "df_model= pd.read_csv('/datasets/query_1.csv')"
   ]
  },
  {
   "cell_type": "code",
   "execution_count": 3,
   "metadata": {},
   "outputs": [],
   "source": [
    "df_flights_city = pd.read_csv('/datasets/query_3.csv')"
   ]
  },
  {
   "cell_type": "code",
   "execution_count": 4,
   "metadata": {},
   "outputs": [
    {
     "data": {
      "text/html": [
       "<div>\n",
       "<style scoped>\n",
       "    .dataframe tbody tr th:only-of-type {\n",
       "        vertical-align: middle;\n",
       "    }\n",
       "\n",
       "    .dataframe tbody tr th {\n",
       "        vertical-align: top;\n",
       "    }\n",
       "\n",
       "    .dataframe thead th {\n",
       "        text-align: right;\n",
       "    }\n",
       "</style>\n",
       "<table border=\"1\" class=\"dataframe\">\n",
       "  <thead>\n",
       "    <tr style=\"text-align: right;\">\n",
       "      <th></th>\n",
       "      <th>model</th>\n",
       "      <th>flights_amount</th>\n",
       "    </tr>\n",
       "  </thead>\n",
       "  <tbody>\n",
       "    <tr>\n",
       "      <td>0</td>\n",
       "      <td>Airbus A319-100</td>\n",
       "      <td>607</td>\n",
       "    </tr>\n",
       "    <tr>\n",
       "      <td>1</td>\n",
       "      <td>Airbus A321-200</td>\n",
       "      <td>960</td>\n",
       "    </tr>\n",
       "    <tr>\n",
       "      <td>2</td>\n",
       "      <td>Boeing 737-300</td>\n",
       "      <td>630</td>\n",
       "    </tr>\n",
       "    <tr>\n",
       "      <td>3</td>\n",
       "      <td>Boeing 767-300</td>\n",
       "      <td>600</td>\n",
       "    </tr>\n",
       "    <tr>\n",
       "      <td>4</td>\n",
       "      <td>Boeing 777-300</td>\n",
       "      <td>300</td>\n",
       "    </tr>\n",
       "  </tbody>\n",
       "</table>\n",
       "</div>"
      ],
      "text/plain": [
       "             model  flights_amount\n",
       "0  Airbus A319-100             607\n",
       "1  Airbus A321-200             960\n",
       "2   Boeing 737-300             630\n",
       "3   Boeing 767-300             600\n",
       "4   Boeing 777-300             300"
      ]
     },
     "execution_count": 4,
     "metadata": {},
     "output_type": "execute_result"
    }
   ],
   "source": [
    "df_model.head()"
   ]
  },
  {
   "cell_type": "code",
   "execution_count": 5,
   "metadata": {},
   "outputs": [
    {
     "data": {
      "text/html": [
       "<div>\n",
       "<style scoped>\n",
       "    .dataframe tbody tr th:only-of-type {\n",
       "        vertical-align: middle;\n",
       "    }\n",
       "\n",
       "    .dataframe tbody tr th {\n",
       "        vertical-align: top;\n",
       "    }\n",
       "\n",
       "    .dataframe thead th {\n",
       "        text-align: right;\n",
       "    }\n",
       "</style>\n",
       "<table border=\"1\" class=\"dataframe\">\n",
       "  <thead>\n",
       "    <tr style=\"text-align: right;\">\n",
       "      <th></th>\n",
       "      <th>city</th>\n",
       "      <th>average_flights</th>\n",
       "    </tr>\n",
       "  </thead>\n",
       "  <tbody>\n",
       "    <tr>\n",
       "      <td>1</td>\n",
       "      <td>Анадырь</td>\n",
       "      <td>1.000000</td>\n",
       "    </tr>\n",
       "    <tr>\n",
       "      <td>100</td>\n",
       "      <td>Ярославль</td>\n",
       "      <td>1.322581</td>\n",
       "    </tr>\n",
       "    <tr>\n",
       "      <td>60</td>\n",
       "      <td>Оренбург</td>\n",
       "      <td>5.000000</td>\n",
       "    </tr>\n",
       "    <tr>\n",
       "      <td>66</td>\n",
       "      <td>Псков</td>\n",
       "      <td>1.548387</td>\n",
       "    </tr>\n",
       "    <tr>\n",
       "      <td>32</td>\n",
       "      <td>Краснодар</td>\n",
       "      <td>3.903226</td>\n",
       "    </tr>\n",
       "  </tbody>\n",
       "</table>\n",
       "</div>"
      ],
      "text/plain": [
       "          city  average_flights\n",
       "1      Анадырь         1.000000\n",
       "100  Ярославль         1.322581\n",
       "60    Оренбург         5.000000\n",
       "66       Псков         1.548387\n",
       "32   Краснодар         3.903226"
      ]
     },
     "execution_count": 5,
     "metadata": {},
     "output_type": "execute_result"
    }
   ],
   "source": [
    "df_flights_city.sample(5)"
   ]
  },
  {
   "cell_type": "markdown",
   "metadata": {},
   "source": [
    "## Обзор данных: <a name=\"part_1\"></a>"
   ]
  },
  {
   "cell_type": "code",
   "execution_count": 6,
   "metadata": {},
   "outputs": [
    {
     "name": "stdout",
     "output_type": "stream",
     "text": [
      "<class 'pandas.core.frame.DataFrame'>\n",
      "RangeIndex: 8 entries, 0 to 7\n",
      "Data columns (total 2 columns):\n",
      "model             8 non-null object\n",
      "flights_amount    8 non-null int64\n",
      "dtypes: int64(1), object(1)\n",
      "memory usage: 256.0+ bytes\n"
     ]
    }
   ],
   "source": [
    "df_model.info()"
   ]
  },
  {
   "cell_type": "code",
   "execution_count": 7,
   "metadata": {},
   "outputs": [
    {
     "data": {
      "text/html": [
       "<div>\n",
       "<style scoped>\n",
       "    .dataframe tbody tr th:only-of-type {\n",
       "        vertical-align: middle;\n",
       "    }\n",
       "\n",
       "    .dataframe tbody tr th {\n",
       "        vertical-align: top;\n",
       "    }\n",
       "\n",
       "    .dataframe thead th {\n",
       "        text-align: right;\n",
       "    }\n",
       "</style>\n",
       "<table border=\"1\" class=\"dataframe\">\n",
       "  <thead>\n",
       "    <tr style=\"text-align: right;\">\n",
       "      <th></th>\n",
       "      <th>flights_amount</th>\n",
       "    </tr>\n",
       "  </thead>\n",
       "  <tbody>\n",
       "    <tr>\n",
       "      <td>count</td>\n",
       "      <td>8.000000</td>\n",
       "    </tr>\n",
       "    <tr>\n",
       "      <td>mean</td>\n",
       "      <td>2035.625000</td>\n",
       "    </tr>\n",
       "    <tr>\n",
       "      <td>std</td>\n",
       "      <td>1965.203947</td>\n",
       "    </tr>\n",
       "    <tr>\n",
       "      <td>min</td>\n",
       "      <td>300.000000</td>\n",
       "    </tr>\n",
       "    <tr>\n",
       "      <td>25%</td>\n",
       "      <td>605.250000</td>\n",
       "    </tr>\n",
       "    <tr>\n",
       "      <td>50%</td>\n",
       "      <td>795.000000</td>\n",
       "    </tr>\n",
       "    <tr>\n",
       "      <td>75%</td>\n",
       "      <td>4250.250000</td>\n",
       "    </tr>\n",
       "    <tr>\n",
       "      <td>max</td>\n",
       "      <td>4557.000000</td>\n",
       "    </tr>\n",
       "  </tbody>\n",
       "</table>\n",
       "</div>"
      ],
      "text/plain": [
       "       flights_amount\n",
       "count        8.000000\n",
       "mean      2035.625000\n",
       "std       1965.203947\n",
       "min        300.000000\n",
       "25%        605.250000\n",
       "50%        795.000000\n",
       "75%       4250.250000\n",
       "max       4557.000000"
      ]
     },
     "execution_count": 7,
     "metadata": {},
     "output_type": "execute_result"
    }
   ],
   "source": [
    "df_model.describe()"
   ]
  },
  {
   "cell_type": "code",
   "execution_count": 8,
   "metadata": {},
   "outputs": [
    {
     "data": {
      "text/plain": [
       "0"
      ]
     },
     "execution_count": 8,
     "metadata": {},
     "output_type": "execute_result"
    }
   ],
   "source": [
    "df_model.duplicated().sum()"
   ]
  },
  {
   "cell_type": "code",
   "execution_count": 9,
   "metadata": {},
   "outputs": [
    {
     "data": {
      "text/plain": [
       "model             0\n",
       "flights_amount    0\n",
       "dtype: int64"
      ]
     },
     "execution_count": 9,
     "metadata": {},
     "output_type": "execute_result"
    }
   ],
   "source": [
    "df_model.isnull().sum()"
   ]
  },
  {
   "cell_type": "code",
   "execution_count": 10,
   "metadata": {},
   "outputs": [
    {
     "name": "stdout",
     "output_type": "stream",
     "text": [
      "<class 'pandas.core.frame.DataFrame'>\n",
      "RangeIndex: 101 entries, 0 to 100\n",
      "Data columns (total 2 columns):\n",
      "city               101 non-null object\n",
      "average_flights    101 non-null float64\n",
      "dtypes: float64(1), object(1)\n",
      "memory usage: 1.7+ KB\n"
     ]
    }
   ],
   "source": [
    "df_flights_city.info()"
   ]
  },
  {
   "cell_type": "code",
   "execution_count": 11,
   "metadata": {},
   "outputs": [
    {
     "data": {
      "text/plain": [
       "0"
      ]
     },
     "execution_count": 11,
     "metadata": {},
     "output_type": "execute_result"
    }
   ],
   "source": [
    "df_flights_city.duplicated().sum()"
   ]
  },
  {
   "cell_type": "code",
   "execution_count": 12,
   "metadata": {},
   "outputs": [
    {
     "data": {
      "text/html": [
       "<div>\n",
       "<style scoped>\n",
       "    .dataframe tbody tr th:only-of-type {\n",
       "        vertical-align: middle;\n",
       "    }\n",
       "\n",
       "    .dataframe tbody tr th {\n",
       "        vertical-align: top;\n",
       "    }\n",
       "\n",
       "    .dataframe thead th {\n",
       "        text-align: right;\n",
       "    }\n",
       "</style>\n",
       "<table border=\"1\" class=\"dataframe\">\n",
       "  <thead>\n",
       "    <tr style=\"text-align: right;\">\n",
       "      <th></th>\n",
       "      <th>average_flights</th>\n",
       "    </tr>\n",
       "  </thead>\n",
       "  <tbody>\n",
       "    <tr>\n",
       "      <td>count</td>\n",
       "      <td>101.000000</td>\n",
       "    </tr>\n",
       "    <tr>\n",
       "      <td>mean</td>\n",
       "      <td>5.494189</td>\n",
       "    </tr>\n",
       "    <tr>\n",
       "      <td>std</td>\n",
       "      <td>13.119790</td>\n",
       "    </tr>\n",
       "    <tr>\n",
       "      <td>min</td>\n",
       "      <td>1.000000</td>\n",
       "    </tr>\n",
       "    <tr>\n",
       "      <td>25%</td>\n",
       "      <td>2.000000</td>\n",
       "    </tr>\n",
       "    <tr>\n",
       "      <td>50%</td>\n",
       "      <td>3.000000</td>\n",
       "    </tr>\n",
       "    <tr>\n",
       "      <td>75%</td>\n",
       "      <td>5.870968</td>\n",
       "    </tr>\n",
       "    <tr>\n",
       "      <td>max</td>\n",
       "      <td>129.774194</td>\n",
       "    </tr>\n",
       "  </tbody>\n",
       "</table>\n",
       "</div>"
      ],
      "text/plain": [
       "       average_flights\n",
       "count       101.000000\n",
       "mean          5.494189\n",
       "std          13.119790\n",
       "min           1.000000\n",
       "25%           2.000000\n",
       "50%           3.000000\n",
       "75%           5.870968\n",
       "max         129.774194"
      ]
     },
     "execution_count": 12,
     "metadata": {},
     "output_type": "execute_result"
    }
   ],
   "source": [
    "df_flights_city.describe()"
   ]
  },
  {
   "cell_type": "code",
   "execution_count": 13,
   "metadata": {},
   "outputs": [
    {
     "data": {
      "text/plain": [
       "city               0\n",
       "average_flights    0\n",
       "dtype: int64"
      ]
     },
     "execution_count": 13,
     "metadata": {},
     "output_type": "execute_result"
    }
   ],
   "source": [
    "df_flights_city.isnull().sum()"
   ]
  },
  {
   "cell_type": "markdown",
   "metadata": {},
   "source": [
    "### Основные выводы по данным:<a name=\"part_2\"></a>"
   ]
  },
  {
   "cell_type": "markdown",
   "metadata": {},
   "source": [
    "Все наименования столбцов прописаны строчными буквами, дубликатов нет, пропусков нет. \n",
    "Предобработки данных не требуется"
   ]
  },
  {
   "cell_type": "markdown",
   "metadata": {},
   "source": [
    "## Исследовательский анализ данных: <a name=\"part_3\"></a>"
   ]
  },
  {
   "cell_type": "code",
   "execution_count": 14,
   "metadata": {},
   "outputs": [],
   "source": [
    "top10_city = df_flights_city.sort_values(by ='average_flights',ascending = False).head(10)"
   ]
  },
  {
   "cell_type": "code",
   "execution_count": 15,
   "metadata": {},
   "outputs": [
    {
     "data": {
      "text/html": [
       "<div>\n",
       "<style scoped>\n",
       "    .dataframe tbody tr th:only-of-type {\n",
       "        vertical-align: middle;\n",
       "    }\n",
       "\n",
       "    .dataframe tbody tr th {\n",
       "        vertical-align: top;\n",
       "    }\n",
       "\n",
       "    .dataframe thead th {\n",
       "        text-align: right;\n",
       "    }\n",
       "</style>\n",
       "<table border=\"1\" class=\"dataframe\">\n",
       "  <thead>\n",
       "    <tr style=\"text-align: right;\">\n",
       "      <th></th>\n",
       "      <th>city</th>\n",
       "      <th>average_flights</th>\n",
       "    </tr>\n",
       "  </thead>\n",
       "  <tbody>\n",
       "    <tr>\n",
       "      <td>43</td>\n",
       "      <td>Москва</td>\n",
       "      <td>129.774194</td>\n",
       "    </tr>\n",
       "    <tr>\n",
       "      <td>70</td>\n",
       "      <td>Санкт-Петербург</td>\n",
       "      <td>31.161290</td>\n",
       "    </tr>\n",
       "    <tr>\n",
       "      <td>54</td>\n",
       "      <td>Новосибирск</td>\n",
       "      <td>17.322581</td>\n",
       "    </tr>\n",
       "    <tr>\n",
       "      <td>33</td>\n",
       "      <td>Красноярск</td>\n",
       "      <td>11.580645</td>\n",
       "    </tr>\n",
       "    <tr>\n",
       "      <td>20</td>\n",
       "      <td>Екатеринбург</td>\n",
       "      <td>11.322581</td>\n",
       "    </tr>\n",
       "    <tr>\n",
       "      <td>67</td>\n",
       "      <td>Ростов-на-Дону</td>\n",
       "      <td>10.193548</td>\n",
       "    </tr>\n",
       "    <tr>\n",
       "      <td>63</td>\n",
       "      <td>Пермь</td>\n",
       "      <td>10.129032</td>\n",
       "    </tr>\n",
       "    <tr>\n",
       "      <td>10</td>\n",
       "      <td>Брянск</td>\n",
       "      <td>10.000000</td>\n",
       "    </tr>\n",
       "    <tr>\n",
       "      <td>74</td>\n",
       "      <td>Сочи</td>\n",
       "      <td>9.612903</td>\n",
       "    </tr>\n",
       "    <tr>\n",
       "      <td>84</td>\n",
       "      <td>Ульяновск</td>\n",
       "      <td>9.580645</td>\n",
       "    </tr>\n",
       "  </tbody>\n",
       "</table>\n",
       "</div>"
      ],
      "text/plain": [
       "               city  average_flights\n",
       "43           Москва       129.774194\n",
       "70  Санкт-Петербург        31.161290\n",
       "54      Новосибирск        17.322581\n",
       "33       Красноярск        11.580645\n",
       "20     Екатеринбург        11.322581\n",
       "67   Ростов-на-Дону        10.193548\n",
       "63            Пермь        10.129032\n",
       "10           Брянск        10.000000\n",
       "74             Сочи         9.612903\n",
       "84        Ульяновск         9.580645"
      ]
     },
     "execution_count": 15,
     "metadata": {},
     "output_type": "execute_result"
    }
   ],
   "source": [
    "top10_city"
   ]
  },
  {
   "cell_type": "markdown",
   "metadata": {},
   "source": [
    "Выделим топ-10 городов по большему колличеству полетов"
   ]
  },
  {
   "cell_type": "code",
   "execution_count": 16,
   "metadata": {},
   "outputs": [
    {
     "data": {
      "image/png": "[encoded data removed]",
      "text/plain": [
       "<Figure size 432x288 with 1 Axes>"
      ]
     },
     "metadata": {
      "needs_background": "light"
     },
     "output_type": "display_data"
    }
   ],
   "source": [
    "df_model.sort_values(by ='flights_amount',ascending = True ).plot(kind = 'barh', grid=True,x='model',title = 'Распределение рейсов для моделей самолетов')\n",
    "plt.show()"
   ]
  },
  {
   "cell_type": "markdown",
   "metadata": {},
   "source": [
    "### Cessna 208 Caravan<a name=\"part_4\"></a>\n",
    "\n",
    "Лидер по количеству рейсам, всего = 4557.  Предназначен для перевозки грузов и небольшой группы пассажиров (до 13 человек). Используется на авиационных линиях малой длительности. Отсюда так много рейсов, думаю, что если запросить информацию по длительности переездов, возможно, эта модель уступит лидерство.\n",
    "\n",
    "### SUkhoi Superjet 100<a name=\"part_5\"></a>\n",
    "\n",
    "Не значительно уступает по колличеству рейсов Cessna 208 Caravan, всего рейсов 4185. Это пассажирский самолет созданный РФ , чтобы сократить зависимость от крупных зарубежных игроков Airbus и Boeing. И хотя Superjet стоит дешевле конкурентов, за рубежом модель не пользуется популярностью и некоторые компании (CityJet)отказались от самолетов и вернули их обратно в Россию. Сейчас в эксплуатации 139 самолетов. 106 из них в России, 33 – за рубежом. не удивительно, что у SUkhoi Superjet 100 такое количество рейсов по РФ\n",
    "\n",
    "### Bombardier CRJ-200<a name=\"part_6\"></a>\n",
    "\n",
    "4446 рейсов, большое количество рейсов связано с тем, что в течение 2011 года, в рамках программы обновления и расширения воздушного флота на региональных рейсах и замены устаревших самолетов типа Ту-134, различными компаниями России было куплено около 50 CRJ 200, это обусловлено тем, что ряд западных авиакомпаний вывел самолеты данной модели из своего активного флота. Значительный объем предложения на рынке привел к снижению цен на эти самолеты.\n",
    "\n",
    "Однако эти самолеты выведены из эксплуатации. И тех.поддержка этих самолетов может обойтись компаниям слишком дорого и повлечет повышение тарифов, после чего снизится покупательную способность.\n",
    "\n",
    "### Airbus и Boeing<a name=\"part_7\"></a>\n",
    "Остальные рейсы почти ровно распределены между двумя конкурирующими авиаперевозчиками: Airbus и Boeing"
   ]
  },
  {
   "cell_type": "code",
   "execution_count": 17,
   "metadata": {},
   "outputs": [
    {
     "data": {
      "image/png": "[encoded data removed]",
      "text/plain": [
       "<Figure size 432x288 with 1 Axes>"
      ]
     },
     "metadata": {
      "needs_background": "light"
     },
     "output_type": "display_data"
    }
   ],
   "source": [
    "top10_city.plot(kind = 'barh', grid=False,x='city',title = 'Распредение рейсов по городам TOP-10' )\n",
    "\n",
    "plt.show()"
   ]
  },
  {
   "cell_type": "markdown",
   "metadata": {},
   "source": [
    "Москва, Санкт-Петербург и Новосибирск крупные города-миллионики, в которых находится больше всего аэропортов, не удивительно, что они оказались в верху списка по количеству совершаемых рейсов в день.\n",
    "Такой резкий разрыв, почти в 4 раза, Москвы от Санкт-Петербурга и Новосибирска может быть обусловлен какими-либо событиями, например в 2018 год в сентябре проходил первый тур лиги нация УЕФА, либо увеличено число рейсов за счет курортного сезона.\n",
    "Также за счет курортного сезон в топ-10 городов скорее всего попали такие города как : Сочи, Красноярск,Ульяновск\n"
   ]
  },
  {
   "cell_type": "code",
   "execution_count": 18,
   "metadata": {},
   "outputs": [
    {
     "data": {
      "image/png": "[encoded data removed]",
      "text/plain": [
       "<Figure size 1080x1800 with 1 Axes>"
      ]
     },
     "metadata": {
      "needs_background": "light"
     },
     "output_type": "display_data"
    }
   ],
   "source": [
    "df_flights_city.sort_values(by ='average_flights',ascending = True).plot(kind = 'barh', grid=True, x='city',title = 'Распредение рейсов по городам',figsize = (15,25) )\n",
    "\n",
    "plt.show()\n"
   ]
  },
  {
   "cell_type": "code",
   "execution_count": 19,
   "metadata": {},
   "outputs": [
    {
     "data": {
      "text/html": [
       "<div>\n",
       "<style scoped>\n",
       "    .dataframe tbody tr th:only-of-type {\n",
       "        vertical-align: middle;\n",
       "    }\n",
       "\n",
       "    .dataframe tbody tr th {\n",
       "        vertical-align: top;\n",
       "    }\n",
       "\n",
       "    .dataframe thead th {\n",
       "        text-align: right;\n",
       "    }\n",
       "</style>\n",
       "<table border=\"1\" class=\"dataframe\">\n",
       "  <thead>\n",
       "    <tr style=\"text-align: right;\">\n",
       "      <th></th>\n",
       "      <th>average_flights</th>\n",
       "    </tr>\n",
       "  </thead>\n",
       "  <tbody>\n",
       "    <tr>\n",
       "      <td>count</td>\n",
       "      <td>101.000000</td>\n",
       "    </tr>\n",
       "    <tr>\n",
       "      <td>mean</td>\n",
       "      <td>5.494189</td>\n",
       "    </tr>\n",
       "    <tr>\n",
       "      <td>std</td>\n",
       "      <td>13.119790</td>\n",
       "    </tr>\n",
       "    <tr>\n",
       "      <td>min</td>\n",
       "      <td>1.000000</td>\n",
       "    </tr>\n",
       "    <tr>\n",
       "      <td>25%</td>\n",
       "      <td>2.000000</td>\n",
       "    </tr>\n",
       "    <tr>\n",
       "      <td>50%</td>\n",
       "      <td>3.000000</td>\n",
       "    </tr>\n",
       "    <tr>\n",
       "      <td>75%</td>\n",
       "      <td>5.870968</td>\n",
       "    </tr>\n",
       "    <tr>\n",
       "      <td>max</td>\n",
       "      <td>129.774194</td>\n",
       "    </tr>\n",
       "  </tbody>\n",
       "</table>\n",
       "</div>"
      ],
      "text/plain": [
       "       average_flights\n",
       "count       101.000000\n",
       "mean          5.494189\n",
       "std          13.119790\n",
       "min           1.000000\n",
       "25%           2.000000\n",
       "50%           3.000000\n",
       "75%           5.870968\n",
       "max         129.774194"
      ]
     },
     "execution_count": 19,
     "metadata": {},
     "output_type": "execute_result"
    }
   ],
   "source": [
    "df_flights_city.describe()"
   ]
  },
  {
   "cell_type": "markdown",
   "metadata": {},
   "source": [
    "По остальным городам, не входящих в топ-10, рейсы распределены достаточно ровно, подавляющее большинство ограничивается 2-4 рейсами в день."
   ]
  },
  {
   "cell_type": "markdown",
   "metadata": {},
   "source": [
    "## Общий вывод <a name=\"part_8\"></a>"
   ]
  },
  {
   "cell_type": "markdown",
   "metadata": {},
   "source": [
    "В ходе исследования были изучены исходные данные о моделях самолетах и количестве рейсов в сентябре 2018 года, а так же о городах России и среднем количестве принимаемых ими рейсов в августе 2018 года. Данные не требовали предобработки.\n",
    "\n",
    "Крупнейшим городами по количеству принимаемых рейсов в августе 2018 года - Москва. Среднее количество рейсов в день составляло ~129.7\n",
    "В Санкт-Петербурге ~ 31 рейс и в Новосибирске ~ 17, по городам входящих в топ-10 - до 10 рейсов день. По остальным городам, не входящих в топ-10, рейсы распределены достаточно ровно, подавляющее большинство ограничивается 2-4 рейсами в день.\n",
    "\n",
    "Москва, Санкт-Петербург и Новосибирск крупные города-миллионики, в которых находится больше всего аэропортов, не удивительно, что они оказались в верху списка по количеству совершаемых рейсов в день.\n",
    "Такой резкий разрыв, почти в 4 раза, Москвы от Санкт-Петербурга и Новосибирска может быть обусловлен какими-либо событиями, например в 2018 год в сентябре проходил первый тур лиги нация УЕФА, либо увеличено число рейсов за счет курортного сезона.\n",
    "Также за счет курортного сезон в топ-10 городов скорее всего попали такие города как : Сочи, Красноярск, Ульяновск\n",
    "\n",
    "Лидеры по колличеству рейсов: Cessna 208 Caravan лидер по количеству рейсам, всего = 4557, такое колличесто рейсов обусловлено небольшой длительностью перелетов.\n",
    "\n",
    "SUkhoi Superjet 100- рейсов 4185. Это пассажирский самолет созданный РФ , чтобы сократить зависимость от крупных зарубежных игроков Airbus и Boeing. И хотя Superjet стоит дешевле конкурентов, за рубежом модель не пользуется популярностью и некоторые компании (CityJet)отказались от самолетов и вернули их обратно в Россию. Сейчас в эксплуатации 139 самолетов. 106 из них в России, 33 – за рубежом. не удивительно, что у SUkhoi Superjet 100 такое количество рейсов по РФ\n",
    "\n",
    "Bombardier CRJ-200 - 4446 рейсов, большое количество рейсов связано с тем, что в течение 2011 года, в рамках программы обновления и расширения воздушного флота на региональных рейсах и замены устаревших самолетов типа Ту-134, различными компаниями России было куплено около 50 CRJ 200, это обусловлено тем, что ряд западных авиакомпаний вывел самолеты данной модели из своего активного флота. Значительный объем предложения на рынке привел к снижению цен на эти самолеты. Однако эти самолеты выведены из эксплуатации. И тех.поддержка этих самолетов может обойтись компаниям слишком дорого и повлечет повышение тарифов, после чего снизится покупательную способность.\n",
    "\n",
    "Остальные рейсы почти ровно распределены между двумя конкурирующими авиаперевозчиками: Airbus и Boeing\n",
    "\n"
   ]
  }
 ],
 "metadata": {
  "ExecuteTimeLog": [
   {
    "duration": 329,
    "start_time": "2021-06-25T18:48:17.648Z"
   },
   {
    "duration": 1318,
    "start_time": "2021-06-25T18:48:21.735Z"
   },
   {
    "duration": 18,
    "start_time": "2021-06-25T18:48:23.056Z"
   },
   {
    "duration": 19,
    "start_time": "2021-06-25T18:48:24.078Z"
   },
   {
    "duration": 14,
    "start_time": "2021-06-25T18:48:27.449Z"
   },
   {
    "duration": 12,
    "start_time": "2021-06-25T18:48:36.346Z"
   },
   {
    "duration": 11,
    "start_time": "2021-06-25T18:48:43.900Z"
   },
   {
    "duration": 22,
    "start_time": "2021-06-25T18:50:19.603Z"
   },
   {
    "duration": 16,
    "start_time": "2021-06-25T18:50:29.283Z"
   },
   {
    "duration": 7,
    "start_time": "2021-06-25T18:50:34.285Z"
   },
   {
    "duration": 8,
    "start_time": "2021-06-25T18:50:36.033Z"
   },
   {
    "duration": 12,
    "start_time": "2021-06-25T18:50:36.044Z"
   },
   {
    "duration": 8,
    "start_time": "2021-06-25T18:50:38.595Z"
   },
   {
    "duration": 17,
    "start_time": "2021-06-25T18:50:39.646Z"
   },
   {
    "duration": 8,
    "start_time": "2021-06-25T18:50:43.126Z"
   },
   {
    "duration": 6,
    "start_time": "2021-06-25T18:52:09.665Z"
   },
   {
    "duration": 17,
    "start_time": "2021-06-25T18:52:09.673Z"
   },
   {
    "duration": 5,
    "start_time": "2021-06-25T18:52:17.254Z"
   },
   {
    "duration": 10,
    "start_time": "2021-06-25T18:52:17.972Z"
   },
   {
    "duration": 313,
    "start_time": "2021-06-25T18:52:23.760Z"
   },
   {
    "duration": 1408,
    "start_time": "2021-06-25T18:59:07.287Z"
   },
   {
    "duration": 18,
    "start_time": "2021-06-25T18:59:08.697Z"
   },
   {
    "duration": 19,
    "start_time": "2021-06-25T18:59:08.718Z"
   },
   {
    "duration": 16,
    "start_time": "2021-06-25T18:59:08.740Z"
   },
   {
    "duration": 10,
    "start_time": "2021-06-25T18:59:08.758Z"
   },
   {
    "duration": 14,
    "start_time": "2021-06-25T18:59:08.770Z"
   },
   {
    "duration": 23,
    "start_time": "2021-06-25T18:59:08.787Z"
   },
   {
    "duration": 7,
    "start_time": "2021-06-25T18:59:08.814Z"
   },
   {
    "duration": 14,
    "start_time": "2021-06-25T18:59:08.824Z"
   },
   {
    "duration": 10,
    "start_time": "2021-06-25T18:59:08.840Z"
   },
   {
    "duration": 35,
    "start_time": "2021-06-25T18:59:08.853Z"
   },
   {
    "duration": 16,
    "start_time": "2021-06-25T18:59:08.891Z"
   },
   {
    "duration": 8,
    "start_time": "2021-06-25T18:59:08.909Z"
   },
   {
    "duration": 12,
    "start_time": "2021-06-25T18:59:08.919Z"
   },
   {
    "duration": 23,
    "start_time": "2021-06-25T18:59:08.934Z"
   },
   {
    "duration": 322,
    "start_time": "2021-06-25T18:59:08.984Z"
   },
   {
    "duration": 312,
    "start_time": "2021-06-25T18:59:09.308Z"
   },
   {
    "duration": 2728,
    "start_time": "2021-06-25T18:59:09.622Z"
   },
   {
    "duration": 33,
    "start_time": "2021-06-25T18:59:12.352Z"
   },
   {
    "duration": 4,
    "start_time": "2021-06-25T18:59:39.411Z"
   },
   {
    "duration": 17,
    "start_time": "2021-06-25T18:59:39.602Z"
   },
   {
    "duration": 18,
    "start_time": "2021-06-25T18:59:39.780Z"
   },
   {
    "duration": 9,
    "start_time": "2021-06-25T18:59:39.946Z"
   },
   {
    "duration": 11,
    "start_time": "2021-06-25T18:59:40.118Z"
   },
   {
    "duration": 9,
    "start_time": "2021-06-25T18:59:40.439Z"
   },
   {
    "duration": 18,
    "start_time": "2021-06-25T18:59:40.598Z"
   },
   {
    "duration": 8,
    "start_time": "2021-06-25T18:59:40.746Z"
   },
   {
    "duration": 8,
    "start_time": "2021-06-25T18:59:41.088Z"
   },
   {
    "duration": 8,
    "start_time": "2021-06-25T18:59:41.251Z"
   },
   {
    "duration": 7,
    "start_time": "2021-06-25T18:59:41.443Z"
   },
   {
    "duration": 16,
    "start_time": "2021-06-25T18:59:41.644Z"
   },
   {
    "duration": 7,
    "start_time": "2021-06-25T18:59:41.811Z"
   },
   {
    "duration": 7,
    "start_time": "2021-06-25T18:59:42.526Z"
   },
   {
    "duration": 10,
    "start_time": "2021-06-25T18:59:42.717Z"
   },
   {
    "duration": 287,
    "start_time": "2021-06-25T18:59:43.090Z"
   },
   {
    "duration": 363,
    "start_time": "2021-06-25T18:59:43.472Z"
   },
   {
    "duration": 2682,
    "start_time": "2021-06-25T18:59:43.838Z"
   },
   {
    "duration": 17,
    "start_time": "2021-06-25T18:59:46.523Z"
   },
   {
    "duration": 4,
    "start_time": "2021-06-25T19:03:09.758Z"
   },
   {
    "duration": 18,
    "start_time": "2021-06-25T19:03:10.014Z"
   },
   {
    "duration": 18,
    "start_time": "2021-06-25T19:03:10.118Z"
   },
   {
    "duration": 10,
    "start_time": "2021-06-25T19:03:10.292Z"
   },
   {
    "duration": 10,
    "start_time": "2021-06-25T19:03:10.632Z"
   },
   {
    "duration": 8,
    "start_time": "2021-06-25T19:03:10.844Z"
   },
   {
    "duration": 17,
    "start_time": "2021-06-25T19:03:11.165Z"
   },
   {
    "duration": 7,
    "start_time": "2021-06-25T19:03:11.204Z"
   },
   {
    "duration": 8,
    "start_time": "2021-06-25T19:03:11.526Z"
   },
   {
    "duration": 8,
    "start_time": "2021-06-25T19:03:11.557Z"
   },
   {
    "duration": 7,
    "start_time": "2021-06-25T19:03:11.740Z"
   },
   {
    "duration": 17,
    "start_time": "2021-06-25T19:03:12.027Z"
   },
   {
    "duration": 8,
    "start_time": "2021-06-25T19:03:12.121Z"
   },
   {
    "duration": 6,
    "start_time": "2021-06-25T19:03:12.871Z"
   },
   {
    "duration": 11,
    "start_time": "2021-06-25T19:03:13.052Z"
   },
   {
    "duration": 284,
    "start_time": "2021-06-25T19:03:13.436Z"
   },
   {
    "duration": 294,
    "start_time": "2021-06-25T19:03:13.821Z"
   },
   {
    "duration": 2775,
    "start_time": "2021-06-25T19:03:14.212Z"
   },
   {
    "duration": 15,
    "start_time": "2021-06-25T19:03:16.990Z"
   },
   {
    "duration": 1419,
    "start_time": "2021-06-25T19:03:29.083Z"
   },
   {
    "duration": 19,
    "start_time": "2021-06-25T19:03:30.504Z"
   },
   {
    "duration": 20,
    "start_time": "2021-06-25T19:03:30.526Z"
   },
   {
    "duration": 19,
    "start_time": "2021-06-25T19:03:30.549Z"
   },
   {
    "duration": 20,
    "start_time": "2021-06-25T19:03:30.571Z"
   },
   {
    "duration": 16,
    "start_time": "2021-06-25T19:03:30.594Z"
   },
   {
    "duration": 23,
    "start_time": "2021-06-25T19:03:30.613Z"
   },
   {
    "duration": 20,
    "start_time": "2021-06-25T19:03:30.639Z"
   },
   {
    "duration": 22,
    "start_time": "2021-06-25T19:03:30.662Z"
   },
   {
    "duration": 16,
    "start_time": "2021-06-25T19:03:30.687Z"
   },
   {
    "duration": 16,
    "start_time": "2021-06-25T19:03:30.706Z"
   },
   {
    "duration": 32,
    "start_time": "2021-06-25T19:03:30.724Z"
   },
   {
    "duration": 22,
    "start_time": "2021-06-25T19:03:30.759Z"
   },
   {
    "duration": 23,
    "start_time": "2021-06-25T19:03:30.784Z"
   },
   {
    "duration": 28,
    "start_time": "2021-06-25T19:03:30.809Z"
   },
   {
    "duration": 293,
    "start_time": "2021-06-25T19:03:30.839Z"
   },
   {
    "duration": 306,
    "start_time": "2021-06-25T19:03:31.134Z"
   },
   {
    "duration": 2607,
    "start_time": "2021-06-25T19:03:31.442Z"
   },
   {
    "duration": 35,
    "start_time": "2021-06-25T19:03:34.052Z"
   }
  ],
  "kernelspec": {
   "display_name": "Python 3",
   "language": "python",
   "name": "python3"
  },
  "language_info": {
   "codemirror_mode": {
    "name": "ipython",
    "version": 3
   },
   "file_extension": ".py",
   "mimetype": "text/x-python",
   "name": "python",
   "nbconvert_exporter": "python",
   "pygments_lexer": "ipython3",
   "version": "3.7.8"
  },
  "toc": {
   "base_numbering": 1,
   "nav_menu": {
    "height": "283.984px",
    "width": "358.984px"
   },
   "number_sections": true,
   "sideBar": true,
   "skip_h1_title": true,
   "title_cell": "Table of Contents",
   "title_sidebar": "Contents",
   "toc_cell": false,
   "toc_position": {},
   "toc_section_display": true,
   "toc_window_display": false
  }
 },
 "nbformat": 4,
 "nbformat_minor": 2
}
