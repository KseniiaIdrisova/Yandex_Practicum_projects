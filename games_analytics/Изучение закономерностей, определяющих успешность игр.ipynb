{
 "cells": [
  {
   "cell_type": "markdown",
   "metadata": {},
   "source": [
    "# Изучение закономерностей, определяющих успешность игр"
   ]
  },
  {
   "cell_type": "markdown",
   "metadata": {},
   "source": [
    "# Описание проекта:"
   ]
  },
  {
   "cell_type": "markdown",
   "metadata": {},
   "source": [
    "Для исследования нам доступны из открытых источников исторические данные о продажах игр, оценки пользователей и экспертов, жанры и платформы за период с 1980 года по 2016 год. Данные загружены в файл формата csv"
   ]
  },
  {
   "cell_type": "markdown",
   "metadata": {},
   "source": [
    "# Цель: "
   ]
  },
  {
   "cell_type": "markdown",
   "metadata": {},
   "source": [
    "Используя исторические данные о продажах компьютерных игр, оценки пользователей и экспертов, жанры и платформы, выявить закономерности, определяющие успешность игры  "
   ]
  },
  {
   "cell_type": "markdown",
   "metadata": {},
   "source": [
    "# Описание данных\n",
    "\n",
    "• `Name` — название игры\n",
    "\n",
    "• `Platform` — платформа\n",
    "\n",
    "• `Year_of_Release` — год выпуска\n",
    "\n",
    "• `Genre` — жанр игры\n",
    "\n",
    "• `NA_sales` — продажи в Северной Америке (миллионы проданных копий)\n",
    "\n",
    "• `EU_sales` — продажи в Европе (миллионы проданных копий)\n",
    "\n",
    "• `JP_sales` — продажи в Японии (миллионы проданных копий)\n",
    "\n",
    "• `Other_sales` — продажи в других странах (миллионы проданных копий)\n",
    "\n",
    "• `Critic_Score` — оценка критиков (максимум 100)\n",
    "\n",
    "• `User_Score` — оценка пользователей (максимум 10)\n",
    "\n",
    "• `Rating` — рейтинг от организации ESRB (англ. Entertainment Software Rating Board). Эта ассоциация определяет рейтинг компьютерных игр и присваивает им подходящую возрастную категорию.\n",
    "\n",
    "###### Данные за 2016 год могут быть неполными."
   ]
  },
  {
   "cell_type": "markdown",
   "metadata": {},
   "source": [
    "# Оглавление:\n",
    "\n",
    "1  [Обзор данных](#part_0)\n",
    "\n",
    "2  [Предоброботка данных](#part_1)\n",
    "\n",
    "2.1  [Выводы по предообработки данных](#part_2)\n",
    "\n",
    "3  [Исследовательский анализ данных](#part_3)\n",
    "\n",
    "4  [Портрет пользователя каждого региона](#part_4)\n",
    "\n",
    "4.1  [Портрет пользователя региона Северная Америка](#part_5)\n",
    "\n",
    "4.2  [Портрет пользователя региона Европа](#part_6)\n",
    "\n",
    "4.3  [Портрет пользователя региона Япония](#part_7)\n",
    "\n",
    "5  [Проверка гипотез](#part_8)\n",
    "\n",
    "6  [Вывод](#part_9)\n",
    "\n"
   ]
  },
  {
   "cell_type": "markdown",
   "metadata": {},
   "source": [
    "## Обзор данных: <a name=\"part_0\"></a>"
   ]
  },
  {
   "cell_type": "code",
   "execution_count": 1,
   "metadata": {},
   "outputs": [],
   "source": [
    "from scipy import stats as st\n",
    "import pandas as pd\n",
    "import numpy as np\n",
    "import matplotlib.pyplot as plt\n",
    "import seaborn as sns\n",
    "\n",
    "import warnings\n",
    "\n",
    "warnings.filterwarnings('ignore')\n"
   ]
  },
  {
   "cell_type": "code",
   "execution_count": 2,
   "metadata": {},
   "outputs": [],
   "source": [
    "df = pd.read_csv('/datasets/games.csv')"
   ]
  },
  {
   "cell_type": "code",
   "execution_count": 3,
   "metadata": {},
   "outputs": [
    {
     "data": {
      "text/html": [
       "<div>\n",
       "<style scoped>\n",
       "    .dataframe tbody tr th:only-of-type {\n",
       "        vertical-align: middle;\n",
       "    }\n",
       "\n",
       "    .dataframe tbody tr th {\n",
       "        vertical-align: top;\n",
       "    }\n",
       "\n",
       "    .dataframe thead th {\n",
       "        text-align: right;\n",
       "    }\n",
       "</style>\n",
       "<table border=\"1\" class=\"dataframe\">\n",
       "  <thead>\n",
       "    <tr style=\"text-align: right;\">\n",
       "      <th></th>\n",
       "      <th>Name</th>\n",
       "      <th>Platform</th>\n",
       "      <th>Year_of_Release</th>\n",
       "      <th>Genre</th>\n",
       "      <th>NA_sales</th>\n",
       "      <th>EU_sales</th>\n",
       "      <th>JP_sales</th>\n",
       "      <th>Other_sales</th>\n",
       "      <th>Critic_Score</th>\n",
       "      <th>User_Score</th>\n",
       "      <th>Rating</th>\n",
       "    </tr>\n",
       "  </thead>\n",
       "  <tbody>\n",
       "    <tr>\n",
       "      <td>0</td>\n",
       "      <td>Wii Sports</td>\n",
       "      <td>Wii</td>\n",
       "      <td>2006.0</td>\n",
       "      <td>Sports</td>\n",
       "      <td>41.36</td>\n",
       "      <td>28.96</td>\n",
       "      <td>3.77</td>\n",
       "      <td>8.45</td>\n",
       "      <td>76.0</td>\n",
       "      <td>8</td>\n",
       "      <td>E</td>\n",
       "    </tr>\n",
       "    <tr>\n",
       "      <td>1</td>\n",
       "      <td>Super Mario Bros.</td>\n",
       "      <td>NES</td>\n",
       "      <td>1985.0</td>\n",
       "      <td>Platform</td>\n",
       "      <td>29.08</td>\n",
       "      <td>3.58</td>\n",
       "      <td>6.81</td>\n",
       "      <td>0.77</td>\n",
       "      <td>NaN</td>\n",
       "      <td>NaN</td>\n",
       "      <td>NaN</td>\n",
       "    </tr>\n",
       "    <tr>\n",
       "      <td>2</td>\n",
       "      <td>Mario Kart Wii</td>\n",
       "      <td>Wii</td>\n",
       "      <td>2008.0</td>\n",
       "      <td>Racing</td>\n",
       "      <td>15.68</td>\n",
       "      <td>12.76</td>\n",
       "      <td>3.79</td>\n",
       "      <td>3.29</td>\n",
       "      <td>82.0</td>\n",
       "      <td>8.3</td>\n",
       "      <td>E</td>\n",
       "    </tr>\n",
       "    <tr>\n",
       "      <td>3</td>\n",
       "      <td>Wii Sports Resort</td>\n",
       "      <td>Wii</td>\n",
       "      <td>2009.0</td>\n",
       "      <td>Sports</td>\n",
       "      <td>15.61</td>\n",
       "      <td>10.93</td>\n",
       "      <td>3.28</td>\n",
       "      <td>2.95</td>\n",
       "      <td>80.0</td>\n",
       "      <td>8</td>\n",
       "      <td>E</td>\n",
       "    </tr>\n",
       "    <tr>\n",
       "      <td>4</td>\n",
       "      <td>Pokemon Red/Pokemon Blue</td>\n",
       "      <td>GB</td>\n",
       "      <td>1996.0</td>\n",
       "      <td>Role-Playing</td>\n",
       "      <td>11.27</td>\n",
       "      <td>8.89</td>\n",
       "      <td>10.22</td>\n",
       "      <td>1.00</td>\n",
       "      <td>NaN</td>\n",
       "      <td>NaN</td>\n",
       "      <td>NaN</td>\n",
       "    </tr>\n",
       "  </tbody>\n",
       "</table>\n",
       "</div>"
      ],
      "text/plain": [
       "                       Name Platform  Year_of_Release         Genre  NA_sales  \\\n",
       "0                Wii Sports      Wii           2006.0        Sports     41.36   \n",
       "1         Super Mario Bros.      NES           1985.0      Platform     29.08   \n",
       "2            Mario Kart Wii      Wii           2008.0        Racing     15.68   \n",
       "3         Wii Sports Resort      Wii           2009.0        Sports     15.61   \n",
       "4  Pokemon Red/Pokemon Blue       GB           1996.0  Role-Playing     11.27   \n",
       "\n",
       "   EU_sales  JP_sales  Other_sales  Critic_Score User_Score Rating  \n",
       "0     28.96      3.77         8.45          76.0          8      E  \n",
       "1      3.58      6.81         0.77           NaN        NaN    NaN  \n",
       "2     12.76      3.79         3.29          82.0        8.3      E  \n",
       "3     10.93      3.28         2.95          80.0          8      E  \n",
       "4      8.89     10.22         1.00           NaN        NaN    NaN  "
      ]
     },
     "execution_count": 3,
     "metadata": {},
     "output_type": "execute_result"
    }
   ],
   "source": [
    "df.head()"
   ]
  },
  {
   "cell_type": "code",
   "execution_count": 4,
   "metadata": {},
   "outputs": [
    {
     "name": "stdout",
     "output_type": "stream",
     "text": [
      "<class 'pandas.core.frame.DataFrame'>\n",
      "RangeIndex: 16715 entries, 0 to 16714\n",
      "Data columns (total 11 columns):\n",
      "Name               16713 non-null object\n",
      "Platform           16715 non-null object\n",
      "Year_of_Release    16446 non-null float64\n",
      "Genre              16713 non-null object\n",
      "NA_sales           16715 non-null float64\n",
      "EU_sales           16715 non-null float64\n",
      "JP_sales           16715 non-null float64\n",
      "Other_sales        16715 non-null float64\n",
      "Critic_Score       8137 non-null float64\n",
      "User_Score         10014 non-null object\n",
      "Rating             9949 non-null object\n",
      "dtypes: float64(6), object(5)\n",
      "memory usage: 1.4+ MB\n"
     ]
    }
   ],
   "source": [
    "df.info()"
   ]
  },
  {
   "cell_type": "code",
   "execution_count": 5,
   "metadata": {},
   "outputs": [
    {
     "data": {
      "text/plain": [
       "Name                  2\n",
       "Platform              0\n",
       "Year_of_Release     269\n",
       "Genre                 2\n",
       "NA_sales              0\n",
       "EU_sales              0\n",
       "JP_sales              0\n",
       "Other_sales           0\n",
       "Critic_Score       8578\n",
       "User_Score         6701\n",
       "Rating             6766\n",
       "dtype: int64"
      ]
     },
     "execution_count": 5,
     "metadata": {},
     "output_type": "execute_result"
    }
   ],
   "source": [
    "df.isnull().sum()"
   ]
  },
  {
   "cell_type": "code",
   "execution_count": 6,
   "metadata": {},
   "outputs": [
    {
     "data": {
      "text/plain": [
       "0"
      ]
     },
     "execution_count": 6,
     "metadata": {},
     "output_type": "execute_result"
    }
   ],
   "source": [
    "df.duplicated().sum()"
   ]
  },
  {
   "cell_type": "code",
   "execution_count": 7,
   "metadata": {
    "scrolled": true
   },
   "outputs": [
    {
     "data": {
      "text/html": [
       "<div>\n",
       "<style scoped>\n",
       "    .dataframe tbody tr th:only-of-type {\n",
       "        vertical-align: middle;\n",
       "    }\n",
       "\n",
       "    .dataframe tbody tr th {\n",
       "        vertical-align: top;\n",
       "    }\n",
       "\n",
       "    .dataframe thead th {\n",
       "        text-align: right;\n",
       "    }\n",
       "</style>\n",
       "<table border=\"1\" class=\"dataframe\">\n",
       "  <thead>\n",
       "    <tr style=\"text-align: right;\">\n",
       "      <th></th>\n",
       "      <th>count</th>\n",
       "      <th>mean</th>\n",
       "      <th>std</th>\n",
       "      <th>min</th>\n",
       "      <th>25%</th>\n",
       "      <th>50%</th>\n",
       "      <th>75%</th>\n",
       "      <th>max</th>\n",
       "    </tr>\n",
       "  </thead>\n",
       "  <tbody>\n",
       "    <tr>\n",
       "      <td>Year_of_Release</td>\n",
       "      <td>16446.0</td>\n",
       "      <td>2006.484616</td>\n",
       "      <td>5.877050</td>\n",
       "      <td>1980.0</td>\n",
       "      <td>2003.0</td>\n",
       "      <td>2007.00</td>\n",
       "      <td>2010.00</td>\n",
       "      <td>2016.00</td>\n",
       "    </tr>\n",
       "    <tr>\n",
       "      <td>NA_sales</td>\n",
       "      <td>16715.0</td>\n",
       "      <td>0.263377</td>\n",
       "      <td>0.813604</td>\n",
       "      <td>0.0</td>\n",
       "      <td>0.0</td>\n",
       "      <td>0.08</td>\n",
       "      <td>0.24</td>\n",
       "      <td>41.36</td>\n",
       "    </tr>\n",
       "    <tr>\n",
       "      <td>EU_sales</td>\n",
       "      <td>16715.0</td>\n",
       "      <td>0.145060</td>\n",
       "      <td>0.503339</td>\n",
       "      <td>0.0</td>\n",
       "      <td>0.0</td>\n",
       "      <td>0.02</td>\n",
       "      <td>0.11</td>\n",
       "      <td>28.96</td>\n",
       "    </tr>\n",
       "    <tr>\n",
       "      <td>JP_sales</td>\n",
       "      <td>16715.0</td>\n",
       "      <td>0.077617</td>\n",
       "      <td>0.308853</td>\n",
       "      <td>0.0</td>\n",
       "      <td>0.0</td>\n",
       "      <td>0.00</td>\n",
       "      <td>0.04</td>\n",
       "      <td>10.22</td>\n",
       "    </tr>\n",
       "    <tr>\n",
       "      <td>Other_sales</td>\n",
       "      <td>16715.0</td>\n",
       "      <td>0.047342</td>\n",
       "      <td>0.186731</td>\n",
       "      <td>0.0</td>\n",
       "      <td>0.0</td>\n",
       "      <td>0.01</td>\n",
       "      <td>0.03</td>\n",
       "      <td>10.57</td>\n",
       "    </tr>\n",
       "    <tr>\n",
       "      <td>Critic_Score</td>\n",
       "      <td>8137.0</td>\n",
       "      <td>68.967679</td>\n",
       "      <td>13.938165</td>\n",
       "      <td>13.0</td>\n",
       "      <td>60.0</td>\n",
       "      <td>71.00</td>\n",
       "      <td>79.00</td>\n",
       "      <td>98.00</td>\n",
       "    </tr>\n",
       "  </tbody>\n",
       "</table>\n",
       "</div>"
      ],
      "text/plain": [
       "                   count         mean        std     min     25%      50%  \\\n",
       "Year_of_Release  16446.0  2006.484616   5.877050  1980.0  2003.0  2007.00   \n",
       "NA_sales         16715.0     0.263377   0.813604     0.0     0.0     0.08   \n",
       "EU_sales         16715.0     0.145060   0.503339     0.0     0.0     0.02   \n",
       "JP_sales         16715.0     0.077617   0.308853     0.0     0.0     0.00   \n",
       "Other_sales      16715.0     0.047342   0.186731     0.0     0.0     0.01   \n",
       "Critic_Score      8137.0    68.967679  13.938165    13.0    60.0    71.00   \n",
       "\n",
       "                     75%      max  \n",
       "Year_of_Release  2010.00  2016.00  \n",
       "NA_sales            0.24    41.36  \n",
       "EU_sales            0.11    28.96  \n",
       "JP_sales            0.04    10.22  \n",
       "Other_sales         0.03    10.57  \n",
       "Critic_Score       79.00    98.00  "
      ]
     },
     "execution_count": 7,
     "metadata": {},
     "output_type": "execute_result"
    }
   ],
   "source": [
    "df.describe().T"
   ]
  },
  {
   "cell_type": "markdown",
   "metadata": {},
   "source": [
    "# Основные выводы по данным:\n",
    "\n",
    "Все наименования столбцов начинаются с заглавной буквы, для удобства работы с данными необходим привести к нижнему регистру.\n",
    "Столбец с данными о выпуске игры типа float64, для удобство работы нам необходимо привести к формату dt, но так как указан только год целесообразнее будет привести к целочисленному типу.\n",
    "\n",
    "Значительная доля пропусков в столбцах рейтинга, оценки пользователей и оценки критиков, удаление этих пропусков приведет к некорректным выводам. \n",
    "\n",
    "Количество пропусков в столбце название игры и жанр совпадает, доля пропусков незначительна. Также незначительно доля пропусков столбце с годом выпуска, необходимо посмотреть на характер возникновения и перед тем как сменить тип на целочисленный разобраться с пропусками.\n"
   ]
  },
  {
   "cell_type": "markdown",
   "metadata": {},
   "source": [
    "## Предоброботка данных: <a name=\"part_1\"></a>"
   ]
  },
  {
   "cell_type": "code",
   "execution_count": 8,
   "metadata": {},
   "outputs": [],
   "source": [
    "# Приведем названия столбцов к нижнему регистру\n",
    "\n",
    "df.columns = df.columns.str.lower()"
   ]
  },
  {
   "cell_type": "code",
   "execution_count": 9,
   "metadata": {
    "scrolled": true
   },
   "outputs": [
    {
     "data": {
      "text/html": [
       "<div>\n",
       "<style scoped>\n",
       "    .dataframe tbody tr th:only-of-type {\n",
       "        vertical-align: middle;\n",
       "    }\n",
       "\n",
       "    .dataframe tbody tr th {\n",
       "        vertical-align: top;\n",
       "    }\n",
       "\n",
       "    .dataframe thead th {\n",
       "        text-align: right;\n",
       "    }\n",
       "</style>\n",
       "<table border=\"1\" class=\"dataframe\">\n",
       "  <thead>\n",
       "    <tr style=\"text-align: right;\">\n",
       "      <th></th>\n",
       "      <th>name</th>\n",
       "      <th>platform</th>\n",
       "      <th>year_of_release</th>\n",
       "      <th>genre</th>\n",
       "      <th>na_sales</th>\n",
       "      <th>eu_sales</th>\n",
       "      <th>jp_sales</th>\n",
       "      <th>other_sales</th>\n",
       "      <th>critic_score</th>\n",
       "      <th>user_score</th>\n",
       "      <th>rating</th>\n",
       "    </tr>\n",
       "  </thead>\n",
       "  <tbody>\n",
       "    <tr>\n",
       "      <td>183</td>\n",
       "      <td>Madden NFL 2004</td>\n",
       "      <td>PS2</td>\n",
       "      <td>NaN</td>\n",
       "      <td>Sports</td>\n",
       "      <td>4.26</td>\n",
       "      <td>0.26</td>\n",
       "      <td>0.01</td>\n",
       "      <td>0.71</td>\n",
       "      <td>94.0</td>\n",
       "      <td>8.5</td>\n",
       "      <td>E</td>\n",
       "    </tr>\n",
       "    <tr>\n",
       "      <td>377</td>\n",
       "      <td>FIFA Soccer 2004</td>\n",
       "      <td>PS2</td>\n",
       "      <td>NaN</td>\n",
       "      <td>Sports</td>\n",
       "      <td>0.59</td>\n",
       "      <td>2.36</td>\n",
       "      <td>0.04</td>\n",
       "      <td>0.51</td>\n",
       "      <td>84.0</td>\n",
       "      <td>6.4</td>\n",
       "      <td>E</td>\n",
       "    </tr>\n",
       "    <tr>\n",
       "      <td>456</td>\n",
       "      <td>LEGO Batman: The Videogame</td>\n",
       "      <td>Wii</td>\n",
       "      <td>NaN</td>\n",
       "      <td>Action</td>\n",
       "      <td>1.80</td>\n",
       "      <td>0.97</td>\n",
       "      <td>0.00</td>\n",
       "      <td>0.29</td>\n",
       "      <td>74.0</td>\n",
       "      <td>7.9</td>\n",
       "      <td>E10+</td>\n",
       "    </tr>\n",
       "    <tr>\n",
       "      <td>475</td>\n",
       "      <td>wwe Smackdown vs. Raw 2006</td>\n",
       "      <td>PS2</td>\n",
       "      <td>NaN</td>\n",
       "      <td>Fighting</td>\n",
       "      <td>1.57</td>\n",
       "      <td>1.02</td>\n",
       "      <td>0.00</td>\n",
       "      <td>0.41</td>\n",
       "      <td>NaN</td>\n",
       "      <td>NaN</td>\n",
       "      <td>NaN</td>\n",
       "    </tr>\n",
       "    <tr>\n",
       "      <td>609</td>\n",
       "      <td>Space Invaders</td>\n",
       "      <td>2600</td>\n",
       "      <td>NaN</td>\n",
       "      <td>Shooter</td>\n",
       "      <td>2.36</td>\n",
       "      <td>0.14</td>\n",
       "      <td>0.00</td>\n",
       "      <td>0.03</td>\n",
       "      <td>NaN</td>\n",
       "      <td>NaN</td>\n",
       "      <td>NaN</td>\n",
       "    </tr>\n",
       "  </tbody>\n",
       "</table>\n",
       "</div>"
      ],
      "text/plain": [
       "                           name platform  year_of_release     genre  na_sales  \\\n",
       "183             Madden NFL 2004      PS2              NaN    Sports      4.26   \n",
       "377            FIFA Soccer 2004      PS2              NaN    Sports      0.59   \n",
       "456  LEGO Batman: The Videogame      Wii              NaN    Action      1.80   \n",
       "475  wwe Smackdown vs. Raw 2006      PS2              NaN  Fighting      1.57   \n",
       "609              Space Invaders     2600              NaN   Shooter      2.36   \n",
       "\n",
       "     eu_sales  jp_sales  other_sales  critic_score user_score rating  \n",
       "183      0.26      0.01         0.71          94.0        8.5      E  \n",
       "377      2.36      0.04         0.51          84.0        6.4      E  \n",
       "456      0.97      0.00         0.29          74.0        7.9   E10+  \n",
       "475      1.02      0.00         0.41           NaN        NaN    NaN  \n",
       "609      0.14      0.00         0.03           NaN        NaN    NaN  "
      ]
     },
     "execution_count": 9,
     "metadata": {},
     "output_type": "execute_result"
    }
   ],
   "source": [
    "df.query('year_of_release.isna()').head() #пропуски в столбце с датами"
   ]
  },
  {
   "cell_type": "code",
   "execution_count": 10,
   "metadata": {},
   "outputs": [
    {
     "data": {
      "text/plain": [
       "1.609332934489979"
      ]
     },
     "execution_count": 10,
     "metadata": {},
     "output_type": "execute_result"
    }
   ],
   "source": [
    "(len(df.query('year_of_release.isna()')) / len(df)) *100 #  найдем долю пропусков в годах выпуска "
   ]
  },
  {
   "cell_type": "code",
   "execution_count": 11,
   "metadata": {},
   "outputs": [],
   "source": [
    "df.dropna(subset = ['year_of_release'],inplace = True)"
   ]
  },
  {
   "cell_type": "code",
   "execution_count": 12,
   "metadata": {},
   "outputs": [],
   "source": [
    "df['year_of_release'] = df['year_of_release'].astype('int')"
   ]
  },
  {
   "cell_type": "code",
   "execution_count": 13,
   "metadata": {},
   "outputs": [
    {
     "data": {
      "text/html": [
       "<div>\n",
       "<style scoped>\n",
       "    .dataframe tbody tr th:only-of-type {\n",
       "        vertical-align: middle;\n",
       "    }\n",
       "\n",
       "    .dataframe tbody tr th {\n",
       "        vertical-align: top;\n",
       "    }\n",
       "\n",
       "    .dataframe thead th {\n",
       "        text-align: right;\n",
       "    }\n",
       "</style>\n",
       "<table border=\"1\" class=\"dataframe\">\n",
       "  <thead>\n",
       "    <tr style=\"text-align: right;\">\n",
       "      <th></th>\n",
       "      <th>name</th>\n",
       "      <th>platform</th>\n",
       "      <th>year_of_release</th>\n",
       "      <th>genre</th>\n",
       "      <th>na_sales</th>\n",
       "      <th>eu_sales</th>\n",
       "      <th>jp_sales</th>\n",
       "      <th>other_sales</th>\n",
       "      <th>critic_score</th>\n",
       "      <th>user_score</th>\n",
       "      <th>rating</th>\n",
       "    </tr>\n",
       "  </thead>\n",
       "  <tbody>\n",
       "    <tr>\n",
       "      <td>0</td>\n",
       "      <td>Wii Sports</td>\n",
       "      <td>Wii</td>\n",
       "      <td>2006</td>\n",
       "      <td>Sports</td>\n",
       "      <td>41.36</td>\n",
       "      <td>28.96</td>\n",
       "      <td>3.77</td>\n",
       "      <td>8.45</td>\n",
       "      <td>76.0</td>\n",
       "      <td>8</td>\n",
       "      <td>E</td>\n",
       "    </tr>\n",
       "    <tr>\n",
       "      <td>1</td>\n",
       "      <td>Super Mario Bros.</td>\n",
       "      <td>NES</td>\n",
       "      <td>1985</td>\n",
       "      <td>Platform</td>\n",
       "      <td>29.08</td>\n",
       "      <td>3.58</td>\n",
       "      <td>6.81</td>\n",
       "      <td>0.77</td>\n",
       "      <td>NaN</td>\n",
       "      <td>NaN</td>\n",
       "      <td>NaN</td>\n",
       "    </tr>\n",
       "    <tr>\n",
       "      <td>2</td>\n",
       "      <td>Mario Kart Wii</td>\n",
       "      <td>Wii</td>\n",
       "      <td>2008</td>\n",
       "      <td>Racing</td>\n",
       "      <td>15.68</td>\n",
       "      <td>12.76</td>\n",
       "      <td>3.79</td>\n",
       "      <td>3.29</td>\n",
       "      <td>82.0</td>\n",
       "      <td>8.3</td>\n",
       "      <td>E</td>\n",
       "    </tr>\n",
       "    <tr>\n",
       "      <td>3</td>\n",
       "      <td>Wii Sports Resort</td>\n",
       "      <td>Wii</td>\n",
       "      <td>2009</td>\n",
       "      <td>Sports</td>\n",
       "      <td>15.61</td>\n",
       "      <td>10.93</td>\n",
       "      <td>3.28</td>\n",
       "      <td>2.95</td>\n",
       "      <td>80.0</td>\n",
       "      <td>8</td>\n",
       "      <td>E</td>\n",
       "    </tr>\n",
       "    <tr>\n",
       "      <td>4</td>\n",
       "      <td>Pokemon Red/Pokemon Blue</td>\n",
       "      <td>GB</td>\n",
       "      <td>1996</td>\n",
       "      <td>Role-Playing</td>\n",
       "      <td>11.27</td>\n",
       "      <td>8.89</td>\n",
       "      <td>10.22</td>\n",
       "      <td>1.00</td>\n",
       "      <td>NaN</td>\n",
       "      <td>NaN</td>\n",
       "      <td>NaN</td>\n",
       "    </tr>\n",
       "  </tbody>\n",
       "</table>\n",
       "</div>"
      ],
      "text/plain": [
       "                       name platform  year_of_release         genre  na_sales  \\\n",
       "0                Wii Sports      Wii             2006        Sports     41.36   \n",
       "1         Super Mario Bros.      NES             1985      Platform     29.08   \n",
       "2            Mario Kart Wii      Wii             2008        Racing     15.68   \n",
       "3         Wii Sports Resort      Wii             2009        Sports     15.61   \n",
       "4  Pokemon Red/Pokemon Blue       GB             1996  Role-Playing     11.27   \n",
       "\n",
       "   eu_sales  jp_sales  other_sales  critic_score user_score rating  \n",
       "0     28.96      3.77         8.45          76.0          8      E  \n",
       "1      3.58      6.81         0.77           NaN        NaN    NaN  \n",
       "2     12.76      3.79         3.29          82.0        8.3      E  \n",
       "3     10.93      3.28         2.95          80.0          8      E  \n",
       "4      8.89     10.22         1.00           NaN        NaN    NaN  "
      ]
     },
     "execution_count": 13,
     "metadata": {},
     "output_type": "execute_result"
    }
   ],
   "source": [
    "df.head()"
   ]
  },
  {
   "cell_type": "code",
   "execution_count": 14,
   "metadata": {},
   "outputs": [
    {
     "data": {
      "text/html": [
       "<div>\n",
       "<style scoped>\n",
       "    .dataframe tbody tr th:only-of-type {\n",
       "        vertical-align: middle;\n",
       "    }\n",
       "\n",
       "    .dataframe tbody tr th {\n",
       "        vertical-align: top;\n",
       "    }\n",
       "\n",
       "    .dataframe thead th {\n",
       "        text-align: right;\n",
       "    }\n",
       "</style>\n",
       "<table border=\"1\" class=\"dataframe\">\n",
       "  <thead>\n",
       "    <tr style=\"text-align: right;\">\n",
       "      <th></th>\n",
       "      <th>name</th>\n",
       "      <th>platform</th>\n",
       "      <th>year_of_release</th>\n",
       "      <th>genre</th>\n",
       "      <th>na_sales</th>\n",
       "      <th>eu_sales</th>\n",
       "      <th>jp_sales</th>\n",
       "      <th>other_sales</th>\n",
       "      <th>critic_score</th>\n",
       "      <th>user_score</th>\n",
       "      <th>rating</th>\n",
       "    </tr>\n",
       "  </thead>\n",
       "  <tbody>\n",
       "    <tr>\n",
       "      <td>119</td>\n",
       "      <td>Zumba Fitness</td>\n",
       "      <td>Wii</td>\n",
       "      <td>2010</td>\n",
       "      <td>Sports</td>\n",
       "      <td>3.45</td>\n",
       "      <td>2.59</td>\n",
       "      <td>0.0</td>\n",
       "      <td>0.66</td>\n",
       "      <td>NaN</td>\n",
       "      <td>tbd</td>\n",
       "      <td>E</td>\n",
       "    </tr>\n",
       "    <tr>\n",
       "      <td>301</td>\n",
       "      <td>Namco Museum: 50th Anniversary</td>\n",
       "      <td>PS2</td>\n",
       "      <td>2005</td>\n",
       "      <td>Misc</td>\n",
       "      <td>2.08</td>\n",
       "      <td>1.35</td>\n",
       "      <td>0.0</td>\n",
       "      <td>0.54</td>\n",
       "      <td>61.0</td>\n",
       "      <td>tbd</td>\n",
       "      <td>E10+</td>\n",
       "    </tr>\n",
       "    <tr>\n",
       "      <td>520</td>\n",
       "      <td>Zumba Fitness 2</td>\n",
       "      <td>Wii</td>\n",
       "      <td>2011</td>\n",
       "      <td>Sports</td>\n",
       "      <td>1.51</td>\n",
       "      <td>1.03</td>\n",
       "      <td>0.0</td>\n",
       "      <td>0.27</td>\n",
       "      <td>NaN</td>\n",
       "      <td>tbd</td>\n",
       "      <td>T</td>\n",
       "    </tr>\n",
       "    <tr>\n",
       "      <td>645</td>\n",
       "      <td>uDraw Studio</td>\n",
       "      <td>Wii</td>\n",
       "      <td>2010</td>\n",
       "      <td>Misc</td>\n",
       "      <td>1.65</td>\n",
       "      <td>0.57</td>\n",
       "      <td>0.0</td>\n",
       "      <td>0.20</td>\n",
       "      <td>71.0</td>\n",
       "      <td>tbd</td>\n",
       "      <td>E</td>\n",
       "    </tr>\n",
       "    <tr>\n",
       "      <td>718</td>\n",
       "      <td>Just Dance Kids</td>\n",
       "      <td>Wii</td>\n",
       "      <td>2010</td>\n",
       "      <td>Misc</td>\n",
       "      <td>1.52</td>\n",
       "      <td>0.54</td>\n",
       "      <td>0.0</td>\n",
       "      <td>0.18</td>\n",
       "      <td>NaN</td>\n",
       "      <td>tbd</td>\n",
       "      <td>E</td>\n",
       "    </tr>\n",
       "  </tbody>\n",
       "</table>\n",
       "</div>"
      ],
      "text/plain": [
       "                               name platform  year_of_release   genre  \\\n",
       "119                   Zumba Fitness      Wii             2010  Sports   \n",
       "301  Namco Museum: 50th Anniversary      PS2             2005    Misc   \n",
       "520                 Zumba Fitness 2      Wii             2011  Sports   \n",
       "645                    uDraw Studio      Wii             2010    Misc   \n",
       "718                 Just Dance Kids      Wii             2010    Misc   \n",
       "\n",
       "     na_sales  eu_sales  jp_sales  other_sales  critic_score user_score rating  \n",
       "119      3.45      2.59       0.0         0.66           NaN        tbd      E  \n",
       "301      2.08      1.35       0.0         0.54          61.0        tbd   E10+  \n",
       "520      1.51      1.03       0.0         0.27           NaN        tbd      T  \n",
       "645      1.65      0.57       0.0         0.20          71.0        tbd      E  \n",
       "718      1.52      0.54       0.0         0.18           NaN        tbd      E  "
      ]
     },
     "execution_count": 14,
     "metadata": {},
     "output_type": "execute_result"
    }
   ],
   "source": [
    "df.query('user_score == \"tbd\"').head()"
   ]
  },
  {
   "cell_type": "code",
   "execution_count": 15,
   "metadata": {},
   "outputs": [],
   "source": [
    "df['user_score'] = df['user_score'].replace('tbd','NaN') # заменим tbd на NaN"
   ]
  },
  {
   "cell_type": "code",
   "execution_count": 16,
   "metadata": {},
   "outputs": [
    {
     "data": {
      "text/html": [
       "<div>\n",
       "<style scoped>\n",
       "    .dataframe tbody tr th:only-of-type {\n",
       "        vertical-align: middle;\n",
       "    }\n",
       "\n",
       "    .dataframe tbody tr th {\n",
       "        vertical-align: top;\n",
       "    }\n",
       "\n",
       "    .dataframe thead th {\n",
       "        text-align: right;\n",
       "    }\n",
       "</style>\n",
       "<table border=\"1\" class=\"dataframe\">\n",
       "  <thead>\n",
       "    <tr style=\"text-align: right;\">\n",
       "      <th></th>\n",
       "      <th>name</th>\n",
       "      <th>platform</th>\n",
       "      <th>year_of_release</th>\n",
       "      <th>genre</th>\n",
       "      <th>na_sales</th>\n",
       "      <th>eu_sales</th>\n",
       "      <th>jp_sales</th>\n",
       "      <th>other_sales</th>\n",
       "      <th>critic_score</th>\n",
       "      <th>user_score</th>\n",
       "      <th>rating</th>\n",
       "    </tr>\n",
       "  </thead>\n",
       "  <tbody>\n",
       "    <tr>\n",
       "      <td>718</td>\n",
       "      <td>Just Dance Kids</td>\n",
       "      <td>Wii</td>\n",
       "      <td>2010</td>\n",
       "      <td>Misc</td>\n",
       "      <td>1.52</td>\n",
       "      <td>0.54</td>\n",
       "      <td>0.0</td>\n",
       "      <td>0.18</td>\n",
       "      <td>NaN</td>\n",
       "      <td>NaN</td>\n",
       "      <td>E</td>\n",
       "    </tr>\n",
       "  </tbody>\n",
       "</table>\n",
       "</div>"
      ],
      "text/plain": [
       "                name platform  year_of_release genre  na_sales  eu_sales  \\\n",
       "718  Just Dance Kids      Wii             2010  Misc      1.52      0.54   \n",
       "\n",
       "     jp_sales  other_sales  critic_score user_score rating  \n",
       "718       0.0         0.18           NaN        NaN      E  "
      ]
     },
     "execution_count": 16,
     "metadata": {},
     "output_type": "execute_result"
    }
   ],
   "source": [
    "df.query('name == \"Just Dance Kids\"') # проверим заменились ли значения"
   ]
  },
  {
   "cell_type": "code",
   "execution_count": 17,
   "metadata": {},
   "outputs": [
    {
     "name": "stdout",
     "output_type": "stream",
     "text": [
      "<class 'pandas.core.frame.DataFrame'>\n",
      "Int64Index: 16446 entries, 0 to 16714\n",
      "Data columns (total 11 columns):\n",
      "name               16444 non-null object\n",
      "platform           16446 non-null object\n",
      "year_of_release    16446 non-null int64\n",
      "genre              16444 non-null object\n",
      "na_sales           16446 non-null float64\n",
      "eu_sales           16446 non-null float64\n",
      "jp_sales           16446 non-null float64\n",
      "other_sales        16446 non-null float64\n",
      "critic_score       7983 non-null float64\n",
      "user_score         9839 non-null object\n",
      "rating             9768 non-null object\n",
      "dtypes: float64(5), int64(1), object(5)\n",
      "memory usage: 1.5+ MB\n"
     ]
    }
   ],
   "source": [
    "df.info()"
   ]
  },
  {
   "cell_type": "code",
   "execution_count": 18,
   "metadata": {},
   "outputs": [],
   "source": [
    "df['user_score'] = df['user_score'].astype('float64')"
   ]
  },
  {
   "cell_type": "code",
   "execution_count": 19,
   "metadata": {},
   "outputs": [
    {
     "data": {
      "text/html": [
       "<div>\n",
       "<style scoped>\n",
       "    .dataframe tbody tr th:only-of-type {\n",
       "        vertical-align: middle;\n",
       "    }\n",
       "\n",
       "    .dataframe tbody tr th {\n",
       "        vertical-align: top;\n",
       "    }\n",
       "\n",
       "    .dataframe thead th {\n",
       "        text-align: right;\n",
       "    }\n",
       "</style>\n",
       "<table border=\"1\" class=\"dataframe\">\n",
       "  <thead>\n",
       "    <tr style=\"text-align: right;\">\n",
       "      <th></th>\n",
       "      <th>name</th>\n",
       "      <th>platform</th>\n",
       "      <th>year_of_release</th>\n",
       "      <th>genre</th>\n",
       "      <th>na_sales</th>\n",
       "      <th>eu_sales</th>\n",
       "      <th>jp_sales</th>\n",
       "      <th>other_sales</th>\n",
       "      <th>critic_score</th>\n",
       "      <th>user_score</th>\n",
       "      <th>rating</th>\n",
       "    </tr>\n",
       "  </thead>\n",
       "  <tbody>\n",
       "    <tr>\n",
       "      <td>659</td>\n",
       "      <td>NaN</td>\n",
       "      <td>GEN</td>\n",
       "      <td>1993</td>\n",
       "      <td>NaN</td>\n",
       "      <td>1.78</td>\n",
       "      <td>0.53</td>\n",
       "      <td>0.00</td>\n",
       "      <td>0.08</td>\n",
       "      <td>NaN</td>\n",
       "      <td>NaN</td>\n",
       "      <td>NaN</td>\n",
       "    </tr>\n",
       "    <tr>\n",
       "      <td>14244</td>\n",
       "      <td>NaN</td>\n",
       "      <td>GEN</td>\n",
       "      <td>1993</td>\n",
       "      <td>NaN</td>\n",
       "      <td>0.00</td>\n",
       "      <td>0.00</td>\n",
       "      <td>0.03</td>\n",
       "      <td>0.00</td>\n",
       "      <td>NaN</td>\n",
       "      <td>NaN</td>\n",
       "      <td>NaN</td>\n",
       "    </tr>\n",
       "  </tbody>\n",
       "</table>\n",
       "</div>"
      ],
      "text/plain": [
       "      name platform  year_of_release genre  na_sales  eu_sales  jp_sales  \\\n",
       "659    NaN      GEN             1993   NaN      1.78      0.53      0.00   \n",
       "14244  NaN      GEN             1993   NaN      0.00      0.00      0.03   \n",
       "\n",
       "       other_sales  critic_score  user_score rating  \n",
       "659           0.08           NaN         NaN    NaN  \n",
       "14244         0.00           NaN         NaN    NaN  "
      ]
     },
     "execution_count": 19,
     "metadata": {},
     "output_type": "execute_result"
    }
   ],
   "source": [
    "df.query('name.isna()') "
   ]
  },
  {
   "cell_type": "code",
   "execution_count": 20,
   "metadata": {},
   "outputs": [],
   "source": [
    "df.dropna(subset = ['name'],inplace = True)\n",
    "df.dropna(subset = ['genre'],inplace = True)"
   ]
  },
  {
   "cell_type": "markdown",
   "metadata": {},
   "source": [
    "### Выводы по предообработки данных:"
   ]
  },
  {
   "cell_type": "markdown",
   "metadata": {},
   "source": [
    "Прпуски в столбце `year_of_release` было решено удалить, так как по всей видимости характер возникновения этих пропусков случайный. В названиях некоторых игр указан годы выпуска, и можно восстановить и заменить пропуски, но так как доля пропусков в столбце менее 2% разумнее удалить, на выводы не повлияет потеря этой информации.\n",
    "\n",
    "TBD - аббревиатура от английского To Be Determined (будет определено) или To Be Decided (будет решено). Используется, если какая-то информация еще не определена или решение по вопросу не принято. Акроним служит для отметки неясностей или пропусков, поэтому заменим зачения на NaN и приведем тип столбца к числову float64\n",
    "\n",
    "Пропуски в названиях игр и жанр совпадают , данные не значитель и при удалении никак не повлияют на результат исследования, было приянято решение удалить.\n",
    "\n",
    "Пропуски в данных с оценкой критиков, пользователей и рейтингом нецелесообразно удалять или замянять медианным или средним значением, так как результаты могут значительно повлиять на результат исследования"
   ]
  },
  {
   "cell_type": "markdown",
   "metadata": {},
   "source": [
    "## Исследовательский анализ данных: <a name=\"part_2\"></a>"
   ]
  },
  {
   "cell_type": "code",
   "execution_count": 21,
   "metadata": {},
   "outputs": [
    {
     "data": {
      "image/png": "[encoded data removed]",
      "text/plain": [
       "<Figure size 432x288 with 1 Axes>"
      ]
     },
     "metadata": {
      "needs_background": "light"
     },
     "output_type": "display_data"
    }
   ],
   "source": [
    "sns.distplot(df['year_of_release'], bins = 100,)\n",
    "plt.show()"
   ]
  },
  {
   "cell_type": "code",
   "execution_count": 22,
   "metadata": {},
   "outputs": [],
   "source": [
    "df['total_sales'] = df['na_sales'] + df['eu_sales'] + df['jp_sales'] + df['other_sales']"
   ]
  },
  {
   "cell_type": "code",
   "execution_count": 23,
   "metadata": {},
   "outputs": [
    {
     "data": {
      "image/png": "[encoded data removed]",
      "text/plain": [
       "<Figure size 432x288 with 1 Axes>"
      ]
     },
     "metadata": {
      "needs_background": "light"
     },
     "output_type": "display_data"
    }
   ],
   "source": [
    "df.pivot_table(index = 'year_of_release', values = 'total_sales', aggfunc = 'sum').plot()\n",
    "plt.show()"
   ]
  },
  {
   "cell_type": "markdown",
   "metadata": {},
   "source": [
    "С 1990 по 2009 виден рост выпуска игр, начина с 2009 года сильный спад\n",
    "\n",
    "Соответсвенно такие же наблюдение и по продажам, чтобы прогнозировать продажи на 2017 год, нам нельзя брать пиковый период для исследования "
   ]
  },
  {
   "cell_type": "code",
   "execution_count": 24,
   "metadata": {},
   "outputs": [],
   "source": [
    "top_platforms = df.pivot_table(index = 'platform', values = 'total_sales', aggfunc = 'sum').sort_values(by ='total_sales',ascending = False)"
   ]
  },
  {
   "cell_type": "code",
   "execution_count": 25,
   "metadata": {},
   "outputs": [],
   "source": [
    "top_platforms = top_platforms.head(6)"
   ]
  },
  {
   "cell_type": "code",
   "execution_count": 26,
   "metadata": {},
   "outputs": [
    {
     "data": {
      "text/html": [
       "<div>\n",
       "<style scoped>\n",
       "    .dataframe tbody tr th:only-of-type {\n",
       "        vertical-align: middle;\n",
       "    }\n",
       "\n",
       "    .dataframe tbody tr th {\n",
       "        vertical-align: top;\n",
       "    }\n",
       "\n",
       "    .dataframe thead th {\n",
       "        text-align: right;\n",
       "    }\n",
       "</style>\n",
       "<table border=\"1\" class=\"dataframe\">\n",
       "  <thead>\n",
       "    <tr style=\"text-align: right;\">\n",
       "      <th></th>\n",
       "      <th>total_sales</th>\n",
       "    </tr>\n",
       "    <tr>\n",
       "      <th>platform</th>\n",
       "      <th></th>\n",
       "    </tr>\n",
       "  </thead>\n",
       "  <tbody>\n",
       "    <tr>\n",
       "      <td>PS2</td>\n",
       "      <td>1233.56</td>\n",
       "    </tr>\n",
       "    <tr>\n",
       "      <td>X360</td>\n",
       "      <td>961.24</td>\n",
       "    </tr>\n",
       "    <tr>\n",
       "      <td>PS3</td>\n",
       "      <td>931.34</td>\n",
       "    </tr>\n",
       "    <tr>\n",
       "      <td>Wii</td>\n",
       "      <td>891.18</td>\n",
       "    </tr>\n",
       "    <tr>\n",
       "      <td>DS</td>\n",
       "      <td>802.78</td>\n",
       "    </tr>\n",
       "    <tr>\n",
       "      <td>PS</td>\n",
       "      <td>727.58</td>\n",
       "    </tr>\n",
       "  </tbody>\n",
       "</table>\n",
       "</div>"
      ],
      "text/plain": [
       "          total_sales\n",
       "platform             \n",
       "PS2           1233.56\n",
       "X360           961.24\n",
       "PS3            931.34\n",
       "Wii            891.18\n",
       "DS             802.78\n",
       "PS             727.58"
      ]
     },
     "execution_count": 26,
     "metadata": {},
     "output_type": "execute_result"
    }
   ],
   "source": [
    "top_platforms"
   ]
  },
  {
   "cell_type": "code",
   "execution_count": 27,
   "metadata": {},
   "outputs": [
    {
     "data": {
      "image/png": "[encoded data removed]",
      "text/plain": [
       "<Figure size 1440x360 with 1 Axes>"
      ]
     },
     "metadata": {
      "needs_background": "light"
     },
     "output_type": "display_data"
    }
   ],
   "source": [
    "games_top_platforms = df.query('(platform in @top_platforms.index)').pivot_table(index='year_of_release', columns='platform', values='total_sales', aggfunc='sum')\\\n",
    "    .plot(style='o-', grid=True, figsize=(20, 5))"
   ]
  },
  {
   "cell_type": "markdown",
   "metadata": {},
   "source": [
    "Срок актуальности платформы примерно 10 лет, пик приходится на 5 году, после 5 лет наблюдается спад продаж. \n",
    "\n",
    "\n",
    "Исходя из полученых выводов определим актуальный период, не берем пиковый период и ориентируемся на срок актуальности платформы. Обозначим исследуемый период с 2010 по 2016"
   ]
  },
  {
   "cell_type": "code",
   "execution_count": 28,
   "metadata": {},
   "outputs": [],
   "source": [
    "new_df = df.query('2010 <= year_of_release <= 2016')"
   ]
  },
  {
   "cell_type": "code",
   "execution_count": 29,
   "metadata": {},
   "outputs": [
    {
     "data": {
      "text/html": [
       "<div>\n",
       "<style scoped>\n",
       "    .dataframe tbody tr th:only-of-type {\n",
       "        vertical-align: middle;\n",
       "    }\n",
       "\n",
       "    .dataframe tbody tr th {\n",
       "        vertical-align: top;\n",
       "    }\n",
       "\n",
       "    .dataframe thead th {\n",
       "        text-align: right;\n",
       "    }\n",
       "</style>\n",
       "<table border=\"1\" class=\"dataframe\">\n",
       "  <thead>\n",
       "    <tr style=\"text-align: right;\">\n",
       "      <th></th>\n",
       "      <th>name</th>\n",
       "      <th>platform</th>\n",
       "      <th>year_of_release</th>\n",
       "      <th>genre</th>\n",
       "      <th>na_sales</th>\n",
       "      <th>eu_sales</th>\n",
       "      <th>jp_sales</th>\n",
       "      <th>other_sales</th>\n",
       "      <th>critic_score</th>\n",
       "      <th>user_score</th>\n",
       "      <th>rating</th>\n",
       "      <th>total_sales</th>\n",
       "    </tr>\n",
       "  </thead>\n",
       "  <tbody>\n",
       "    <tr>\n",
       "      <td>14</td>\n",
       "      <td>Kinect Adventures!</td>\n",
       "      <td>X360</td>\n",
       "      <td>2010</td>\n",
       "      <td>Misc</td>\n",
       "      <td>15.00</td>\n",
       "      <td>4.89</td>\n",
       "      <td>0.24</td>\n",
       "      <td>1.69</td>\n",
       "      <td>61.0</td>\n",
       "      <td>6.3</td>\n",
       "      <td>E</td>\n",
       "      <td>21.82</td>\n",
       "    </tr>\n",
       "    <tr>\n",
       "      <td>16</td>\n",
       "      <td>Grand Theft Auto V</td>\n",
       "      <td>PS3</td>\n",
       "      <td>2013</td>\n",
       "      <td>Action</td>\n",
       "      <td>7.02</td>\n",
       "      <td>9.09</td>\n",
       "      <td>0.98</td>\n",
       "      <td>3.96</td>\n",
       "      <td>97.0</td>\n",
       "      <td>8.2</td>\n",
       "      <td>M</td>\n",
       "      <td>21.05</td>\n",
       "    </tr>\n",
       "    <tr>\n",
       "      <td>23</td>\n",
       "      <td>Grand Theft Auto V</td>\n",
       "      <td>X360</td>\n",
       "      <td>2013</td>\n",
       "      <td>Action</td>\n",
       "      <td>9.66</td>\n",
       "      <td>5.14</td>\n",
       "      <td>0.06</td>\n",
       "      <td>1.41</td>\n",
       "      <td>97.0</td>\n",
       "      <td>8.1</td>\n",
       "      <td>M</td>\n",
       "      <td>16.27</td>\n",
       "    </tr>\n",
       "    <tr>\n",
       "      <td>27</td>\n",
       "      <td>Pokemon Black/Pokemon White</td>\n",
       "      <td>DS</td>\n",
       "      <td>2010</td>\n",
       "      <td>Role-Playing</td>\n",
       "      <td>5.51</td>\n",
       "      <td>3.17</td>\n",
       "      <td>5.65</td>\n",
       "      <td>0.80</td>\n",
       "      <td>NaN</td>\n",
       "      <td>NaN</td>\n",
       "      <td>NaN</td>\n",
       "      <td>15.13</td>\n",
       "    </tr>\n",
       "    <tr>\n",
       "      <td>29</td>\n",
       "      <td>Call of Duty: Modern Warfare 3</td>\n",
       "      <td>X360</td>\n",
       "      <td>2011</td>\n",
       "      <td>Shooter</td>\n",
       "      <td>9.04</td>\n",
       "      <td>4.24</td>\n",
       "      <td>0.13</td>\n",
       "      <td>1.32</td>\n",
       "      <td>88.0</td>\n",
       "      <td>3.4</td>\n",
       "      <td>M</td>\n",
       "      <td>14.73</td>\n",
       "    </tr>\n",
       "  </tbody>\n",
       "</table>\n",
       "</div>"
      ],
      "text/plain": [
       "                              name platform  year_of_release         genre  \\\n",
       "14              Kinect Adventures!     X360             2010          Misc   \n",
       "16              Grand Theft Auto V      PS3             2013        Action   \n",
       "23              Grand Theft Auto V     X360             2013        Action   \n",
       "27     Pokemon Black/Pokemon White       DS             2010  Role-Playing   \n",
       "29  Call of Duty: Modern Warfare 3     X360             2011       Shooter   \n",
       "\n",
       "    na_sales  eu_sales  jp_sales  other_sales  critic_score  user_score  \\\n",
       "14     15.00      4.89      0.24         1.69          61.0         6.3   \n",
       "16      7.02      9.09      0.98         3.96          97.0         8.2   \n",
       "23      9.66      5.14      0.06         1.41          97.0         8.1   \n",
       "27      5.51      3.17      5.65         0.80           NaN         NaN   \n",
       "29      9.04      4.24      0.13         1.32          88.0         3.4   \n",
       "\n",
       "   rating  total_sales  \n",
       "14      E        21.82  \n",
       "16      M        21.05  \n",
       "23      M        16.27  \n",
       "27    NaN        15.13  \n",
       "29      M        14.73  "
      ]
     },
     "execution_count": 29,
     "metadata": {},
     "output_type": "execute_result"
    }
   ],
   "source": [
    "new_df.head()"
   ]
  },
  {
   "cell_type": "code",
   "execution_count": 30,
   "metadata": {},
   "outputs": [],
   "source": [
    "top_platforms_new = new_df.pivot_table(index = 'platform', values = 'total_sales', aggfunc = 'sum').sort_values(by ='total_sales',ascending = False).head(10)"
   ]
  },
  {
   "cell_type": "code",
   "execution_count": 31,
   "metadata": {},
   "outputs": [
    {
     "data": {
      "text/html": [
       "<div>\n",
       "<style scoped>\n",
       "    .dataframe tbody tr th:only-of-type {\n",
       "        vertical-align: middle;\n",
       "    }\n",
       "\n",
       "    .dataframe tbody tr th {\n",
       "        vertical-align: top;\n",
       "    }\n",
       "\n",
       "    .dataframe thead th {\n",
       "        text-align: right;\n",
       "    }\n",
       "</style>\n",
       "<table border=\"1\" class=\"dataframe\">\n",
       "  <thead>\n",
       "    <tr style=\"text-align: right;\">\n",
       "      <th></th>\n",
       "      <th>total_sales</th>\n",
       "    </tr>\n",
       "    <tr>\n",
       "      <th>platform</th>\n",
       "      <th></th>\n",
       "    </tr>\n",
       "  </thead>\n",
       "  <tbody>\n",
       "    <tr>\n",
       "      <td>PS3</td>\n",
       "      <td>587.74</td>\n",
       "    </tr>\n",
       "    <tr>\n",
       "      <td>X360</td>\n",
       "      <td>550.41</td>\n",
       "    </tr>\n",
       "    <tr>\n",
       "      <td>PS4</td>\n",
       "      <td>314.14</td>\n",
       "    </tr>\n",
       "    <tr>\n",
       "      <td>3DS</td>\n",
       "      <td>257.81</td>\n",
       "    </tr>\n",
       "    <tr>\n",
       "      <td>Wii</td>\n",
       "      <td>222.97</td>\n",
       "    </tr>\n",
       "    <tr>\n",
       "      <td>XOne</td>\n",
       "      <td>159.32</td>\n",
       "    </tr>\n",
       "    <tr>\n",
       "      <td>DS</td>\n",
       "      <td>123.75</td>\n",
       "    </tr>\n",
       "    <tr>\n",
       "      <td>PC</td>\n",
       "      <td>121.96</td>\n",
       "    </tr>\n",
       "    <tr>\n",
       "      <td>WiiU</td>\n",
       "      <td>82.19</td>\n",
       "    </tr>\n",
       "    <tr>\n",
       "      <td>PSP</td>\n",
       "      <td>64.05</td>\n",
       "    </tr>\n",
       "  </tbody>\n",
       "</table>\n",
       "</div>"
      ],
      "text/plain": [
       "          total_sales\n",
       "platform             \n",
       "PS3            587.74\n",
       "X360           550.41\n",
       "PS4            314.14\n",
       "3DS            257.81\n",
       "Wii            222.97\n",
       "XOne           159.32\n",
       "DS             123.75\n",
       "PC             121.96\n",
       "WiiU            82.19\n",
       "PSP             64.05"
      ]
     },
     "execution_count": 31,
     "metadata": {},
     "output_type": "execute_result"
    }
   ],
   "source": [
    "top_platforms_new"
   ]
  },
  {
   "cell_type": "code",
   "execution_count": 32,
   "metadata": {},
   "outputs": [
    {
     "data": {
      "image/png": "[encoded data removed]",
      "text/plain": [
       "<Figure size 1440x360 with 1 Axes>"
      ]
     },
     "metadata": {
      "needs_background": "light"
     },
     "output_type": "display_data"
    }
   ],
   "source": [
    "top_platforms = new_df.pivot_table(index='year_of_release', columns='platform', values='total_sales', aggfunc='sum')\\\n",
    "    .plot(style='o-', grid=True, figsize=(20, 5))"
   ]
  },
  {
   "cell_type": "code",
   "execution_count": 33,
   "metadata": {},
   "outputs": [
    {
     "data": {
      "image/png": "[encoded data removed]",
      "text/plain": [
       "<Figure size 432x288 with 1 Axes>"
      ]
     },
     "metadata": {
      "needs_background": "light"
     },
     "output_type": "display_data"
    }
   ],
   "source": [
    "ax = new_df.groupby(['platform', 'year_of_release']).agg({'total_sales': 'sum'}).reset_index()\n",
    "sns.barplot(data=ax, x='year_of_release', y='total_sales', hue=\"platform\", orient='v')\n",
    "sns.set(rc={'figure.figsize':(20,12)})"
   ]
  },
  {
   "cell_type": "markdown",
   "metadata": {},
   "source": [
    "На графиках видно, что преспективные результаты у X360,PS3,WiiU, XOne, 3DS. C 2014 года лидируют PS4 и XOne"
   ]
  },
  {
   "cell_type": "code",
   "execution_count": 34,
   "metadata": {
    "scrolled": true
   },
   "outputs": [
    {
     "data": {
      "image/png": "[encoded data removed]",
      "text/plain": [
       "<Figure size 864x504 with 1 Axes>"
      ]
     },
     "metadata": {},
     "output_type": "display_data"
    }
   ],
   "source": [
    "new_df.boxplot('total_sales', by='platform', showfliers=False, figsize=(12,7))\n",
    "plt.show()\n"
   ]
  },
  {
   "cell_type": "code",
   "execution_count": 35,
   "metadata": {},
   "outputs": [
    {
     "data": {
      "text/html": [
       "<div>\n",
       "<style scoped>\n",
       "    .dataframe tbody tr th:only-of-type {\n",
       "        vertical-align: middle;\n",
       "    }\n",
       "\n",
       "    .dataframe tbody tr th {\n",
       "        vertical-align: top;\n",
       "    }\n",
       "\n",
       "    .dataframe thead th {\n",
       "        text-align: right;\n",
       "    }\n",
       "</style>\n",
       "<table border=\"1\" class=\"dataframe\">\n",
       "  <thead>\n",
       "    <tr style=\"text-align: right;\">\n",
       "      <th></th>\n",
       "      <th>count</th>\n",
       "      <th>mean</th>\n",
       "      <th>std</th>\n",
       "      <th>min</th>\n",
       "      <th>25%</th>\n",
       "      <th>50%</th>\n",
       "      <th>75%</th>\n",
       "      <th>max</th>\n",
       "    </tr>\n",
       "    <tr>\n",
       "      <th>platform</th>\n",
       "      <th></th>\n",
       "      <th></th>\n",
       "      <th></th>\n",
       "      <th></th>\n",
       "      <th></th>\n",
       "      <th></th>\n",
       "      <th></th>\n",
       "      <th></th>\n",
       "    </tr>\n",
       "  </thead>\n",
       "  <tbody>\n",
       "    <tr>\n",
       "      <td>3DS</td>\n",
       "      <td>512.0</td>\n",
       "      <td>0.503535</td>\n",
       "      <td>1.441271</td>\n",
       "      <td>0.01</td>\n",
       "      <td>0.05</td>\n",
       "      <td>0.12</td>\n",
       "      <td>0.3325</td>\n",
       "      <td>14.60</td>\n",
       "    </tr>\n",
       "    <tr>\n",
       "      <td>DS</td>\n",
       "      <td>507.0</td>\n",
       "      <td>0.244083</td>\n",
       "      <td>0.815643</td>\n",
       "      <td>0.01</td>\n",
       "      <td>0.04</td>\n",
       "      <td>0.10</td>\n",
       "      <td>0.2000</td>\n",
       "      <td>15.13</td>\n",
       "    </tr>\n",
       "    <tr>\n",
       "      <td>PC</td>\n",
       "      <td>479.0</td>\n",
       "      <td>0.254614</td>\n",
       "      <td>0.530874</td>\n",
       "      <td>0.01</td>\n",
       "      <td>0.03</td>\n",
       "      <td>0.08</td>\n",
       "      <td>0.2300</td>\n",
       "      <td>5.14</td>\n",
       "    </tr>\n",
       "    <tr>\n",
       "      <td>PS2</td>\n",
       "      <td>45.0</td>\n",
       "      <td>0.135333</td>\n",
       "      <td>0.180638</td>\n",
       "      <td>0.01</td>\n",
       "      <td>0.02</td>\n",
       "      <td>0.06</td>\n",
       "      <td>0.1300</td>\n",
       "      <td>0.76</td>\n",
       "    </tr>\n",
       "    <tr>\n",
       "      <td>PS3</td>\n",
       "      <td>889.0</td>\n",
       "      <td>0.661125</td>\n",
       "      <td>1.459651</td>\n",
       "      <td>0.01</td>\n",
       "      <td>0.08</td>\n",
       "      <td>0.23</td>\n",
       "      <td>0.6800</td>\n",
       "      <td>21.05</td>\n",
       "    </tr>\n",
       "    <tr>\n",
       "      <td>PS4</td>\n",
       "      <td>392.0</td>\n",
       "      <td>0.801378</td>\n",
       "      <td>1.609456</td>\n",
       "      <td>0.01</td>\n",
       "      <td>0.06</td>\n",
       "      <td>0.20</td>\n",
       "      <td>0.7300</td>\n",
       "      <td>14.63</td>\n",
       "    </tr>\n",
       "    <tr>\n",
       "      <td>PSP</td>\n",
       "      <td>500.0</td>\n",
       "      <td>0.128100</td>\n",
       "      <td>0.288250</td>\n",
       "      <td>0.01</td>\n",
       "      <td>0.02</td>\n",
       "      <td>0.05</td>\n",
       "      <td>0.1325</td>\n",
       "      <td>4.87</td>\n",
       "    </tr>\n",
       "    <tr>\n",
       "      <td>PSV</td>\n",
       "      <td>429.0</td>\n",
       "      <td>0.125431</td>\n",
       "      <td>0.212341</td>\n",
       "      <td>0.01</td>\n",
       "      <td>0.02</td>\n",
       "      <td>0.05</td>\n",
       "      <td>0.1300</td>\n",
       "      <td>1.96</td>\n",
       "    </tr>\n",
       "    <tr>\n",
       "      <td>Wii</td>\n",
       "      <td>450.0</td>\n",
       "      <td>0.495489</td>\n",
       "      <td>1.118375</td>\n",
       "      <td>0.01</td>\n",
       "      <td>0.08</td>\n",
       "      <td>0.18</td>\n",
       "      <td>0.4200</td>\n",
       "      <td>10.12</td>\n",
       "    </tr>\n",
       "    <tr>\n",
       "      <td>WiiU</td>\n",
       "      <td>147.0</td>\n",
       "      <td>0.559116</td>\n",
       "      <td>1.058836</td>\n",
       "      <td>0.01</td>\n",
       "      <td>0.08</td>\n",
       "      <td>0.22</td>\n",
       "      <td>0.5250</td>\n",
       "      <td>7.09</td>\n",
       "    </tr>\n",
       "    <tr>\n",
       "      <td>X360</td>\n",
       "      <td>680.0</td>\n",
       "      <td>0.809426</td>\n",
       "      <td>1.818539</td>\n",
       "      <td>0.01</td>\n",
       "      <td>0.10</td>\n",
       "      <td>0.27</td>\n",
       "      <td>0.7825</td>\n",
       "      <td>21.82</td>\n",
       "    </tr>\n",
       "    <tr>\n",
       "      <td>XOne</td>\n",
       "      <td>247.0</td>\n",
       "      <td>0.645020</td>\n",
       "      <td>1.036139</td>\n",
       "      <td>0.01</td>\n",
       "      <td>0.06</td>\n",
       "      <td>0.22</td>\n",
       "      <td>0.6850</td>\n",
       "      <td>7.39</td>\n",
       "    </tr>\n",
       "  </tbody>\n",
       "</table>\n",
       "</div>"
      ],
      "text/plain": [
       "          count      mean       std   min   25%   50%     75%    max\n",
       "platform                                                            \n",
       "3DS       512.0  0.503535  1.441271  0.01  0.05  0.12  0.3325  14.60\n",
       "DS        507.0  0.244083  0.815643  0.01  0.04  0.10  0.2000  15.13\n",
       "PC        479.0  0.254614  0.530874  0.01  0.03  0.08  0.2300   5.14\n",
       "PS2        45.0  0.135333  0.180638  0.01  0.02  0.06  0.1300   0.76\n",
       "PS3       889.0  0.661125  1.459651  0.01  0.08  0.23  0.6800  21.05\n",
       "PS4       392.0  0.801378  1.609456  0.01  0.06  0.20  0.7300  14.63\n",
       "PSP       500.0  0.128100  0.288250  0.01  0.02  0.05  0.1325   4.87\n",
       "PSV       429.0  0.125431  0.212341  0.01  0.02  0.05  0.1300   1.96\n",
       "Wii       450.0  0.495489  1.118375  0.01  0.08  0.18  0.4200  10.12\n",
       "WiiU      147.0  0.559116  1.058836  0.01  0.08  0.22  0.5250   7.09\n",
       "X360      680.0  0.809426  1.818539  0.01  0.10  0.27  0.7825  21.82\n",
       "XOne      247.0  0.645020  1.036139  0.01  0.06  0.22  0.6850   7.39"
      ]
     },
     "execution_count": 35,
     "metadata": {},
     "output_type": "execute_result"
    }
   ],
   "source": [
    "new_df.groupby('platform')['total_sales'].describe()"
   ]
  },
  {
   "cell_type": "markdown",
   "metadata": {},
   "source": [
    "У крупных платформ, таких как  X360, PS4,PC, 3DS есть расхождения между средним и медианной это свидетельствует о разбросе суммы сборов, что характерно для хитов-продаж "
   ]
  },
  {
   "cell_type": "code",
   "execution_count": 36,
   "metadata": {},
   "outputs": [],
   "source": [
    "games_PS3  = new_df.query('platform == \"PS3\"')[['critic_score','user_score','total_sales']]"
   ]
  },
  {
   "cell_type": "code",
   "execution_count": 37,
   "metadata": {},
   "outputs": [
    {
     "data": {
      "text/html": [
       "<div>\n",
       "<style scoped>\n",
       "    .dataframe tbody tr th:only-of-type {\n",
       "        vertical-align: middle;\n",
       "    }\n",
       "\n",
       "    .dataframe tbody tr th {\n",
       "        vertical-align: top;\n",
       "    }\n",
       "\n",
       "    .dataframe thead th {\n",
       "        text-align: right;\n",
       "    }\n",
       "</style>\n",
       "<table border=\"1\" class=\"dataframe\">\n",
       "  <thead>\n",
       "    <tr style=\"text-align: right;\">\n",
       "      <th></th>\n",
       "      <th>critic_score</th>\n",
       "      <th>user_score</th>\n",
       "      <th>total_sales</th>\n",
       "    </tr>\n",
       "  </thead>\n",
       "  <tbody>\n",
       "    <tr>\n",
       "      <td>16</td>\n",
       "      <td>97.0</td>\n",
       "      <td>8.2</td>\n",
       "      <td>21.05</td>\n",
       "    </tr>\n",
       "    <tr>\n",
       "      <td>34</td>\n",
       "      <td>83.0</td>\n",
       "      <td>5.3</td>\n",
       "      <td>13.79</td>\n",
       "    </tr>\n",
       "    <tr>\n",
       "      <td>37</td>\n",
       "      <td>88.0</td>\n",
       "      <td>3.2</td>\n",
       "      <td>13.33</td>\n",
       "    </tr>\n",
       "    <tr>\n",
       "      <td>41</td>\n",
       "      <td>88.0</td>\n",
       "      <td>6.4</td>\n",
       "      <td>12.63</td>\n",
       "    </tr>\n",
       "    <tr>\n",
       "      <td>54</td>\n",
       "      <td>84.0</td>\n",
       "      <td>7.5</td>\n",
       "      <td>10.70</td>\n",
       "    </tr>\n",
       "  </tbody>\n",
       "</table>\n",
       "</div>"
      ],
      "text/plain": [
       "    critic_score  user_score  total_sales\n",
       "16          97.0         8.2        21.05\n",
       "34          83.0         5.3        13.79\n",
       "37          88.0         3.2        13.33\n",
       "41          88.0         6.4        12.63\n",
       "54          84.0         7.5        10.70"
      ]
     },
     "execution_count": 37,
     "metadata": {},
     "output_type": "execute_result"
    }
   ],
   "source": [
    "games_PS3.head()"
   ]
  },
  {
   "cell_type": "code",
   "execution_count": 38,
   "metadata": {},
   "outputs": [
    {
     "data": {
      "text/html": [
       "<div>\n",
       "<style scoped>\n",
       "    .dataframe tbody tr th:only-of-type {\n",
       "        vertical-align: middle;\n",
       "    }\n",
       "\n",
       "    .dataframe tbody tr th {\n",
       "        vertical-align: top;\n",
       "    }\n",
       "\n",
       "    .dataframe thead th {\n",
       "        text-align: right;\n",
       "    }\n",
       "</style>\n",
       "<table border=\"1\" class=\"dataframe\">\n",
       "  <thead>\n",
       "    <tr style=\"text-align: right;\">\n",
       "      <th></th>\n",
       "      <th>critic_score</th>\n",
       "      <th>user_score</th>\n",
       "      <th>total_sales</th>\n",
       "    </tr>\n",
       "  </thead>\n",
       "  <tbody>\n",
       "    <tr>\n",
       "      <td>critic_score</td>\n",
       "      <td>1.000000</td>\n",
       "      <td>0.595259</td>\n",
       "      <td>0.400594</td>\n",
       "    </tr>\n",
       "    <tr>\n",
       "      <td>user_score</td>\n",
       "      <td>0.595259</td>\n",
       "      <td>1.000000</td>\n",
       "      <td>0.065092</td>\n",
       "    </tr>\n",
       "    <tr>\n",
       "      <td>total_sales</td>\n",
       "      <td>0.400594</td>\n",
       "      <td>0.065092</td>\n",
       "      <td>1.000000</td>\n",
       "    </tr>\n",
       "  </tbody>\n",
       "</table>\n",
       "</div>"
      ],
      "text/plain": [
       "              critic_score  user_score  total_sales\n",
       "critic_score      1.000000    0.595259     0.400594\n",
       "user_score        0.595259    1.000000     0.065092\n",
       "total_sales       0.400594    0.065092     1.000000"
      ]
     },
     "execution_count": 38,
     "metadata": {},
     "output_type": "execute_result"
    }
   ],
   "source": [
    "games_PS3.corr()"
   ]
  },
  {
   "cell_type": "code",
   "execution_count": 39,
   "metadata": {},
   "outputs": [
    {
     "data": {
      "image/png": "[encoded data removed]",
      "text/plain": [
       "<Figure size 432x288 with 2 Axes>"
      ]
     },
     "metadata": {},
     "output_type": "display_data"
    }
   ],
   "source": [
    "games_PS3.plot(x='critic_score', y='total_sales', kind='hexbin', gridsize=20, figsize=(6, 4), sharex=False, grid=True)\n",
    "plt.show()"
   ]
  },
  {
   "cell_type": "code",
   "execution_count": 40,
   "metadata": {},
   "outputs": [
    {
     "data": {
      "image/png": "[encoded data removed]",
      "text/plain": [
       "<Figure size 432x288 with 2 Axes>"
      ]
     },
     "metadata": {},
     "output_type": "display_data"
    }
   ],
   "source": [
    "games_PS3.plot(x='user_score', y='total_sales', kind='hexbin', gridsize=20, figsize=(6, 4), sharex=False, grid=True)\n",
    "plt.show()"
   ]
  },
  {
   "cell_type": "code",
   "execution_count": 41,
   "metadata": {},
   "outputs": [
    {
     "data": {
      "image/png": "[encoded data removed]",
      "text/plain": [
       "<Figure size 432x288 with 2 Axes>"
      ]
     },
     "metadata": {},
     "output_type": "display_data"
    }
   ],
   "source": [
    "games_PS3.plot(x='user_score', y='critic_score', kind='hexbin', gridsize=20, figsize=(6, 4), sharex=False, grid=True)\n",
    "plt.show()"
   ]
  },
  {
   "cell_type": "markdown",
   "metadata": {},
   "source": [
    "Между рейтингом платформы PS3 критиков и продажами сущетсвует линейная зависимость. Корреляция между отзывами пользователей и продажами значитльно ниже"
   ]
  },
  {
   "cell_type": "code",
   "execution_count": 42,
   "metadata": {},
   "outputs": [
    {
     "data": {
      "text/html": [
       "<div>\n",
       "<style scoped>\n",
       "    .dataframe tbody tr th:only-of-type {\n",
       "        vertical-align: middle;\n",
       "    }\n",
       "\n",
       "    .dataframe tbody tr th {\n",
       "        vertical-align: top;\n",
       "    }\n",
       "\n",
       "    .dataframe thead th {\n",
       "        text-align: right;\n",
       "    }\n",
       "</style>\n",
       "<table border=\"1\" class=\"dataframe\">\n",
       "  <thead>\n",
       "    <tr style=\"text-align: right;\">\n",
       "      <th></th>\n",
       "      <th></th>\n",
       "      <th>critic_score</th>\n",
       "      <th>user_score</th>\n",
       "      <th>total_sales</th>\n",
       "    </tr>\n",
       "    <tr>\n",
       "      <th>platform</th>\n",
       "      <th></th>\n",
       "      <th></th>\n",
       "      <th></th>\n",
       "      <th></th>\n",
       "    </tr>\n",
       "  </thead>\n",
       "  <tbody>\n",
       "    <tr>\n",
       "      <td rowspan=\"3\" valign=\"top\">3DS</td>\n",
       "      <td>critic_score</td>\n",
       "      <td>1.000000</td>\n",
       "      <td>0.745222</td>\n",
       "      <td>0.348740</td>\n",
       "    </tr>\n",
       "    <tr>\n",
       "      <td>user_score</td>\n",
       "      <td>0.745222</td>\n",
       "      <td>1.000000</td>\n",
       "      <td>0.222078</td>\n",
       "    </tr>\n",
       "    <tr>\n",
       "      <td>total_sales</td>\n",
       "      <td>0.348740</td>\n",
       "      <td>0.222078</td>\n",
       "      <td>1.000000</td>\n",
       "    </tr>\n",
       "    <tr>\n",
       "      <td rowspan=\"3\" valign=\"top\">DS</td>\n",
       "      <td>critic_score</td>\n",
       "      <td>1.000000</td>\n",
       "      <td>0.620256</td>\n",
       "      <td>0.280162</td>\n",
       "    </tr>\n",
       "    <tr>\n",
       "      <td>user_score</td>\n",
       "      <td>0.620256</td>\n",
       "      <td>1.000000</td>\n",
       "      <td>0.251428</td>\n",
       "    </tr>\n",
       "    <tr>\n",
       "      <td>total_sales</td>\n",
       "      <td>0.280162</td>\n",
       "      <td>0.251428</td>\n",
       "      <td>1.000000</td>\n",
       "    </tr>\n",
       "    <tr>\n",
       "      <td rowspan=\"3\" valign=\"top\">PC</td>\n",
       "      <td>critic_score</td>\n",
       "      <td>1.000000</td>\n",
       "      <td>0.478158</td>\n",
       "      <td>0.336497</td>\n",
       "    </tr>\n",
       "    <tr>\n",
       "      <td>user_score</td>\n",
       "      <td>0.478158</td>\n",
       "      <td>1.000000</td>\n",
       "      <td>-0.011087</td>\n",
       "    </tr>\n",
       "    <tr>\n",
       "      <td>total_sales</td>\n",
       "      <td>0.336497</td>\n",
       "      <td>-0.011087</td>\n",
       "      <td>1.000000</td>\n",
       "    </tr>\n",
       "    <tr>\n",
       "      <td rowspan=\"3\" valign=\"top\">PS2</td>\n",
       "      <td>critic_score</td>\n",
       "      <td>NaN</td>\n",
       "      <td>NaN</td>\n",
       "      <td>NaN</td>\n",
       "    </tr>\n",
       "    <tr>\n",
       "      <td>user_score</td>\n",
       "      <td>NaN</td>\n",
       "      <td>1.000000</td>\n",
       "      <td>0.074724</td>\n",
       "    </tr>\n",
       "    <tr>\n",
       "      <td>total_sales</td>\n",
       "      <td>NaN</td>\n",
       "      <td>0.074724</td>\n",
       "      <td>1.000000</td>\n",
       "    </tr>\n",
       "    <tr>\n",
       "      <td rowspan=\"3\" valign=\"top\">PS3</td>\n",
       "      <td>critic_score</td>\n",
       "      <td>1.000000</td>\n",
       "      <td>0.595259</td>\n",
       "      <td>0.400594</td>\n",
       "    </tr>\n",
       "    <tr>\n",
       "      <td>user_score</td>\n",
       "      <td>0.595259</td>\n",
       "      <td>1.000000</td>\n",
       "      <td>0.065092</td>\n",
       "    </tr>\n",
       "    <tr>\n",
       "      <td>total_sales</td>\n",
       "      <td>0.400594</td>\n",
       "      <td>0.065092</td>\n",
       "      <td>1.000000</td>\n",
       "    </tr>\n",
       "    <tr>\n",
       "      <td rowspan=\"3\" valign=\"top\">PS4</td>\n",
       "      <td>critic_score</td>\n",
       "      <td>1.000000</td>\n",
       "      <td>0.557654</td>\n",
       "      <td>0.406568</td>\n",
       "    </tr>\n",
       "    <tr>\n",
       "      <td>user_score</td>\n",
       "      <td>0.557654</td>\n",
       "      <td>1.000000</td>\n",
       "      <td>-0.031957</td>\n",
       "    </tr>\n",
       "    <tr>\n",
       "      <td>total_sales</td>\n",
       "      <td>0.406568</td>\n",
       "      <td>-0.031957</td>\n",
       "      <td>1.000000</td>\n",
       "    </tr>\n",
       "    <tr>\n",
       "      <td rowspan=\"3\" valign=\"top\">PSP</td>\n",
       "      <td>critic_score</td>\n",
       "      <td>1.000000</td>\n",
       "      <td>0.521908</td>\n",
       "      <td>0.403225</td>\n",
       "    </tr>\n",
       "    <tr>\n",
       "      <td>user_score</td>\n",
       "      <td>0.521908</td>\n",
       "      <td>1.000000</td>\n",
       "      <td>0.190636</td>\n",
       "    </tr>\n",
       "    <tr>\n",
       "      <td>total_sales</td>\n",
       "      <td>0.403225</td>\n",
       "      <td>0.190636</td>\n",
       "      <td>1.000000</td>\n",
       "    </tr>\n",
       "    <tr>\n",
       "      <td rowspan=\"3\" valign=\"top\">PSV</td>\n",
       "      <td>critic_score</td>\n",
       "      <td>1.000000</td>\n",
       "      <td>0.734300</td>\n",
       "      <td>0.131763</td>\n",
       "    </tr>\n",
       "    <tr>\n",
       "      <td>user_score</td>\n",
       "      <td>0.734300</td>\n",
       "      <td>1.000000</td>\n",
       "      <td>0.013489</td>\n",
       "    </tr>\n",
       "    <tr>\n",
       "      <td>total_sales</td>\n",
       "      <td>0.131763</td>\n",
       "      <td>0.013489</td>\n",
       "      <td>1.000000</td>\n",
       "    </tr>\n",
       "    <tr>\n",
       "      <td rowspan=\"3\" valign=\"top\">Wii</td>\n",
       "      <td>critic_score</td>\n",
       "      <td>1.000000</td>\n",
       "      <td>0.471698</td>\n",
       "      <td>0.310588</td>\n",
       "    </tr>\n",
       "    <tr>\n",
       "      <td>user_score</td>\n",
       "      <td>0.471698</td>\n",
       "      <td>1.000000</td>\n",
       "      <td>0.147160</td>\n",
       "    </tr>\n",
       "    <tr>\n",
       "      <td>total_sales</td>\n",
       "      <td>0.310588</td>\n",
       "      <td>0.147160</td>\n",
       "      <td>1.000000</td>\n",
       "    </tr>\n",
       "    <tr>\n",
       "      <td rowspan=\"3\" valign=\"top\">WiiU</td>\n",
       "      <td>critic_score</td>\n",
       "      <td>1.000000</td>\n",
       "      <td>0.770080</td>\n",
       "      <td>0.348380</td>\n",
       "    </tr>\n",
       "    <tr>\n",
       "      <td>user_score</td>\n",
       "      <td>0.770080</td>\n",
       "      <td>1.000000</td>\n",
       "      <td>0.400219</td>\n",
       "    </tr>\n",
       "    <tr>\n",
       "      <td>total_sales</td>\n",
       "      <td>0.348380</td>\n",
       "      <td>0.400219</td>\n",
       "      <td>1.000000</td>\n",
       "    </tr>\n",
       "    <tr>\n",
       "      <td rowspan=\"3\" valign=\"top\">X360</td>\n",
       "      <td>critic_score</td>\n",
       "      <td>1.000000</td>\n",
       "      <td>0.597552</td>\n",
       "      <td>0.340064</td>\n",
       "    </tr>\n",
       "    <tr>\n",
       "      <td>user_score</td>\n",
       "      <td>0.597552</td>\n",
       "      <td>1.000000</td>\n",
       "      <td>0.066035</td>\n",
       "    </tr>\n",
       "    <tr>\n",
       "      <td>total_sales</td>\n",
       "      <td>0.340064</td>\n",
       "      <td>0.066035</td>\n",
       "      <td>1.000000</td>\n",
       "    </tr>\n",
       "    <tr>\n",
       "      <td rowspan=\"3\" valign=\"top\">XOne</td>\n",
       "      <td>critic_score</td>\n",
       "      <td>1.000000</td>\n",
       "      <td>0.472462</td>\n",
       "      <td>0.416998</td>\n",
       "    </tr>\n",
       "    <tr>\n",
       "      <td>user_score</td>\n",
       "      <td>0.472462</td>\n",
       "      <td>1.000000</td>\n",
       "      <td>-0.068925</td>\n",
       "    </tr>\n",
       "    <tr>\n",
       "      <td>total_sales</td>\n",
       "      <td>0.416998</td>\n",
       "      <td>-0.068925</td>\n",
       "      <td>1.000000</td>\n",
       "    </tr>\n",
       "  </tbody>\n",
       "</table>\n",
       "</div>"
      ],
      "text/plain": [
       "                       critic_score  user_score  total_sales\n",
       "platform                                                    \n",
       "3DS      critic_score      1.000000    0.745222     0.348740\n",
       "         user_score        0.745222    1.000000     0.222078\n",
       "         total_sales       0.348740    0.222078     1.000000\n",
       "DS       critic_score      1.000000    0.620256     0.280162\n",
       "         user_score        0.620256    1.000000     0.251428\n",
       "         total_sales       0.280162    0.251428     1.000000\n",
       "PC       critic_score      1.000000    0.478158     0.336497\n",
       "         user_score        0.478158    1.000000    -0.011087\n",
       "         total_sales       0.336497   -0.011087     1.000000\n",
       "PS2      critic_score           NaN         NaN          NaN\n",
       "         user_score             NaN    1.000000     0.074724\n",
       "         total_sales            NaN    0.074724     1.000000\n",
       "PS3      critic_score      1.000000    0.595259     0.400594\n",
       "         user_score        0.595259    1.000000     0.065092\n",
       "         total_sales       0.400594    0.065092     1.000000\n",
       "PS4      critic_score      1.000000    0.557654     0.406568\n",
       "         user_score        0.557654    1.000000    -0.031957\n",
       "         total_sales       0.406568   -0.031957     1.000000\n",
       "PSP      critic_score      1.000000    0.521908     0.403225\n",
       "         user_score        0.521908    1.000000     0.190636\n",
       "         total_sales       0.403225    0.190636     1.000000\n",
       "PSV      critic_score      1.000000    0.734300     0.131763\n",
       "         user_score        0.734300    1.000000     0.013489\n",
       "         total_sales       0.131763    0.013489     1.000000\n",
       "Wii      critic_score      1.000000    0.471698     0.310588\n",
       "         user_score        0.471698    1.000000     0.147160\n",
       "         total_sales       0.310588    0.147160     1.000000\n",
       "WiiU     critic_score      1.000000    0.770080     0.348380\n",
       "         user_score        0.770080    1.000000     0.400219\n",
       "         total_sales       0.348380    0.400219     1.000000\n",
       "X360     critic_score      1.000000    0.597552     0.340064\n",
       "         user_score        0.597552    1.000000     0.066035\n",
       "         total_sales       0.340064    0.066035     1.000000\n",
       "XOne     critic_score      1.000000    0.472462     0.416998\n",
       "         user_score        0.472462    1.000000    -0.068925\n",
       "         total_sales       0.416998   -0.068925     1.000000"
      ]
     },
     "execution_count": 42,
     "metadata": {},
     "output_type": "execute_result"
    }
   ],
   "source": [
    "new_df.groupby('platform')[['critic_score','user_score','total_sales']].corr()"
   ]
  },
  {
   "cell_type": "markdown",
   "metadata": {},
   "source": [
    "По всем остальным платформам мы наблюдаем такую же ситуацию как и по PS3 "
   ]
  },
  {
   "cell_type": "code",
   "execution_count": 43,
   "metadata": {},
   "outputs": [],
   "source": [
    "top_genre = new_df.pivot_table(index = 'genre', values = 'total_sales', aggfunc = 'sum').sort_values(by ='total_sales',ascending = False)"
   ]
  },
  {
   "cell_type": "code",
   "execution_count": 44,
   "metadata": {},
   "outputs": [
    {
     "data": {
      "image/png": "[encoded data removed]",
      "text/plain": [
       "<Figure size 1440x360 with 1 Axes>"
      ]
     },
     "metadata": {},
     "output_type": "display_data"
    }
   ],
   "source": [
    "sales_genre = new_df.pivot_table(index='year_of_release', columns='genre', values='total_sales', aggfunc='sum')\\\n",
    "    .plot(style='o-', grid=True, figsize=(20, 5))"
   ]
  },
  {
   "cell_type": "code",
   "execution_count": 45,
   "metadata": {},
   "outputs": [
    {
     "data": {
      "text/html": [
       "<div>\n",
       "<style scoped>\n",
       "    .dataframe tbody tr th:only-of-type {\n",
       "        vertical-align: middle;\n",
       "    }\n",
       "\n",
       "    .dataframe tbody tr th {\n",
       "        vertical-align: top;\n",
       "    }\n",
       "\n",
       "    .dataframe thead th {\n",
       "        text-align: right;\n",
       "    }\n",
       "</style>\n",
       "<table border=\"1\" class=\"dataframe\">\n",
       "  <thead>\n",
       "    <tr style=\"text-align: right;\">\n",
       "      <th></th>\n",
       "      <th>total_sales</th>\n",
       "    </tr>\n",
       "    <tr>\n",
       "      <th>genre</th>\n",
       "      <th></th>\n",
       "    </tr>\n",
       "  </thead>\n",
       "  <tbody>\n",
       "    <tr>\n",
       "      <td>Action</td>\n",
       "      <td>673.09</td>\n",
       "    </tr>\n",
       "    <tr>\n",
       "      <td>Shooter</td>\n",
       "      <td>479.74</td>\n",
       "    </tr>\n",
       "    <tr>\n",
       "      <td>Sports</td>\n",
       "      <td>328.39</td>\n",
       "    </tr>\n",
       "    <tr>\n",
       "      <td>Role-Playing</td>\n",
       "      <td>315.28</td>\n",
       "    </tr>\n",
       "    <tr>\n",
       "      <td>Misc</td>\n",
       "      <td>234.56</td>\n",
       "    </tr>\n",
       "    <tr>\n",
       "      <td>Racing</td>\n",
       "      <td>122.68</td>\n",
       "    </tr>\n",
       "    <tr>\n",
       "      <td>Platform</td>\n",
       "      <td>119.72</td>\n",
       "    </tr>\n",
       "    <tr>\n",
       "      <td>Fighting</td>\n",
       "      <td>81.59</td>\n",
       "    </tr>\n",
       "    <tr>\n",
       "      <td>Simulation</td>\n",
       "      <td>71.75</td>\n",
       "    </tr>\n",
       "    <tr>\n",
       "      <td>Adventure</td>\n",
       "      <td>61.00</td>\n",
       "    </tr>\n",
       "    <tr>\n",
       "      <td>Strategy</td>\n",
       "      <td>35.84</td>\n",
       "    </tr>\n",
       "    <tr>\n",
       "      <td>Puzzle</td>\n",
       "      <td>20.60</td>\n",
       "    </tr>\n",
       "  </tbody>\n",
       "</table>\n",
       "</div>"
      ],
      "text/plain": [
       "              total_sales\n",
       "genre                    \n",
       "Action             673.09\n",
       "Shooter            479.74\n",
       "Sports             328.39\n",
       "Role-Playing       315.28\n",
       "Misc               234.56\n",
       "Racing             122.68\n",
       "Platform           119.72\n",
       "Fighting            81.59\n",
       "Simulation          71.75\n",
       "Adventure           61.00\n",
       "Strategy            35.84\n",
       "Puzzle              20.60"
      ]
     },
     "execution_count": 45,
     "metadata": {},
     "output_type": "execute_result"
    }
   ],
   "source": [
    "top_genre"
   ]
  },
  {
   "cell_type": "markdown",
   "metadata": {},
   "source": [
    "\n",
    "Самые продаваемые жанры: Action, Shooter, Sports, Role-Playing, Misc. \n",
    "Puzzle\tи Strategy не пользуются большим спросом.\n"
   ]
  },
  {
   "cell_type": "markdown",
   "metadata": {},
   "source": [
    "## Портрет пользователя каждого региона<a name=\"part_3\"></a>"
   ]
  },
  {
   "cell_type": "markdown",
   "metadata": {},
   "source": [
    "###  Портрет пользователя региона Северная Америка:<a name=\"part_4\"></a>"
   ]
  },
  {
   "cell_type": "code",
   "execution_count": 46,
   "metadata": {},
   "outputs": [
    {
     "data": {
      "text/html": [
       "<div>\n",
       "<style scoped>\n",
       "    .dataframe tbody tr th:only-of-type {\n",
       "        vertical-align: middle;\n",
       "    }\n",
       "\n",
       "    .dataframe tbody tr th {\n",
       "        vertical-align: top;\n",
       "    }\n",
       "\n",
       "    .dataframe thead th {\n",
       "        text-align: right;\n",
       "    }\n",
       "</style>\n",
       "<table border=\"1\" class=\"dataframe\">\n",
       "  <thead>\n",
       "    <tr style=\"text-align: right;\">\n",
       "      <th></th>\n",
       "      <th>na_sales</th>\n",
       "    </tr>\n",
       "    <tr>\n",
       "      <th>platform</th>\n",
       "      <th></th>\n",
       "    </tr>\n",
       "  </thead>\n",
       "  <tbody>\n",
       "    <tr>\n",
       "      <td>X360</td>\n",
       "      <td>334.18</td>\n",
       "    </tr>\n",
       "    <tr>\n",
       "      <td>PS3</td>\n",
       "      <td>229.25</td>\n",
       "    </tr>\n",
       "    <tr>\n",
       "      <td>Wii</td>\n",
       "      <td>121.20</td>\n",
       "    </tr>\n",
       "    <tr>\n",
       "      <td>PS4</td>\n",
       "      <td>108.74</td>\n",
       "    </tr>\n",
       "    <tr>\n",
       "      <td>XOne</td>\n",
       "      <td>93.12</td>\n",
       "    </tr>\n",
       "  </tbody>\n",
       "</table>\n",
       "</div>"
      ],
      "text/plain": [
       "          na_sales\n",
       "platform          \n",
       "X360        334.18\n",
       "PS3         229.25\n",
       "Wii         121.20\n",
       "PS4         108.74\n",
       "XOne         93.12"
      ]
     },
     "execution_count": 46,
     "metadata": {},
     "output_type": "execute_result"
    }
   ],
   "source": [
    "# Самые популярные платформы (топ-5)\n",
    "\n",
    "new_df.pivot_table(index = 'platform', values = 'na_sales', aggfunc = 'sum').sort_values(by ='na_sales',ascending = False).head()"
   ]
  },
  {
   "cell_type": "code",
   "execution_count": 47,
   "metadata": {},
   "outputs": [
    {
     "data": {
      "text/html": [
       "<div>\n",
       "<style scoped>\n",
       "    .dataframe tbody tr th:only-of-type {\n",
       "        vertical-align: middle;\n",
       "    }\n",
       "\n",
       "    .dataframe tbody tr th {\n",
       "        vertical-align: top;\n",
       "    }\n",
       "\n",
       "    .dataframe thead th {\n",
       "        text-align: right;\n",
       "    }\n",
       "</style>\n",
       "<table border=\"1\" class=\"dataframe\">\n",
       "  <thead>\n",
       "    <tr style=\"text-align: right;\">\n",
       "      <th></th>\n",
       "      <th>na_sales</th>\n",
       "    </tr>\n",
       "    <tr>\n",
       "      <th>genre</th>\n",
       "      <th></th>\n",
       "    </tr>\n",
       "  </thead>\n",
       "  <tbody>\n",
       "    <tr>\n",
       "      <td>Action</td>\n",
       "      <td>290.64</td>\n",
       "    </tr>\n",
       "    <tr>\n",
       "      <td>Shooter</td>\n",
       "      <td>237.47</td>\n",
       "    </tr>\n",
       "    <tr>\n",
       "      <td>Sports</td>\n",
       "      <td>156.81</td>\n",
       "    </tr>\n",
       "    <tr>\n",
       "      <td>Misc</td>\n",
       "      <td>123.80</td>\n",
       "    </tr>\n",
       "    <tr>\n",
       "      <td>Role-Playing</td>\n",
       "      <td>112.05</td>\n",
       "    </tr>\n",
       "  </tbody>\n",
       "</table>\n",
       "</div>"
      ],
      "text/plain": [
       "              na_sales\n",
       "genre                 \n",
       "Action          290.64\n",
       "Shooter         237.47\n",
       "Sports          156.81\n",
       "Misc            123.80\n",
       "Role-Playing    112.05"
      ]
     },
     "execution_count": 47,
     "metadata": {},
     "output_type": "execute_result"
    }
   ],
   "source": [
    "# Самые популярные жанры (топ-5)\n",
    "\n",
    "new_df.pivot_table(index = 'genre', values = 'na_sales', aggfunc = 'sum').sort_values(by ='na_sales',ascending = False).head()"
   ]
  },
  {
   "cell_type": "code",
   "execution_count": 48,
   "metadata": {},
   "outputs": [
    {
     "data": {
      "text/html": [
       "<div>\n",
       "<style scoped>\n",
       "    .dataframe tbody tr th:only-of-type {\n",
       "        vertical-align: middle;\n",
       "    }\n",
       "\n",
       "    .dataframe tbody tr th {\n",
       "        vertical-align: top;\n",
       "    }\n",
       "\n",
       "    .dataframe thead th {\n",
       "        text-align: right;\n",
       "    }\n",
       "</style>\n",
       "<table border=\"1\" class=\"dataframe\">\n",
       "  <thead>\n",
       "    <tr style=\"text-align: right;\">\n",
       "      <th></th>\n",
       "      <th>na_sales</th>\n",
       "    </tr>\n",
       "    <tr>\n",
       "      <th>rating</th>\n",
       "      <th></th>\n",
       "    </tr>\n",
       "  </thead>\n",
       "  <tbody>\n",
       "    <tr>\n",
       "      <td>M</td>\n",
       "      <td>382.22</td>\n",
       "    </tr>\n",
       "    <tr>\n",
       "      <td>E</td>\n",
       "      <td>271.15</td>\n",
       "    </tr>\n",
       "    <tr>\n",
       "      <td>T</td>\n",
       "      <td>160.81</td>\n",
       "    </tr>\n",
       "    <tr>\n",
       "      <td>E10+</td>\n",
       "      <td>159.38</td>\n",
       "    </tr>\n",
       "    <tr>\n",
       "      <td>EC</td>\n",
       "      <td>1.13</td>\n",
       "    </tr>\n",
       "    <tr>\n",
       "      <td>RP</td>\n",
       "      <td>0.00</td>\n",
       "    </tr>\n",
       "  </tbody>\n",
       "</table>\n",
       "</div>"
      ],
      "text/plain": [
       "        na_sales\n",
       "rating          \n",
       "M         382.22\n",
       "E         271.15\n",
       "T         160.81\n",
       "E10+      159.38\n",
       "EC          1.13\n",
       "RP          0.00"
      ]
     },
     "execution_count": 48,
     "metadata": {},
     "output_type": "execute_result"
    }
   ],
   "source": [
    "# Влияние рейтинга ESRB на продажи в регионе\n",
    "\n",
    "new_df.pivot_table(index='rating',  values = 'na_sales', aggfunc = 'sum').sort_values(by ='na_sales',ascending = False)"
   ]
  },
  {
   "cell_type": "markdown",
   "metadata": {},
   "source": [
    "Популярной площадкой для пользователя Северной Америки является Xbox360\n",
    "Лидирующие жанры: Action, Shooter, Sports. Большинство игр с рейтингом \"M\" с возрастным ограничением 17+\n"
   ]
  },
  {
   "cell_type": "markdown",
   "metadata": {},
   "source": [
    "### Портрет пользователя региона Европа:<a name=\"part_5\"></a>"
   ]
  },
  {
   "cell_type": "code",
   "execution_count": 49,
   "metadata": {},
   "outputs": [
    {
     "data": {
      "text/html": [
       "<div>\n",
       "<style scoped>\n",
       "    .dataframe tbody tr th:only-of-type {\n",
       "        vertical-align: middle;\n",
       "    }\n",
       "\n",
       "    .dataframe tbody tr th {\n",
       "        vertical-align: top;\n",
       "    }\n",
       "\n",
       "    .dataframe thead th {\n",
       "        text-align: right;\n",
       "    }\n",
       "</style>\n",
       "<table border=\"1\" class=\"dataframe\">\n",
       "  <thead>\n",
       "    <tr style=\"text-align: right;\">\n",
       "      <th></th>\n",
       "      <th>eu_sales</th>\n",
       "    </tr>\n",
       "    <tr>\n",
       "      <th>platform</th>\n",
       "      <th></th>\n",
       "    </tr>\n",
       "  </thead>\n",
       "  <tbody>\n",
       "    <tr>\n",
       "      <td>PS3</td>\n",
       "      <td>213.60</td>\n",
       "    </tr>\n",
       "    <tr>\n",
       "      <td>X360</td>\n",
       "      <td>163.41</td>\n",
       "    </tr>\n",
       "    <tr>\n",
       "      <td>PS4</td>\n",
       "      <td>141.09</td>\n",
       "    </tr>\n",
       "    <tr>\n",
       "      <td>PC</td>\n",
       "      <td>68.82</td>\n",
       "    </tr>\n",
       "    <tr>\n",
       "      <td>Wii</td>\n",
       "      <td>65.91</td>\n",
       "    </tr>\n",
       "  </tbody>\n",
       "</table>\n",
       "</div>"
      ],
      "text/plain": [
       "          eu_sales\n",
       "platform          \n",
       "PS3         213.60\n",
       "X360        163.41\n",
       "PS4         141.09\n",
       "PC           68.82\n",
       "Wii          65.91"
      ]
     },
     "execution_count": 49,
     "metadata": {},
     "output_type": "execute_result"
    }
   ],
   "source": [
    "# Самые популярные платформы (топ-5)\n",
    "\n",
    "new_df.pivot_table(index = 'platform', values = 'eu_sales', aggfunc = 'sum').sort_values(by ='eu_sales',ascending = False).head()"
   ]
  },
  {
   "cell_type": "code",
   "execution_count": 50,
   "metadata": {},
   "outputs": [
    {
     "data": {
      "text/html": [
       "<div>\n",
       "<style scoped>\n",
       "    .dataframe tbody tr th:only-of-type {\n",
       "        vertical-align: middle;\n",
       "    }\n",
       "\n",
       "    .dataframe tbody tr th {\n",
       "        vertical-align: top;\n",
       "    }\n",
       "\n",
       "    .dataframe thead th {\n",
       "        text-align: right;\n",
       "    }\n",
       "</style>\n",
       "<table border=\"1\" class=\"dataframe\">\n",
       "  <thead>\n",
       "    <tr style=\"text-align: right;\">\n",
       "      <th></th>\n",
       "      <th>eu_sales</th>\n",
       "    </tr>\n",
       "    <tr>\n",
       "      <th>genre</th>\n",
       "      <th></th>\n",
       "    </tr>\n",
       "  </thead>\n",
       "  <tbody>\n",
       "    <tr>\n",
       "      <td>Action</td>\n",
       "      <td>233.63</td>\n",
       "    </tr>\n",
       "    <tr>\n",
       "      <td>Shooter</td>\n",
       "      <td>171.45</td>\n",
       "    </tr>\n",
       "    <tr>\n",
       "      <td>Sports</td>\n",
       "      <td>116.84</td>\n",
       "    </tr>\n",
       "    <tr>\n",
       "      <td>Role-Playing</td>\n",
       "      <td>75.48</td>\n",
       "    </tr>\n",
       "    <tr>\n",
       "      <td>Misc</td>\n",
       "      <td>66.09</td>\n",
       "    </tr>\n",
       "  </tbody>\n",
       "</table>\n",
       "</div>"
      ],
      "text/plain": [
       "              eu_sales\n",
       "genre                 \n",
       "Action          233.63\n",
       "Shooter         171.45\n",
       "Sports          116.84\n",
       "Role-Playing     75.48\n",
       "Misc             66.09"
      ]
     },
     "execution_count": 50,
     "metadata": {},
     "output_type": "execute_result"
    }
   ],
   "source": [
    "# Самые популярные жанры (топ-5)\n",
    "\n",
    "new_df.pivot_table(index = 'genre', values = 'eu_sales', aggfunc = 'sum').sort_values(by ='eu_sales',ascending = False).head()"
   ]
  },
  {
   "cell_type": "code",
   "execution_count": 51,
   "metadata": {},
   "outputs": [
    {
     "data": {
      "text/html": [
       "<div>\n",
       "<style scoped>\n",
       "    .dataframe tbody tr th:only-of-type {\n",
       "        vertical-align: middle;\n",
       "    }\n",
       "\n",
       "    .dataframe tbody tr th {\n",
       "        vertical-align: top;\n",
       "    }\n",
       "\n",
       "    .dataframe thead th {\n",
       "        text-align: right;\n",
       "    }\n",
       "</style>\n",
       "<table border=\"1\" class=\"dataframe\">\n",
       "  <thead>\n",
       "    <tr style=\"text-align: right;\">\n",
       "      <th></th>\n",
       "      <th>eu_sales</th>\n",
       "    </tr>\n",
       "    <tr>\n",
       "      <th>rating</th>\n",
       "      <th></th>\n",
       "    </tr>\n",
       "  </thead>\n",
       "  <tbody>\n",
       "    <tr>\n",
       "      <td>M</td>\n",
       "      <td>292.04</td>\n",
       "    </tr>\n",
       "    <tr>\n",
       "      <td>E</td>\n",
       "      <td>197.34</td>\n",
       "    </tr>\n",
       "    <tr>\n",
       "      <td>T</td>\n",
       "      <td>113.08</td>\n",
       "    </tr>\n",
       "    <tr>\n",
       "      <td>E10+</td>\n",
       "      <td>99.28</td>\n",
       "    </tr>\n",
       "    <tr>\n",
       "      <td>RP</td>\n",
       "      <td>0.03</td>\n",
       "    </tr>\n",
       "    <tr>\n",
       "      <td>EC</td>\n",
       "      <td>0.00</td>\n",
       "    </tr>\n",
       "  </tbody>\n",
       "</table>\n",
       "</div>"
      ],
      "text/plain": [
       "        eu_sales\n",
       "rating          \n",
       "M         292.04\n",
       "E         197.34\n",
       "T         113.08\n",
       "E10+       99.28\n",
       "RP          0.03\n",
       "EC          0.00"
      ]
     },
     "execution_count": 51,
     "metadata": {},
     "output_type": "execute_result"
    }
   ],
   "source": [
    "# Влияние рейтинга ESRB на продажи в регионе\n",
    "\n",
    "new_df.pivot_table(index='rating',  values = 'eu_sales', aggfunc = 'sum').sort_values(by ='eu_sales',ascending = False)"
   ]
  },
  {
   "cell_type": "markdown",
   "metadata": {},
   "source": [
    "Популярной площадкой для пользователя Европы является PS3\n",
    "Лидирующие жанры: Action, Shooter, Sports. Большинство игр с рейтингом \"M\" с возрастным ограничением 17+"
   ]
  },
  {
   "cell_type": "markdown",
   "metadata": {},
   "source": [
    "### Портрет пользователя региона Япония:<a name=\"part_6\"></a>"
   ]
  },
  {
   "cell_type": "code",
   "execution_count": 52,
   "metadata": {},
   "outputs": [
    {
     "data": {
      "text/html": [
       "<div>\n",
       "<style scoped>\n",
       "    .dataframe tbody tr th:only-of-type {\n",
       "        vertical-align: middle;\n",
       "    }\n",
       "\n",
       "    .dataframe tbody tr th {\n",
       "        vertical-align: top;\n",
       "    }\n",
       "\n",
       "    .dataframe thead th {\n",
       "        text-align: right;\n",
       "    }\n",
       "</style>\n",
       "<table border=\"1\" class=\"dataframe\">\n",
       "  <thead>\n",
       "    <tr style=\"text-align: right;\">\n",
       "      <th></th>\n",
       "      <th>jp_sales</th>\n",
       "    </tr>\n",
       "    <tr>\n",
       "      <th>platform</th>\n",
       "      <th></th>\n",
       "    </tr>\n",
       "  </thead>\n",
       "  <tbody>\n",
       "    <tr>\n",
       "      <td>3DS</td>\n",
       "      <td>100.62</td>\n",
       "    </tr>\n",
       "    <tr>\n",
       "      <td>PS3</td>\n",
       "      <td>59.26</td>\n",
       "    </tr>\n",
       "    <tr>\n",
       "      <td>PSP</td>\n",
       "      <td>42.20</td>\n",
       "    </tr>\n",
       "    <tr>\n",
       "      <td>DS</td>\n",
       "      <td>27.90</td>\n",
       "    </tr>\n",
       "    <tr>\n",
       "      <td>PSV</td>\n",
       "      <td>21.84</td>\n",
       "    </tr>\n",
       "  </tbody>\n",
       "</table>\n",
       "</div>"
      ],
      "text/plain": [
       "          jp_sales\n",
       "platform          \n",
       "3DS         100.62\n",
       "PS3          59.26\n",
       "PSP          42.20\n",
       "DS           27.90\n",
       "PSV          21.84"
      ]
     },
     "execution_count": 52,
     "metadata": {},
     "output_type": "execute_result"
    }
   ],
   "source": [
    "# Самые популярные платформы (топ-5)\n",
    "\n",
    "new_df.pivot_table(index = 'platform', values = 'jp_sales', aggfunc = 'sum').sort_values(by ='jp_sales',ascending = False).head()"
   ]
  },
  {
   "cell_type": "code",
   "execution_count": 53,
   "metadata": {},
   "outputs": [
    {
     "data": {
      "text/html": [
       "<div>\n",
       "<style scoped>\n",
       "    .dataframe tbody tr th:only-of-type {\n",
       "        vertical-align: middle;\n",
       "    }\n",
       "\n",
       "    .dataframe tbody tr th {\n",
       "        vertical-align: top;\n",
       "    }\n",
       "\n",
       "    .dataframe thead th {\n",
       "        text-align: right;\n",
       "    }\n",
       "</style>\n",
       "<table border=\"1\" class=\"dataframe\">\n",
       "  <thead>\n",
       "    <tr style=\"text-align: right;\">\n",
       "      <th></th>\n",
       "      <th>jp_sales</th>\n",
       "    </tr>\n",
       "    <tr>\n",
       "      <th>genre</th>\n",
       "      <th></th>\n",
       "    </tr>\n",
       "  </thead>\n",
       "  <tbody>\n",
       "    <tr>\n",
       "      <td>Role-Playing</td>\n",
       "      <td>103.54</td>\n",
       "    </tr>\n",
       "    <tr>\n",
       "      <td>Action</td>\n",
       "      <td>72.20</td>\n",
       "    </tr>\n",
       "    <tr>\n",
       "      <td>Misc</td>\n",
       "      <td>24.29</td>\n",
       "    </tr>\n",
       "    <tr>\n",
       "      <td>Platform</td>\n",
       "      <td>15.81</td>\n",
       "    </tr>\n",
       "    <tr>\n",
       "      <td>Adventure</td>\n",
       "      <td>15.67</td>\n",
       "    </tr>\n",
       "  </tbody>\n",
       "</table>\n",
       "</div>"
      ],
      "text/plain": [
       "              jp_sales\n",
       "genre                 \n",
       "Role-Playing    103.54\n",
       "Action           72.20\n",
       "Misc             24.29\n",
       "Platform         15.81\n",
       "Adventure        15.67"
      ]
     },
     "execution_count": 53,
     "metadata": {},
     "output_type": "execute_result"
    }
   ],
   "source": [
    "# Самые популярные жанры (топ-5)\n",
    "\n",
    "new_df.pivot_table(index = 'genre', values = 'jp_sales', aggfunc = 'sum').sort_values(by ='jp_sales',ascending = False).head()"
   ]
  },
  {
   "cell_type": "code",
   "execution_count": 54,
   "metadata": {},
   "outputs": [
    {
     "data": {
      "text/html": [
       "<div>\n",
       "<style scoped>\n",
       "    .dataframe tbody tr th:only-of-type {\n",
       "        vertical-align: middle;\n",
       "    }\n",
       "\n",
       "    .dataframe tbody tr th {\n",
       "        vertical-align: top;\n",
       "    }\n",
       "\n",
       "    .dataframe thead th {\n",
       "        text-align: right;\n",
       "    }\n",
       "</style>\n",
       "<table border=\"1\" class=\"dataframe\">\n",
       "  <thead>\n",
       "    <tr style=\"text-align: right;\">\n",
       "      <th></th>\n",
       "      <th>jp_sales</th>\n",
       "    </tr>\n",
       "    <tr>\n",
       "      <th>rating</th>\n",
       "      <th></th>\n",
       "    </tr>\n",
       "  </thead>\n",
       "  <tbody>\n",
       "    <tr>\n",
       "      <td>E</td>\n",
       "      <td>47.87</td>\n",
       "    </tr>\n",
       "    <tr>\n",
       "      <td>T</td>\n",
       "      <td>42.11</td>\n",
       "    </tr>\n",
       "    <tr>\n",
       "      <td>M</td>\n",
       "      <td>30.45</td>\n",
       "    </tr>\n",
       "    <tr>\n",
       "      <td>E10+</td>\n",
       "      <td>13.22</td>\n",
       "    </tr>\n",
       "    <tr>\n",
       "      <td>EC</td>\n",
       "      <td>0.00</td>\n",
       "    </tr>\n",
       "    <tr>\n",
       "      <td>RP</td>\n",
       "      <td>0.00</td>\n",
       "    </tr>\n",
       "  </tbody>\n",
       "</table>\n",
       "</div>"
      ],
      "text/plain": [
       "        jp_sales\n",
       "rating          \n",
       "E          47.87\n",
       "T          42.11\n",
       "M          30.45\n",
       "E10+       13.22\n",
       "EC          0.00\n",
       "RP          0.00"
      ]
     },
     "execution_count": 54,
     "metadata": {},
     "output_type": "execute_result"
    }
   ],
   "source": [
    "# Влияние рейтинга ESRB на продажи в регионе\n",
    "\n",
    "new_df.pivot_table(index='rating',  values = 'jp_sales', aggfunc = 'sum').sort_values(by ='jp_sales',ascending = False)"
   ]
  },
  {
   "cell_type": "markdown",
   "metadata": {},
   "source": [
    "Лидирующие жанры: Role-Playing, Action, Misc. Большинство игр с рейтингом \"E\" и \"T\" без возвратных ограничений и с рейтингом T. Можно полагать, что аудитория молодая по сравнению с Европой и Америкой"
   ]
  },
  {
   "cell_type": "markdown",
   "metadata": {},
   "source": [
    "## Проверка гипотез:<a name=\"part_7\"></a>"
   ]
  },
  {
   "cell_type": "markdown",
   "metadata": {},
   "source": [
    "Начнем с формулировки нулевой гипотезы: cредние пользовательские рейтинги платформ Xbox One и PC одинаковые\n",
    "\n",
    "Альтернативная гипотеза для этой H-0 звучит как cредние пользовательские рейтинги платформ Xbox One и PC отличаются"
   ]
  },
  {
   "cell_type": "code",
   "execution_count": 55,
   "metadata": {
    "scrolled": true
   },
   "outputs": [
    {
     "name": "stdout",
     "output_type": "stream",
     "text": [
      "p-значение: 0.980998110649032\n",
      "Не получилось отвергнуть нулевую гипотезу\n"
     ]
    }
   ],
   "source": [
    "users_XOne = new_df.query('(platform == \"XOne\") and (user_score.isna() == False)')['user_score']\n",
    "\n",
    "users_PC = new_df.query('(platform == \"PC\") and (user_score.isna() == False)')['user_score']\n",
    "\n",
    "np.var(users_XOne, ddof=1)\n",
    "\n",
    "np.var(users_PC, ddof=1)\n",
    "\n",
    "\n",
    "\n",
    "alpha = .05 # критический уровень статистической значимости\n",
    "\n",
    "results = st.ttest_ind(\n",
    "    users_XOne, \n",
    "    users_PC,equal_var = True)\n",
    "\n",
    "print('p-значение:', results.pvalue)\n",
    "\n",
    "if (results.pvalue < alpha):\n",
    "    print(\"Отвергаем нулевую гипотезу\")\n",
    "else:\n",
    "    print(\"Не получилось отвергнуть нулевую гипотезу\")"
   ]
  },
  {
   "cell_type": "markdown",
   "metadata": {},
   "source": [
    "Начнем с формулировки нулевой гипотезы: средние пользовательские рейтинги жанров Action  и Sports равны\n",
    "\n",
    "Альтернативная гипотеза для этой H-0 звучит как средние пользовательские рейтинги жанров Action  и Sports отличаются"
   ]
  },
  {
   "cell_type": "code",
   "execution_count": 56,
   "metadata": {
    "scrolled": true
   },
   "outputs": [
    {
     "name": "stdout",
     "output_type": "stream",
     "text": [
      "p-значение: 7.839124224330309e-19\n",
      "Отвергаем нулевую гипотезу\n"
     ]
    }
   ],
   "source": [
    "users_action = new_df.query('(genre == \"Action\") and (user_score.isna() == False)')['user_score']\n",
    "\n",
    "\n",
    "users_sports = new_df.query('(genre == \"Sports\") and (user_score.isna() == False)')['user_score']\n",
    "\n",
    "np.var(users_action, ddof=1)\n",
    "\n",
    "np.var(users_sports, ddof=1)\n",
    "\n",
    "\n",
    "alpha = .05 # критический уровень статистической значимости\n",
    "\n",
    "results = st.ttest_ind(\n",
    "    users_action, \n",
    "    users_sports,equal_var = True)\n",
    "\n",
    "print('p-значение:', results.pvalue)\n",
    "\n",
    "if (results.pvalue < alpha):\n",
    "    print(\"Отвергаем нулевую гипотезу\")\n",
    "else:\n",
    "    print(\"Не получилось отвергнуть нулевую гипотезу\")"
   ]
  },
  {
   "cell_type": "markdown",
   "metadata": {},
   "source": [
    "## Вывод:<a name=\"part_8\"></a>"
   ]
  },
  {
   "cell_type": "markdown",
   "metadata": {},
   "source": [
    "После проведения исследовательский анализ был определен период планирования продаж игр с 2010 по 2016 год \n",
    "В 2017 году следует делать ставку на продажи для платформ: PS4, XOne, X360,PS3,WiiU, 3DS.\n",
    "Основными продаваемыми жанрами будут: Action, Shooter, Sports , Role-playing, Misc\n",
    "Для каждого из регионов составлен потрет пользователя.\n",
    "Популярной площадкой для пользователя Северной Америки является Xbox360\n",
    "Лидирующие жанры: Action, Shooter, Sports. Большинство игр с рейтингом \"M\" с возрастным ограничением 17+\n",
    "Популярной площадкой для пользователя Европы является PS3\n",
    "Лидирующие жанры: Action, Shooter, Sports. Большинство игр с рейтингом \"M\" с возрастным ограничением 17+\n",
    "Популярной площадкой для пользователя Японии является 3DS\n",
    "Лидирующие жанры: Role-Playing, Action, Misc. Большинство игр с рейтингом \"E\" и \"T\" без возвратных ограничений и с рейтингом T. Можно полагать, что аудитория молодая по сравнению с Европой и Америкой\n",
    "Также в ходе исследования были проверены 2 гипотезы:\n",
    "1.\tСредние пользовательские рейтинги платформ Xbox One и PC одинаковые\n",
    "2.\tсредние пользовательские рейтинги жанров Action и Sports отличаются\n"
   ]
  }
 ],
 "metadata": {
  "ExecuteTimeLog": [
   {
    "duration": 1532,
    "start_time": "2021-06-25T17:29:05.299Z"
   },
   {
    "duration": 47,
    "start_time": "2021-06-25T17:29:06.833Z"
   },
   {
    "duration": 21,
    "start_time": "2021-06-25T17:29:06.883Z"
   },
   {
    "duration": 14,
    "start_time": "2021-06-25T17:29:10.165Z"
   },
   {
    "duration": 11,
    "start_time": "2021-06-25T17:29:12.228Z"
   },
   {
    "duration": 23,
    "start_time": "2021-06-25T17:29:15.262Z"
   },
   {
    "duration": 46,
    "start_time": "2021-06-25T17:29:22.756Z"
   },
   {
    "duration": 479,
    "start_time": "2021-06-25T17:32:30.071Z"
   },
   {
    "duration": 6,
    "start_time": "2021-06-25T17:32:34.691Z"
   },
   {
    "duration": 24,
    "start_time": "2021-06-25T17:32:35.336Z"
   },
   {
    "duration": 10,
    "start_time": "2021-06-25T17:33:17.047Z"
   },
   {
    "duration": 4,
    "start_time": "2021-06-25T17:33:17.811Z"
   },
   {
    "duration": 298,
    "start_time": "2021-06-25T17:33:19.246Z"
   },
   {
    "duration": 11,
    "start_time": "2021-06-25T17:33:40.917Z"
   },
   {
    "duration": 9,
    "start_time": "2021-06-25T17:33:41.500Z"
   },
   {
    "duration": 5,
    "start_time": "2021-06-25T17:33:42.724Z"
   },
   {
    "duration": 18,
    "start_time": "2021-06-25T17:34:23.208Z"
   },
   {
    "duration": 322,
    "start_time": "2021-06-25T17:34:23.892Z"
   },
   {
    "duration": 36,
    "start_time": "2021-06-25T17:34:32.176Z"
   },
   {
    "duration": 6,
    "start_time": "2021-06-25T17:34:34.764Z"
   },
   {
    "duration": 26,
    "start_time": "2021-06-25T17:34:46.771Z"
   },
   {
    "duration": 18,
    "start_time": "2021-06-25T17:34:47.686Z"
   },
   {
    "duration": 7,
    "start_time": "2021-06-25T17:34:50.717Z"
   },
   {
    "duration": 23,
    "start_time": "2021-06-25T17:34:53.932Z"
   },
   {
    "duration": 17,
    "start_time": "2021-06-25T17:34:55.559Z"
   },
   {
    "duration": 583,
    "start_time": "2021-06-25T17:36:55.889Z"
   },
   {
    "duration": 8,
    "start_time": "2021-06-25T17:37:16.065Z"
   },
   {
    "duration": 287,
    "start_time": "2021-06-25T17:37:29.541Z"
   },
   {
    "duration": 20,
    "start_time": "2021-06-25T17:37:43.135Z"
   },
   {
    "duration": 5,
    "start_time": "2021-06-25T17:37:44.041Z"
   },
   {
    "duration": 9,
    "start_time": "2021-06-25T17:37:44.653Z"
   },
   {
    "duration": 487,
    "start_time": "2021-06-25T17:37:47.141Z"
   },
   {
    "duration": 11,
    "start_time": "2021-06-25T17:37:53.716Z"
   },
   {
    "duration": 21,
    "start_time": "2021-06-25T17:38:00.383Z"
   },
   {
    "duration": 17,
    "start_time": "2021-06-25T17:38:02.449Z"
   },
   {
    "duration": 11,
    "start_time": "2021-06-25T17:38:03.426Z"
   },
   {
    "duration": 574,
    "start_time": "2021-06-25T17:38:08.501Z"
   },
   {
    "duration": 978,
    "start_time": "2021-06-25T17:38:13.230Z"
   },
   {
    "duration": 4,
    "start_time": "2021-06-25T17:38:48.496Z"
   },
   {
    "duration": 67,
    "start_time": "2021-06-25T17:38:49.258Z"
   },
   {
    "duration": 26,
    "start_time": "2021-06-25T17:38:49.490Z"
   },
   {
    "duration": 16,
    "start_time": "2021-06-25T17:38:49.710Z"
   },
   {
    "duration": 13,
    "start_time": "2021-06-25T17:38:49.926Z"
   },
   {
    "duration": 25,
    "start_time": "2021-06-25T17:38:50.144Z"
   },
   {
    "duration": 48,
    "start_time": "2021-06-25T17:38:50.365Z"
   },
   {
    "duration": 4,
    "start_time": "2021-06-25T17:38:51.789Z"
   },
   {
    "duration": 26,
    "start_time": "2021-06-25T17:38:52.064Z"
   },
   {
    "duration": 11,
    "start_time": "2021-06-25T17:38:53.129Z"
   },
   {
    "duration": 9,
    "start_time": "2021-06-25T17:38:53.725Z"
   },
   {
    "duration": 6,
    "start_time": "2021-06-25T17:38:54.593Z"
   },
   {
    "duration": 19,
    "start_time": "2021-06-25T17:38:55.149Z"
   },
   {
    "duration": 24,
    "start_time": "2021-06-25T17:38:55.453Z"
   },
   {
    "duration": 6,
    "start_time": "2021-06-25T17:38:55.809Z"
   },
   {
    "duration": 21,
    "start_time": "2021-06-25T17:38:56.581Z"
   },
   {
    "duration": 18,
    "start_time": "2021-06-25T17:38:57.081Z"
   },
   {
    "duration": 6,
    "start_time": "2021-06-25T17:38:57.479Z"
   },
   {
    "duration": 25,
    "start_time": "2021-06-25T17:38:58.007Z"
   },
   {
    "duration": 24,
    "start_time": "2021-06-25T17:38:58.360Z"
   },
   {
    "duration": 1543,
    "start_time": "2021-06-25T17:39:00.445Z"
   },
   {
    "duration": 8,
    "start_time": "2021-06-25T17:39:01.991Z"
   },
   {
    "duration": 863,
    "start_time": "2021-06-25T17:39:02.003Z"
   },
   {
    "duration": 20,
    "start_time": "2021-06-25T17:39:02.869Z"
   },
   {
    "duration": 4,
    "start_time": "2021-06-25T17:39:10.814Z"
   },
   {
    "duration": 10,
    "start_time": "2021-06-25T17:39:11.570Z"
   },
   {
    "duration": 894,
    "start_time": "2021-06-25T17:39:12.262Z"
   },
   {
    "duration": 12,
    "start_time": "2021-06-25T17:39:18.353Z"
   },
   {
    "duration": 22,
    "start_time": "2021-06-25T17:39:18.902Z"
   },
   {
    "duration": 19,
    "start_time": "2021-06-25T17:39:21.470Z"
   },
   {
    "duration": 13,
    "start_time": "2021-06-25T17:39:22.538Z"
   },
   {
    "duration": 730,
    "start_time": "2021-06-25T17:39:23.173Z"
   },
   {
    "duration": 1414,
    "start_time": "2021-06-25T17:39:23.921Z"
   },
   {
    "duration": 753,
    "start_time": "2021-06-25T17:39:32.447Z"
   },
   {
    "duration": 679,
    "start_time": "2021-06-25T17:39:50.380Z"
   },
   {
    "duration": 60,
    "start_time": "2021-06-25T17:40:02.197Z"
   },
   {
    "duration": 9,
    "start_time": "2021-06-25T17:40:09.193Z"
   },
   {
    "duration": 11,
    "start_time": "2021-06-25T17:40:16.403Z"
   },
   {
    "duration": 16,
    "start_time": "2021-06-25T17:40:19.243Z"
   },
   {
    "duration": 503,
    "start_time": "2021-06-25T17:40:20.202Z"
   },
   {
    "duration": 503,
    "start_time": "2021-06-25T17:40:32.595Z"
   },
   {
    "duration": 494,
    "start_time": "2021-06-25T17:40:43.610Z"
   },
   {
    "duration": 535,
    "start_time": "2021-06-25T17:40:49.529Z"
   },
   {
    "duration": 40,
    "start_time": "2021-06-25T17:41:02.763Z"
   },
   {
    "duration": 15,
    "start_time": "2021-06-25T17:41:08.828Z"
   },
   {
    "duration": 735,
    "start_time": "2021-06-25T17:41:09.575Z"
   },
   {
    "duration": 10,
    "start_time": "2021-06-25T17:41:13.903Z"
   },
   {
    "duration": 21,
    "start_time": "2021-06-25T17:41:32.232Z"
   },
   {
    "duration": 21,
    "start_time": "2021-06-25T17:41:33.662Z"
   },
   {
    "duration": 20,
    "start_time": "2021-06-25T17:41:34.751Z"
   },
   {
    "duration": 21,
    "start_time": "2021-06-25T17:41:47.390Z"
   },
   {
    "duration": 21,
    "start_time": "2021-06-25T17:41:47.903Z"
   },
   {
    "duration": 21,
    "start_time": "2021-06-25T17:41:48.435Z"
   },
   {
    "duration": 21,
    "start_time": "2021-06-25T17:41:57.889Z"
   },
   {
    "duration": 21,
    "start_time": "2021-06-25T17:41:58.527Z"
   },
   {
    "duration": 21,
    "start_time": "2021-06-25T17:41:59.322Z"
   },
   {
    "duration": 22,
    "start_time": "2021-06-25T17:42:08.681Z"
   },
   {
    "duration": 26,
    "start_time": "2021-06-25T17:42:12.567Z"
   },
   {
    "duration": 4,
    "start_time": "2021-06-25T18:03:24.895Z"
   },
   {
    "duration": 45,
    "start_time": "2021-06-25T18:03:33.155Z"
   },
   {
    "duration": 19,
    "start_time": "2021-06-25T18:03:34.194Z"
   },
   {
    "duration": 14,
    "start_time": "2021-06-25T18:03:34.681Z"
   },
   {
    "duration": 12,
    "start_time": "2021-06-25T18:03:38.955Z"
   },
   {
    "duration": 28,
    "start_time": "2021-06-25T18:03:41.282Z"
   },
   {
    "duration": 59,
    "start_time": "2021-06-25T18:03:41.912Z"
   },
   {
    "duration": 4,
    "start_time": "2021-06-25T18:04:46.488Z"
   },
   {
    "duration": 24,
    "start_time": "2021-06-25T18:04:47.078Z"
   },
   {
    "duration": 1380,
    "start_time": "2021-06-25T18:15:59.400Z"
   },
   {
    "duration": 49,
    "start_time": "2021-06-25T18:16:00.784Z"
   },
   {
    "duration": 25,
    "start_time": "2021-06-25T18:16:00.837Z"
   },
   {
    "duration": 15,
    "start_time": "2021-06-25T18:16:00.882Z"
   },
   {
    "duration": 15,
    "start_time": "2021-06-25T18:16:00.900Z"
   },
   {
    "duration": 30,
    "start_time": "2021-06-25T18:16:00.917Z"
   },
   {
    "duration": 72,
    "start_time": "2021-06-25T18:16:00.949Z"
   },
   {
    "duration": 4,
    "start_time": "2021-06-25T18:16:01.023Z"
   },
   {
    "duration": 38,
    "start_time": "2021-06-25T18:16:01.031Z"
   },
   {
    "duration": 19,
    "start_time": "2021-06-25T18:16:01.073Z"
   },
   {
    "duration": 19,
    "start_time": "2021-06-25T18:16:01.095Z"
   },
   {
    "duration": 16,
    "start_time": "2021-06-25T18:16:01.117Z"
   },
   {
    "duration": 33,
    "start_time": "2021-06-25T18:16:01.136Z"
   },
   {
    "duration": 33,
    "start_time": "2021-06-25T18:16:01.172Z"
   },
   {
    "duration": 6,
    "start_time": "2021-06-25T18:16:01.207Z"
   },
   {
    "duration": 28,
    "start_time": "2021-06-25T18:16:01.216Z"
   },
   {
    "duration": 31,
    "start_time": "2021-06-25T18:16:01.247Z"
   },
   {
    "duration": 20,
    "start_time": "2021-06-25T18:16:01.283Z"
   },
   {
    "duration": 42,
    "start_time": "2021-06-25T18:16:01.306Z"
   },
   {
    "duration": 19,
    "start_time": "2021-06-25T18:16:01.351Z"
   },
   {
    "duration": 527,
    "start_time": "2021-06-25T18:16:01.373Z"
   },
   {
    "duration": 7,
    "start_time": "2021-06-25T18:16:01.903Z"
   },
   {
    "duration": 302,
    "start_time": "2021-06-25T18:16:01.912Z"
   },
   {
    "duration": 14,
    "start_time": "2021-06-25T18:16:02.217Z"
   },
   {
    "duration": 6,
    "start_time": "2021-06-25T18:16:02.233Z"
   },
   {
    "duration": 16,
    "start_time": "2021-06-25T18:16:02.242Z"
   },
   {
    "duration": 583,
    "start_time": "2021-06-25T18:16:02.285Z"
   },
   {
    "duration": 19,
    "start_time": "2021-06-25T18:16:02.871Z"
   },
   {
    "duration": 23,
    "start_time": "2021-06-25T18:16:02.892Z"
   },
   {
    "duration": 17,
    "start_time": "2021-06-25T18:16:02.917Z"
   },
   {
    "duration": 11,
    "start_time": "2021-06-25T18:16:02.936Z"
   },
   {
    "duration": 567,
    "start_time": "2021-06-25T18:16:02.950Z"
   },
   {
    "duration": 938,
    "start_time": "2021-06-25T18:16:03.520Z"
   },
   {
    "duration": 743,
    "start_time": "2021-06-25T18:16:04.460Z"
   },
   {
    "duration": 54,
    "start_time": "2021-06-25T18:16:05.205Z"
   },
   {
    "duration": 26,
    "start_time": "2021-06-25T18:16:05.261Z"
   },
   {
    "duration": 15,
    "start_time": "2021-06-25T18:16:05.289Z"
   },
   {
    "duration": 15,
    "start_time": "2021-06-25T18:16:05.307Z"
   },
   {
    "duration": 509,
    "start_time": "2021-06-25T18:16:05.325Z"
   },
   {
    "duration": 482,
    "start_time": "2021-06-25T18:16:05.837Z"
   },
   {
    "duration": 502,
    "start_time": "2021-06-25T18:16:06.321Z"
   },
   {
    "duration": 35,
    "start_time": "2021-06-25T18:16:06.825Z"
   },
   {
    "duration": 32,
    "start_time": "2021-06-25T18:16:06.862Z"
   },
   {
    "duration": 702,
    "start_time": "2021-06-25T18:16:06.896Z"
   },
   {
    "duration": 10,
    "start_time": "2021-06-25T18:16:07.601Z"
   },
   {
    "duration": 21,
    "start_time": "2021-06-25T18:16:07.613Z"
   },
   {
    "duration": 49,
    "start_time": "2021-06-25T18:16:07.637Z"
   },
   {
    "duration": 20,
    "start_time": "2021-06-25T18:16:07.689Z"
   },
   {
    "duration": 21,
    "start_time": "2021-06-25T18:16:07.711Z"
   },
   {
    "duration": 58,
    "start_time": "2021-06-25T18:16:07.735Z"
   },
   {
    "duration": 19,
    "start_time": "2021-06-25T18:16:07.796Z"
   },
   {
    "duration": 19,
    "start_time": "2021-06-25T18:16:07.818Z"
   },
   {
    "duration": 52,
    "start_time": "2021-06-25T18:16:07.839Z"
   },
   {
    "duration": 20,
    "start_time": "2021-06-25T18:16:07.894Z"
   },
   {
    "duration": 21,
    "start_time": "2021-06-25T18:16:07.916Z"
   },
   {
    "duration": 56,
    "start_time": "2021-06-25T18:16:07.940Z"
   },
   {
    "duration": 4,
    "start_time": "2021-06-25T18:16:51.337Z"
   },
   {
    "duration": 48,
    "start_time": "2021-06-25T18:16:51.772Z"
   },
   {
    "duration": 19,
    "start_time": "2021-06-25T18:16:52.729Z"
   },
   {
    "duration": 14,
    "start_time": "2021-06-25T18:16:53.352Z"
   },
   {
    "duration": 12,
    "start_time": "2021-06-25T18:16:53.980Z"
   },
   {
    "duration": 24,
    "start_time": "2021-06-25T18:16:54.764Z"
   },
   {
    "duration": 43,
    "start_time": "2021-06-25T18:16:55.347Z"
   },
   {
    "duration": 5,
    "start_time": "2021-06-25T18:16:57.912Z"
   },
   {
    "duration": 22,
    "start_time": "2021-06-25T18:16:59.105Z"
   },
   {
    "duration": 11,
    "start_time": "2021-06-25T18:16:59.560Z"
   },
   {
    "duration": 10,
    "start_time": "2021-06-25T18:17:00.129Z"
   },
   {
    "duration": 6,
    "start_time": "2021-06-25T18:17:00.529Z"
   },
   {
    "duration": 18,
    "start_time": "2021-06-25T18:17:00.903Z"
   },
   {
    "duration": 25,
    "start_time": "2021-06-25T18:17:01.409Z"
   },
   {
    "duration": 6,
    "start_time": "2021-06-25T18:17:01.992Z"
   },
   {
    "duration": 20,
    "start_time": "2021-06-25T18:17:02.625Z"
   },
   {
    "duration": 13,
    "start_time": "2021-06-25T18:17:03.129Z"
   },
   {
    "duration": 6,
    "start_time": "2021-06-25T18:17:03.668Z"
   },
   {
    "duration": 24,
    "start_time": "2021-06-25T18:17:04.270Z"
   },
   {
    "duration": 17,
    "start_time": "2021-06-25T18:17:04.897Z"
   },
   {
    "duration": 1006,
    "start_time": "2021-06-25T18:17:12.113Z"
   },
   {
    "duration": 5,
    "start_time": "2021-06-25T18:17:13.122Z"
   },
   {
    "duration": 868,
    "start_time": "2021-06-25T18:17:14.097Z"
   },
   {
    "duration": 21,
    "start_time": "2021-06-25T18:17:15.087Z"
   },
   {
    "duration": 4,
    "start_time": "2021-06-25T18:17:15.424Z"
   },
   {
    "duration": 9,
    "start_time": "2021-06-25T18:17:15.857Z"
   },
   {
    "duration": 596,
    "start_time": "2021-06-25T18:17:16.256Z"
   },
   {
    "duration": 10,
    "start_time": "2021-06-25T18:17:17.010Z"
   },
   {
    "duration": 20,
    "start_time": "2021-06-25T18:17:17.605Z"
   },
   {
    "duration": 14,
    "start_time": "2021-06-25T18:17:18.010Z"
   },
   {
    "duration": 9,
    "start_time": "2021-06-25T18:17:18.441Z"
   },
   {
    "duration": 663,
    "start_time": "2021-06-25T18:17:18.953Z"
   },
   {
    "duration": 1267,
    "start_time": "2021-06-25T18:17:19.619Z"
   },
   {
    "duration": 701,
    "start_time": "2021-06-25T18:17:20.889Z"
   },
   {
    "duration": 58,
    "start_time": "2021-06-25T18:17:21.592Z"
   },
   {
    "duration": 10,
    "start_time": "2021-06-25T18:17:23.010Z"
   },
   {
    "duration": 11,
    "start_time": "2021-06-25T18:17:23.373Z"
   },
   {
    "duration": 11,
    "start_time": "2021-06-25T18:17:23.824Z"
   },
   {
    "duration": 485,
    "start_time": "2021-06-25T18:17:24.305Z"
   },
   {
    "duration": 489,
    "start_time": "2021-06-25T18:17:24.793Z"
   },
   {
    "duration": 501,
    "start_time": "2021-06-25T18:17:25.285Z"
   },
   {
    "duration": 32,
    "start_time": "2021-06-25T18:17:26.094Z"
   },
   {
    "duration": 14,
    "start_time": "2021-06-25T18:17:27.145Z"
   },
   {
    "duration": 756,
    "start_time": "2021-06-25T18:17:27.621Z"
   },
   {
    "duration": 12,
    "start_time": "2021-06-25T18:17:28.379Z"
   },
   {
    "duration": 21,
    "start_time": "2021-06-25T18:20:25.946Z"
   },
   {
    "duration": 19,
    "start_time": "2021-06-25T18:20:27.519Z"
   },
   {
    "duration": 19,
    "start_time": "2021-06-25T18:20:28.215Z"
   },
   {
    "duration": 1421,
    "start_time": "2021-06-25T18:23:43.651Z"
   },
   {
    "duration": 47,
    "start_time": "2021-06-25T18:23:45.075Z"
   },
   {
    "duration": 23,
    "start_time": "2021-06-25T18:23:45.125Z"
   },
   {
    "duration": 14,
    "start_time": "2021-06-25T18:23:45.150Z"
   },
   {
    "duration": 11,
    "start_time": "2021-06-25T18:23:45.184Z"
   },
   {
    "duration": 21,
    "start_time": "2021-06-25T18:23:45.197Z"
   },
   {
    "duration": 70,
    "start_time": "2021-06-25T18:23:45.220Z"
   },
   {
    "duration": 4,
    "start_time": "2021-06-25T18:23:45.294Z"
   },
   {
    "duration": 23,
    "start_time": "2021-06-25T18:23:45.301Z"
   },
   {
    "duration": 10,
    "start_time": "2021-06-25T18:23:45.327Z"
   },
   {
    "duration": 44,
    "start_time": "2021-06-25T18:23:45.339Z"
   },
   {
    "duration": 6,
    "start_time": "2021-06-25T18:23:45.386Z"
   },
   {
    "duration": 19,
    "start_time": "2021-06-25T18:23:45.394Z"
   },
   {
    "duration": 24,
    "start_time": "2021-06-25T18:23:45.416Z"
   },
   {
    "duration": 6,
    "start_time": "2021-06-25T18:23:45.442Z"
   },
   {
    "duration": 49,
    "start_time": "2021-06-25T18:23:45.451Z"
   },
   {
    "duration": 12,
    "start_time": "2021-06-25T18:23:45.503Z"
   },
   {
    "duration": 5,
    "start_time": "2021-06-25T18:23:45.518Z"
   },
   {
    "duration": 58,
    "start_time": "2021-06-25T18:23:45.526Z"
   },
   {
    "duration": 18,
    "start_time": "2021-06-25T18:23:45.587Z"
   },
   {
    "duration": 642,
    "start_time": "2021-06-25T18:23:45.607Z"
   },
   {
    "duration": 7,
    "start_time": "2021-06-25T18:23:46.251Z"
   },
   {
    "duration": 300,
    "start_time": "2021-06-25T18:23:46.263Z"
   },
   {
    "duration": 24,
    "start_time": "2021-06-25T18:23:46.566Z"
   },
   {
    "duration": 4,
    "start_time": "2021-06-25T18:23:46.593Z"
   },
   {
    "duration": 15,
    "start_time": "2021-06-25T18:23:46.599Z"
   },
   {
    "duration": 493,
    "start_time": "2021-06-25T18:23:46.616Z"
   },
   {
    "duration": 9,
    "start_time": "2021-06-25T18:23:47.111Z"
   },
   {
    "duration": 22,
    "start_time": "2021-06-25T18:23:47.122Z"
   },
   {
    "duration": 42,
    "start_time": "2021-06-25T18:23:47.147Z"
   },
   {
    "duration": 8,
    "start_time": "2021-06-25T18:23:47.192Z"
   },
   {
    "duration": 563,
    "start_time": "2021-06-25T18:23:47.202Z"
   },
   {
    "duration": 931,
    "start_time": "2021-06-25T18:23:47.768Z"
   },
   {
    "duration": 666,
    "start_time": "2021-06-25T18:23:48.702Z"
   },
   {
    "duration": 64,
    "start_time": "2021-06-25T18:23:49.371Z"
   },
   {
    "duration": 8,
    "start_time": "2021-06-25T18:23:49.438Z"
   },
   {
    "duration": 35,
    "start_time": "2021-06-25T18:23:49.449Z"
   },
   {
    "duration": 11,
    "start_time": "2021-06-25T18:23:49.487Z"
   },
   {
    "duration": 495,
    "start_time": "2021-06-25T18:23:49.500Z"
   },
   {
    "duration": 503,
    "start_time": "2021-06-25T18:23:49.998Z"
   },
   {
    "duration": 511,
    "start_time": "2021-06-25T18:23:50.504Z"
   },
   {
    "duration": 35,
    "start_time": "2021-06-25T18:23:51.018Z"
   },
   {
    "duration": 37,
    "start_time": "2021-06-25T18:23:51.056Z"
   },
   {
    "duration": 699,
    "start_time": "2021-06-25T18:23:51.096Z"
   },
   {
    "duration": 9,
    "start_time": "2021-06-25T18:23:51.797Z"
   },
   {
    "duration": 21,
    "start_time": "2021-06-25T18:23:51.808Z"
   },
   {
    "duration": 18,
    "start_time": "2021-06-25T18:23:51.832Z"
   },
   {
    "duration": 21,
    "start_time": "2021-06-25T18:23:51.884Z"
   },
   {
    "duration": 23,
    "start_time": "2021-06-25T18:23:51.907Z"
   },
   {
    "duration": 52,
    "start_time": "2021-06-25T18:23:51.932Z"
   },
   {
    "duration": 20,
    "start_time": "2021-06-25T18:23:51.987Z"
   },
   {
    "duration": 31,
    "start_time": "2021-06-25T18:23:52.009Z"
   },
   {
    "duration": 18,
    "start_time": "2021-06-25T18:23:52.043Z"
   },
   {
    "duration": 32,
    "start_time": "2021-06-25T18:23:52.064Z"
   },
   {
    "duration": 21,
    "start_time": "2021-06-25T18:23:52.098Z"
   },
   {
    "duration": 29,
    "start_time": "2021-06-25T18:23:52.122Z"
   },
   {
    "duration": 1417,
    "start_time": "2021-06-25T18:28:27.798Z"
   },
   {
    "duration": 46,
    "start_time": "2021-06-25T18:28:29.218Z"
   },
   {
    "duration": 25,
    "start_time": "2021-06-25T18:28:29.267Z"
   },
   {
    "duration": 15,
    "start_time": "2021-06-25T18:28:29.294Z"
   },
   {
    "duration": 22,
    "start_time": "2021-06-25T18:28:29.312Z"
   },
   {
    "duration": 32,
    "start_time": "2021-06-25T18:28:29.337Z"
   },
   {
    "duration": 42,
    "start_time": "2021-06-25T18:28:29.384Z"
   },
   {
    "duration": 4,
    "start_time": "2021-06-25T18:28:29.429Z"
   },
   {
    "duration": 52,
    "start_time": "2021-06-25T18:28:29.437Z"
   },
   {
    "duration": 10,
    "start_time": "2021-06-25T18:28:29.493Z"
   },
   {
    "duration": 17,
    "start_time": "2021-06-25T18:28:29.505Z"
   },
   {
    "duration": 4,
    "start_time": "2021-06-25T18:28:29.525Z"
   },
   {
    "duration": 20,
    "start_time": "2021-06-25T18:28:29.531Z"
   },
   {
    "duration": 24,
    "start_time": "2021-06-25T18:28:29.583Z"
   },
   {
    "duration": 8,
    "start_time": "2021-06-25T18:28:29.609Z"
   },
   {
    "duration": 24,
    "start_time": "2021-06-25T18:28:29.619Z"
   },
   {
    "duration": 43,
    "start_time": "2021-06-25T18:28:29.645Z"
   },
   {
    "duration": 7,
    "start_time": "2021-06-25T18:28:29.691Z"
   },
   {
    "duration": 25,
    "start_time": "2021-06-25T18:28:29.701Z"
   },
   {
    "duration": 56,
    "start_time": "2021-06-25T18:28:29.729Z"
   },
   {
    "duration": 535,
    "start_time": "2021-06-25T18:28:29.788Z"
   },
   {
    "duration": 8,
    "start_time": "2021-06-25T18:28:30.326Z"
   },
   {
    "duration": 300,
    "start_time": "2021-06-25T18:28:30.337Z"
   },
   {
    "duration": 16,
    "start_time": "2021-06-25T18:28:30.639Z"
   },
   {
    "duration": 26,
    "start_time": "2021-06-25T18:28:30.657Z"
   },
   {
    "duration": 25,
    "start_time": "2021-06-25T18:28:30.685Z"
   },
   {
    "duration": 479,
    "start_time": "2021-06-25T18:28:30.716Z"
   },
   {
    "duration": 10,
    "start_time": "2021-06-25T18:28:31.198Z"
   },
   {
    "duration": 32,
    "start_time": "2021-06-25T18:28:31.210Z"
   },
   {
    "duration": 27,
    "start_time": "2021-06-25T18:28:31.245Z"
   },
   {
    "duration": 9,
    "start_time": "2021-06-25T18:28:31.284Z"
   },
   {
    "duration": 701,
    "start_time": "2021-06-25T18:28:31.295Z"
   },
   {
    "duration": 1137,
    "start_time": "2021-06-25T18:28:31.999Z"
   },
   {
    "duration": 683,
    "start_time": "2021-06-25T18:28:33.139Z"
   },
   {
    "duration": 71,
    "start_time": "2021-06-25T18:28:33.824Z"
   },
   {
    "duration": 10,
    "start_time": "2021-06-25T18:28:33.898Z"
   },
   {
    "duration": 14,
    "start_time": "2021-06-25T18:28:33.911Z"
   },
   {
    "duration": 15,
    "start_time": "2021-06-25T18:28:33.927Z"
   },
   {
    "duration": 540,
    "start_time": "2021-06-25T18:28:33.945Z"
   },
   {
    "duration": 487,
    "start_time": "2021-06-25T18:28:34.488Z"
   },
   {
    "duration": 498,
    "start_time": "2021-06-25T18:28:34.977Z"
   },
   {
    "duration": 38,
    "start_time": "2021-06-25T18:28:35.478Z"
   },
   {
    "duration": 17,
    "start_time": "2021-06-25T18:28:35.523Z"
   },
   {
    "duration": 727,
    "start_time": "2021-06-25T18:28:35.542Z"
   },
   {
    "duration": 19,
    "start_time": "2021-06-25T18:28:36.272Z"
   },
   {
    "duration": 30,
    "start_time": "2021-06-25T18:28:36.293Z"
   },
   {
    "duration": 22,
    "start_time": "2021-06-25T18:28:36.325Z"
   },
   {
    "duration": 45,
    "start_time": "2021-06-25T18:28:36.350Z"
   },
   {
    "duration": 29,
    "start_time": "2021-06-25T18:28:36.398Z"
   },
   {
    "duration": 26,
    "start_time": "2021-06-25T18:28:36.429Z"
   },
   {
    "duration": 34,
    "start_time": "2021-06-25T18:28:36.457Z"
   },
   {
    "duration": 19,
    "start_time": "2021-06-25T18:28:36.493Z"
   },
   {
    "duration": 29,
    "start_time": "2021-06-25T18:28:36.515Z"
   },
   {
    "duration": 43,
    "start_time": "2021-06-25T18:28:36.547Z"
   },
   {
    "duration": 44,
    "start_time": "2021-06-25T18:28:36.592Z"
   },
   {
    "duration": 29,
    "start_time": "2021-06-25T18:28:36.638Z"
   }
  ],
  "kernelspec": {
   "display_name": "Python 3",
   "language": "python",
   "name": "python3"
  },
  "language_info": {
   "codemirror_mode": {
    "name": "ipython",
    "version": 3
   },
   "file_extension": ".py",
   "mimetype": "text/x-python",
   "name": "python",
   "nbconvert_exporter": "python",
   "pygments_lexer": "ipython3",
   "version": "3.7.8"
  },
  "toc": {
   "base_numbering": 1,
   "nav_menu": {
    "height": "321.992px",
    "width": "459.492px"
   },
   "number_sections": true,
   "sideBar": true,
   "skip_h1_title": true,
   "title_cell": "Table of Contents",
   "title_sidebar": "Contents",
   "toc_cell": false,
   "toc_position": {},
   "toc_section_display": true,
   "toc_window_display": false
  }
 },
 "nbformat": 4,
 "nbformat_minor": 2
}
