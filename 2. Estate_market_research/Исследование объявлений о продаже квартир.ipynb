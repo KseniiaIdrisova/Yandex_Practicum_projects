{
 "cells": [
  {
   "cell_type": "markdown",
   "metadata": {},
   "source": [
    "# Исследование объявлений о продаже квартир"
   ]
  },
  {
   "cell_type": "markdown",
   "metadata": {},
   "source": [
    "# Описание проекта\n",
    "\n",
    "В распоряжении данные сервиса Яндекс.Недвижимость — архив объявлений о продаже квартир в Санкт-Петербурге и соседних населённых пунктах за несколько лет. По каждой квартире на продажу доступны два вида данных. Первые вписаны пользователем, вторые — получены автоматически на основе картографических данных. \n",
    "\n",
    "\n",
    "# Цель: \n",
    "\n",
    "Определить рыночную стоимость объектов недвижимости. Необходимо установить параметры для построения автоматизированной системы отбора аномалий и мошеннических действий.\n",
    "\n",
    "\n"
   ]
  },
  {
   "cell_type": "markdown",
   "metadata": {},
   "source": [
    "# Описание данных:\n",
    "\n",
    "\n",
    "•\t`airports_nearest` — расстояние до ближайшего аэропорта в метрах (м)\n",
    "\n",
    "•\t`balcony` — число балконов\n",
    "\n",
    "•\t`ceiling_height` — высота потолков (м)\n",
    "\n",
    "•\t`cityCenters_nearest` — расстояние до центра города (м)\n",
    "\n",
    "•\t`days_exposition` — сколько дней было размещено объявление (от публикации до снятия)\n",
    "\n",
    "•\t`first_day_exposition` — дата публикации\n",
    "\n",
    "•\t`floor` — этаж\n",
    "\n",
    "•\t`floors_total` — всего этажей в доме\n",
    "\n",
    "•\t`is_apartment` — апартаменты (булев тип)\n",
    "\n",
    "•\t`kitchen_area` — площадь кухни в квадратных метрах (м²)\n",
    "\n",
    "•\t`last_price` — цена на момент снятия с публикации\n",
    "\n",
    "•\t`living_area` — жилая площадь в квадратных метрах(м²)\n",
    "\n",
    "•\t`locality_name` — название населённого пункта\n",
    "\n",
    "•\t`open_plan` — свободная планировка (булев тип)\n",
    "\n",
    "•\t`parks_around3000` — число парков в радиусе 3 км\n",
    "\n",
    "•\t`parks_nearest` — расстояние до ближайшего парка (м)\n",
    "\n",
    "•\t`ponds_around3000` — число водоёмов в радиусе 3 км\n",
    "\n",
    "•\t`ponds_nearest` — расстояние до ближайшего водоёма (м)\n",
    "\n",
    "•\t`rooms` — число комнат\n",
    "\n",
    "•\t`studio` — квартира-студия (булев тип)\n",
    "\n",
    "•\t`total_area` — площадь квартиры в квадратных метрах (м²)\n",
    "\n",
    "•\t`total_images` — число фотографий квартиры в объявлении\n",
    "\n",
    "\n",
    " Пояснение: апартаменты — это нежилые помещения, не относящиеся к жилому фонду, но имеющие необходимые условия для проживания.\n"
   ]
  },
  {
   "cell_type": "markdown",
   "metadata": {},
   "source": [
    "# Оглавление\n",
    "\n",
    "\n",
    "1  [Изучение исходных данных](#part_1)\n",
    "\n",
    "2  [Предобработка данных](#part_2)\n",
    "\n",
    "2.1  [Обработка пропущенные значения](#part_3)\n",
    "\n",
    "2.2  [Замена типа данных](#part_4)\n",
    "\n",
    "3  [Исследовательский анализ данных](#part_5)\n",
    "\n",
    "3.1  [Факторы влияния на продажу и стоимость квартир](#part_6)\n",
    "\n",
    "4  [Общий вывод](#part_7)\n"
   ]
  },
  {
   "cell_type": "markdown",
   "metadata": {},
   "source": [
    "## Изучение исходных данных <a name=\"part_1\"></a>"
   ]
  },
  {
   "cell_type": "code",
   "execution_count": 1,
   "metadata": {},
   "outputs": [],
   "source": [
    "# Получим доступ к библиотеке Pandas, используем имя переменной pd, для построение графикоф импортируем библиотеку matplotlib\n",
    "\n",
    "import pandas as pd\n",
    "import matplotlib.pyplot as plt\n"
   ]
  },
  {
   "cell_type": "code",
   "execution_count": 2,
   "metadata": {},
   "outputs": [],
   "source": [
    "# Чтобы скрыть предупреждия от Jupiter Notebook импортируем библиотеку warnings\n",
    "\n",
    "\n",
    "import warnings\n",
    "\n",
    "warnings.filterwarnings('ignore')"
   ]
  },
  {
   "cell_type": "code",
   "execution_count": 3,
   "metadata": {},
   "outputs": [],
   "source": [
    "df = pd.read_csv('/datasets/real_estate_data.csv',sep = '\\t')"
   ]
  },
  {
   "cell_type": "code",
   "execution_count": 4,
   "metadata": {},
   "outputs": [
    {
     "data": {
      "text/html": [
       "<div>\n",
       "<style scoped>\n",
       "    .dataframe tbody tr th:only-of-type {\n",
       "        vertical-align: middle;\n",
       "    }\n",
       "\n",
       "    .dataframe tbody tr th {\n",
       "        vertical-align: top;\n",
       "    }\n",
       "\n",
       "    .dataframe thead th {\n",
       "        text-align: right;\n",
       "    }\n",
       "</style>\n",
       "<table border=\"1\" class=\"dataframe\">\n",
       "  <thead>\n",
       "    <tr style=\"text-align: right;\">\n",
       "      <th></th>\n",
       "      <th>total_images</th>\n",
       "      <th>last_price</th>\n",
       "      <th>total_area</th>\n",
       "      <th>first_day_exposition</th>\n",
       "      <th>rooms</th>\n",
       "      <th>ceiling_height</th>\n",
       "      <th>floors_total</th>\n",
       "      <th>living_area</th>\n",
       "      <th>floor</th>\n",
       "      <th>is_apartment</th>\n",
       "      <th>...</th>\n",
       "      <th>kitchen_area</th>\n",
       "      <th>balcony</th>\n",
       "      <th>locality_name</th>\n",
       "      <th>airports_nearest</th>\n",
       "      <th>cityCenters_nearest</th>\n",
       "      <th>parks_around3000</th>\n",
       "      <th>parks_nearest</th>\n",
       "      <th>ponds_around3000</th>\n",
       "      <th>ponds_nearest</th>\n",
       "      <th>days_exposition</th>\n",
       "    </tr>\n",
       "  </thead>\n",
       "  <tbody>\n",
       "    <tr>\n",
       "      <td>7102</td>\n",
       "      <td>4</td>\n",
       "      <td>5550000.0</td>\n",
       "      <td>69.30</td>\n",
       "      <td>2018-11-19T00:00:00</td>\n",
       "      <td>2</td>\n",
       "      <td>NaN</td>\n",
       "      <td>19.0</td>\n",
       "      <td>40.0</td>\n",
       "      <td>19</td>\n",
       "      <td>NaN</td>\n",
       "      <td>...</td>\n",
       "      <td>12.0</td>\n",
       "      <td>NaN</td>\n",
       "      <td>Санкт-Петербург</td>\n",
       "      <td>36402.0</td>\n",
       "      <td>16704.0</td>\n",
       "      <td>1.0</td>\n",
       "      <td>624.0</td>\n",
       "      <td>0.0</td>\n",
       "      <td>NaN</td>\n",
       "      <td>18.0</td>\n",
       "    </tr>\n",
       "    <tr>\n",
       "      <td>10125</td>\n",
       "      <td>0</td>\n",
       "      <td>1500000.0</td>\n",
       "      <td>42.20</td>\n",
       "      <td>2016-05-14T00:00:00</td>\n",
       "      <td>2</td>\n",
       "      <td>2.5</td>\n",
       "      <td>4.0</td>\n",
       "      <td>28.3</td>\n",
       "      <td>1</td>\n",
       "      <td>False</td>\n",
       "      <td>...</td>\n",
       "      <td>NaN</td>\n",
       "      <td>NaN</td>\n",
       "      <td>городской посёлок Назия</td>\n",
       "      <td>NaN</td>\n",
       "      <td>NaN</td>\n",
       "      <td>NaN</td>\n",
       "      <td>NaN</td>\n",
       "      <td>NaN</td>\n",
       "      <td>NaN</td>\n",
       "      <td>619.0</td>\n",
       "    </tr>\n",
       "    <tr>\n",
       "      <td>22057</td>\n",
       "      <td>18</td>\n",
       "      <td>5990000.0</td>\n",
       "      <td>51.00</td>\n",
       "      <td>2017-08-08T00:00:00</td>\n",
       "      <td>2</td>\n",
       "      <td>NaN</td>\n",
       "      <td>6.0</td>\n",
       "      <td>26.0</td>\n",
       "      <td>2</td>\n",
       "      <td>NaN</td>\n",
       "      <td>...</td>\n",
       "      <td>15.0</td>\n",
       "      <td>0.0</td>\n",
       "      <td>Санкт-Петербург</td>\n",
       "      <td>31392.0</td>\n",
       "      <td>6038.0</td>\n",
       "      <td>1.0</td>\n",
       "      <td>272.0</td>\n",
       "      <td>2.0</td>\n",
       "      <td>542.0</td>\n",
       "      <td>58.0</td>\n",
       "    </tr>\n",
       "    <tr>\n",
       "      <td>18762</td>\n",
       "      <td>7</td>\n",
       "      <td>1968000.0</td>\n",
       "      <td>43.75</td>\n",
       "      <td>2017-08-21T00:00:00</td>\n",
       "      <td>2</td>\n",
       "      <td>NaN</td>\n",
       "      <td>3.0</td>\n",
       "      <td>33.0</td>\n",
       "      <td>3</td>\n",
       "      <td>NaN</td>\n",
       "      <td>...</td>\n",
       "      <td>6.0</td>\n",
       "      <td>NaN</td>\n",
       "      <td>Всеволожск</td>\n",
       "      <td>NaN</td>\n",
       "      <td>NaN</td>\n",
       "      <td>NaN</td>\n",
       "      <td>NaN</td>\n",
       "      <td>NaN</td>\n",
       "      <td>NaN</td>\n",
       "      <td>144.0</td>\n",
       "    </tr>\n",
       "    <tr>\n",
       "      <td>17434</td>\n",
       "      <td>12</td>\n",
       "      <td>11500000.0</td>\n",
       "      <td>100.30</td>\n",
       "      <td>2017-09-20T00:00:00</td>\n",
       "      <td>2</td>\n",
       "      <td>3.0</td>\n",
       "      <td>8.0</td>\n",
       "      <td>74.0</td>\n",
       "      <td>8</td>\n",
       "      <td>NaN</td>\n",
       "      <td>...</td>\n",
       "      <td>17.0</td>\n",
       "      <td>NaN</td>\n",
       "      <td>Санкт-Петербург</td>\n",
       "      <td>38393.0</td>\n",
       "      <td>11956.0</td>\n",
       "      <td>1.0</td>\n",
       "      <td>204.0</td>\n",
       "      <td>1.0</td>\n",
       "      <td>436.0</td>\n",
       "      <td>NaN</td>\n",
       "    </tr>\n",
       "  </tbody>\n",
       "</table>\n",
       "<p>5 rows × 22 columns</p>\n",
       "</div>"
      ],
      "text/plain": [
       "       total_images  last_price  total_area first_day_exposition  rooms  \\\n",
       "7102              4   5550000.0       69.30  2018-11-19T00:00:00      2   \n",
       "10125             0   1500000.0       42.20  2016-05-14T00:00:00      2   \n",
       "22057            18   5990000.0       51.00  2017-08-08T00:00:00      2   \n",
       "18762             7   1968000.0       43.75  2017-08-21T00:00:00      2   \n",
       "17434            12  11500000.0      100.30  2017-09-20T00:00:00      2   \n",
       "\n",
       "       ceiling_height  floors_total  living_area  floor is_apartment  ...  \\\n",
       "7102              NaN          19.0         40.0     19          NaN  ...   \n",
       "10125             2.5           4.0         28.3      1        False  ...   \n",
       "22057             NaN           6.0         26.0      2          NaN  ...   \n",
       "18762             NaN           3.0         33.0      3          NaN  ...   \n",
       "17434             3.0           8.0         74.0      8          NaN  ...   \n",
       "\n",
       "       kitchen_area  balcony            locality_name  airports_nearest  \\\n",
       "7102           12.0      NaN          Санкт-Петербург           36402.0   \n",
       "10125           NaN      NaN  городской посёлок Назия               NaN   \n",
       "22057          15.0      0.0          Санкт-Петербург           31392.0   \n",
       "18762           6.0      NaN               Всеволожск               NaN   \n",
       "17434          17.0      NaN          Санкт-Петербург           38393.0   \n",
       "\n",
       "      cityCenters_nearest  parks_around3000  parks_nearest  ponds_around3000  \\\n",
       "7102              16704.0               1.0          624.0               0.0   \n",
       "10125                 NaN               NaN            NaN               NaN   \n",
       "22057              6038.0               1.0          272.0               2.0   \n",
       "18762                 NaN               NaN            NaN               NaN   \n",
       "17434             11956.0               1.0          204.0               1.0   \n",
       "\n",
       "       ponds_nearest  days_exposition  \n",
       "7102             NaN             18.0  \n",
       "10125            NaN            619.0  \n",
       "22057          542.0             58.0  \n",
       "18762            NaN            144.0  \n",
       "17434          436.0              NaN  \n",
       "\n",
       "[5 rows x 22 columns]"
      ]
     },
     "execution_count": 4,
     "metadata": {},
     "output_type": "execute_result"
    }
   ],
   "source": [
    "df.sample(5)"
   ]
  },
  {
   "cell_type": "code",
   "execution_count": 5,
   "metadata": {
    "scrolled": true
   },
   "outputs": [
    {
     "name": "stdout",
     "output_type": "stream",
     "text": [
      "<class 'pandas.core.frame.DataFrame'>\n",
      "RangeIndex: 23699 entries, 0 to 23698\n",
      "Data columns (total 22 columns):\n",
      "total_images            23699 non-null int64\n",
      "last_price              23699 non-null float64\n",
      "total_area              23699 non-null float64\n",
      "first_day_exposition    23699 non-null object\n",
      "rooms                   23699 non-null int64\n",
      "ceiling_height          14504 non-null float64\n",
      "floors_total            23613 non-null float64\n",
      "living_area             21796 non-null float64\n",
      "floor                   23699 non-null int64\n",
      "is_apartment            2775 non-null object\n",
      "studio                  23699 non-null bool\n",
      "open_plan               23699 non-null bool\n",
      "kitchen_area            21421 non-null float64\n",
      "balcony                 12180 non-null float64\n",
      "locality_name           23650 non-null object\n",
      "airports_nearest        18157 non-null float64\n",
      "cityCenters_nearest     18180 non-null float64\n",
      "parks_around3000        18181 non-null float64\n",
      "parks_nearest           8079 non-null float64\n",
      "ponds_around3000        18181 non-null float64\n",
      "ponds_nearest           9110 non-null float64\n",
      "days_exposition         20518 non-null float64\n",
      "dtypes: bool(2), float64(14), int64(3), object(3)\n",
      "memory usage: 3.7+ MB\n"
     ]
    }
   ],
   "source": [
    "df.info()"
   ]
  },
  {
   "cell_type": "code",
   "execution_count": 6,
   "metadata": {},
   "outputs": [
    {
     "data": {
      "text/plain": [
       "total_images                0\n",
       "last_price                  0\n",
       "total_area                  0\n",
       "first_day_exposition        0\n",
       "rooms                       0\n",
       "ceiling_height           9195\n",
       "floors_total               86\n",
       "living_area              1903\n",
       "floor                       0\n",
       "is_apartment            20924\n",
       "studio                      0\n",
       "open_plan                   0\n",
       "kitchen_area             2278\n",
       "balcony                 11519\n",
       "locality_name              49\n",
       "airports_nearest         5542\n",
       "cityCenters_nearest      5519\n",
       "parks_around3000         5518\n",
       "parks_nearest           15620\n",
       "ponds_around3000         5518\n",
       "ponds_nearest           14589\n",
       "days_exposition          3181\n",
       "dtype: int64"
      ]
     },
     "execution_count": 6,
     "metadata": {},
     "output_type": "execute_result"
    }
   ],
   "source": [
    "df.isnull().sum() # сумма пропусков"
   ]
  },
  {
   "cell_type": "code",
   "execution_count": 7,
   "metadata": {},
   "outputs": [
    {
     "data": {
      "text/plain": [
       "total_images            0.000000\n",
       "last_price              0.000000\n",
       "total_area              0.000000\n",
       "first_day_exposition    0.000000\n",
       "rooms                   0.000000\n",
       "ceiling_height          0.387991\n",
       "floors_total            0.003629\n",
       "living_area             0.080299\n",
       "floor                   0.000000\n",
       "is_apartment            0.882906\n",
       "studio                  0.000000\n",
       "open_plan               0.000000\n",
       "kitchen_area            0.096122\n",
       "balcony                 0.486054\n",
       "locality_name           0.002068\n",
       "airports_nearest        0.233850\n",
       "cityCenters_nearest     0.232879\n",
       "parks_around3000        0.232837\n",
       "parks_nearest           0.659100\n",
       "ponds_around3000        0.232837\n",
       "ponds_nearest           0.615596\n",
       "days_exposition         0.134225\n",
       "dtype: float64"
      ]
     },
     "execution_count": 7,
     "metadata": {},
     "output_type": "execute_result"
    }
   ],
   "source": [
    "df.isnull().mean() # доля пропусков"
   ]
  },
  {
   "cell_type": "code",
   "execution_count": 8,
   "metadata": {},
   "outputs": [
    {
     "data": {
      "text/plain": [
       "0"
      ]
     },
     "execution_count": 8,
     "metadata": {},
     "output_type": "execute_result"
    }
   ],
   "source": [
    "df.duplicated().sum() # сумма дубликатов"
   ]
  },
  {
   "cell_type": "markdown",
   "metadata": {},
   "source": [
    "# Основные выводы по данным:"
   ]
  },
  {
   "cell_type": "markdown",
   "metadata": {},
   "source": [
    "При прочтении файла оказалось, что строки склеились, проблема решена с помощью разделителя знака табуляции. \n",
    "Столбец `first_day_exposition`  для удобства работы необходимо привести к нужному формату dt\n",
    "Формат столбца `is_apartment ` необходимо заменить на булев тип\n",
    "Стобец  `balcony` тип данных - float64, для удобства приведем к целочисленному формату . \n",
    "Пропущенных значений больше всего: `is_apartment ` ,  `balcony `,  `parks_nearest `,  `ponds_nearest`. \n",
    "Дубликатов нет.\n"
   ]
  },
  {
   "cell_type": "markdown",
   "metadata": {},
   "source": [
    "## Предобработка данных<a name=\"part_2\"></a>"
   ]
  },
  {
   "cell_type": "markdown",
   "metadata": {},
   "source": [
    "### Обработка пропущенные значения<a name=\"part_3\"></a>"
   ]
  },
  {
   "cell_type": "code",
   "execution_count": 9,
   "metadata": {},
   "outputs": [],
   "source": [
    "df['balcony'] = df['balcony'].fillna(0) # замена пропущенных значений на 0"
   ]
  },
  {
   "cell_type": "code",
   "execution_count": 10,
   "metadata": {},
   "outputs": [],
   "source": [
    "df['floors_total'] = df['floors_total'].fillna(0) # замена пропущенных значений на 0"
   ]
  },
  {
   "cell_type": "code",
   "execution_count": 11,
   "metadata": {},
   "outputs": [],
   "source": [
    "median_days_exposition = df['days_exposition'].median() # медианное значение дней публикаций"
   ]
  },
  {
   "cell_type": "code",
   "execution_count": 12,
   "metadata": {},
   "outputs": [],
   "source": [
    "df['days_exposition'] = df['days_exposition'].fillna(median_days_exposition) # замена пропусков"
   ]
  },
  {
   "cell_type": "code",
   "execution_count": 13,
   "metadata": {},
   "outputs": [
    {
     "data": {
      "text/plain": [
       "count    14504.000000\n",
       "mean         2.771499\n",
       "std          1.261056\n",
       "min          1.000000\n",
       "25%          2.520000\n",
       "50%          2.650000\n",
       "75%          2.800000\n",
       "max        100.000000\n",
       "Name: ceiling_height, dtype: float64"
      ]
     },
     "execution_count": 13,
     "metadata": {},
     "output_type": "execute_result"
    }
   ],
   "source": [
    "df['ceiling_height'].describe() # минимальное и максимальное значение высоты потолков настораживает"
   ]
  },
  {
   "cell_type": "code",
   "execution_count": 14,
   "metadata": {},
   "outputs": [],
   "source": [
    "median_ceiling_height = df['ceiling_height'].median() # медианное значение высоты потолков"
   ]
  },
  {
   "cell_type": "code",
   "execution_count": 15,
   "metadata": {},
   "outputs": [],
   "source": [
    "df['ceiling_height'] = df['ceiling_height'].fillna(median_ceiling_height) # замена пропусков"
   ]
  },
  {
   "cell_type": "code",
   "execution_count": 16,
   "metadata": {},
   "outputs": [],
   "source": [
    "df['parks_around3000'] = df['parks_around3000'].fillna(0) # замена пропущенных значений на 0"
   ]
  },
  {
   "cell_type": "code",
   "execution_count": 17,
   "metadata": {},
   "outputs": [],
   "source": [
    "df['ponds_around3000'] = df['ponds_around3000'].fillna(0) # замена пропущенных значений на 0"
   ]
  },
  {
   "cell_type": "markdown",
   "metadata": {},
   "source": [
    "### Замена типа данных<a name=\"part_4\"></a>"
   ]
  },
  {
   "cell_type": "code",
   "execution_count": 18,
   "metadata": {},
   "outputs": [],
   "source": [
    "df['balcony']  = df['balcony'].astype('int')# смена типа данных "
   ]
  },
  {
   "cell_type": "code",
   "execution_count": 19,
   "metadata": {},
   "outputs": [],
   "source": [
    "df['floors_total']  = df['floors_total'].astype('int')# смена типа данных "
   ]
  },
  {
   "cell_type": "code",
   "execution_count": 20,
   "metadata": {},
   "outputs": [],
   "source": [
    "df['first_day_exposition'] = df['first_day_exposition'] = pd.to_datetime(df['first_day_exposition'], format='%Y-%m-%dT%H:%M:%S')# смена типа данных "
   ]
  },
  {
   "cell_type": "code",
   "execution_count": 21,
   "metadata": {},
   "outputs": [
    {
     "data": {
      "text/plain": [
       "False    2725\n",
       "True       50\n",
       "Name: is_apartment, dtype: int64"
      ]
     },
     "execution_count": 21,
     "metadata": {},
     "output_type": "execute_result"
    }
   ],
   "source": [
    "df['is_apartment'].value_counts() # проверка, значения до смены типа данных"
   ]
  },
  {
   "cell_type": "code",
   "execution_count": 22,
   "metadata": {},
   "outputs": [],
   "source": [
    "df['is_apartment'] = df['is_apartment'].map({True: 1, False: 0})"
   ]
  },
  {
   "cell_type": "code",
   "execution_count": 23,
   "metadata": {},
   "outputs": [],
   "source": [
    "df['is_apartment']  = df['is_apartment'].astype('bool') # смена типа данных "
   ]
  },
  {
   "cell_type": "code",
   "execution_count": 24,
   "metadata": {},
   "outputs": [
    {
     "data": {
      "text/plain": [
       "True     20974\n",
       "False     2725\n",
       "Name: is_apartment, dtype: int64"
      ]
     },
     "execution_count": 24,
     "metadata": {},
     "output_type": "execute_result"
    }
   ],
   "source": [
    "df['is_apartment'].value_counts() # проверка, значения после смены данных"
   ]
  },
  {
   "cell_type": "markdown",
   "metadata": {},
   "source": [
    "# Основные выводы по изменениям в данных:\n",
    "\n",
    "Все пропуски типа Nan могут участвовать в математических манипуляциях, поэтому было решено не удалять некоторые значения. В обработке пропусков лучше всего сконцентрироваться в категориях, которые могут повлиять на исследование: площадь, цена, число комнат, высота потолков.\n",
    "\n",
    "1.\tПропуски в `ceiling_height` - пропуски заменены на медианное значение, доля пропусков 38 %. Настораживает минимальное и максимальное значение высоты потолков, данные не реалистичны\n",
    "\n",
    "2.\tПропуски `floors_total` - отсутствие в объявлении кол-во этажей в доме может свидетельствовать о продаже, например, земельного участка без жилой постройки или частных домов с одним этажом. Доля пропусков не значительна, значения заменены на 0.\n",
    "\n",
    "3.\t `living_area` - пропуски типа Nan не помешают метаматематическим действиям, относится к важной категории, было принято оставить пропуски\n",
    "\n",
    "4.\t`is_apartment` - апартаменты -это нежилые помещения, соответственно все пропуски это жилые помещения. Удалив пропуски, потеряем важную информацию.\n",
    "\n",
    "5.\t`kitchen_area` - пропущено значение площади кухни можно объяснить отсутствие кухонь, например, в квартирах-студиях\n",
    "\n",
    "6.\tПропуски в `balcony` - пропущено значение балконов, скорее всего их нет, можно заменить на 0\n",
    "  \n",
    "7.\tПропуски в `airports_nearest` возможно слишком далеко, и эта информация не актуальна для этого населённого пункта\n",
    "\n",
    "8.\tПропуски в `parks_around3000` и `ponds_around3000` совпадают - возможно, нет парков и водоемов\n",
    "\n",
    "9.\tПропуски `days_exposition` - пропуск могу возникнуть из-за того, что объявление несколько раз размещали и удаляли на площадке (например, из-за неудачной сделки) - принято решение пропуск заполнить медианным значение\n",
    "\n",
    "\n",
    "11.  Приведение к целочисленном типу столбцов: `balcony`, `floors_total`. К булев типу - `is_apartment`, к типу datetime столбец с датой.\n"
   ]
  },
  {
   "cell_type": "markdown",
   "metadata": {},
   "source": [
    "## Исследовательский анализ данных<a name=\"part_5\"></a>"
   ]
  },
  {
   "cell_type": "code",
   "execution_count": 25,
   "metadata": {},
   "outputs": [],
   "source": [
    "# добавим в таблицу цену квадратного метра\n",
    "\n",
    "df['price_per_meter'] = df['last_price'] / df['total_area']"
   ]
  },
  {
   "cell_type": "code",
   "execution_count": 26,
   "metadata": {},
   "outputs": [],
   "source": [
    "# добавbv в таблицу: день недели, месяц и год публикации объявления\n",
    "\n",
    "df['weekday_publication'] = df['first_day_exposition'].dt.weekday\n",
    "df['month_publication'] = df['first_day_exposition'].dt.month\n",
    "df['year_publication'] = df['first_day_exposition'].dt.year"
   ]
  },
  {
   "cell_type": "code",
   "execution_count": 27,
   "metadata": {},
   "outputs": [],
   "source": [
    "# Назначим функцию floor_category которая будет категоризировать значения этажа.\n",
    "\n",
    "\n",
    "def floor_category(row):\n",
    "    if row['floor'] == 1:\n",
    "        return 'первый'\n",
    "    if row['floor'] == row['floors_total']:\n",
    "        return 'последний'\n",
    "    else:\n",
    "        return 'другой'        \n",
    "        \n",
    "df['floor_category'] = df.apply(floor_category, axis = 1) # создание нового столбца в таблице"
   ]
  },
  {
   "cell_type": "code",
   "execution_count": 28,
   "metadata": {
    "scrolled": true
   },
   "outputs": [
    {
     "data": {
      "text/plain": [
       "другой       17446\n",
       "последний     3336\n",
       "первый        2917\n",
       "Name: floor_category, dtype: int64"
      ]
     },
     "execution_count": 28,
     "metadata": {},
     "output_type": "execute_result"
    }
   ],
   "source": [
    "df['floor_category'].value_counts()"
   ]
  },
  {
   "cell_type": "markdown",
   "metadata": {},
   "source": [
    "Ожидаемо большим спросом пользуются квартиры категории \"другой\""
   ]
  },
  {
   "cell_type": "code",
   "execution_count": 29,
   "metadata": {},
   "outputs": [],
   "source": [
    "df['raсio_living_area'] = df['living_area'] / df['total_area'] # Соотношение жилой и общей площади"
   ]
  },
  {
   "cell_type": "code",
   "execution_count": 30,
   "metadata": {},
   "outputs": [],
   "source": [
    "df['raсio_kitchen_area'] = df['kitchen_area'] / df['total_area'] # Соотношение площади кухни к общей"
   ]
  },
  {
   "cell_type": "code",
   "execution_count": 31,
   "metadata": {},
   "outputs": [
    {
     "data": {
      "text/html": [
       "<div>\n",
       "<style scoped>\n",
       "    .dataframe tbody tr th:only-of-type {\n",
       "        vertical-align: middle;\n",
       "    }\n",
       "\n",
       "    .dataframe tbody tr th {\n",
       "        vertical-align: top;\n",
       "    }\n",
       "\n",
       "    .dataframe thead th {\n",
       "        text-align: right;\n",
       "    }\n",
       "</style>\n",
       "<table border=\"1\" class=\"dataframe\">\n",
       "  <thead>\n",
       "    <tr style=\"text-align: right;\">\n",
       "      <th></th>\n",
       "      <th>total_images</th>\n",
       "      <th>last_price</th>\n",
       "      <th>total_area</th>\n",
       "      <th>first_day_exposition</th>\n",
       "      <th>rooms</th>\n",
       "      <th>ceiling_height</th>\n",
       "      <th>floors_total</th>\n",
       "      <th>living_area</th>\n",
       "      <th>floor</th>\n",
       "      <th>is_apartment</th>\n",
       "      <th>...</th>\n",
       "      <th>ponds_around3000</th>\n",
       "      <th>ponds_nearest</th>\n",
       "      <th>days_exposition</th>\n",
       "      <th>price_per_meter</th>\n",
       "      <th>weekday_publication</th>\n",
       "      <th>month_publication</th>\n",
       "      <th>year_publication</th>\n",
       "      <th>floor_category</th>\n",
       "      <th>raсio_living_area</th>\n",
       "      <th>raсio_kitchen_area</th>\n",
       "    </tr>\n",
       "  </thead>\n",
       "  <tbody>\n",
       "    <tr>\n",
       "      <td>0</td>\n",
       "      <td>20</td>\n",
       "      <td>13000000.0</td>\n",
       "      <td>108.0</td>\n",
       "      <td>2019-03-07</td>\n",
       "      <td>3</td>\n",
       "      <td>2.70</td>\n",
       "      <td>16</td>\n",
       "      <td>51.0</td>\n",
       "      <td>8</td>\n",
       "      <td>True</td>\n",
       "      <td>...</td>\n",
       "      <td>2.0</td>\n",
       "      <td>755.0</td>\n",
       "      <td>95.0</td>\n",
       "      <td>120370.370370</td>\n",
       "      <td>3</td>\n",
       "      <td>3</td>\n",
       "      <td>2019</td>\n",
       "      <td>другой</td>\n",
       "      <td>0.472222</td>\n",
       "      <td>0.231481</td>\n",
       "    </tr>\n",
       "    <tr>\n",
       "      <td>1</td>\n",
       "      <td>7</td>\n",
       "      <td>3350000.0</td>\n",
       "      <td>40.4</td>\n",
       "      <td>2018-12-04</td>\n",
       "      <td>1</td>\n",
       "      <td>2.65</td>\n",
       "      <td>11</td>\n",
       "      <td>18.6</td>\n",
       "      <td>1</td>\n",
       "      <td>True</td>\n",
       "      <td>...</td>\n",
       "      <td>0.0</td>\n",
       "      <td>NaN</td>\n",
       "      <td>81.0</td>\n",
       "      <td>82920.792079</td>\n",
       "      <td>1</td>\n",
       "      <td>12</td>\n",
       "      <td>2018</td>\n",
       "      <td>первый</td>\n",
       "      <td>0.460396</td>\n",
       "      <td>0.272277</td>\n",
       "    </tr>\n",
       "    <tr>\n",
       "      <td>2</td>\n",
       "      <td>10</td>\n",
       "      <td>5196000.0</td>\n",
       "      <td>56.0</td>\n",
       "      <td>2015-08-20</td>\n",
       "      <td>2</td>\n",
       "      <td>2.65</td>\n",
       "      <td>5</td>\n",
       "      <td>34.3</td>\n",
       "      <td>4</td>\n",
       "      <td>True</td>\n",
       "      <td>...</td>\n",
       "      <td>2.0</td>\n",
       "      <td>574.0</td>\n",
       "      <td>558.0</td>\n",
       "      <td>92785.714286</td>\n",
       "      <td>3</td>\n",
       "      <td>8</td>\n",
       "      <td>2015</td>\n",
       "      <td>другой</td>\n",
       "      <td>0.612500</td>\n",
       "      <td>0.148214</td>\n",
       "    </tr>\n",
       "    <tr>\n",
       "      <td>3</td>\n",
       "      <td>0</td>\n",
       "      <td>64900000.0</td>\n",
       "      <td>159.0</td>\n",
       "      <td>2015-07-24</td>\n",
       "      <td>3</td>\n",
       "      <td>2.65</td>\n",
       "      <td>14</td>\n",
       "      <td>NaN</td>\n",
       "      <td>9</td>\n",
       "      <td>True</td>\n",
       "      <td>...</td>\n",
       "      <td>3.0</td>\n",
       "      <td>234.0</td>\n",
       "      <td>424.0</td>\n",
       "      <td>408176.100629</td>\n",
       "      <td>4</td>\n",
       "      <td>7</td>\n",
       "      <td>2015</td>\n",
       "      <td>другой</td>\n",
       "      <td>NaN</td>\n",
       "      <td>NaN</td>\n",
       "    </tr>\n",
       "    <tr>\n",
       "      <td>4</td>\n",
       "      <td>2</td>\n",
       "      <td>10000000.0</td>\n",
       "      <td>100.0</td>\n",
       "      <td>2018-06-19</td>\n",
       "      <td>2</td>\n",
       "      <td>3.03</td>\n",
       "      <td>14</td>\n",
       "      <td>32.0</td>\n",
       "      <td>13</td>\n",
       "      <td>True</td>\n",
       "      <td>...</td>\n",
       "      <td>1.0</td>\n",
       "      <td>48.0</td>\n",
       "      <td>121.0</td>\n",
       "      <td>100000.000000</td>\n",
       "      <td>1</td>\n",
       "      <td>6</td>\n",
       "      <td>2018</td>\n",
       "      <td>другой</td>\n",
       "      <td>0.320000</td>\n",
       "      <td>0.410000</td>\n",
       "    </tr>\n",
       "  </tbody>\n",
       "</table>\n",
       "<p>5 rows × 29 columns</p>\n",
       "</div>"
      ],
      "text/plain": [
       "   total_images  last_price  total_area first_day_exposition  rooms  \\\n",
       "0            20  13000000.0       108.0           2019-03-07      3   \n",
       "1             7   3350000.0        40.4           2018-12-04      1   \n",
       "2            10   5196000.0        56.0           2015-08-20      2   \n",
       "3             0  64900000.0       159.0           2015-07-24      3   \n",
       "4             2  10000000.0       100.0           2018-06-19      2   \n",
       "\n",
       "   ceiling_height  floors_total  living_area  floor  is_apartment  ...  \\\n",
       "0            2.70            16         51.0      8          True  ...   \n",
       "1            2.65            11         18.6      1          True  ...   \n",
       "2            2.65             5         34.3      4          True  ...   \n",
       "3            2.65            14          NaN      9          True  ...   \n",
       "4            3.03            14         32.0     13          True  ...   \n",
       "\n",
       "   ponds_around3000  ponds_nearest  days_exposition  price_per_meter  \\\n",
       "0               2.0          755.0             95.0    120370.370370   \n",
       "1               0.0            NaN             81.0     82920.792079   \n",
       "2               2.0          574.0            558.0     92785.714286   \n",
       "3               3.0          234.0            424.0    408176.100629   \n",
       "4               1.0           48.0            121.0    100000.000000   \n",
       "\n",
       "  weekday_publication  month_publication  year_publication  floor_category  \\\n",
       "0                   3                  3              2019          другой   \n",
       "1                   1                 12              2018          первый   \n",
       "2                   3                  8              2015          другой   \n",
       "3                   4                  7              2015          другой   \n",
       "4                   1                  6              2018          другой   \n",
       "\n",
       "   raсio_living_area  raсio_kitchen_area  \n",
       "0           0.472222            0.231481  \n",
       "1           0.460396            0.272277  \n",
       "2           0.612500            0.148214  \n",
       "3                NaN                 NaN  \n",
       "4           0.320000            0.410000  \n",
       "\n",
       "[5 rows x 29 columns]"
      ]
     },
     "execution_count": 31,
     "metadata": {},
     "output_type": "execute_result"
    }
   ],
   "source": [
    "df.head()"
   ]
  },
  {
   "cell_type": "code",
   "execution_count": 32,
   "metadata": {},
   "outputs": [
    {
     "data": {
      "image/png": "[encoded data removed]",
      "text/plain": [
       "<Figure size 432x288 with 1 Axes>"
      ]
     },
     "metadata": {
      "needs_background": "light"
     },
     "output_type": "display_data"
    }
   ],
   "source": [
    "# Построим гистограмму и увидим, какая площадь квартиры встречается чаще всего\n",
    "\n",
    "\n",
    "ax = df['total_area'].hist(bins=100,range=(0, 300))\n",
    "ax.set_xlabel('Площадь квартиры')\n",
    "ax.set_ylabel('Количество продаж')\n",
    "ax.set_title('total_area')\n",
    "plt.show()"
   ]
  },
  {
   "cell_type": "code",
   "execution_count": 33,
   "metadata": {},
   "outputs": [
    {
     "data": {
      "text/plain": [
       "12.0"
      ]
     },
     "execution_count": 33,
     "metadata": {},
     "output_type": "execute_result"
    }
   ],
   "source": [
    "df['total_area'].min() # минимальное значение"
   ]
  },
  {
   "cell_type": "code",
   "execution_count": 34,
   "metadata": {},
   "outputs": [
    {
     "data": {
      "text/plain": [
       "900.0"
      ]
     },
     "execution_count": 34,
     "metadata": {},
     "output_type": "execute_result"
    }
   ],
   "source": [
    "df['total_area'].max() # максимальное значение"
   ]
  },
  {
   "cell_type": "code",
   "execution_count": 35,
   "metadata": {},
   "outputs": [
    {
     "data": {
      "text/plain": [
       "count    23699.000000\n",
       "mean        60.348651\n",
       "std         35.654083\n",
       "min         12.000000\n",
       "25%         40.000000\n",
       "50%         52.000000\n",
       "75%         69.900000\n",
       "max        900.000000\n",
       "Name: total_area, dtype: float64"
      ]
     },
     "execution_count": 35,
     "metadata": {},
     "output_type": "execute_result"
    }
   ],
   "source": [
    "df['total_area'].describe()"
   ]
  },
  {
   "cell_type": "markdown",
   "metadata": {},
   "source": [
    "Основное распределение площади в объявлениях лежит в промежутке от 12 до 100 квадратных метров, среднее значения площади всех представленных квартир 60 кв.м. \n",
    "Шире всего на рынке представлены квартиры площадью от 40 до 69 кв.м.\n"
   ]
  },
  {
   "cell_type": "code",
   "execution_count": 36,
   "metadata": {},
   "outputs": [
    {
     "data": {
      "image/png": "[encoded data removed]",
      "text/plain": [
       "<Figure size 432x288 with 1 Axes>"
      ]
     },
     "metadata": {
      "needs_background": "light"
     },
     "output_type": "display_data"
    }
   ],
   "source": [
    "# Построим гистограмму и увидим, какая стоимость квартиры встречается чаще всего\n",
    "\n",
    "ax_0 = df['last_price'].hist(bins=100)\n",
    "ax_0.set_xlabel('Цена продажи квартиры')\n",
    "ax_0.set_ylabel('Количество продаж')\n",
    "ax_0.set_title('last_price')\n",
    "plt.show()"
   ]
  },
  {
   "cell_type": "code",
   "execution_count": 37,
   "metadata": {},
   "outputs": [
    {
     "data": {
      "text/plain": [
       "count    2.369900e+04\n",
       "mean     6.541549e+06\n",
       "std      1.088701e+07\n",
       "min      1.219000e+04\n",
       "25%      3.400000e+06\n",
       "50%      4.650000e+06\n",
       "75%      6.800000e+06\n",
       "max      7.630000e+08\n",
       "Name: last_price, dtype: float64"
      ]
     },
     "execution_count": 37,
     "metadata": {},
     "output_type": "execute_result"
    }
   ],
   "source": [
    "df['last_price'].describe()"
   ]
  },
  {
   "cell_type": "markdown",
   "metadata": {},
   "source": [
    "В основном цены на квартиры варьируются в диапазоне от 3,4 до 6,8 млн рублей. Однако среднее значение стоимости составляет 6.5 млн рублей, это влияние оказывают объявления из верхнего ценового сегмента."
   ]
  },
  {
   "cell_type": "code",
   "execution_count": 38,
   "metadata": {},
   "outputs": [
    {
     "data": {
      "image/png": "[encoded data removed]",
      "text/plain": [
       "<Figure size 432x288 with 1 Axes>"
      ]
     },
     "metadata": {
      "needs_background": "light"
     },
     "output_type": "display_data"
    }
   ],
   "source": [
    "# Построим гистограмму и увидим, какое количество комнат  встречается чаще всего\n",
    "\n",
    "ax1 = df['rooms'].hist(bins=20)\n",
    "ax1.set_xlabel('Количество комнат')\n",
    "ax1.set_ylabel('Количество продаж')\n",
    "ax1.set_title('rooms')\n",
    "plt.show()"
   ]
  },
  {
   "cell_type": "code",
   "execution_count": 39,
   "metadata": {},
   "outputs": [
    {
     "data": {
      "text/plain": [
       "count    23699.000000\n",
       "mean         2.070636\n",
       "std          1.078405\n",
       "min          0.000000\n",
       "25%          1.000000\n",
       "50%          2.000000\n",
       "75%          3.000000\n",
       "max         19.000000\n",
       "Name: rooms, dtype: float64"
      ]
     },
     "execution_count": 39,
     "metadata": {},
     "output_type": "execute_result"
    }
   ],
   "source": [
    "df['rooms'].describe()"
   ]
  },
  {
   "cell_type": "markdown",
   "metadata": {},
   "source": [
    "Больше всего продано однокомнатных и двухкомнатных квартир, их количество объявлений сопоставимо между собой. Однокомнатных - 8047, двухкомнатных -7940."
   ]
  },
  {
   "cell_type": "code",
   "execution_count": 40,
   "metadata": {},
   "outputs": [
    {
     "data": {
      "image/png": "[encoded data removed]",
      "text/plain": [
       "<Figure size 432x288 with 1 Axes>"
      ]
     },
     "metadata": {
      "needs_background": "light"
     },
     "output_type": "display_data"
    }
   ],
   "source": [
    "# Построим гистограмму и увидим, какая высота потолка в квартирах встречается чаще всего\n",
    "\n",
    "ax_3 = df['ceiling_height'].hist(bins=100)\n",
    "ax_3.set_xlabel('Высота потолка')\n",
    "ax_3.set_ylabel('Количество продаж')\n",
    "ax_3.set_title('ceiling_height')\n",
    "plt.show()"
   ]
  },
  {
   "cell_type": "code",
   "execution_count": 41,
   "metadata": {},
   "outputs": [
    {
     "data": {
      "text/plain": [
       "count    23699.000000\n",
       "mean         2.724358\n",
       "std          0.988298\n",
       "min          1.000000\n",
       "25%          2.600000\n",
       "50%          2.650000\n",
       "75%          2.700000\n",
       "max        100.000000\n",
       "Name: ceiling_height, dtype: float64"
      ]
     },
     "execution_count": 41,
     "metadata": {},
     "output_type": "execute_result"
    }
   ],
   "source": [
    "df['ceiling_height'].describe()"
   ]
  },
  {
   "cell_type": "markdown",
   "metadata": {},
   "source": [
    "Стандартные значения потолка 2,65 - 2,70 метров. Максимальные и минимальные значение (100 и 1) не соответствуют реальности. Из-за максимального значения, не удается построить наглядный график. Очистим данные от выбросов и посмотрим на реальные данные "
   ]
  },
  {
   "cell_type": "code",
   "execution_count": 42,
   "metadata": {},
   "outputs": [
    {
     "data": {
      "image/png": "[encoded data removed]",
      "text/plain": [
       "<Figure size 432x288 with 1 Axes>"
      ]
     },
     "metadata": {
      "needs_background": "light"
     },
     "output_type": "display_data"
    }
   ],
   "source": [
    "# Построим гистограмму и увидим, за какое количество времени чаще всего квартиры продаются \n",
    "\n",
    "ax_4 = df['days_exposition'].hist(bins = 100)\n",
    "ax_4.set_xlabel('Количество дней с момента продажи')\n",
    "ax_4.set_ylabel('Количество продаж')\n",
    "ax_4.set_title('days_exposition')\n",
    "plt.show()"
   ]
  },
  {
   "cell_type": "code",
   "execution_count": 43,
   "metadata": {},
   "outputs": [
    {
     "data": {
      "text/plain": [
       "count    23699.000000\n",
       "mean       169.360226\n",
       "std        206.535633\n",
       "min          1.000000\n",
       "25%         45.000000\n",
       "50%         95.000000\n",
       "75%        199.000000\n",
       "max       1580.000000\n",
       "Name: days_exposition, dtype: float64"
      ]
     },
     "execution_count": 43,
     "metadata": {},
     "output_type": "execute_result"
    }
   ],
   "source": [
    "df['days_exposition'].describe()"
   ]
  },
  {
   "cell_type": "markdown",
   "metadata": {},
   "source": [
    "Цикл продажи длится от 1 дня до 400, выбиваются продажи с циклом от 800 до 1580, скорее всего это недвижимость сегмента премиум или недвижимость с завышенной стоимостью. Средняя продолжительность продажи занимает 169 дней, а медианное 95 дней. Самое максимальный срок 1580, а минимальный 1 день.\n",
    "\n",
    "75 % объявлений снимаются по окончанию 199 дней, если объект недвижимости продается дольше, стоит в качестве рекомендации продавцу обратить внимание на условия продажи.  \n"
   ]
  },
  {
   "cell_type": "code",
   "execution_count": 44,
   "metadata": {},
   "outputs": [],
   "source": [
    "# Сделаем срез данных и посмотрим на данные без аномальных значений столбцов с ценой, количеством комнат, общей площадью и выстой потолков\n",
    "\n",
    "df_slice = df.query(\n",
    "    '(0 < total_area < 100) and (1.219000e+04< last_price < 6.800000e+06) and (0 < rooms <= 5) and ( 2.4 <= ceiling_height <= 3)')"
   ]
  },
  {
   "cell_type": "code",
   "execution_count": 45,
   "metadata": {},
   "outputs": [
    {
     "data": {
      "text/html": [
       "<div>\n",
       "<style scoped>\n",
       "    .dataframe tbody tr th:only-of-type {\n",
       "        vertical-align: middle;\n",
       "    }\n",
       "\n",
       "    .dataframe tbody tr th {\n",
       "        vertical-align: top;\n",
       "    }\n",
       "\n",
       "    .dataframe thead th {\n",
       "        text-align: right;\n",
       "    }\n",
       "</style>\n",
       "<table border=\"1\" class=\"dataframe\">\n",
       "  <thead>\n",
       "    <tr style=\"text-align: right;\">\n",
       "      <th></th>\n",
       "      <th>total_images</th>\n",
       "      <th>last_price</th>\n",
       "      <th>total_area</th>\n",
       "      <th>rooms</th>\n",
       "      <th>ceiling_height</th>\n",
       "      <th>floors_total</th>\n",
       "      <th>living_area</th>\n",
       "      <th>floor</th>\n",
       "      <th>kitchen_area</th>\n",
       "      <th>balcony</th>\n",
       "      <th>...</th>\n",
       "      <th>parks_nearest</th>\n",
       "      <th>ponds_around3000</th>\n",
       "      <th>ponds_nearest</th>\n",
       "      <th>days_exposition</th>\n",
       "      <th>price_per_meter</th>\n",
       "      <th>weekday_publication</th>\n",
       "      <th>month_publication</th>\n",
       "      <th>year_publication</th>\n",
       "      <th>raсio_living_area</th>\n",
       "      <th>raсio_kitchen_area</th>\n",
       "    </tr>\n",
       "  </thead>\n",
       "  <tbody>\n",
       "    <tr>\n",
       "      <td>count</td>\n",
       "      <td>17146.000000</td>\n",
       "      <td>1.714600e+04</td>\n",
       "      <td>17146.000000</td>\n",
       "      <td>17146.000000</td>\n",
       "      <td>17146.000000</td>\n",
       "      <td>17146.000000</td>\n",
       "      <td>15789.000000</td>\n",
       "      <td>17146.000000</td>\n",
       "      <td>15587.000000</td>\n",
       "      <td>17146.000000</td>\n",
       "      <td>...</td>\n",
       "      <td>4543.000000</td>\n",
       "      <td>17146.000000</td>\n",
       "      <td>5382.000000</td>\n",
       "      <td>17146.000000</td>\n",
       "      <td>17146.000000</td>\n",
       "      <td>17146.000000</td>\n",
       "      <td>17146.000000</td>\n",
       "      <td>17146.000000</td>\n",
       "      <td>15789.000000</td>\n",
       "      <td>15587.000000</td>\n",
       "    </tr>\n",
       "    <tr>\n",
       "      <td>mean</td>\n",
       "      <td>9.418757</td>\n",
       "      <td>4.014608e+06</td>\n",
       "      <td>47.925507</td>\n",
       "      <td>1.787414</td>\n",
       "      <td>2.631993</td>\n",
       "      <td>10.560072</td>\n",
       "      <td>27.334729</td>\n",
       "      <td>5.816984</td>\n",
       "      <td>8.839541</td>\n",
       "      <td>0.580602</td>\n",
       "      <td>...</td>\n",
       "      <td>485.667180</td>\n",
       "      <td>0.436487</td>\n",
       "      <td>541.936641</td>\n",
       "      <td>158.797445</td>\n",
       "      <td>86321.104244</td>\n",
       "      <td>2.582643</td>\n",
       "      <td>6.386621</td>\n",
       "      <td>2017.385338</td>\n",
       "      <td>0.561177</td>\n",
       "      <td>0.193043</td>\n",
       "    </tr>\n",
       "    <tr>\n",
       "      <td>std</td>\n",
       "      <td>5.398386</td>\n",
       "      <td>1.353418e+06</td>\n",
       "      <td>13.751073</td>\n",
       "      <td>0.820492</td>\n",
       "      <td>0.101235</td>\n",
       "      <td>6.523013</td>\n",
       "      <td>10.664192</td>\n",
       "      <td>4.843324</td>\n",
       "      <td>3.050064</td>\n",
       "      <td>0.897523</td>\n",
       "      <td>...</td>\n",
       "      <td>315.683876</td>\n",
       "      <td>0.743175</td>\n",
       "      <td>275.674377</td>\n",
       "      <td>194.157806</td>\n",
       "      <td>27016.724951</td>\n",
       "      <td>1.803393</td>\n",
       "      <td>3.483194</td>\n",
       "      <td>1.006282</td>\n",
       "      <td>0.104245</td>\n",
       "      <td>0.070407</td>\n",
       "    </tr>\n",
       "    <tr>\n",
       "      <td>min</td>\n",
       "      <td>0.000000</td>\n",
       "      <td>4.300000e+05</td>\n",
       "      <td>12.000000</td>\n",
       "      <td>1.000000</td>\n",
       "      <td>2.400000</td>\n",
       "      <td>0.000000</td>\n",
       "      <td>2.000000</td>\n",
       "      <td>1.000000</td>\n",
       "      <td>1.300000</td>\n",
       "      <td>0.000000</td>\n",
       "      <td>...</td>\n",
       "      <td>1.000000</td>\n",
       "      <td>0.000000</td>\n",
       "      <td>19.000000</td>\n",
       "      <td>1.000000</td>\n",
       "      <td>7962.962963</td>\n",
       "      <td>0.000000</td>\n",
       "      <td>1.000000</td>\n",
       "      <td>2014.000000</td>\n",
       "      <td>0.038462</td>\n",
       "      <td>0.043524</td>\n",
       "    </tr>\n",
       "    <tr>\n",
       "      <td>25%</td>\n",
       "      <td>6.000000</td>\n",
       "      <td>3.100000e+06</td>\n",
       "      <td>37.000000</td>\n",
       "      <td>1.000000</td>\n",
       "      <td>2.550000</td>\n",
       "      <td>5.000000</td>\n",
       "      <td>18.000000</td>\n",
       "      <td>2.000000</td>\n",
       "      <td>6.500000</td>\n",
       "      <td>0.000000</td>\n",
       "      <td>...</td>\n",
       "      <td>294.500000</td>\n",
       "      <td>0.000000</td>\n",
       "      <td>330.000000</td>\n",
       "      <td>45.000000</td>\n",
       "      <td>70078.494482</td>\n",
       "      <td>1.000000</td>\n",
       "      <td>3.000000</td>\n",
       "      <td>2017.000000</td>\n",
       "      <td>0.486486</td>\n",
       "      <td>0.138085</td>\n",
       "    </tr>\n",
       "    <tr>\n",
       "      <td>50%</td>\n",
       "      <td>9.000000</td>\n",
       "      <td>4.000000e+06</td>\n",
       "      <td>45.000000</td>\n",
       "      <td>2.000000</td>\n",
       "      <td>2.650000</td>\n",
       "      <td>9.000000</td>\n",
       "      <td>27.200000</td>\n",
       "      <td>4.000000</td>\n",
       "      <td>8.310000</td>\n",
       "      <td>0.000000</td>\n",
       "      <td>...</td>\n",
       "      <td>458.000000</td>\n",
       "      <td>0.000000</td>\n",
       "      <td>529.000000</td>\n",
       "      <td>95.000000</td>\n",
       "      <td>88072.411533</td>\n",
       "      <td>3.000000</td>\n",
       "      <td>6.000000</td>\n",
       "      <td>2017.000000</td>\n",
       "      <td>0.563910</td>\n",
       "      <td>0.180645</td>\n",
       "    </tr>\n",
       "    <tr>\n",
       "      <td>75%</td>\n",
       "      <td>13.000000</td>\n",
       "      <td>5.000000e+06</td>\n",
       "      <td>57.000000</td>\n",
       "      <td>2.000000</td>\n",
       "      <td>2.650000</td>\n",
       "      <td>15.000000</td>\n",
       "      <td>33.500000</td>\n",
       "      <td>8.000000</td>\n",
       "      <td>10.200000</td>\n",
       "      <td>1.000000</td>\n",
       "      <td>...</td>\n",
       "      <td>611.000000</td>\n",
       "      <td>1.000000</td>\n",
       "      <td>747.000000</td>\n",
       "      <td>187.000000</td>\n",
       "      <td>103273.475334</td>\n",
       "      <td>4.000000</td>\n",
       "      <td>10.000000</td>\n",
       "      <td>2018.000000</td>\n",
       "      <td>0.635492</td>\n",
       "      <td>0.241679</td>\n",
       "    </tr>\n",
       "    <tr>\n",
       "      <td>max</td>\n",
       "      <td>39.000000</td>\n",
       "      <td>6.799000e+06</td>\n",
       "      <td>99.100000</td>\n",
       "      <td>5.000000</td>\n",
       "      <td>3.000000</td>\n",
       "      <td>60.000000</td>\n",
       "      <td>80.000000</td>\n",
       "      <td>31.000000</td>\n",
       "      <td>50.000000</td>\n",
       "      <td>5.000000</td>\n",
       "      <td>...</td>\n",
       "      <td>3190.000000</td>\n",
       "      <td>3.000000</td>\n",
       "      <td>1344.000000</td>\n",
       "      <td>1580.000000</td>\n",
       "      <td>292307.692308</td>\n",
       "      <td>6.000000</td>\n",
       "      <td>12.000000</td>\n",
       "      <td>2019.000000</td>\n",
       "      <td>0.975754</td>\n",
       "      <td>0.787879</td>\n",
       "    </tr>\n",
       "  </tbody>\n",
       "</table>\n",
       "<p>8 rows × 23 columns</p>\n",
       "</div>"
      ],
      "text/plain": [
       "       total_images    last_price    total_area         rooms  ceiling_height  \\\n",
       "count  17146.000000  1.714600e+04  17146.000000  17146.000000    17146.000000   \n",
       "mean       9.418757  4.014608e+06     47.925507      1.787414        2.631993   \n",
       "std        5.398386  1.353418e+06     13.751073      0.820492        0.101235   \n",
       "min        0.000000  4.300000e+05     12.000000      1.000000        2.400000   \n",
       "25%        6.000000  3.100000e+06     37.000000      1.000000        2.550000   \n",
       "50%        9.000000  4.000000e+06     45.000000      2.000000        2.650000   \n",
       "75%       13.000000  5.000000e+06     57.000000      2.000000        2.650000   \n",
       "max       39.000000  6.799000e+06     99.100000      5.000000        3.000000   \n",
       "\n",
       "       floors_total   living_area         floor  kitchen_area       balcony  \\\n",
       "count  17146.000000  15789.000000  17146.000000  15587.000000  17146.000000   \n",
       "mean      10.560072     27.334729      5.816984      8.839541      0.580602   \n",
       "std        6.523013     10.664192      4.843324      3.050064      0.897523   \n",
       "min        0.000000      2.000000      1.000000      1.300000      0.000000   \n",
       "25%        5.000000     18.000000      2.000000      6.500000      0.000000   \n",
       "50%        9.000000     27.200000      4.000000      8.310000      0.000000   \n",
       "75%       15.000000     33.500000      8.000000     10.200000      1.000000   \n",
       "max       60.000000     80.000000     31.000000     50.000000      5.000000   \n",
       "\n",
       "       ...  parks_nearest  ponds_around3000  ponds_nearest  days_exposition  \\\n",
       "count  ...    4543.000000      17146.000000    5382.000000     17146.000000   \n",
       "mean   ...     485.667180          0.436487     541.936641       158.797445   \n",
       "std    ...     315.683876          0.743175     275.674377       194.157806   \n",
       "min    ...       1.000000          0.000000      19.000000         1.000000   \n",
       "25%    ...     294.500000          0.000000     330.000000        45.000000   \n",
       "50%    ...     458.000000          0.000000     529.000000        95.000000   \n",
       "75%    ...     611.000000          1.000000     747.000000       187.000000   \n",
       "max    ...    3190.000000          3.000000    1344.000000      1580.000000   \n",
       "\n",
       "       price_per_meter  weekday_publication  month_publication  \\\n",
       "count     17146.000000         17146.000000       17146.000000   \n",
       "mean      86321.104244             2.582643           6.386621   \n",
       "std       27016.724951             1.803393           3.483194   \n",
       "min        7962.962963             0.000000           1.000000   \n",
       "25%       70078.494482             1.000000           3.000000   \n",
       "50%       88072.411533             3.000000           6.000000   \n",
       "75%      103273.475334             4.000000          10.000000   \n",
       "max      292307.692308             6.000000          12.000000   \n",
       "\n",
       "       year_publication  raсio_living_area  raсio_kitchen_area  \n",
       "count      17146.000000       15789.000000        15587.000000  \n",
       "mean        2017.385338           0.561177            0.193043  \n",
       "std            1.006282           0.104245            0.070407  \n",
       "min         2014.000000           0.038462            0.043524  \n",
       "25%         2017.000000           0.486486            0.138085  \n",
       "50%         2017.000000           0.563910            0.180645  \n",
       "75%         2018.000000           0.635492            0.241679  \n",
       "max         2019.000000           0.975754            0.787879  \n",
       "\n",
       "[8 rows x 23 columns]"
      ]
     },
     "execution_count": 45,
     "metadata": {},
     "output_type": "execute_result"
    }
   ],
   "source": [
    "df_slice.describe()"
   ]
  },
  {
   "cell_type": "markdown",
   "metadata": {},
   "source": [
    "### Факторы влияния на продажу и стоимость квартир<a name=\"part_6\"></a>"
   ]
  },
  {
   "cell_type": "markdown",
   "metadata": {},
   "source": [
    "- Изучим, зависит ли цена от площади, числа комнат, удалённости от центра. \n"
   ]
  },
  {
   "cell_type": "code",
   "execution_count": 46,
   "metadata": {},
   "outputs": [
    {
     "data": {
      "text/plain": [
       "0.4973020256533441"
      ]
     },
     "execution_count": 46,
     "metadata": {},
     "output_type": "execute_result"
    }
   ],
   "source": [
    "# посчитаем коэффициент корреляции Пирсона между стоимостью и площадью квартиры\n",
    "\n",
    "df_slice['last_price'].corr(df_slice['total_area'])"
   ]
  },
  {
   "cell_type": "markdown",
   "metadata": {},
   "source": [
    "Коэффициент корреляции между ценой и площадью квартиры Пирсона - положительный и составляет 0,50, такой коэффицент говорит о наличии связи"
   ]
  },
  {
   "cell_type": "code",
   "execution_count": 47,
   "metadata": {},
   "outputs": [
    {
     "data": {
      "image/png": "[encoded data removed]",
      "text/plain": [
       "<Figure size 576x432 with 2 Axes>"
      ]
     },
     "metadata": {
      "needs_background": "light"
     },
     "output_type": "display_data"
    }
   ],
   "source": [
    "# Посмотрим на корреляцию на графике\n",
    "\n",
    "df_slice.plot(x='total_area', y='last_price', kind='hexbin', gridsize=20, figsize=(8, 6), sharex=False, grid=True)\n",
    "plt.show()"
   ]
  },
  {
   "cell_type": "markdown",
   "metadata": {},
   "source": [
    "Мы можем говорить о том, что с увеличением площади квартиры увеличивается и ее цена. "
   ]
  },
  {
   "cell_type": "code",
   "execution_count": 48,
   "metadata": {},
   "outputs": [
    {
     "data": {
      "text/plain": [
       "0.31330440464264164"
      ]
     },
     "execution_count": 48,
     "metadata": {},
     "output_type": "execute_result"
    }
   ],
   "source": [
    "# посчитаем коэффициент корреляции Пирсона между стоимостью и количеством комнат в квартире\n",
    "\n",
    "df_slice['last_price'].corr(df_slice['rooms'])"
   ]
  },
  {
   "cell_type": "markdown",
   "metadata": {},
   "source": [
    "Коэффициент корреляции Пирсона между ценой и количеством комнат - положительный и составляет 0,31"
   ]
  },
  {
   "cell_type": "code",
   "execution_count": 49,
   "metadata": {},
   "outputs": [
    {
     "data": {
      "image/png": "[encoded data removed]",
      "text/plain": [
       "<Figure size 432x288 with 1 Axes>"
      ]
     },
     "metadata": {
      "needs_background": "light"
     },
     "output_type": "display_data"
    }
   ],
   "source": [
    "# Посмотрим на корреляцию на графике\n",
    "\n",
    "df_slice.plot(x='rooms', y='last_price', kind='scatter', grid = True, alpha = 0.5)\n",
    "plt.show()"
   ]
  },
  {
   "cell_type": "markdown",
   "metadata": {},
   "source": [
    "С увеличением числа комнат в квартире увеличивается и ее цена. Эта связь также является подтверждением зависимости цены от общей площади от их удаленности от центра"
   ]
  },
  {
   "cell_type": "code",
   "execution_count": 50,
   "metadata": {},
   "outputs": [
    {
     "data": {
      "text/plain": [
       "-0.2737525216404764"
      ]
     },
     "execution_count": 50,
     "metadata": {},
     "output_type": "execute_result"
    }
   ],
   "source": [
    "# посчитаем коэффициент корреляции Пирсона между стоимостью и удаленностью от центра\n",
    "\n",
    "df_slice['last_price'].corr(df_slice['cityCenters_nearest'])"
   ]
  },
  {
   "cell_type": "markdown",
   "metadata": {},
   "source": [
    "Коэффициент корреляции Пирсона между ценой и удаленностью от центра отрицательный  и составляет: -0,34."
   ]
  },
  {
   "cell_type": "code",
   "execution_count": 51,
   "metadata": {},
   "outputs": [
    {
     "data": {
      "image/png": "[encoded data removed]",
      "text/plain": [
       "<Figure size 432x288 with 1 Axes>"
      ]
     },
     "metadata": {
      "needs_background": "light"
     },
     "output_type": "display_data"
    }
   ],
   "source": [
    "# Посмотрим на корреляцию на графике\n",
    "\n",
    "df_slice.plot(x='cityCenters_nearest', y='last_price', kind='scatter', grid = True, alpha = 0.5)\n",
    "plt.show()"
   ]
  },
  {
   "cell_type": "markdown",
   "metadata": {},
   "source": [
    "Стоимость квартир дешевеет от их удаленности от центра. "
   ]
  },
  {
   "cell_type": "markdown",
   "metadata": {},
   "source": [
    "- Изучим зависимость цены от того, на каком этаже расположена квартира: первом, последнем или другом. Также изучите зависимость от даты размещения: дня недели, месяца и года."
   ]
  },
  {
   "cell_type": "code",
   "execution_count": 52,
   "metadata": {},
   "outputs": [
    {
     "data": {
      "image/png": "[encoded data removed]",
      "text/plain": [
       "<Figure size 432x288 with 1 Axes>"
      ]
     },
     "metadata": {
      "needs_background": "light"
     },
     "output_type": "display_data"
    },
    {
     "data": {
      "image/png": "[encoded data removed]",
      "text/plain": [
       "<Figure size 432x288 with 1 Axes>"
      ]
     },
     "metadata": {
      "needs_background": "light"
     },
     "output_type": "display_data"
    },
    {
     "data": {
      "image/png": "[encoded data removed]",
      "text/plain": [
       "<Figure size 432x288 with 1 Axes>"
      ]
     },
     "metadata": {
      "needs_background": "light"
     },
     "output_type": "display_data"
    }
   ],
   "source": [
    "# Построим гистограммы и посмотрим как расположение квартиры влияет на стоимость\n",
    "\n",
    "df_price_corr = df_slice[['last_price','floor_category']]\n",
    "\n",
    "df_price_corr.groupby('floor_category')['last_price']\n",
    "\n",
    "for group_name, group_df in df_price_corr.groupby('floor_category'):\n",
    "    \n",
    "    group_df.plot(y = 'last_price', kind = 'hist', title = group_name, bins = 50,xlim = (10**6, 1*10**7), grid = True)"
   ]
  },
  {
   "cell_type": "markdown",
   "metadata": {},
   "source": [
    "Судя по графику самыми дорогими квартирами являются квартиры расположенные не на первом и не на последнем этаже."
   ]
  },
  {
   "cell_type": "code",
   "execution_count": 53,
   "metadata": {},
   "outputs": [
    {
     "data": {
      "text/html": [
       "<div>\n",
       "<style scoped>\n",
       "    .dataframe tbody tr th:only-of-type {\n",
       "        vertical-align: middle;\n",
       "    }\n",
       "\n",
       "    .dataframe tbody tr th {\n",
       "        vertical-align: top;\n",
       "    }\n",
       "\n",
       "    .dataframe thead th {\n",
       "        text-align: right;\n",
       "    }\n",
       "</style>\n",
       "<table border=\"1\" class=\"dataframe\">\n",
       "  <thead>\n",
       "    <tr style=\"text-align: right;\">\n",
       "      <th></th>\n",
       "      <th>last_price</th>\n",
       "      <th>weekday_publication</th>\n",
       "      <th>year_publication</th>\n",
       "      <th>month_publication</th>\n",
       "    </tr>\n",
       "  </thead>\n",
       "  <tbody>\n",
       "    <tr>\n",
       "      <td>last_price</td>\n",
       "      <td>1.000000</td>\n",
       "      <td>-0.012517</td>\n",
       "      <td>0.014513</td>\n",
       "      <td>0.000954</td>\n",
       "    </tr>\n",
       "    <tr>\n",
       "      <td>weekday_publication</td>\n",
       "      <td>-0.012517</td>\n",
       "      <td>1.000000</td>\n",
       "      <td>0.000594</td>\n",
       "      <td>0.005791</td>\n",
       "    </tr>\n",
       "    <tr>\n",
       "      <td>year_publication</td>\n",
       "      <td>0.014513</td>\n",
       "      <td>0.000594</td>\n",
       "      <td>1.000000</td>\n",
       "      <td>-0.265039</td>\n",
       "    </tr>\n",
       "    <tr>\n",
       "      <td>month_publication</td>\n",
       "      <td>0.000954</td>\n",
       "      <td>0.005791</td>\n",
       "      <td>-0.265039</td>\n",
       "      <td>1.000000</td>\n",
       "    </tr>\n",
       "  </tbody>\n",
       "</table>\n",
       "</div>"
      ],
      "text/plain": [
       "                     last_price  weekday_publication  year_publication  \\\n",
       "last_price             1.000000            -0.012517          0.014513   \n",
       "weekday_publication   -0.012517             1.000000          0.000594   \n",
       "year_publication       0.014513             0.000594          1.000000   \n",
       "month_publication      0.000954             0.005791         -0.265039   \n",
       "\n",
       "                     month_publication  \n",
       "last_price                    0.000954  \n",
       "weekday_publication           0.005791  \n",
       "year_publication             -0.265039  \n",
       "month_publication             1.000000  "
      ]
     },
     "execution_count": 53,
     "metadata": {},
     "output_type": "execute_result"
    }
   ],
   "source": [
    "# Посмотрим на влияние сезонности\n",
    "\n",
    "dt_corr = df_slice[['last_price','weekday_publication', 'year_publication', 'month_publication']]\n",
    "\n",
    "dt_corr.corr()"
   ]
  },
  {
   "cell_type": "code",
   "execution_count": 54,
   "metadata": {},
   "outputs": [
    {
     "data": {
      "image/png": "[encoded data removed]",
      "text/plain": [
       "<Figure size 432x288 with 1 Axes>"
      ]
     },
     "metadata": {
      "needs_background": "light"
     },
     "output_type": "display_data"
    },
    {
     "data": {
      "image/png": "[encoded data removed]",
      "text/plain": [
       "<Figure size 432x288 with 1 Axes>"
      ]
     },
     "metadata": {
      "needs_background": "light"
     },
     "output_type": "display_data"
    },
    {
     "data": {
      "image/png": "[encoded data removed]",
      "text/plain": [
       "<Figure size 432x288 with 1 Axes>"
      ]
     },
     "metadata": {
      "needs_background": "light"
     },
     "output_type": "display_data"
    }
   ],
   "source": [
    "\n",
    "columns_list = ['weekday_publication', 'year_publication', 'month_publication']\n",
    "\n",
    "for column in columns_list:\n",
    "    \n",
    "    dt_corr.plot(x = column , y = 'last_price', kind = 'scatter', grid = True, alpha = 0.1)"
   ]
  },
  {
   "cell_type": "markdown",
   "metadata": {},
   "source": [
    "Изменение цены от публикации объявления в определенный день недели не прослеживается. В распределении публикаций по годам можно увидеть рост до 2017 года, после стагнация. В распределении по месяцам можно увидеть небольшую сезонность, в летне-осенний период наблюдается спад  "
   ]
  },
  {
   "cell_type": "markdown",
   "metadata": {},
   "source": [
    "- Выведем список из 10 населенных пунктов с наибольшим числом объявлений и посчитаем среднюю цену квадратного метра для каждого населенного пункта. Выделим среди них населённые пункты с самой высокой и низкой стоимостью жилья."
   ]
  },
  {
   "cell_type": "code",
   "execution_count": 55,
   "metadata": {},
   "outputs": [],
   "source": [
    "# список из 10 населенных пунктов с наибольшим числом объявлений\n",
    "\n",
    "locality_top = df_slice['locality_name'].value_counts().head(10)"
   ]
  },
  {
   "cell_type": "code",
   "execution_count": 56,
   "metadata": {},
   "outputs": [],
   "source": [
    "locality_top_10 = df_slice.query('locality_name in @locality_top.index')"
   ]
  },
  {
   "cell_type": "code",
   "execution_count": 57,
   "metadata": {},
   "outputs": [
    {
     "data": {
      "text/html": [
       "<div>\n",
       "<style scoped>\n",
       "    .dataframe tbody tr th:only-of-type {\n",
       "        vertical-align: middle;\n",
       "    }\n",
       "\n",
       "    .dataframe tbody tr th {\n",
       "        vertical-align: top;\n",
       "    }\n",
       "\n",
       "    .dataframe thead th {\n",
       "        text-align: right;\n",
       "    }\n",
       "</style>\n",
       "<table border=\"1\" class=\"dataframe\">\n",
       "  <thead>\n",
       "    <tr style=\"text-align: right;\">\n",
       "      <th></th>\n",
       "      <th>total_images</th>\n",
       "      <th>last_price</th>\n",
       "      <th>total_area</th>\n",
       "      <th>first_day_exposition</th>\n",
       "      <th>rooms</th>\n",
       "      <th>ceiling_height</th>\n",
       "      <th>floors_total</th>\n",
       "      <th>living_area</th>\n",
       "      <th>floor</th>\n",
       "      <th>is_apartment</th>\n",
       "      <th>...</th>\n",
       "      <th>ponds_around3000</th>\n",
       "      <th>ponds_nearest</th>\n",
       "      <th>days_exposition</th>\n",
       "      <th>price_per_meter</th>\n",
       "      <th>weekday_publication</th>\n",
       "      <th>month_publication</th>\n",
       "      <th>year_publication</th>\n",
       "      <th>floor_category</th>\n",
       "      <th>raсio_living_area</th>\n",
       "      <th>raсio_kitchen_area</th>\n",
       "    </tr>\n",
       "  </thead>\n",
       "  <tbody>\n",
       "    <tr>\n",
       "      <td>1</td>\n",
       "      <td>7</td>\n",
       "      <td>3350000.0</td>\n",
       "      <td>40.40</td>\n",
       "      <td>2018-12-04</td>\n",
       "      <td>1</td>\n",
       "      <td>2.65</td>\n",
       "      <td>11</td>\n",
       "      <td>18.60</td>\n",
       "      <td>1</td>\n",
       "      <td>True</td>\n",
       "      <td>...</td>\n",
       "      <td>0.0</td>\n",
       "      <td>NaN</td>\n",
       "      <td>81.0</td>\n",
       "      <td>82920.792079</td>\n",
       "      <td>1</td>\n",
       "      <td>12</td>\n",
       "      <td>2018</td>\n",
       "      <td>первый</td>\n",
       "      <td>0.460396</td>\n",
       "      <td>0.272277</td>\n",
       "    </tr>\n",
       "    <tr>\n",
       "      <td>2</td>\n",
       "      <td>10</td>\n",
       "      <td>5196000.0</td>\n",
       "      <td>56.00</td>\n",
       "      <td>2015-08-20</td>\n",
       "      <td>2</td>\n",
       "      <td>2.65</td>\n",
       "      <td>5</td>\n",
       "      <td>34.30</td>\n",
       "      <td>4</td>\n",
       "      <td>True</td>\n",
       "      <td>...</td>\n",
       "      <td>2.0</td>\n",
       "      <td>574.0</td>\n",
       "      <td>558.0</td>\n",
       "      <td>92785.714286</td>\n",
       "      <td>3</td>\n",
       "      <td>8</td>\n",
       "      <td>2015</td>\n",
       "      <td>другой</td>\n",
       "      <td>0.612500</td>\n",
       "      <td>0.148214</td>\n",
       "    </tr>\n",
       "    <tr>\n",
       "      <td>6</td>\n",
       "      <td>6</td>\n",
       "      <td>3700000.0</td>\n",
       "      <td>37.30</td>\n",
       "      <td>2017-11-02</td>\n",
       "      <td>1</td>\n",
       "      <td>2.65</td>\n",
       "      <td>26</td>\n",
       "      <td>10.60</td>\n",
       "      <td>6</td>\n",
       "      <td>True</td>\n",
       "      <td>...</td>\n",
       "      <td>0.0</td>\n",
       "      <td>NaN</td>\n",
       "      <td>155.0</td>\n",
       "      <td>99195.710456</td>\n",
       "      <td>3</td>\n",
       "      <td>11</td>\n",
       "      <td>2017</td>\n",
       "      <td>другой</td>\n",
       "      <td>0.284182</td>\n",
       "      <td>0.386059</td>\n",
       "    </tr>\n",
       "    <tr>\n",
       "      <td>8</td>\n",
       "      <td>20</td>\n",
       "      <td>2900000.0</td>\n",
       "      <td>33.16</td>\n",
       "      <td>2018-05-23</td>\n",
       "      <td>1</td>\n",
       "      <td>2.65</td>\n",
       "      <td>27</td>\n",
       "      <td>15.43</td>\n",
       "      <td>26</td>\n",
       "      <td>True</td>\n",
       "      <td>...</td>\n",
       "      <td>0.0</td>\n",
       "      <td>NaN</td>\n",
       "      <td>189.0</td>\n",
       "      <td>87454.764777</td>\n",
       "      <td>2</td>\n",
       "      <td>5</td>\n",
       "      <td>2018</td>\n",
       "      <td>другой</td>\n",
       "      <td>0.465320</td>\n",
       "      <td>0.265682</td>\n",
       "    </tr>\n",
       "    <tr>\n",
       "      <td>9</td>\n",
       "      <td>18</td>\n",
       "      <td>5400000.0</td>\n",
       "      <td>61.00</td>\n",
       "      <td>2017-02-26</td>\n",
       "      <td>3</td>\n",
       "      <td>2.50</td>\n",
       "      <td>9</td>\n",
       "      <td>43.60</td>\n",
       "      <td>7</td>\n",
       "      <td>True</td>\n",
       "      <td>...</td>\n",
       "      <td>0.0</td>\n",
       "      <td>NaN</td>\n",
       "      <td>289.0</td>\n",
       "      <td>88524.590164</td>\n",
       "      <td>6</td>\n",
       "      <td>2</td>\n",
       "      <td>2017</td>\n",
       "      <td>другой</td>\n",
       "      <td>0.714754</td>\n",
       "      <td>0.106557</td>\n",
       "    </tr>\n",
       "  </tbody>\n",
       "</table>\n",
       "<p>5 rows × 29 columns</p>\n",
       "</div>"
      ],
      "text/plain": [
       "   total_images  last_price  total_area first_day_exposition  rooms  \\\n",
       "1             7   3350000.0       40.40           2018-12-04      1   \n",
       "2            10   5196000.0       56.00           2015-08-20      2   \n",
       "6             6   3700000.0       37.30           2017-11-02      1   \n",
       "8            20   2900000.0       33.16           2018-05-23      1   \n",
       "9            18   5400000.0       61.00           2017-02-26      3   \n",
       "\n",
       "   ceiling_height  floors_total  living_area  floor  is_apartment  ...  \\\n",
       "1            2.65            11        18.60      1          True  ...   \n",
       "2            2.65             5        34.30      4          True  ...   \n",
       "6            2.65            26        10.60      6          True  ...   \n",
       "8            2.65            27        15.43     26          True  ...   \n",
       "9            2.50             9        43.60      7          True  ...   \n",
       "\n",
       "   ponds_around3000  ponds_nearest  days_exposition  price_per_meter  \\\n",
       "1               0.0            NaN             81.0     82920.792079   \n",
       "2               2.0          574.0            558.0     92785.714286   \n",
       "6               0.0            NaN            155.0     99195.710456   \n",
       "8               0.0            NaN            189.0     87454.764777   \n",
       "9               0.0            NaN            289.0     88524.590164   \n",
       "\n",
       "  weekday_publication  month_publication  year_publication  floor_category  \\\n",
       "1                   1                 12              2018          первый   \n",
       "2                   3                  8              2015          другой   \n",
       "6                   3                 11              2017          другой   \n",
       "8                   2                  5              2018          другой   \n",
       "9                   6                  2              2017          другой   \n",
       "\n",
       "   raсio_living_area  raсio_kitchen_area  \n",
       "1           0.460396            0.272277  \n",
       "2           0.612500            0.148214  \n",
       "6           0.284182            0.386059  \n",
       "8           0.465320            0.265682  \n",
       "9           0.714754            0.106557  \n",
       "\n",
       "[5 rows x 29 columns]"
      ]
     },
     "execution_count": 57,
     "metadata": {},
     "output_type": "execute_result"
    }
   ],
   "source": [
    "locality_top_10.head()"
   ]
  },
  {
   "cell_type": "code",
   "execution_count": 58,
   "metadata": {},
   "outputs": [],
   "source": [
    "pivot_locality_top = locality_top_10.pivot_table(index=['locality_name'], values=['price_per_meter'],\n",
    "                                                 aggfunc='mean').sort_values('price_per_meter', ascending = False)"
   ]
  },
  {
   "cell_type": "code",
   "execution_count": 59,
   "metadata": {},
   "outputs": [
    {
     "data": {
      "text/html": [
       "<div>\n",
       "<style scoped>\n",
       "    .dataframe tbody tr th:only-of-type {\n",
       "        vertical-align: middle;\n",
       "    }\n",
       "\n",
       "    .dataframe tbody tr th {\n",
       "        vertical-align: top;\n",
       "    }\n",
       "\n",
       "    .dataframe thead th {\n",
       "        text-align: right;\n",
       "    }\n",
       "</style>\n",
       "<table border=\"1\" class=\"dataframe\">\n",
       "  <thead>\n",
       "    <tr style=\"text-align: right;\">\n",
       "      <th></th>\n",
       "      <th>price_per_meter</th>\n",
       "    </tr>\n",
       "    <tr>\n",
       "      <th>locality_name</th>\n",
       "      <th></th>\n",
       "    </tr>\n",
       "  </thead>\n",
       "  <tbody>\n",
       "    <tr>\n",
       "      <td>Санкт-Петербург</td>\n",
       "      <td>100799.670786</td>\n",
       "    </tr>\n",
       "    <tr>\n",
       "      <td>Пушкин</td>\n",
       "      <td>97687.173793</td>\n",
       "    </tr>\n",
       "    <tr>\n",
       "      <td>деревня Кудрово</td>\n",
       "      <td>91698.382067</td>\n",
       "    </tr>\n",
       "    <tr>\n",
       "      <td>посёлок Парголово</td>\n",
       "      <td>90150.649972</td>\n",
       "    </tr>\n",
       "    <tr>\n",
       "      <td>посёлок Мурино</td>\n",
       "      <td>84948.923956</td>\n",
       "    </tr>\n",
       "    <tr>\n",
       "      <td>посёлок Шушары</td>\n",
       "      <td>78308.005816</td>\n",
       "    </tr>\n",
       "    <tr>\n",
       "      <td>Колпино</td>\n",
       "      <td>75030.158138</td>\n",
       "    </tr>\n",
       "    <tr>\n",
       "      <td>Гатчина</td>\n",
       "      <td>67876.741337</td>\n",
       "    </tr>\n",
       "    <tr>\n",
       "      <td>Всеволожск</td>\n",
       "      <td>66453.400533</td>\n",
       "    </tr>\n",
       "    <tr>\n",
       "      <td>Выборг</td>\n",
       "      <td>57908.347476</td>\n",
       "    </tr>\n",
       "  </tbody>\n",
       "</table>\n",
       "</div>"
      ],
      "text/plain": [
       "                   price_per_meter\n",
       "locality_name                     \n",
       "Санкт-Петербург      100799.670786\n",
       "Пушкин                97687.173793\n",
       "деревня Кудрово       91698.382067\n",
       "посёлок Парголово     90150.649972\n",
       "посёлок Мурино        84948.923956\n",
       "посёлок Шушары        78308.005816\n",
       "Колпино               75030.158138\n",
       "Гатчина               67876.741337\n",
       "Всеволожск            66453.400533\n",
       "Выборг                57908.347476"
      ]
     },
     "execution_count": 59,
     "metadata": {},
     "output_type": "execute_result"
    }
   ],
   "source": [
    "pivot_locality_top.head(10)"
   ]
  },
  {
   "cell_type": "markdown",
   "metadata": {},
   "source": [
    "Самая высокая цена за квадратный метр в Санкт-Петербурге, в Выборге цена за квадратный метр оказалась ниже остальных населенных пунктов."
   ]
  },
  {
   "cell_type": "code",
   "execution_count": 60,
   "metadata": {},
   "outputs": [],
   "source": [
    "# Выделите квартиры в Санкт-Петербурге и выясним, какая область входит в центр\n",
    "\n",
    "locality_name_spb = df_slice.query('locality_name == \"Санкт-Петербург\"') "
   ]
  },
  {
   "cell_type": "code",
   "execution_count": 61,
   "metadata": {},
   "outputs": [],
   "source": [
    "# Создим столбец с расстоянием до центра в километрах: округлим до целых значений\n",
    "\n",
    "locality_name_spb['cityCenters_nearesеt_spb']= round(locality_name_spb['cityCenters_nearest']/1000,0) \n",
    "\n",
    "import warnings\n",
    "\n",
    "warnings.filterwarnings('ignore')"
   ]
  },
  {
   "cell_type": "code",
   "execution_count": 62,
   "metadata": {},
   "outputs": [],
   "source": [
    "# Посчитаем среднюю цену для каждого километра\n",
    "\n",
    "spb_price = locality_name_spb.groupby('cityCenters_nearesеt_spb')['last_price'].mean()"
   ]
  },
  {
   "cell_type": "code",
   "execution_count": 63,
   "metadata": {},
   "outputs": [
    {
     "data": {
      "image/png": "[encoded data removed]",
      "text/plain": [
       "<Figure size 432x288 with 1 Axes>"
      ]
     },
     "metadata": {
      "needs_background": "light"
     },
     "output_type": "display_data"
    }
   ],
   "source": [
    "# Построим график, посмотрим как цена зависит от удалённости от центра\n",
    "\n",
    "centr = spb_price.plot(kind = 'line', grid = True)\n",
    "centr.set_xlabel('Км')\n",
    "centr.set_ylabel('Количество продаж')\n",
    "plt.show()"
   ]
  },
  {
   "cell_type": "markdown",
   "metadata": {},
   "source": [
    "Падение начинается с отметки 5 км. До 5 км от центра включительно и будет центральным расположением, так мы сможем обнаружить очень яркие отличия показателей по сравнению с отсальной частью города."
   ]
  },
  {
   "cell_type": "code",
   "execution_count": 64,
   "metadata": {},
   "outputs": [],
   "source": [
    "# Выделим сегмент квартир в центре и посмотрим как отличаются выводов по всему городу\n",
    "\n",
    "spb_centr = locality_name_spb.query('(locality_name == \"Санкт-Петербург\") and cityCenters_nearesеt_spb <=5')"
   ]
  },
  {
   "cell_type": "code",
   "execution_count": 65,
   "metadata": {},
   "outputs": [
    {
     "data": {
      "text/html": [
       "<div>\n",
       "<style scoped>\n",
       "    .dataframe tbody tr th:only-of-type {\n",
       "        vertical-align: middle;\n",
       "    }\n",
       "\n",
       "    .dataframe tbody tr th {\n",
       "        vertical-align: top;\n",
       "    }\n",
       "\n",
       "    .dataframe thead th {\n",
       "        text-align: right;\n",
       "    }\n",
       "</style>\n",
       "<table border=\"1\" class=\"dataframe\">\n",
       "  <thead>\n",
       "    <tr style=\"text-align: right;\">\n",
       "      <th></th>\n",
       "      <th>total_images</th>\n",
       "      <th>last_price</th>\n",
       "      <th>total_area</th>\n",
       "      <th>first_day_exposition</th>\n",
       "      <th>rooms</th>\n",
       "      <th>ceiling_height</th>\n",
       "      <th>floors_total</th>\n",
       "      <th>living_area</th>\n",
       "      <th>floor</th>\n",
       "      <th>is_apartment</th>\n",
       "      <th>...</th>\n",
       "      <th>ponds_nearest</th>\n",
       "      <th>days_exposition</th>\n",
       "      <th>price_per_meter</th>\n",
       "      <th>weekday_publication</th>\n",
       "      <th>month_publication</th>\n",
       "      <th>year_publication</th>\n",
       "      <th>floor_category</th>\n",
       "      <th>raсio_living_area</th>\n",
       "      <th>raсio_kitchen_area</th>\n",
       "      <th>cityCenters_nearesеt_spb</th>\n",
       "    </tr>\n",
       "  </thead>\n",
       "  <tbody>\n",
       "    <tr>\n",
       "      <td>24</td>\n",
       "      <td>8</td>\n",
       "      <td>6500000.0</td>\n",
       "      <td>97.2</td>\n",
       "      <td>2015-10-31</td>\n",
       "      <td>2</td>\n",
       "      <td>2.65</td>\n",
       "      <td>3</td>\n",
       "      <td>46.5</td>\n",
       "      <td>1</td>\n",
       "      <td>True</td>\n",
       "      <td>...</td>\n",
       "      <td>124.0</td>\n",
       "      <td>265.0</td>\n",
       "      <td>66872.427984</td>\n",
       "      <td>5</td>\n",
       "      <td>10</td>\n",
       "      <td>2015</td>\n",
       "      <td>первый</td>\n",
       "      <td>0.478395</td>\n",
       "      <td>0.201646</td>\n",
       "      <td>2.0</td>\n",
       "    </tr>\n",
       "    <tr>\n",
       "      <td>138</td>\n",
       "      <td>8</td>\n",
       "      <td>4800000.0</td>\n",
       "      <td>40.0</td>\n",
       "      <td>2017-11-18</td>\n",
       "      <td>2</td>\n",
       "      <td>2.65</td>\n",
       "      <td>3</td>\n",
       "      <td>29.0</td>\n",
       "      <td>2</td>\n",
       "      <td>True</td>\n",
       "      <td>...</td>\n",
       "      <td>729.0</td>\n",
       "      <td>80.0</td>\n",
       "      <td>120000.000000</td>\n",
       "      <td>5</td>\n",
       "      <td>11</td>\n",
       "      <td>2017</td>\n",
       "      <td>другой</td>\n",
       "      <td>0.725000</td>\n",
       "      <td>0.150000</td>\n",
       "      <td>3.0</td>\n",
       "    </tr>\n",
       "    <tr>\n",
       "      <td>141</td>\n",
       "      <td>8</td>\n",
       "      <td>6500000.0</td>\n",
       "      <td>32.6</td>\n",
       "      <td>2019-02-27</td>\n",
       "      <td>1</td>\n",
       "      <td>2.65</td>\n",
       "      <td>5</td>\n",
       "      <td>18.5</td>\n",
       "      <td>5</td>\n",
       "      <td>True</td>\n",
       "      <td>...</td>\n",
       "      <td>NaN</td>\n",
       "      <td>95.0</td>\n",
       "      <td>199386.503067</td>\n",
       "      <td>2</td>\n",
       "      <td>2</td>\n",
       "      <td>2019</td>\n",
       "      <td>последний</td>\n",
       "      <td>0.567485</td>\n",
       "      <td>0.168712</td>\n",
       "      <td>5.0</td>\n",
       "    </tr>\n",
       "    <tr>\n",
       "      <td>291</td>\n",
       "      <td>10</td>\n",
       "      <td>5900000.0</td>\n",
       "      <td>70.0</td>\n",
       "      <td>2017-01-24</td>\n",
       "      <td>3</td>\n",
       "      <td>2.51</td>\n",
       "      <td>5</td>\n",
       "      <td>47.4</td>\n",
       "      <td>1</td>\n",
       "      <td>True</td>\n",
       "      <td>...</td>\n",
       "      <td>118.0</td>\n",
       "      <td>480.0</td>\n",
       "      <td>84285.714286</td>\n",
       "      <td>1</td>\n",
       "      <td>1</td>\n",
       "      <td>2017</td>\n",
       "      <td>первый</td>\n",
       "      <td>0.677143</td>\n",
       "      <td>0.114286</td>\n",
       "      <td>4.0</td>\n",
       "    </tr>\n",
       "    <tr>\n",
       "      <td>305</td>\n",
       "      <td>12</td>\n",
       "      <td>6283000.0</td>\n",
       "      <td>70.8</td>\n",
       "      <td>2017-10-05</td>\n",
       "      <td>3</td>\n",
       "      <td>2.65</td>\n",
       "      <td>5</td>\n",
       "      <td>50.9</td>\n",
       "      <td>5</td>\n",
       "      <td>True</td>\n",
       "      <td>...</td>\n",
       "      <td>NaN</td>\n",
       "      <td>61.0</td>\n",
       "      <td>88742.937853</td>\n",
       "      <td>3</td>\n",
       "      <td>10</td>\n",
       "      <td>2017</td>\n",
       "      <td>последний</td>\n",
       "      <td>0.718927</td>\n",
       "      <td>0.115819</td>\n",
       "      <td>4.0</td>\n",
       "    </tr>\n",
       "  </tbody>\n",
       "</table>\n",
       "<p>5 rows × 30 columns</p>\n",
       "</div>"
      ],
      "text/plain": [
       "     total_images  last_price  total_area first_day_exposition  rooms  \\\n",
       "24              8   6500000.0        97.2           2015-10-31      2   \n",
       "138             8   4800000.0        40.0           2017-11-18      2   \n",
       "141             8   6500000.0        32.6           2019-02-27      1   \n",
       "291            10   5900000.0        70.0           2017-01-24      3   \n",
       "305            12   6283000.0        70.8           2017-10-05      3   \n",
       "\n",
       "     ceiling_height  floors_total  living_area  floor  is_apartment  ...  \\\n",
       "24             2.65             3         46.5      1          True  ...   \n",
       "138            2.65             3         29.0      2          True  ...   \n",
       "141            2.65             5         18.5      5          True  ...   \n",
       "291            2.51             5         47.4      1          True  ...   \n",
       "305            2.65             5         50.9      5          True  ...   \n",
       "\n",
       "     ponds_nearest  days_exposition  price_per_meter  weekday_publication  \\\n",
       "24           124.0            265.0     66872.427984                    5   \n",
       "138          729.0             80.0    120000.000000                    5   \n",
       "141            NaN             95.0    199386.503067                    2   \n",
       "291          118.0            480.0     84285.714286                    1   \n",
       "305            NaN             61.0     88742.937853                    3   \n",
       "\n",
       "    month_publication  year_publication  floor_category  raсio_living_area  \\\n",
       "24                 10              2015          первый           0.478395   \n",
       "138                11              2017          другой           0.725000   \n",
       "141                 2              2019       последний           0.567485   \n",
       "291                 1              2017          первый           0.677143   \n",
       "305                10              2017       последний           0.718927   \n",
       "\n",
       "     raсio_kitchen_area  cityCenters_nearesеt_spb  \n",
       "24             0.201646                       2.0  \n",
       "138            0.150000                       3.0  \n",
       "141            0.168712                       5.0  \n",
       "291            0.114286                       4.0  \n",
       "305            0.115819                       4.0  \n",
       "\n",
       "[5 rows x 30 columns]"
      ]
     },
     "execution_count": 65,
     "metadata": {},
     "output_type": "execute_result"
    }
   ],
   "source": [
    "spb_centr.head()"
   ]
  },
  {
   "cell_type": "code",
   "execution_count": 66,
   "metadata": {},
   "outputs": [
    {
     "data": {
      "image/png": "[encoded data removed]",
      "text/plain": [
       "<Figure size 432x288 with 1 Axes>"
      ]
     },
     "metadata": {
      "needs_background": "light"
     },
     "output_type": "display_data"
    }
   ],
   "source": [
    "hist_centr = spb_centr['total_area'].hist()\n",
    "hist_centr.set_xlabel('Площадь квартиры')\n",
    "hist_centr.set_ylabel('Количество продаж')\n",
    "hist_centr.set_title('Центр Санкт-Петербурга')\n",
    "plt.show()"
   ]
  },
  {
   "cell_type": "code",
   "execution_count": 67,
   "metadata": {},
   "outputs": [
    {
     "data": {
      "text/plain": [
       "count    429.000000\n",
       "mean      50.377156\n",
       "std       14.750961\n",
       "min       12.000000\n",
       "25%       40.300000\n",
       "50%       48.000000\n",
       "75%       60.200000\n",
       "max       97.200000\n",
       "Name: total_area, dtype: float64"
      ]
     },
     "execution_count": 67,
     "metadata": {},
     "output_type": "execute_result"
    }
   ],
   "source": [
    "spb_centr['total_area'].describe()"
   ]
  },
  {
   "cell_type": "markdown",
   "metadata": {},
   "source": [
    "Самый продаваемые квартиры для центра Санкт-Петербурга с площадью 48-60 кв. метров"
   ]
  },
  {
   "cell_type": "code",
   "execution_count": 68,
   "metadata": {},
   "outputs": [
    {
     "data": {
      "image/png": "[encoded data removed]",
      "text/plain": [
       "<Figure size 432x288 with 1 Axes>"
      ]
     },
     "metadata": {
      "needs_background": "light"
     },
     "output_type": "display_data"
    }
   ],
   "source": [
    "hist_spb = locality_name_spb['total_area'].hist()\n",
    "hist_spb.set_xlabel('Площадь квартиры')\n",
    "hist_spb.set_ylabel('Количество продаж')\n",
    "hist_spb.set_title('Санкт-Петербург')\n",
    "plt.show()"
   ]
  },
  {
   "cell_type": "code",
   "execution_count": 69,
   "metadata": {},
   "outputs": [
    {
     "data": {
      "text/plain": [
       "count    9791.000000\n",
       "mean       47.087434\n",
       "std        12.765083\n",
       "min        12.000000\n",
       "25%        37.390000\n",
       "50%        45.000000\n",
       "75%        55.530000\n",
       "max        98.610000\n",
       "Name: total_area, dtype: float64"
      ]
     },
     "execution_count": 69,
     "metadata": {},
     "output_type": "execute_result"
    }
   ],
   "source": [
    "locality_name_spb['total_area'].describe()"
   ]
  },
  {
   "cell_type": "markdown",
   "metadata": {},
   "source": [
    "Самый продаваемые квартиры для Санкт-Петербурга с площадью 45-55 кв. метров. Почти не значительные расхождения с центром."
   ]
  },
  {
   "cell_type": "code",
   "execution_count": 70,
   "metadata": {},
   "outputs": [
    {
     "data": {
      "image/png": "[encoded data removed]",
      "text/plain": [
       "<Figure size 432x288 with 1 Axes>"
      ]
     },
     "metadata": {
      "needs_background": "light"
     },
     "output_type": "display_data"
    },
    {
     "data": {
      "text/plain": [
       "count    4.290000e+02\n",
       "mean     5.393873e+06\n",
       "std      1.027207e+06\n",
       "min      1.600000e+06\n",
       "25%      4.800000e+06\n",
       "50%      5.500000e+06\n",
       "75%      6.250000e+06\n",
       "max      6.790000e+06\n",
       "Name: last_price, dtype: float64"
      ]
     },
     "execution_count": 70,
     "metadata": {},
     "output_type": "execute_result"
    }
   ],
   "source": [
    "hist_price_centr = spb_centr['last_price'].hist()\n",
    "hist_price_centr.set_xlabel('Стоимость квартиры')\n",
    "hist_price_centr.set_ylabel('Количество продаж')\n",
    "hist_price_centr.set_title('Центр Санкт-Петербурга')\n",
    "plt.show()\n",
    "spb_centr['last_price'].describe()"
   ]
  },
  {
   "cell_type": "code",
   "execution_count": 71,
   "metadata": {},
   "outputs": [
    {
     "data": {
      "image/png": "[encoded data removed]",
      "text/plain": [
       "<Figure size 432x288 with 1 Axes>"
      ]
     },
     "metadata": {
      "needs_background": "light"
     },
     "output_type": "display_data"
    },
    {
     "data": {
      "text/plain": [
       "count    9.791000e+03\n",
       "mean     4.619597e+06\n",
       "std      1.043739e+06\n",
       "min      1.190000e+06\n",
       "25%      3.800000e+06\n",
       "50%      4.525000e+06\n",
       "75%      5.400000e+06\n",
       "max      6.799000e+06\n",
       "Name: last_price, dtype: float64"
      ]
     },
     "execution_count": 71,
     "metadata": {},
     "output_type": "execute_result"
    }
   ],
   "source": [
    "hist_price_spb = locality_name_spb['last_price'].hist()\n",
    "hist_price_spb.set_xlabel('Стоимость квартиры')\n",
    "hist_price_spb.set_ylabel('Количество продаж')\n",
    "hist_price_spb.set_title('Санкт-Петербург')\n",
    "plt.show()\n",
    "locality_name_spb['last_price'].describe()"
   ]
  },
  {
   "cell_type": "markdown",
   "metadata": {},
   "source": [
    "Ожидаемо в центре квартире дороже"
   ]
  },
  {
   "cell_type": "code",
   "execution_count": 72,
   "metadata": {},
   "outputs": [
    {
     "data": {
      "image/png": "[encoded data removed]",
      "text/plain": [
       "<Figure size 432x288 with 1 Axes>"
      ]
     },
     "metadata": {
      "needs_background": "light"
     },
     "output_type": "display_data"
    }
   ],
   "source": [
    "hist_rooms_centr = spb_centr['rooms'].hist()\n",
    "hist_rooms_centr.set_xlabel('Комнаты в квартире')\n",
    "hist_rooms_centr.set_ylabel('Количество продаж')\n",
    "hist_rooms_centr.set_title('Центр Санкт-Петербурга')\n",
    "plt.show()"
   ]
  },
  {
   "cell_type": "code",
   "execution_count": 73,
   "metadata": {},
   "outputs": [
    {
     "data": {
      "image/png": "[encoded data removed]",
      "text/plain": [
       "<Figure size 432x288 with 1 Axes>"
      ]
     },
     "metadata": {
      "needs_background": "light"
     },
     "output_type": "display_data"
    }
   ],
   "source": [
    "hist_rooms_spb = locality_name_spb['rooms'].hist()\n",
    "hist_rooms_spb.set_xlabel('Комнаты в квартире')\n",
    "hist_rooms_spb.set_ylabel('Количество продаж')\n",
    "hist_rooms_spb.set_title('Санкт-Петербург')\n",
    "plt.show()"
   ]
  },
  {
   "cell_type": "markdown",
   "metadata": {},
   "source": [
    "В отличии от города в целом, в центре большей популярность пользуются 2х комнатные квартиры. 4  комнатные квартиры в центре наоборот продаются чаще.\n"
   ]
  },
  {
   "cell_type": "code",
   "execution_count": 74,
   "metadata": {},
   "outputs": [
    {
     "data": {
      "image/png": "[encoded data removed]",
      "text/plain": [
       "<Figure size 432x288 with 1 Axes>"
      ]
     },
     "metadata": {
      "needs_background": "light"
     },
     "output_type": "display_data"
    },
    {
     "data": {
      "text/plain": [
       "count    429.000000\n",
       "mean       2.726970\n",
       "std        0.139656\n",
       "min        2.450000\n",
       "25%        2.650000\n",
       "50%        2.650000\n",
       "75%        2.800000\n",
       "max        3.000000\n",
       "Name: ceiling_height, dtype: float64"
      ]
     },
     "execution_count": 74,
     "metadata": {},
     "output_type": "execute_result"
    }
   ],
   "source": [
    "hist_ceilings_centr = spb_centr['ceiling_height'].hist()\n",
    "hist_ceilings_centr.set_xlabel('Высота потолков')\n",
    "hist_ceilings_centr.set_ylabel('Количество продаж')\n",
    "hist_ceilings_centr.set_title('Центр Санкт-Петербурга')\n",
    "plt.show()\n",
    "spb_centr['ceiling_height'].describe()"
   ]
  },
  {
   "cell_type": "code",
   "execution_count": 75,
   "metadata": {},
   "outputs": [
    {
     "data": {
      "image/png": "[encoded data removed]",
      "text/plain": [
       "<Figure size 432x288 with 1 Axes>"
      ]
     },
     "metadata": {
      "needs_background": "light"
     },
     "output_type": "display_data"
    },
    {
     "data": {
      "text/plain": [
       "count    9791.000000\n",
       "mean        2.633287\n",
       "std         0.105445\n",
       "min         2.400000\n",
       "25%         2.550000\n",
       "50%         2.650000\n",
       "75%         2.650000\n",
       "max         3.000000\n",
       "Name: ceiling_height, dtype: float64"
      ]
     },
     "execution_count": 75,
     "metadata": {},
     "output_type": "execute_result"
    }
   ],
   "source": [
    "hist_ceilings_spb = locality_name_spb['ceiling_height'].hist()\n",
    "hist_ceilings_spb.set_xlabel('Высота потолков')\n",
    "hist_ceilings_spb.set_ylabel('Количество продаж')\n",
    "hist_ceilings_spb.set_title('Санкт-Петербург')\n",
    "plt.show()\n",
    "locality_name_spb['ceiling_height'].describe()"
   ]
  },
  {
   "cell_type": "markdown",
   "metadata": {},
   "source": [
    "Средняя высота потолков в объявлениях из центра на 10 см превышает высоту потолков по городу в целом."
   ]
  },
  {
   "cell_type": "code",
   "execution_count": 76,
   "metadata": {},
   "outputs": [],
   "source": [
    "rooms_price = locality_name_spb.groupby('rooms')['last_price'].mean()"
   ]
  },
  {
   "cell_type": "code",
   "execution_count": 77,
   "metadata": {},
   "outputs": [
    {
     "data": {
      "image/png": "[encoded data removed]",
      "text/plain": [
       "<Figure size 432x288 with 1 Axes>"
      ]
     },
     "metadata": {
      "needs_background": "light"
     },
     "output_type": "display_data"
    }
   ],
   "source": [
    "rooms_price_plot = rooms_price.plot(kind = 'line', grid = True)\n",
    "rooms_price_plot.set_xlabel('Количество комнат в квартире')\n",
    "rooms_price_plot.set_ylabel('Стоимость квартиры')\n",
    "rooms_price_plot.set_title('Изменение цены от количества комнат')\n",
    "plt.show()"
   ]
  },
  {
   "cell_type": "markdown",
   "metadata": {},
   "source": [
    "Самые дорогие квартиры трехкомнатные"
   ]
  },
  {
   "cell_type": "code",
   "execution_count": 78,
   "metadata": {},
   "outputs": [],
   "source": [
    "floor_price = locality_name_spb.groupby('floor_category')['last_price'].mean()"
   ]
  },
  {
   "cell_type": "code",
   "execution_count": 79,
   "metadata": {},
   "outputs": [
    {
     "data": {
      "image/png": "[encoded data removed]",
      "text/plain": [
       "<Figure size 432x288 with 1 Axes>"
      ]
     },
     "metadata": {
      "needs_background": "light"
     },
     "output_type": "display_data"
    }
   ],
   "source": [
    "floor_price_plot = floor_price.plot()\n",
    "floor_price_plot.set_xlabel('Этаж')\n",
    "floor_price_plot.set_ylabel('Стоимость квартиры')\n",
    "floor_price_plot.set_title('Влияние цены от этажа квартры')\n",
    "plt.show()"
   ]
  },
  {
   "cell_type": "code",
   "execution_count": 80,
   "metadata": {},
   "outputs": [],
   "source": [
    "cityCenters_nearest_price = locality_name_spb.groupby('cityCenters_nearest')['last_price'].mean()"
   ]
  },
  {
   "cell_type": "code",
   "execution_count": 81,
   "metadata": {},
   "outputs": [
    {
     "data": {
      "image/png": "[encoded data removed]",
      "text/plain": [
       "<Figure size 432x288 with 1 Axes>"
      ]
     },
     "metadata": {
      "needs_background": "light"
     },
     "output_type": "display_data"
    }
   ],
   "source": [
    "nearest_price_hist = cityCenters_nearest_price.hist()\n",
    "nearest_price_hist.set_xlabel('Стоимость квартиры')\n",
    "nearest_price_hist.set_ylabel('Удаленность от центра')\n",
    "nearest_price_hist.set_title('Влияние цены от удаленности от центра')\n",
    "plt.show()"
   ]
  },
  {
   "cell_type": "code",
   "execution_count": 82,
   "metadata": {},
   "outputs": [],
   "source": [
    "day_exposition_price = locality_name_spb.groupby('first_day_exposition')['last_price'].mean() "
   ]
  },
  {
   "cell_type": "code",
   "execution_count": 83,
   "metadata": {},
   "outputs": [
    {
     "data": {
      "image/png": "[encoded data removed]",
      "text/plain": [
       "<Figure size 432x288 with 1 Axes>"
      ]
     },
     "metadata": {
      "needs_background": "light"
     },
     "output_type": "display_data"
    }
   ],
   "source": [
    "publ_price_plot = day_exposition_price.plot(x='first_day_exposition', y='last_price', style='o',grid=True)\n",
    "publ_price_plot.set_xlabel('Дата публикации объявления')\n",
    "publ_price_plot.set_ylabel('Стоимость квартиры')\n",
    "publ_price_plot.set_title('Влияние цены от даты публикации объявления')\n",
    "plt.show()"
   ]
  },
  {
   "cell_type": "markdown",
   "metadata": {},
   "source": [
    "## Общий вывод<a name=\"part_7\"></a>"
   ]
  },
  {
   "cell_type": "markdown",
   "metadata": {},
   "source": [
    "Для объекта изучения были выбраны только проданные квартиры, чтобы изучить факторы влияния на продажи необходимо также изучить данные и по квартирам, которые не были проданы. \n",
    "\n",
    "Основное распределение площади проданной недвижимости лежит в промежутке от 25 до 100 квадратных метров, среднее значения площади всех представленных квартир 45 кв.м. Шире всего на рынке представлены квартиры площадью от 29 до 52 кв.м. В основном Основная цены на квартиры варьируются в диапазоне от 3,4 до 6,8 млн рублей. \n",
    "\n",
    "Больше всего продаются однокомнатных и двухкомнатных квартиры. Стандартные значения потолка 2,65 - 2,70 метров. Цикл продажи длится от 1 дня до 400, выбиваются продажи с циклом от 800 до 1580, скорее всего это недвижимость сегмента премиум или недвижимость с завышенной стоимостью. 75 % объявлений снимаются по окончанию 199 дней, если объект недвижимости продается дольше, стоит в качестве рекомендации продавцу обратить внимание на условия продажи.  Самая высокая цена за квадратный метр в Санкт-Петербурге, в Выборге цена за квадратный метр оказалась ниже остальных населенных пунктов\n",
    "\n",
    "Объявления внутри Санкт-Петербурга были отдельно изучены, графически было определена область центра города (радиус 5 км включительно). Ожидаемо в центре города квартиры дороже отличии от города в целом, также центре большей популярность пользуются 2х комнатные квартиры. Средняя высота потолков в объявлениях из центра на 10 см превышает высоту потолков по городу в целом.\n"
   ]
  },
  {
   "cell_type": "code",
   "execution_count": null,
   "metadata": {},
   "outputs": [],
   "source": []
  }
 ],
 "metadata": {
  "ExecuteTimeLog": [
   {
    "duration": 1178,
    "start_time": "2021-06-10T12:11:02.295Z"
   },
   {
    "duration": 69,
    "start_time": "2021-06-10T12:11:03.475Z"
   },
   {
    "duration": 17,
    "start_time": "2021-06-10T12:11:05.842Z"
   },
   {
    "duration": 14,
    "start_time": "2021-06-10T12:11:07.154Z"
   },
   {
    "duration": 14,
    "start_time": "2021-06-10T12:11:07.542Z"
   },
   {
    "duration": 39,
    "start_time": "2021-06-10T12:11:07.887Z"
   },
   {
    "duration": 3,
    "start_time": "2021-06-10T14:04:45.532Z"
   },
   {
    "duration": 4,
    "start_time": "2021-06-10T14:04:46.592Z"
   },
   {
    "duration": 90,
    "start_time": "2021-06-10T14:04:57.804Z"
   },
   {
    "duration": 35,
    "start_time": "2021-06-10T14:05:00.723Z"
   },
   {
    "duration": 14,
    "start_time": "2021-06-10T14:05:29.868Z"
   },
   {
    "duration": 13,
    "start_time": "2021-06-10T14:05:30.475Z"
   },
   {
    "duration": 41,
    "start_time": "2021-06-10T14:05:47.526Z"
   },
   {
    "duration": 12,
    "start_time": "2021-06-10T14:30:48.093Z"
   },
   {
    "duration": 6,
    "start_time": "2021-06-10T14:33:05.809Z"
   },
   {
    "duration": 452,
    "start_time": "2021-06-10T14:33:06.351Z"
   },
   {
    "duration": 4,
    "start_time": "2021-06-10T14:36:32.383Z"
   },
   {
    "duration": 4,
    "start_time": "2021-06-10T14:36:32.941Z"
   },
   {
    "duration": 94,
    "start_time": "2021-06-10T14:36:34.376Z"
   },
   {
    "duration": 36,
    "start_time": "2021-06-10T14:36:34.949Z"
   },
   {
    "duration": 16,
    "start_time": "2021-06-10T14:36:35.458Z"
   },
   {
    "duration": 15,
    "start_time": "2021-06-10T14:36:35.915Z"
   },
   {
    "duration": 14,
    "start_time": "2021-06-10T14:36:36.285Z"
   },
   {
    "duration": 38,
    "start_time": "2021-06-10T14:36:36.742Z"
   },
   {
    "duration": 15,
    "start_time": "2021-06-10T14:36:39.921Z"
   },
   {
    "duration": 7,
    "start_time": "2021-06-10T14:36:40.421Z"
   },
   {
    "duration": 6,
    "start_time": "2021-06-10T14:36:40.993Z"
   },
   {
    "duration": 5,
    "start_time": "2021-06-10T14:36:41.833Z"
   },
   {
    "duration": 5,
    "start_time": "2021-06-10T14:36:42.513Z"
   },
   {
    "duration": 5,
    "start_time": "2021-06-10T14:36:43.201Z"
   },
   {
    "duration": 12,
    "start_time": "2021-06-10T14:36:43.796Z"
   },
   {
    "duration": 5,
    "start_time": "2021-06-10T14:36:44.409Z"
   },
   {
    "duration": 5,
    "start_time": "2021-06-10T14:36:45.405Z"
   },
   {
    "duration": 6,
    "start_time": "2021-06-10T14:36:45.912Z"
   },
   {
    "duration": 5,
    "start_time": "2021-06-10T14:36:46.358Z"
   },
   {
    "duration": 6,
    "start_time": "2021-06-10T14:36:47.421Z"
   },
   {
    "duration": 5,
    "start_time": "2021-06-10T14:36:48.218Z"
   },
   {
    "duration": 13,
    "start_time": "2021-06-10T14:36:48.837Z"
   },
   {
    "duration": 9,
    "start_time": "2021-06-10T14:36:49.767Z"
   },
   {
    "duration": 10,
    "start_time": "2021-06-10T14:36:50.490Z"
   },
   {
    "duration": 5,
    "start_time": "2021-06-10T14:36:51.233Z"
   },
   {
    "duration": 9,
    "start_time": "2021-06-10T14:36:51.958Z"
   },
   {
    "duration": 6,
    "start_time": "2021-06-10T14:36:54.467Z"
   },
   {
    "duration": 18,
    "start_time": "2021-06-10T14:36:55.185Z"
   },
   {
    "duration": 935,
    "start_time": "2021-06-10T14:38:14.643Z"
   },
   {
    "duration": 11,
    "start_time": "2021-06-10T14:38:16.894Z"
   },
   {
    "duration": 5,
    "start_time": "2021-06-10T14:39:41.230Z"
   },
   {
    "duration": 5,
    "start_time": "2021-06-10T14:39:42.245Z"
   },
   {
    "duration": 35,
    "start_time": "2021-06-10T14:39:49.380Z"
   },
   {
    "duration": 622,
    "start_time": "2021-06-10T14:40:31.518Z"
   },
   {
    "duration": 566,
    "start_time": "2021-06-10T14:42:10.613Z"
   },
   {
    "duration": 12,
    "start_time": "2021-06-10T14:42:14.313Z"
   },
   {
    "duration": 351,
    "start_time": "2021-06-10T14:43:11.234Z"
   },
   {
    "duration": 11,
    "start_time": "2021-06-10T14:43:20.719Z"
   },
   {
    "duration": 580,
    "start_time": "2021-06-10T14:44:25.194Z"
   },
   {
    "duration": 12,
    "start_time": "2021-06-10T14:44:32.974Z"
   },
   {
    "duration": 667,
    "start_time": "2021-06-10T14:46:25.378Z"
   },
   {
    "duration": 726,
    "start_time": "2021-06-11T08:31:57.568Z"
   },
   {
    "duration": 3,
    "start_time": "2021-06-11T08:31:58.296Z"
   },
   {
    "duration": 75,
    "start_time": "2021-06-11T08:31:58.302Z"
   },
   {
    "duration": 33,
    "start_time": "2021-06-11T08:31:58.379Z"
   },
   {
    "duration": 13,
    "start_time": "2021-06-11T08:31:58.414Z"
   },
   {
    "duration": 8,
    "start_time": "2021-06-11T08:31:58.428Z"
   },
   {
    "duration": 9,
    "start_time": "2021-06-11T08:31:58.438Z"
   },
   {
    "duration": 62,
    "start_time": "2021-06-11T08:31:58.449Z"
   },
   {
    "duration": 4,
    "start_time": "2021-06-11T08:31:58.513Z"
   },
   {
    "duration": 6,
    "start_time": "2021-06-11T08:31:58.518Z"
   },
   {
    "duration": 5,
    "start_time": "2021-06-11T08:31:58.526Z"
   },
   {
    "duration": 4,
    "start_time": "2021-06-11T08:31:58.532Z"
   },
   {
    "duration": 10,
    "start_time": "2021-06-11T08:31:58.538Z"
   },
   {
    "duration": 4,
    "start_time": "2021-06-11T08:31:58.550Z"
   },
   {
    "duration": 31,
    "start_time": "2021-06-11T08:31:58.555Z"
   },
   {
    "duration": 5,
    "start_time": "2021-06-11T08:31:58.588Z"
   },
   {
    "duration": 6,
    "start_time": "2021-06-11T08:31:58.594Z"
   },
   {
    "duration": 7,
    "start_time": "2021-06-11T08:31:58.602Z"
   },
   {
    "duration": 5,
    "start_time": "2021-06-11T08:31:58.611Z"
   },
   {
    "duration": 9,
    "start_time": "2021-06-11T08:31:58.618Z"
   },
   {
    "duration": 16,
    "start_time": "2021-06-11T08:31:58.628Z"
   },
   {
    "duration": 40,
    "start_time": "2021-06-11T08:31:58.646Z"
   },
   {
    "duration": 4,
    "start_time": "2021-06-11T08:31:58.690Z"
   },
   {
    "duration": 11,
    "start_time": "2021-06-11T08:31:58.696Z"
   },
   {
    "duration": 5,
    "start_time": "2021-06-11T08:31:58.709Z"
   },
   {
    "duration": 15,
    "start_time": "2021-06-11T08:31:58.716Z"
   },
   {
    "duration": 594,
    "start_time": "2021-06-11T08:31:58.733Z"
   },
   {
    "duration": 7,
    "start_time": "2021-06-11T08:31:59.329Z"
   },
   {
    "duration": 8,
    "start_time": "2021-06-11T08:31:59.338Z"
   },
   {
    "duration": 8,
    "start_time": "2021-06-11T08:31:59.348Z"
   },
   {
    "duration": 39,
    "start_time": "2021-06-11T08:31:59.358Z"
   },
   {
    "duration": 447,
    "start_time": "2021-06-11T08:31:59.399Z"
   },
   {
    "duration": 9,
    "start_time": "2021-06-11T08:31:59.847Z"
   },
   {
    "duration": 385,
    "start_time": "2021-06-11T08:31:59.857Z"
   },
   {
    "duration": 8,
    "start_time": "2021-06-11T08:32:00.244Z"
   },
   {
    "duration": 256,
    "start_time": "2021-06-11T08:32:00.254Z"
   },
   {
    "duration": 9,
    "start_time": "2021-06-11T08:32:00.511Z"
   },
   {
    "duration": 383,
    "start_time": "2021-06-11T08:32:00.521Z"
   },
   {
    "duration": 10,
    "start_time": "2021-06-11T08:32:00.905Z"
   },
   {
    "duration": 391,
    "start_time": "2021-06-11T08:32:00.916Z"
   },
   {
    "duration": 9,
    "start_time": "2021-06-11T08:32:01.309Z"
   },
   {
    "duration": 30,
    "start_time": "2021-06-11T08:32:01.320Z"
   },
   {
    "duration": 98,
    "start_time": "2021-06-11T08:32:01.352Z"
   },
   {
    "duration": 5,
    "start_time": "2021-06-11T08:32:01.452Z"
   },
   {
    "duration": 385,
    "start_time": "2021-06-11T08:32:01.459Z"
   },
   {
    "duration": 6,
    "start_time": "2021-06-11T08:32:01.846Z"
   },
   {
    "duration": 492,
    "start_time": "2021-06-11T08:32:01.854Z"
   },
   {
    "duration": 5,
    "start_time": "2021-06-11T08:32:02.348Z"
   },
   {
    "duration": 570,
    "start_time": "2021-06-11T08:32:02.355Z"
   },
   {
    "duration": 969,
    "start_time": "2021-06-11T08:32:02.927Z"
   },
   {
    "duration": 11,
    "start_time": "2021-06-11T08:32:03.898Z"
   },
   {
    "duration": 1327,
    "start_time": "2021-06-11T08:32:03.911Z"
   },
   {
    "duration": 5,
    "start_time": "2021-06-11T08:32:05.240Z"
   },
   {
    "duration": 12,
    "start_time": "2021-06-11T08:32:05.247Z"
   },
   {
    "duration": 49,
    "start_time": "2021-06-11T08:32:05.261Z"
   },
   {
    "duration": 10,
    "start_time": "2021-06-11T08:32:05.312Z"
   },
   {
    "duration": 7,
    "start_time": "2021-06-11T08:32:05.323Z"
   },
   {
    "duration": 11,
    "start_time": "2021-06-11T08:32:05.331Z"
   },
   {
    "duration": 5,
    "start_time": "2021-06-11T08:32:05.343Z"
   },
   {
    "duration": 35,
    "start_time": "2021-06-11T08:32:05.350Z"
   },
   {
    "duration": 205,
    "start_time": "2021-06-11T08:32:05.387Z"
   },
   {
    "duration": 7,
    "start_time": "2021-06-11T08:32:05.594Z"
   },
   {
    "duration": 27,
    "start_time": "2021-06-11T08:32:05.603Z"
   },
   {
    "duration": 220,
    "start_time": "2021-06-11T08:32:05.632Z"
   },
   {
    "duration": 8,
    "start_time": "2021-06-11T08:32:05.853Z"
   },
   {
    "duration": 219,
    "start_time": "2021-06-11T08:32:05.863Z"
   },
   {
    "duration": 9,
    "start_time": "2021-06-11T08:32:06.085Z"
   },
   {
    "duration": 229,
    "start_time": "2021-06-11T08:32:06.099Z"
   },
   {
    "duration": 343,
    "start_time": "2021-06-11T08:32:06.330Z"
   },
   {
    "duration": 240,
    "start_time": "2021-06-11T08:32:06.675Z"
   },
   {
    "duration": 223,
    "start_time": "2021-06-11T08:32:06.917Z"
   },
   {
    "duration": 221,
    "start_time": "2021-06-11T08:32:07.141Z"
   },
   {
    "duration": 238,
    "start_time": "2021-06-11T08:32:07.364Z"
   },
   {
    "duration": 4,
    "start_time": "2021-06-11T08:32:07.604Z"
   },
   {
    "duration": 233,
    "start_time": "2021-06-11T08:32:07.610Z"
   },
   {
    "duration": 5,
    "start_time": "2021-06-11T08:32:07.845Z"
   },
   {
    "duration": 184,
    "start_time": "2021-06-11T08:32:07.851Z"
   },
   {
    "duration": 5,
    "start_time": "2021-06-11T08:32:08.037Z"
   },
   {
    "duration": 229,
    "start_time": "2021-06-11T08:32:08.044Z"
   },
   {
    "duration": 5,
    "start_time": "2021-06-11T08:32:08.275Z"
   },
   {
    "duration": 269,
    "start_time": "2021-06-11T08:32:08.285Z"
   },
   {
    "duration": 348,
    "start_time": "2021-06-11T08:32:26.856Z"
   },
   {
    "duration": 715,
    "start_time": "2021-06-11T09:59:14.275Z"
   },
   {
    "duration": 2,
    "start_time": "2021-06-11T09:59:14.992Z"
   },
   {
    "duration": 84,
    "start_time": "2021-06-11T09:59:14.996Z"
   },
   {
    "duration": 27,
    "start_time": "2021-06-11T09:59:15.082Z"
   },
   {
    "duration": 11,
    "start_time": "2021-06-11T09:59:15.110Z"
   },
   {
    "duration": 8,
    "start_time": "2021-06-11T09:59:15.122Z"
   },
   {
    "duration": 8,
    "start_time": "2021-06-11T09:59:15.132Z"
   },
   {
    "duration": 59,
    "start_time": "2021-06-11T09:59:15.142Z"
   },
   {
    "duration": 4,
    "start_time": "2021-06-11T09:59:15.205Z"
   },
   {
    "duration": 5,
    "start_time": "2021-06-11T09:59:15.211Z"
   },
   {
    "duration": 5,
    "start_time": "2021-06-11T09:59:15.218Z"
   },
   {
    "duration": 5,
    "start_time": "2021-06-11T09:59:15.225Z"
   },
   {
    "duration": 11,
    "start_time": "2021-06-11T09:59:15.232Z"
   },
   {
    "duration": 4,
    "start_time": "2021-06-11T09:59:15.244Z"
   },
   {
    "duration": 4,
    "start_time": "2021-06-11T09:59:15.285Z"
   },
   {
    "duration": 5,
    "start_time": "2021-06-11T09:59:15.291Z"
   },
   {
    "duration": 5,
    "start_time": "2021-06-11T09:59:15.297Z"
   },
   {
    "duration": 8,
    "start_time": "2021-06-11T09:59:15.303Z"
   },
   {
    "duration": 4,
    "start_time": "2021-06-11T09:59:15.313Z"
   },
   {
    "duration": 12,
    "start_time": "2021-06-11T09:59:15.319Z"
   },
   {
    "duration": 8,
    "start_time": "2021-06-11T09:59:15.332Z"
   },
   {
    "duration": 10,
    "start_time": "2021-06-11T09:59:15.342Z"
   },
   {
    "duration": 4,
    "start_time": "2021-06-11T09:59:15.385Z"
   },
   {
    "duration": 11,
    "start_time": "2021-06-11T09:59:15.391Z"
   },
   {
    "duration": 7,
    "start_time": "2021-06-11T09:59:15.404Z"
   },
   {
    "duration": 16,
    "start_time": "2021-06-11T09:59:15.413Z"
   },
   {
    "duration": 603,
    "start_time": "2021-06-11T09:59:15.433Z"
   },
   {
    "duration": 8,
    "start_time": "2021-06-11T09:59:16.039Z"
   },
   {
    "duration": 5,
    "start_time": "2021-06-11T09:59:16.049Z"
   },
   {
    "duration": 8,
    "start_time": "2021-06-11T09:59:16.056Z"
   },
   {
    "duration": 38,
    "start_time": "2021-06-11T09:59:16.066Z"
   },
   {
    "duration": 426,
    "start_time": "2021-06-11T09:59:16.105Z"
   },
   {
    "duration": 10,
    "start_time": "2021-06-11T09:59:16.532Z"
   },
   {
    "duration": 369,
    "start_time": "2021-06-11T09:59:16.544Z"
   },
   {
    "duration": 11,
    "start_time": "2021-06-11T09:59:16.915Z"
   },
   {
    "duration": 246,
    "start_time": "2021-06-11T09:59:16.928Z"
   },
   {
    "duration": 15,
    "start_time": "2021-06-11T09:59:17.176Z"
   },
   {
    "duration": 368,
    "start_time": "2021-06-11T09:59:17.193Z"
   },
   {
    "duration": 23,
    "start_time": "2021-06-11T09:59:17.563Z"
   },
   {
    "duration": 366,
    "start_time": "2021-06-11T09:59:17.588Z"
   },
   {
    "duration": 10,
    "start_time": "2021-06-11T09:59:17.956Z"
   },
   {
    "duration": 34,
    "start_time": "2021-06-11T09:59:17.968Z"
   },
   {
    "duration": 100,
    "start_time": "2021-06-11T09:59:18.004Z"
   },
   {
    "duration": 6,
    "start_time": "2021-06-11T09:59:18.106Z"
   },
   {
    "duration": 359,
    "start_time": "2021-06-11T09:59:18.114Z"
   },
   {
    "duration": 9,
    "start_time": "2021-06-11T09:59:18.476Z"
   },
   {
    "duration": 471,
    "start_time": "2021-06-11T09:59:18.488Z"
   },
   {
    "duration": 6,
    "start_time": "2021-06-11T09:59:18.961Z"
   },
   {
    "duration": 572,
    "start_time": "2021-06-11T09:59:18.969Z"
   },
   {
    "duration": 933,
    "start_time": "2021-06-11T09:59:19.543Z"
   },
   {
    "duration": 14,
    "start_time": "2021-06-11T09:59:20.478Z"
   },
   {
    "duration": 1417,
    "start_time": "2021-06-11T09:59:20.494Z"
   },
   {
    "duration": 5,
    "start_time": "2021-06-11T09:59:21.913Z"
   },
   {
    "duration": 11,
    "start_time": "2021-06-11T09:59:21.920Z"
   },
   {
    "duration": 35,
    "start_time": "2021-06-11T09:59:21.933Z"
   },
   {
    "duration": 10,
    "start_time": "2021-06-11T09:59:21.985Z"
   },
   {
    "duration": 6,
    "start_time": "2021-06-11T09:59:21.997Z"
   },
   {
    "duration": 9,
    "start_time": "2021-06-11T09:59:22.005Z"
   },
   {
    "duration": 5,
    "start_time": "2021-06-11T09:59:22.016Z"
   },
   {
    "duration": 7,
    "start_time": "2021-06-11T09:59:22.023Z"
   },
   {
    "duration": 226,
    "start_time": "2021-06-11T09:59:22.032Z"
   },
   {
    "duration": 8,
    "start_time": "2021-06-11T09:59:22.261Z"
   },
   {
    "duration": 38,
    "start_time": "2021-06-11T09:59:22.271Z"
   },
   {
    "duration": 219,
    "start_time": "2021-06-11T09:59:22.311Z"
   },
   {
    "duration": 8,
    "start_time": "2021-06-11T09:59:22.532Z"
   },
   {
    "duration": 219,
    "start_time": "2021-06-11T09:59:22.542Z"
   },
   {
    "duration": 9,
    "start_time": "2021-06-11T09:59:22.763Z"
   },
   {
    "duration": 212,
    "start_time": "2021-06-11T09:59:22.784Z"
   },
   {
    "duration": 325,
    "start_time": "2021-06-11T09:59:22.997Z"
   },
   {
    "duration": 223,
    "start_time": "2021-06-11T09:59:23.323Z"
   },
   {
    "duration": 223,
    "start_time": "2021-06-11T09:59:23.547Z"
   },
   {
    "duration": 207,
    "start_time": "2021-06-11T09:59:23.771Z"
   },
   {
    "duration": 241,
    "start_time": "2021-06-11T09:59:23.980Z"
   },
   {
    "duration": 4,
    "start_time": "2021-06-11T09:59:24.222Z"
   },
   {
    "duration": 227,
    "start_time": "2021-06-11T09:59:24.228Z"
   },
   {
    "duration": 6,
    "start_time": "2021-06-11T09:59:24.456Z"
   },
   {
    "duration": 181,
    "start_time": "2021-06-11T09:59:24.463Z"
   },
   {
    "duration": 5,
    "start_time": "2021-06-11T09:59:24.646Z"
   },
   {
    "duration": 226,
    "start_time": "2021-06-11T09:59:24.653Z"
   },
   {
    "duration": 6,
    "start_time": "2021-06-11T09:59:24.884Z"
   },
   {
    "duration": 264,
    "start_time": "2021-06-11T09:59:24.895Z"
   },
   {
    "duration": 512,
    "start_time": "2021-06-11T10:35:44.940Z"
   },
   {
    "duration": 5,
    "start_time": "2021-06-11T10:35:50.226Z"
   },
   {
    "duration": 458,
    "start_time": "2021-06-11T10:35:51.003Z"
   },
   {
    "duration": 467,
    "start_time": "2021-06-11T10:39:16.474Z"
   },
   {
    "duration": 64,
    "start_time": "2021-06-11T10:40:06.537Z"
   },
   {
    "duration": 23,
    "start_time": "2021-06-11T10:59:31.850Z"
   },
   {
    "duration": 5,
    "start_time": "2021-06-11T10:59:54.357Z"
   },
   {
    "duration": 7,
    "start_time": "2021-06-11T10:59:54.844Z"
   },
   {
    "duration": 22,
    "start_time": "2021-06-11T10:59:55.903Z"
   },
   {
    "duration": 55,
    "start_time": "2021-06-11T10:59:56.889Z"
   },
   {
    "duration": 11,
    "start_time": "2021-06-11T11:00:02.259Z"
   },
   {
    "duration": 7,
    "start_time": "2021-06-11T11:00:05.501Z"
   },
   {
    "duration": 8,
    "start_time": "2021-06-11T11:02:00.327Z"
   },
   {
    "duration": 5,
    "start_time": "2021-06-11T11:02:00.881Z"
   },
   {
    "duration": 6,
    "start_time": "2021-06-11T11:02:01.394Z"
   },
   {
    "duration": 174,
    "start_time": "2021-06-11T11:02:02.221Z"
   },
   {
    "duration": 9,
    "start_time": "2021-06-11T11:03:22.773Z"
   },
   {
    "duration": 25,
    "start_time": "2021-06-11T11:03:23.052Z"
   },
   {
    "duration": 290,
    "start_time": "2021-06-11T11:03:41.371Z"
   },
   {
    "duration": 193,
    "start_time": "2021-06-11T11:03:55.118Z"
   },
   {
    "duration": 236,
    "start_time": "2021-06-11T11:04:14.397Z"
   },
   {
    "duration": 216,
    "start_time": "2021-06-11T11:04:30.423Z"
   },
   {
    "duration": 208,
    "start_time": "2021-06-11T11:04:42.030Z"
   },
   {
    "duration": 203,
    "start_time": "2021-06-11T11:04:47.271Z"
   },
   {
    "duration": 186,
    "start_time": "2021-06-11T11:04:59.919Z"
   },
   {
    "duration": 205,
    "start_time": "2021-06-11T11:05:06.902Z"
   },
   {
    "duration": 192,
    "start_time": "2021-06-11T11:05:13.623Z"
   },
   {
    "duration": 150,
    "start_time": "2021-06-11T11:05:19.839Z"
   },
   {
    "duration": 193,
    "start_time": "2021-06-11T11:05:27.051Z"
   },
   {
    "duration": 229,
    "start_time": "2021-06-11T11:05:36.837Z"
   },
   {
    "duration": 7,
    "start_time": "2021-06-11T11:21:52.666Z"
   },
   {
    "duration": 23,
    "start_time": "2021-06-11T11:21:53.173Z"
   },
   {
    "duration": 188,
    "start_time": "2021-06-11T11:29:45.901Z"
   },
   {
    "duration": 8,
    "start_time": "2021-06-11T11:29:47.643Z"
   },
   {
    "duration": 24,
    "start_time": "2021-06-11T11:29:47.935Z"
   },
   {
    "duration": 191,
    "start_time": "2021-06-11T11:29:48.356Z"
   },
   {
    "duration": 11,
    "start_time": "2021-06-11T11:29:48.688Z"
   },
   {
    "duration": 193,
    "start_time": "2021-06-11T11:29:49.521Z"
   },
   {
    "duration": 10,
    "start_time": "2021-06-11T11:29:53.616Z"
   },
   {
    "duration": 311,
    "start_time": "2021-06-11T11:29:55.523Z"
   },
   {
    "duration": 221,
    "start_time": "2021-06-11T11:29:56.949Z"
   },
   {
    "duration": 221,
    "start_time": "2021-06-11T11:30:01.307Z"
   },
   {
    "duration": 204,
    "start_time": "2021-06-11T11:33:11.242Z"
   },
   {
    "duration": 234,
    "start_time": "2021-06-11T11:33:11.757Z"
   },
   {
    "duration": 4,
    "start_time": "2021-06-11T11:33:23.548Z"
   },
   {
    "duration": 210,
    "start_time": "2021-06-11T11:33:24.069Z"
   },
   {
    "duration": 6,
    "start_time": "2021-06-11T11:33:27.516Z"
   },
   {
    "duration": 153,
    "start_time": "2021-06-11T11:33:28.320Z"
   },
   {
    "duration": 5,
    "start_time": "2021-06-11T11:33:32.813Z"
   },
   {
    "duration": 204,
    "start_time": "2021-06-11T11:33:33.429Z"
   },
   {
    "duration": 5,
    "start_time": "2021-06-11T11:33:33.950Z"
   },
   {
    "duration": 251,
    "start_time": "2021-06-11T11:34:17.262Z"
   },
   {
    "duration": 5,
    "start_time": "2021-06-11T11:36:08.098Z"
   },
   {
    "duration": 5,
    "start_time": "2021-06-11T11:37:01.663Z"
   },
   {
    "duration": 694,
    "start_time": "2021-06-11T11:40:26.464Z"
   },
   {
    "duration": 2,
    "start_time": "2021-06-11T11:40:27.160Z"
   },
   {
    "duration": 86,
    "start_time": "2021-06-11T11:40:27.164Z"
   },
   {
    "duration": 27,
    "start_time": "2021-06-11T11:40:27.252Z"
   },
   {
    "duration": 15,
    "start_time": "2021-06-11T11:40:27.285Z"
   },
   {
    "duration": 12,
    "start_time": "2021-06-11T11:40:27.302Z"
   },
   {
    "duration": 8,
    "start_time": "2021-06-11T11:40:27.315Z"
   },
   {
    "duration": 26,
    "start_time": "2021-06-11T11:40:27.325Z"
   },
   {
    "duration": 34,
    "start_time": "2021-06-11T11:40:27.353Z"
   },
   {
    "duration": 7,
    "start_time": "2021-06-11T11:40:27.389Z"
   },
   {
    "duration": 17,
    "start_time": "2021-06-11T11:40:27.398Z"
   },
   {
    "duration": 7,
    "start_time": "2021-06-11T11:40:27.417Z"
   },
   {
    "duration": 13,
    "start_time": "2021-06-11T11:40:27.425Z"
   },
   {
    "duration": 3,
    "start_time": "2021-06-11T11:40:27.440Z"
   },
   {
    "duration": 8,
    "start_time": "2021-06-11T11:40:27.445Z"
   },
   {
    "duration": 12,
    "start_time": "2021-06-11T11:40:27.454Z"
   },
   {
    "duration": 7,
    "start_time": "2021-06-11T11:40:27.468Z"
   },
   {
    "duration": 9,
    "start_time": "2021-06-11T11:40:27.477Z"
   },
   {
    "duration": 11,
    "start_time": "2021-06-11T11:40:27.488Z"
   },
   {
    "duration": 13,
    "start_time": "2021-06-11T11:40:27.501Z"
   },
   {
    "duration": 9,
    "start_time": "2021-06-11T11:40:27.516Z"
   },
   {
    "duration": 8,
    "start_time": "2021-06-11T11:40:27.526Z"
   },
   {
    "duration": 5,
    "start_time": "2021-06-11T11:40:27.538Z"
   },
   {
    "duration": 6,
    "start_time": "2021-06-11T11:40:27.545Z"
   },
   {
    "duration": 5,
    "start_time": "2021-06-11T11:40:27.553Z"
   },
   {
    "duration": 31,
    "start_time": "2021-06-11T11:40:27.559Z"
   },
   {
    "duration": 583,
    "start_time": "2021-06-11T11:40:27.592Z"
   },
   {
    "duration": 12,
    "start_time": "2021-06-11T11:40:28.177Z"
   },
   {
    "duration": 5,
    "start_time": "2021-06-11T11:40:28.191Z"
   },
   {
    "duration": 6,
    "start_time": "2021-06-11T11:40:28.209Z"
   },
   {
    "duration": 23,
    "start_time": "2021-06-11T11:40:28.217Z"
   },
   {
    "duration": 439,
    "start_time": "2021-06-11T11:40:28.242Z"
   },
   {
    "duration": 6,
    "start_time": "2021-06-11T11:40:28.685Z"
   },
   {
    "duration": 7,
    "start_time": "2021-06-11T11:40:28.693Z"
   },
   {
    "duration": 12,
    "start_time": "2021-06-11T11:40:28.702Z"
   },
   {
    "duration": 396,
    "start_time": "2021-06-11T11:40:28.716Z"
   },
   {
    "duration": 8,
    "start_time": "2021-06-11T11:40:29.114Z"
   },
   {
    "duration": 244,
    "start_time": "2021-06-11T11:40:29.124Z"
   },
   {
    "duration": 16,
    "start_time": "2021-06-11T11:40:29.370Z"
   },
   {
    "duration": 396,
    "start_time": "2021-06-11T11:40:29.388Z"
   },
   {
    "duration": 13,
    "start_time": "2021-06-11T11:40:29.787Z"
   },
   {
    "duration": 407,
    "start_time": "2021-06-11T11:40:29.802Z"
   },
   {
    "duration": 8,
    "start_time": "2021-06-11T11:40:30.211Z"
   },
   {
    "duration": 24,
    "start_time": "2021-06-11T11:40:30.220Z"
   },
   {
    "duration": 100,
    "start_time": "2021-06-11T11:40:30.245Z"
   },
   {
    "duration": 4,
    "start_time": "2021-06-11T11:40:30.347Z"
   },
   {
    "duration": 355,
    "start_time": "2021-06-11T11:40:30.353Z"
   },
   {
    "duration": 5,
    "start_time": "2021-06-11T11:40:30.710Z"
   },
   {
    "duration": 536,
    "start_time": "2021-06-11T11:40:30.717Z"
   },
   {
    "duration": 4,
    "start_time": "2021-06-11T11:40:31.255Z"
   },
   {
    "duration": 597,
    "start_time": "2021-06-11T11:40:31.261Z"
   },
   {
    "duration": 954,
    "start_time": "2021-06-11T11:40:31.860Z"
   },
   {
    "duration": 11,
    "start_time": "2021-06-11T11:40:32.815Z"
   },
   {
    "duration": 1394,
    "start_time": "2021-06-11T11:40:32.828Z"
   },
   {
    "duration": 5,
    "start_time": "2021-06-11T11:40:34.224Z"
   },
   {
    "duration": 12,
    "start_time": "2021-06-11T11:40:34.231Z"
   },
   {
    "duration": 42,
    "start_time": "2021-06-11T11:40:34.245Z"
   },
   {
    "duration": 15,
    "start_time": "2021-06-11T11:40:34.289Z"
   },
   {
    "duration": 9,
    "start_time": "2021-06-11T11:40:34.306Z"
   },
   {
    "duration": 13,
    "start_time": "2021-06-11T11:40:34.317Z"
   },
   {
    "duration": 7,
    "start_time": "2021-06-11T11:40:34.331Z"
   },
   {
    "duration": 8,
    "start_time": "2021-06-11T11:40:34.339Z"
   },
   {
    "duration": 214,
    "start_time": "2021-06-11T11:40:34.349Z"
   },
   {
    "duration": 7,
    "start_time": "2021-06-11T11:40:34.565Z"
   },
   {
    "duration": 37,
    "start_time": "2021-06-11T11:40:34.573Z"
   },
   {
    "duration": 205,
    "start_time": "2021-06-11T11:40:34.612Z"
   },
   {
    "duration": 8,
    "start_time": "2021-06-11T11:40:34.818Z"
   },
   {
    "duration": 212,
    "start_time": "2021-06-11T11:40:34.831Z"
   },
   {
    "duration": 8,
    "start_time": "2021-06-11T11:40:35.045Z"
   },
   {
    "duration": 220,
    "start_time": "2021-06-11T11:40:35.055Z"
   },
   {
    "duration": 321,
    "start_time": "2021-06-11T11:40:35.276Z"
   },
   {
    "duration": 222,
    "start_time": "2021-06-11T11:40:35.599Z"
   },
   {
    "duration": 210,
    "start_time": "2021-06-11T11:40:35.823Z"
   },
   {
    "duration": 224,
    "start_time": "2021-06-11T11:40:36.035Z"
   },
   {
    "duration": 226,
    "start_time": "2021-06-11T11:40:36.260Z"
   },
   {
    "duration": 5,
    "start_time": "2021-06-11T11:40:36.489Z"
   },
   {
    "duration": 228,
    "start_time": "2021-06-11T11:40:36.496Z"
   },
   {
    "duration": 4,
    "start_time": "2021-06-11T11:40:36.726Z"
   },
   {
    "duration": 174,
    "start_time": "2021-06-11T11:40:36.731Z"
   },
   {
    "duration": 6,
    "start_time": "2021-06-11T11:40:36.907Z"
   },
   {
    "duration": 213,
    "start_time": "2021-06-11T11:40:36.915Z"
   },
   {
    "duration": 5,
    "start_time": "2021-06-11T11:40:37.130Z"
   },
   {
    "duration": 248,
    "start_time": "2021-06-11T11:40:37.137Z"
   },
   {
    "duration": 4,
    "start_time": "2021-06-11T11:44:06.205Z"
   },
   {
    "duration": 695,
    "start_time": "2021-06-11T11:45:10.929Z"
   },
   {
    "duration": 2,
    "start_time": "2021-06-11T11:45:11.626Z"
   },
   {
    "duration": 84,
    "start_time": "2021-06-11T11:45:11.630Z"
   },
   {
    "duration": 28,
    "start_time": "2021-06-11T11:45:11.716Z"
   },
   {
    "duration": 11,
    "start_time": "2021-06-11T11:45:11.746Z"
   },
   {
    "duration": 29,
    "start_time": "2021-06-11T11:45:11.758Z"
   },
   {
    "duration": 12,
    "start_time": "2021-06-11T11:45:11.789Z"
   },
   {
    "duration": 28,
    "start_time": "2021-06-11T11:45:11.803Z"
   },
   {
    "duration": 4,
    "start_time": "2021-06-11T11:45:11.833Z"
   },
   {
    "duration": 15,
    "start_time": "2021-06-11T11:45:11.839Z"
   },
   {
    "duration": 9,
    "start_time": "2021-06-11T11:45:11.855Z"
   },
   {
    "duration": 19,
    "start_time": "2021-06-11T11:45:11.866Z"
   },
   {
    "duration": 19,
    "start_time": "2021-06-11T11:45:11.887Z"
   },
   {
    "duration": 3,
    "start_time": "2021-06-11T11:45:11.908Z"
   },
   {
    "duration": 4,
    "start_time": "2021-06-11T11:45:11.913Z"
   },
   {
    "duration": 4,
    "start_time": "2021-06-11T11:45:11.918Z"
   },
   {
    "duration": 8,
    "start_time": "2021-06-11T11:45:11.923Z"
   },
   {
    "duration": 11,
    "start_time": "2021-06-11T11:45:11.932Z"
   },
   {
    "duration": 9,
    "start_time": "2021-06-11T11:45:11.944Z"
   },
   {
    "duration": 32,
    "start_time": "2021-06-11T11:45:11.955Z"
   },
   {
    "duration": 10,
    "start_time": "2021-06-11T11:45:11.989Z"
   },
   {
    "duration": 9,
    "start_time": "2021-06-11T11:45:12.002Z"
   },
   {
    "duration": 5,
    "start_time": "2021-06-11T11:45:12.013Z"
   },
   {
    "duration": 7,
    "start_time": "2021-06-11T11:45:12.020Z"
   },
   {
    "duration": 4,
    "start_time": "2021-06-11T11:45:12.029Z"
   },
   {
    "duration": 13,
    "start_time": "2021-06-11T11:45:12.035Z"
   },
   {
    "duration": 622,
    "start_time": "2021-06-11T11:45:12.052Z"
   },
   {
    "duration": 13,
    "start_time": "2021-06-11T11:45:12.676Z"
   },
   {
    "duration": 8,
    "start_time": "2021-06-11T11:45:12.692Z"
   },
   {
    "duration": 15,
    "start_time": "2021-06-11T11:45:12.702Z"
   },
   {
    "duration": 30,
    "start_time": "2021-06-11T11:45:12.718Z"
   },
   {
    "duration": 422,
    "start_time": "2021-06-11T11:45:12.749Z"
   },
   {
    "duration": 4,
    "start_time": "2021-06-11T11:45:13.173Z"
   },
   {
    "duration": 9,
    "start_time": "2021-06-11T11:45:13.186Z"
   },
   {
    "duration": 10,
    "start_time": "2021-06-11T11:45:13.198Z"
   },
   {
    "duration": 396,
    "start_time": "2021-06-11T11:45:13.210Z"
   },
   {
    "duration": 10,
    "start_time": "2021-06-11T11:45:13.608Z"
   },
   {
    "duration": 253,
    "start_time": "2021-06-11T11:45:13.620Z"
   },
   {
    "duration": 11,
    "start_time": "2021-06-11T11:45:13.875Z"
   },
   {
    "duration": 376,
    "start_time": "2021-06-11T11:45:13.888Z"
   },
   {
    "duration": 21,
    "start_time": "2021-06-11T11:45:14.266Z"
   },
   {
    "duration": 429,
    "start_time": "2021-06-11T11:45:14.290Z"
   },
   {
    "duration": 9,
    "start_time": "2021-06-11T11:45:14.721Z"
   },
   {
    "duration": 19,
    "start_time": "2021-06-11T11:45:14.731Z"
   },
   {
    "duration": 111,
    "start_time": "2021-06-11T11:45:14.751Z"
   },
   {
    "duration": 5,
    "start_time": "2021-06-11T11:45:14.864Z"
   },
   {
    "duration": 367,
    "start_time": "2021-06-11T11:45:14.870Z"
   },
   {
    "duration": 5,
    "start_time": "2021-06-11T11:45:15.239Z"
   },
   {
    "duration": 505,
    "start_time": "2021-06-11T11:45:15.246Z"
   },
   {
    "duration": 5,
    "start_time": "2021-06-11T11:45:15.752Z"
   },
   {
    "duration": 576,
    "start_time": "2021-06-11T11:45:15.759Z"
   },
   {
    "duration": 954,
    "start_time": "2021-06-11T11:45:16.337Z"
   },
   {
    "duration": 11,
    "start_time": "2021-06-11T11:45:17.294Z"
   },
   {
    "duration": 1287,
    "start_time": "2021-06-11T11:45:17.306Z"
   },
   {
    "duration": 7,
    "start_time": "2021-06-11T11:45:18.595Z"
   },
   {
    "duration": 16,
    "start_time": "2021-06-11T11:45:18.604Z"
   },
   {
    "duration": 25,
    "start_time": "2021-06-11T11:45:18.622Z"
   },
   {
    "duration": 10,
    "start_time": "2021-06-11T11:45:18.648Z"
   },
   {
    "duration": 26,
    "start_time": "2021-06-11T11:45:18.660Z"
   },
   {
    "duration": 10,
    "start_time": "2021-06-11T11:45:18.689Z"
   },
   {
    "duration": 4,
    "start_time": "2021-06-11T11:45:18.702Z"
   },
   {
    "duration": 15,
    "start_time": "2021-06-11T11:45:18.708Z"
   },
   {
    "duration": 212,
    "start_time": "2021-06-11T11:45:18.724Z"
   },
   {
    "duration": 7,
    "start_time": "2021-06-11T11:45:18.937Z"
   },
   {
    "duration": 25,
    "start_time": "2021-06-11T11:45:18.946Z"
   },
   {
    "duration": 210,
    "start_time": "2021-06-11T11:45:18.972Z"
   },
   {
    "duration": 11,
    "start_time": "2021-06-11T11:45:19.184Z"
   },
   {
    "duration": 213,
    "start_time": "2021-06-11T11:45:19.198Z"
   },
   {
    "duration": 8,
    "start_time": "2021-06-11T11:45:19.413Z"
   },
   {
    "duration": 216,
    "start_time": "2021-06-11T11:45:19.423Z"
   },
   {
    "duration": 327,
    "start_time": "2021-06-11T11:45:19.641Z"
   },
   {
    "duration": 232,
    "start_time": "2021-06-11T11:45:19.970Z"
   },
   {
    "duration": 207,
    "start_time": "2021-06-11T11:45:20.204Z"
   },
   {
    "duration": 208,
    "start_time": "2021-06-11T11:45:20.413Z"
   },
   {
    "duration": 221,
    "start_time": "2021-06-11T11:45:20.623Z"
   },
   {
    "duration": 3,
    "start_time": "2021-06-11T11:45:20.846Z"
   },
   {
    "duration": 216,
    "start_time": "2021-06-11T11:45:20.851Z"
   },
   {
    "duration": 5,
    "start_time": "2021-06-11T11:45:21.068Z"
   },
   {
    "duration": 164,
    "start_time": "2021-06-11T11:45:21.084Z"
   },
   {
    "duration": 5,
    "start_time": "2021-06-11T11:45:21.249Z"
   },
   {
    "duration": 217,
    "start_time": "2021-06-11T11:45:21.259Z"
   },
   {
    "duration": 10,
    "start_time": "2021-06-11T11:45:21.478Z"
   },
   {
    "duration": 257,
    "start_time": "2021-06-11T11:45:21.490Z"
   }
  ],
  "kernelspec": {
   "display_name": "Python 3",
   "language": "python",
   "name": "python3"
  },
  "language_info": {
   "codemirror_mode": {
    "name": "ipython",
    "version": 3
   },
   "file_extension": ".py",
   "mimetype": "text/x-python",
   "name": "python",
   "nbconvert_exporter": "python",
   "pygments_lexer": "ipython3",
   "version": "3.7.8"
  },
  "toc": {
   "base_numbering": 1,
   "nav_menu": {
    "height": "312.988px",
    "width": "272.5px"
   },
   "number_sections": true,
   "sideBar": true,
   "skip_h1_title": true,
   "title_cell": "Table of Contents",
   "title_sidebar": "Contents",
   "toc_cell": false,
   "toc_position": {},
   "toc_section_display": true,
   "toc_window_display": false
  }
 },
 "nbformat": 4,
 "nbformat_minor": 2
}
