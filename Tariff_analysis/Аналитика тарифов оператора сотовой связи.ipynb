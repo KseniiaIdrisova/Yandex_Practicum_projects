{
 "cells": [
  {
   "cell_type": "markdown",
   "metadata": {},
   "source": [
    "# Аналитика тарифов оператора сотовой связи"
   ]
  },
  {
   "cell_type": "markdown",
   "metadata": {},
   "source": [
    "# Описание проекта:\n",
    "\n",
    "Исследование для федерального оператора сотовой связи.\n",
    "Клиентам предлагают два тарифных плана: «Смарт» и «Ультра». \n"
   ]
  },
  {
   "cell_type": "markdown",
   "metadata": {},
   "source": [
    " # Цель:\n",
    " \n",
    " Определение перспективного тарифа для телеком компании"
   ]
  },
  {
   "cell_type": "markdown",
   "metadata": {},
   "source": [
    "# Задачи: \n",
    "\n",
    "Предварительный анализ тарифов на небольшой выборке клиентов. В распоряжении данные 500 пользователей \n"
   ]
  },
  {
   "cell_type": "markdown",
   "metadata": {},
   "source": [
    "# Описание тарифов:\n",
    "\n",
    "Тариф «Смарт»\n",
    "\n",
    "1.\tЕжемесячная плата: 550 рублей\n",
    "\n",
    "2.\tВключено 500 минут разговора, 50 сообщений и 15 Гб интернет-трафика\n",
    "\n",
    "3.\tСтоимость услуг сверх тарифного пакета:\n",
    "\n",
    "    •\tминута разговора: 3 рубля\n",
    "    \n",
    "    •\tсообщение: 3 рубля\n",
    "    \n",
    "    •\t1 Гб интернет-трафика: 200 рублей\n",
    "\n",
    "\n",
    "\n",
    "Тариф «Ультра»\n",
    "\n",
    "1.\tЕжемесячная плата: 1950 рублей\n",
    "\n",
    "2.\tВключено 3000 минут разговора, 1000 сообщений и 30 Гб интернет-трафика\n",
    "\n",
    "3.\tСтоимость услуг сверх тарифного пакета:\n",
    "\n",
    "    •\tминута разговора: 1 рубль\n",
    "\n",
    "    •\tсообщение: 1 рубль\n",
    "\n",
    "    •\t1 Гб интернет-трафика: 150 рублей\n",
    "\n",
    "# Примечание:\n",
    "\n",
    "Компания всегда округляет секунды до минут, а мегабайты — до гигабайт. Каждый звонок округляется отдельно: даже если он длился всего 1 секунду, будет засчитан как 1 минута.\n",
    "Для веб-трафика отдельные сессии не считаются. Вместо этого общая сумма за месяц округляется в бо́льшую сторону. Если абонент использует 1025 мегабайт в этом месяце, с него возьмут плату за 2 гигабайта.\n",
    "\n"
   ]
  },
  {
   "cell_type": "markdown",
   "metadata": {},
   "source": [
    "# Описание данных\n",
    "\n",
    "###### Таблица users (информация о пользователях):\n",
    "\n",
    "•\tuser_id — уникальный идентификатор пользователя\n",
    "\n",
    "•\tfirst_name — имя пользователя\n",
    "\n",
    "•\tlast_name — фамилия пользователя\n",
    "\n",
    "•\tage — возраст пользователя (годы)\n",
    "\n",
    "•\treg_date — дата подключения тарифа (день, месяц, год)\n",
    "\n",
    "•\tchurn_date — дата прекращения пользования тарифом (если значение пропущено, то тариф ещё действовал на момент выгрузки данных)\n",
    "\n",
    "•\tcity — город проживания пользователя\n",
    "\n",
    "•\ttariff — название тарифного плана\n",
    "\n",
    "###### Таблица calls (информация о звонках):\n",
    "\n",
    "•\tid — уникальный номер звонка\n",
    "\n",
    "•\tcall_date — дата звонка\n",
    "\n",
    "•\tduration — длительность звонка в минутах\n",
    "\n",
    "•\tuser_id — идентификатор пользователя, сделавшего звонок\n",
    "\n",
    "###### Таблица messages (информация о сообщениях):\n",
    "\n",
    "•\tid — уникальный номер сообщения\n",
    "\n",
    "•\tmessage_date — дата сообщения\n",
    "\n",
    "•\tuser_id — идентификатор пользователя, отправившего сообщение\n",
    "\n",
    "###### Таблица internet (информация об интернет-сессиях):\n",
    "\n",
    "•\tid — уникальный номер сессии\n",
    "\n",
    "•\tmb_used — объём потраченного за сессию интернет-трафика (в мегабайтах)\n",
    "\n",
    "•\tsession_date — дата интернет-сессии\n",
    "\n",
    "•\tuser_id — идентификатор пользователя\n",
    "\n",
    "###### Таблица tariffs (информация о тарифах):\n",
    "\n",
    "•\ttariff_name — название тарифа\n",
    "\n",
    "•\trub_monthly_fee — ежемесячная абонентская плата в рублях\n",
    "\n",
    "•\tminutes_included — количество минут разговора в месяц, включённых в абонентскую плату\n",
    "\n",
    "•\tmessages_included — количество сообщений в месяц, включённых в абонентскую плату\n",
    "\n",
    "•\tmb_per_month_included — объём интернет-трафика, включённого в абонентскую плату (в мегабайтах)\n",
    "\n",
    "•\trub_per_minute — стоимость минуты разговора сверх тарифного пакета (например, если в тарифе 100 минут разговора в месяц, то со 101 минуты будет взиматься плата)\n",
    "\n",
    "•\trub_per_message — стоимость отправки сообщения сверх тарифного пакета\n",
    "\n",
    "•\trub_per_gb — стоимость дополнительного гигабайта интернет-трафика сверх тарифного пакета (1 гигабайт = 1024 мегабайта)\n",
    "\n"
   ]
  },
  {
   "cell_type": "markdown",
   "metadata": {},
   "source": [
    "# Оглавление:\n",
    "\n",
    "1  [Обзор данных](#part_0)\n",
    "\n",
    "2  [Предобработка данных](#part_1)\n",
    "\n",
    "3  [Описание распределений](#part_2)\n",
    "\n",
    "3.1  [Распределение тарифов Ultra и Smart](#part_3)\n",
    "\n",
    "4  [Проверка гипотез](#part_4)\n",
    "\n"
   ]
  },
  {
   "cell_type": "markdown",
   "metadata": {},
   "source": [
    "## Обзор данных: <a name=\"part_0\"></a>"
   ]
  },
  {
   "cell_type": "code",
   "execution_count": 1,
   "metadata": {},
   "outputs": [],
   "source": [
    "from scipy import stats as st\n",
    "import pandas as pd\n",
    "import numpy as np\n",
    "import matplotlib.pyplot as plt\n",
    "import seaborn as sns\n",
    "\n",
    "df_calls = pd.read_csv('/datasets/calls.csv')\n",
    "\n",
    "df_internet = pd.read_csv('/datasets/internet.csv', index_col=0)\n",
    "\n",
    "df_messages = pd.read_csv('/datasets/messages.csv')\n",
    "\n",
    "df_tariffs = pd.read_csv('/datasets/tariffs.csv')\n",
    "\n",
    "df_users = pd.read_csv('/datasets/users.csv')"
   ]
  },
  {
   "cell_type": "code",
   "execution_count": 2,
   "metadata": {},
   "outputs": [
    {
     "data": {
      "text/html": [
       "<div>\n",
       "<style scoped>\n",
       "    .dataframe tbody tr th:only-of-type {\n",
       "        vertical-align: middle;\n",
       "    }\n",
       "\n",
       "    .dataframe tbody tr th {\n",
       "        vertical-align: top;\n",
       "    }\n",
       "\n",
       "    .dataframe thead th {\n",
       "        text-align: right;\n",
       "    }\n",
       "</style>\n",
       "<table border=\"1\" class=\"dataframe\">\n",
       "  <thead>\n",
       "    <tr style=\"text-align: right;\">\n",
       "      <th></th>\n",
       "      <th>user_id</th>\n",
       "      <th>age</th>\n",
       "      <th>churn_date</th>\n",
       "      <th>city</th>\n",
       "      <th>first_name</th>\n",
       "      <th>last_name</th>\n",
       "      <th>reg_date</th>\n",
       "      <th>tariff</th>\n",
       "    </tr>\n",
       "  </thead>\n",
       "  <tbody>\n",
       "    <tr>\n",
       "      <td>0</td>\n",
       "      <td>1000</td>\n",
       "      <td>52</td>\n",
       "      <td>NaN</td>\n",
       "      <td>Краснодар</td>\n",
       "      <td>Рафаил</td>\n",
       "      <td>Верещагин</td>\n",
       "      <td>2018-05-25</td>\n",
       "      <td>ultra</td>\n",
       "    </tr>\n",
       "    <tr>\n",
       "      <td>1</td>\n",
       "      <td>1001</td>\n",
       "      <td>41</td>\n",
       "      <td>NaN</td>\n",
       "      <td>Москва</td>\n",
       "      <td>Иван</td>\n",
       "      <td>Ежов</td>\n",
       "      <td>2018-11-01</td>\n",
       "      <td>smart</td>\n",
       "    </tr>\n",
       "    <tr>\n",
       "      <td>2</td>\n",
       "      <td>1002</td>\n",
       "      <td>59</td>\n",
       "      <td>NaN</td>\n",
       "      <td>Стерлитамак</td>\n",
       "      <td>Евгений</td>\n",
       "      <td>Абрамович</td>\n",
       "      <td>2018-06-17</td>\n",
       "      <td>smart</td>\n",
       "    </tr>\n",
       "    <tr>\n",
       "      <td>3</td>\n",
       "      <td>1003</td>\n",
       "      <td>23</td>\n",
       "      <td>NaN</td>\n",
       "      <td>Москва</td>\n",
       "      <td>Белла</td>\n",
       "      <td>Белякова</td>\n",
       "      <td>2018-08-17</td>\n",
       "      <td>ultra</td>\n",
       "    </tr>\n",
       "    <tr>\n",
       "      <td>4</td>\n",
       "      <td>1004</td>\n",
       "      <td>68</td>\n",
       "      <td>NaN</td>\n",
       "      <td>Новокузнецк</td>\n",
       "      <td>Татьяна</td>\n",
       "      <td>Авдеенко</td>\n",
       "      <td>2018-05-14</td>\n",
       "      <td>ultra</td>\n",
       "    </tr>\n",
       "  </tbody>\n",
       "</table>\n",
       "</div>"
      ],
      "text/plain": [
       "   user_id  age churn_date         city first_name  last_name    reg_date  \\\n",
       "0     1000   52        NaN    Краснодар     Рафаил  Верещагин  2018-05-25   \n",
       "1     1001   41        NaN       Москва       Иван       Ежов  2018-11-01   \n",
       "2     1002   59        NaN  Стерлитамак    Евгений  Абрамович  2018-06-17   \n",
       "3     1003   23        NaN       Москва      Белла   Белякова  2018-08-17   \n",
       "4     1004   68        NaN  Новокузнецк    Татьяна   Авдеенко  2018-05-14   \n",
       "\n",
       "  tariff  \n",
       "0  ultra  \n",
       "1  smart  \n",
       "2  smart  \n",
       "3  ultra  \n",
       "4  ultra  "
      ]
     },
     "execution_count": 2,
     "metadata": {},
     "output_type": "execute_result"
    }
   ],
   "source": [
    "df_users.head()"
   ]
  },
  {
   "cell_type": "code",
   "execution_count": 3,
   "metadata": {},
   "outputs": [
    {
     "name": "stdout",
     "output_type": "stream",
     "text": [
      "<class 'pandas.core.frame.DataFrame'>\n",
      "RangeIndex: 500 entries, 0 to 499\n",
      "Data columns (total 8 columns):\n",
      "user_id       500 non-null int64\n",
      "age           500 non-null int64\n",
      "churn_date    38 non-null object\n",
      "city          500 non-null object\n",
      "first_name    500 non-null object\n",
      "last_name     500 non-null object\n",
      "reg_date      500 non-null object\n",
      "tariff        500 non-null object\n",
      "dtypes: int64(2), object(6)\n",
      "memory usage: 31.4+ KB\n"
     ]
    }
   ],
   "source": [
    "df_users.info()"
   ]
  },
  {
   "cell_type": "code",
   "execution_count": 4,
   "metadata": {},
   "outputs": [
    {
     "data": {
      "text/html": [
       "<div>\n",
       "<style scoped>\n",
       "    .dataframe tbody tr th:only-of-type {\n",
       "        vertical-align: middle;\n",
       "    }\n",
       "\n",
       "    .dataframe tbody tr th {\n",
       "        vertical-align: top;\n",
       "    }\n",
       "\n",
       "    .dataframe thead th {\n",
       "        text-align: right;\n",
       "    }\n",
       "</style>\n",
       "<table border=\"1\" class=\"dataframe\">\n",
       "  <thead>\n",
       "    <tr style=\"text-align: right;\">\n",
       "      <th></th>\n",
       "      <th>count</th>\n",
       "      <th>mean</th>\n",
       "      <th>std</th>\n",
       "      <th>min</th>\n",
       "      <th>25%</th>\n",
       "      <th>50%</th>\n",
       "      <th>75%</th>\n",
       "      <th>max</th>\n",
       "    </tr>\n",
       "  </thead>\n",
       "  <tbody>\n",
       "    <tr>\n",
       "      <td>user_id</td>\n",
       "      <td>500.0</td>\n",
       "      <td>1249.500</td>\n",
       "      <td>144.481833</td>\n",
       "      <td>1000.0</td>\n",
       "      <td>1124.75</td>\n",
       "      <td>1249.5</td>\n",
       "      <td>1374.25</td>\n",
       "      <td>1499.0</td>\n",
       "    </tr>\n",
       "    <tr>\n",
       "      <td>age</td>\n",
       "      <td>500.0</td>\n",
       "      <td>46.588</td>\n",
       "      <td>16.667630</td>\n",
       "      <td>18.0</td>\n",
       "      <td>32.00</td>\n",
       "      <td>46.0</td>\n",
       "      <td>62.00</td>\n",
       "      <td>75.0</td>\n",
       "    </tr>\n",
       "  </tbody>\n",
       "</table>\n",
       "</div>"
      ],
      "text/plain": [
       "         count      mean         std     min      25%     50%      75%     max\n",
       "user_id  500.0  1249.500  144.481833  1000.0  1124.75  1249.5  1374.25  1499.0\n",
       "age      500.0    46.588   16.667630    18.0    32.00    46.0    62.00    75.0"
      ]
     },
     "execution_count": 4,
     "metadata": {},
     "output_type": "execute_result"
    }
   ],
   "source": [
    "df_users.describe().T "
   ]
  },
  {
   "cell_type": "code",
   "execution_count": 5,
   "metadata": {},
   "outputs": [
    {
     "data": {
      "text/plain": [
       "0"
      ]
     },
     "execution_count": 5,
     "metadata": {},
     "output_type": "execute_result"
    }
   ],
   "source": [
    "df_users.duplicated().sum()"
   ]
  },
  {
   "cell_type": "code",
   "execution_count": 6,
   "metadata": {},
   "outputs": [
    {
     "name": "stdout",
     "output_type": "stream",
     "text": [
      "<class 'pandas.core.frame.DataFrame'>\n",
      "Int64Index: 149396 entries, 0 to 149395\n",
      "Data columns (total 4 columns):\n",
      "id              149396 non-null object\n",
      "mb_used         149396 non-null float64\n",
      "session_date    149396 non-null object\n",
      "user_id         149396 non-null int64\n",
      "dtypes: float64(1), int64(1), object(2)\n",
      "memory usage: 5.7+ MB\n"
     ]
    }
   ],
   "source": [
    "df_internet.info()"
   ]
  },
  {
   "cell_type": "code",
   "execution_count": 7,
   "metadata": {},
   "outputs": [
    {
     "data": {
      "text/plain": [
       "0"
      ]
     },
     "execution_count": 7,
     "metadata": {},
     "output_type": "execute_result"
    }
   ],
   "source": [
    "df_internet.duplicated().sum()"
   ]
  },
  {
   "cell_type": "code",
   "execution_count": 8,
   "metadata": {},
   "outputs": [
    {
     "data": {
      "text/html": [
       "<div>\n",
       "<style scoped>\n",
       "    .dataframe tbody tr th:only-of-type {\n",
       "        vertical-align: middle;\n",
       "    }\n",
       "\n",
       "    .dataframe tbody tr th {\n",
       "        vertical-align: top;\n",
       "    }\n",
       "\n",
       "    .dataframe thead th {\n",
       "        text-align: right;\n",
       "    }\n",
       "</style>\n",
       "<table border=\"1\" class=\"dataframe\">\n",
       "  <thead>\n",
       "    <tr style=\"text-align: right;\">\n",
       "      <th></th>\n",
       "      <th>id</th>\n",
       "      <th>mb_used</th>\n",
       "      <th>session_date</th>\n",
       "      <th>user_id</th>\n",
       "    </tr>\n",
       "  </thead>\n",
       "  <tbody>\n",
       "    <tr>\n",
       "      <td>0</td>\n",
       "      <td>1000_0</td>\n",
       "      <td>112.95</td>\n",
       "      <td>2018-11-25</td>\n",
       "      <td>1000</td>\n",
       "    </tr>\n",
       "    <tr>\n",
       "      <td>1</td>\n",
       "      <td>1000_1</td>\n",
       "      <td>1052.81</td>\n",
       "      <td>2018-09-07</td>\n",
       "      <td>1000</td>\n",
       "    </tr>\n",
       "    <tr>\n",
       "      <td>2</td>\n",
       "      <td>1000_2</td>\n",
       "      <td>1197.26</td>\n",
       "      <td>2018-06-25</td>\n",
       "      <td>1000</td>\n",
       "    </tr>\n",
       "    <tr>\n",
       "      <td>3</td>\n",
       "      <td>1000_3</td>\n",
       "      <td>550.27</td>\n",
       "      <td>2018-08-22</td>\n",
       "      <td>1000</td>\n",
       "    </tr>\n",
       "    <tr>\n",
       "      <td>4</td>\n",
       "      <td>1000_4</td>\n",
       "      <td>302.56</td>\n",
       "      <td>2018-09-24</td>\n",
       "      <td>1000</td>\n",
       "    </tr>\n",
       "  </tbody>\n",
       "</table>\n",
       "</div>"
      ],
      "text/plain": [
       "       id  mb_used session_date  user_id\n",
       "0  1000_0   112.95   2018-11-25     1000\n",
       "1  1000_1  1052.81   2018-09-07     1000\n",
       "2  1000_2  1197.26   2018-06-25     1000\n",
       "3  1000_3   550.27   2018-08-22     1000\n",
       "4  1000_4   302.56   2018-09-24     1000"
      ]
     },
     "execution_count": 8,
     "metadata": {},
     "output_type": "execute_result"
    }
   ],
   "source": [
    "df_internet.head()"
   ]
  },
  {
   "cell_type": "code",
   "execution_count": 9,
   "metadata": {},
   "outputs": [
    {
     "data": {
      "text/plain": [
       "19598"
      ]
     },
     "execution_count": 9,
     "metadata": {},
     "output_type": "execute_result"
    }
   ],
   "source": [
    "#  посмотрим на количество нулевых сессий\n",
    "gaps_mb = df_internet.query('mb_used == 0')\n",
    "len(gaps_mb)"
   ]
  },
  {
   "cell_type": "code",
   "execution_count": 10,
   "metadata": {},
   "outputs": [
    {
     "data": {
      "text/plain": [
       "13.118155773916303"
      ]
     },
     "execution_count": 10,
     "metadata": {},
     "output_type": "execute_result"
    }
   ],
   "source": [
    "#  доля нулевых сессий\n",
    "\n",
    "(len(gaps_mb) / len(df_internet)) *100 "
   ]
  },
  {
   "cell_type": "code",
   "execution_count": 11,
   "metadata": {},
   "outputs": [
    {
     "name": "stdout",
     "output_type": "stream",
     "text": [
      "<class 'pandas.core.frame.DataFrame'>\n",
      "RangeIndex: 123036 entries, 0 to 123035\n",
      "Data columns (total 3 columns):\n",
      "id              123036 non-null object\n",
      "message_date    123036 non-null object\n",
      "user_id         123036 non-null int64\n",
      "dtypes: int64(1), object(2)\n",
      "memory usage: 2.8+ MB\n"
     ]
    },
    {
     "data": {
      "text/html": [
       "<div>\n",
       "<style scoped>\n",
       "    .dataframe tbody tr th:only-of-type {\n",
       "        vertical-align: middle;\n",
       "    }\n",
       "\n",
       "    .dataframe tbody tr th {\n",
       "        vertical-align: top;\n",
       "    }\n",
       "\n",
       "    .dataframe thead th {\n",
       "        text-align: right;\n",
       "    }\n",
       "</style>\n",
       "<table border=\"1\" class=\"dataframe\">\n",
       "  <thead>\n",
       "    <tr style=\"text-align: right;\">\n",
       "      <th></th>\n",
       "      <th>id</th>\n",
       "      <th>message_date</th>\n",
       "      <th>user_id</th>\n",
       "    </tr>\n",
       "  </thead>\n",
       "  <tbody>\n",
       "    <tr>\n",
       "      <td>0</td>\n",
       "      <td>1000_0</td>\n",
       "      <td>2018-06-27</td>\n",
       "      <td>1000</td>\n",
       "    </tr>\n",
       "    <tr>\n",
       "      <td>1</td>\n",
       "      <td>1000_1</td>\n",
       "      <td>2018-10-08</td>\n",
       "      <td>1000</td>\n",
       "    </tr>\n",
       "    <tr>\n",
       "      <td>2</td>\n",
       "      <td>1000_2</td>\n",
       "      <td>2018-08-04</td>\n",
       "      <td>1000</td>\n",
       "    </tr>\n",
       "    <tr>\n",
       "      <td>3</td>\n",
       "      <td>1000_3</td>\n",
       "      <td>2018-06-16</td>\n",
       "      <td>1000</td>\n",
       "    </tr>\n",
       "    <tr>\n",
       "      <td>4</td>\n",
       "      <td>1000_4</td>\n",
       "      <td>2018-12-05</td>\n",
       "      <td>1000</td>\n",
       "    </tr>\n",
       "  </tbody>\n",
       "</table>\n",
       "</div>"
      ],
      "text/plain": [
       "       id message_date  user_id\n",
       "0  1000_0   2018-06-27     1000\n",
       "1  1000_1   2018-10-08     1000\n",
       "2  1000_2   2018-08-04     1000\n",
       "3  1000_3   2018-06-16     1000\n",
       "4  1000_4   2018-12-05     1000"
      ]
     },
     "execution_count": 11,
     "metadata": {},
     "output_type": "execute_result"
    }
   ],
   "source": [
    "df_messages.info()\n",
    "df_messages.duplicated().sum()\n",
    "df_messages.head()"
   ]
  },
  {
   "cell_type": "code",
   "execution_count": 12,
   "metadata": {},
   "outputs": [
    {
     "name": "stdout",
     "output_type": "stream",
     "text": [
      "<class 'pandas.core.frame.DataFrame'>\n",
      "RangeIndex: 202607 entries, 0 to 202606\n",
      "Data columns (total 4 columns):\n",
      "id           202607 non-null object\n",
      "call_date    202607 non-null object\n",
      "duration     202607 non-null float64\n",
      "user_id      202607 non-null int64\n",
      "dtypes: float64(1), int64(1), object(2)\n",
      "memory usage: 6.2+ MB\n"
     ]
    },
    {
     "data": {
      "text/html": [
       "<div>\n",
       "<style scoped>\n",
       "    .dataframe tbody tr th:only-of-type {\n",
       "        vertical-align: middle;\n",
       "    }\n",
       "\n",
       "    .dataframe tbody tr th {\n",
       "        vertical-align: top;\n",
       "    }\n",
       "\n",
       "    .dataframe thead th {\n",
       "        text-align: right;\n",
       "    }\n",
       "</style>\n",
       "<table border=\"1\" class=\"dataframe\">\n",
       "  <thead>\n",
       "    <tr style=\"text-align: right;\">\n",
       "      <th></th>\n",
       "      <th>id</th>\n",
       "      <th>call_date</th>\n",
       "      <th>duration</th>\n",
       "      <th>user_id</th>\n",
       "    </tr>\n",
       "  </thead>\n",
       "  <tbody>\n",
       "    <tr>\n",
       "      <td>0</td>\n",
       "      <td>1000_0</td>\n",
       "      <td>2018-07-25</td>\n",
       "      <td>0.00</td>\n",
       "      <td>1000</td>\n",
       "    </tr>\n",
       "    <tr>\n",
       "      <td>1</td>\n",
       "      <td>1000_1</td>\n",
       "      <td>2018-08-17</td>\n",
       "      <td>0.00</td>\n",
       "      <td>1000</td>\n",
       "    </tr>\n",
       "    <tr>\n",
       "      <td>2</td>\n",
       "      <td>1000_2</td>\n",
       "      <td>2018-06-11</td>\n",
       "      <td>2.85</td>\n",
       "      <td>1000</td>\n",
       "    </tr>\n",
       "    <tr>\n",
       "      <td>3</td>\n",
       "      <td>1000_3</td>\n",
       "      <td>2018-09-21</td>\n",
       "      <td>13.80</td>\n",
       "      <td>1000</td>\n",
       "    </tr>\n",
       "    <tr>\n",
       "      <td>4</td>\n",
       "      <td>1000_4</td>\n",
       "      <td>2018-12-15</td>\n",
       "      <td>5.18</td>\n",
       "      <td>1000</td>\n",
       "    </tr>\n",
       "  </tbody>\n",
       "</table>\n",
       "</div>"
      ],
      "text/plain": [
       "       id   call_date  duration  user_id\n",
       "0  1000_0  2018-07-25      0.00     1000\n",
       "1  1000_1  2018-08-17      0.00     1000\n",
       "2  1000_2  2018-06-11      2.85     1000\n",
       "3  1000_3  2018-09-21     13.80     1000\n",
       "4  1000_4  2018-12-15      5.18     1000"
      ]
     },
     "execution_count": 12,
     "metadata": {},
     "output_type": "execute_result"
    }
   ],
   "source": [
    "df_calls.info()\n",
    "df_calls.duplicated().sum()\n",
    "df_calls.head()"
   ]
  },
  {
   "cell_type": "code",
   "execution_count": 13,
   "metadata": {},
   "outputs": [
    {
     "data": {
      "text/plain": [
       "39613"
      ]
     },
     "execution_count": 13,
     "metadata": {},
     "output_type": "execute_result"
    }
   ],
   "source": [
    "# Посмотрим на пропущенные звонки\n",
    "\n",
    "gaps_calls = df_calls.query('duration == 0')\n",
    "len(gaps_calls)"
   ]
  },
  {
   "cell_type": "code",
   "execution_count": 14,
   "metadata": {},
   "outputs": [
    {
     "data": {
      "text/plain": [
       "19.551644316336553"
      ]
     },
     "execution_count": 14,
     "metadata": {},
     "output_type": "execute_result"
    }
   ],
   "source": [
    "# доля пропушенных звонков\n",
    "\n",
    "(len(gaps_calls) / len(df_calls)) *100 "
   ]
  },
  {
   "cell_type": "markdown",
   "metadata": {},
   "source": [
    "# Основные выводы по данным:\n",
    "\n",
    "Исходные данные разделены на 5 файлов: звонки, интернет сессии, сообщения, информация о пользователях, описание тарифов.\n",
    " \n",
    "Столбцы с датами требует приведения к формату datetime. \n",
    "\n",
    "Также выявлено, что длительность некоторых звонков и интернет-сессий - 0. Скорее всего это возникло из-за пропущенных звонков, а интернет-сессии с нулевым трафиком возникли из-за того, что у оператора есть возможность не учитывать движение трафика по определенным IP-адресам.\n",
    "\n",
    "Пропущенных звонков - 39613 (доля - 19,5%)\n",
    "Нулевых интернет-сессий - 19598 (доля - 13,1% ) \n",
    "Было принято решение не удалять эту информацию, тк она может понадобиться при подсчете общего количество звонок/интернет сессий.\n",
    "\n",
    "Согласно тарифу оператор округляет вверх значения минут и мегабайтов. Поэтом необходимо применить округление и привести к целочисленному типу эти параметры.\n"
   ]
  },
  {
   "cell_type": "markdown",
   "metadata": {},
   "source": [
    "## Предобработка данных: <a name=\"part_1\"></a>"
   ]
  },
  {
   "cell_type": "code",
   "execution_count": 15,
   "metadata": {},
   "outputs": [],
   "source": [
    "# смена типа данных \n",
    "\n",
    "df_users['churn_date'] = df_users['churn_date'] = pd.to_datetime(df_users['churn_date'], format='%Y-%m-%dT%H:%M:%S')"
   ]
  },
  {
   "cell_type": "code",
   "execution_count": 16,
   "metadata": {},
   "outputs": [],
   "source": [
    "# смена типа данных \n",
    "\n",
    "df_users['reg_date'] = df_users['reg_date'] = pd.to_datetime(df_users['reg_date'], format='%Y-%m-%dT%H:%M:%S')"
   ]
  },
  {
   "cell_type": "code",
   "execution_count": 17,
   "metadata": {},
   "outputs": [],
   "source": [
    "df_users['month'] = df_users['reg_date'].dt.month"
   ]
  },
  {
   "cell_type": "code",
   "execution_count": 18,
   "metadata": {},
   "outputs": [],
   "source": [
    "# смена типа данных \n",
    "\n",
    "df_internet['session_date'] = df_internet['session_date'] = pd.to_datetime(df_internet['session_date'], format='%Y-%m-%dT%H:%M:%S')"
   ]
  },
  {
   "cell_type": "code",
   "execution_count": 19,
   "metadata": {},
   "outputs": [],
   "source": [
    "df_internet['month'] = df_internet['session_date'].dt.month"
   ]
  },
  {
   "cell_type": "code",
   "execution_count": 20,
   "metadata": {},
   "outputs": [],
   "source": [
    "df_internet['mb_used'] = df_internet['mb_used'].apply(np.ceil) # оператор округляет \"вверх\"количества трафика"
   ]
  },
  {
   "cell_type": "code",
   "execution_count": 21,
   "metadata": {},
   "outputs": [
    {
     "name": "stdout",
     "output_type": "stream",
     "text": [
      "<class 'pandas.core.frame.DataFrame'>\n",
      "RangeIndex: 500 entries, 0 to 499\n",
      "Data columns (total 9 columns):\n",
      "user_id       500 non-null int64\n",
      "age           500 non-null int64\n",
      "churn_date    38 non-null datetime64[ns]\n",
      "city          500 non-null object\n",
      "first_name    500 non-null object\n",
      "last_name     500 non-null object\n",
      "reg_date      500 non-null datetime64[ns]\n",
      "tariff        500 non-null object\n",
      "month         500 non-null int64\n",
      "dtypes: datetime64[ns](2), int64(3), object(4)\n",
      "memory usage: 35.3+ KB\n"
     ]
    }
   ],
   "source": [
    "df_users.info()"
   ]
  },
  {
   "cell_type": "markdown",
   "metadata": {},
   "source": [
    "Рассчитаем объем потраченного  интернета с мегабайтах для каждого пользователя по месяцам"
   ]
  },
  {
   "cell_type": "code",
   "execution_count": 22,
   "metadata": {},
   "outputs": [],
   "source": [
    "internet = df_internet.pivot_table(index = ['user_id','month'], values = 'mb_used', aggfunc = 'sum').reset_index()"
   ]
  },
  {
   "cell_type": "code",
   "execution_count": 23,
   "metadata": {},
   "outputs": [
    {
     "data": {
      "text/html": [
       "<div>\n",
       "<style scoped>\n",
       "    .dataframe tbody tr th:only-of-type {\n",
       "        vertical-align: middle;\n",
       "    }\n",
       "\n",
       "    .dataframe tbody tr th {\n",
       "        vertical-align: top;\n",
       "    }\n",
       "\n",
       "    .dataframe thead th {\n",
       "        text-align: right;\n",
       "    }\n",
       "</style>\n",
       "<table border=\"1\" class=\"dataframe\">\n",
       "  <thead>\n",
       "    <tr style=\"text-align: right;\">\n",
       "      <th></th>\n",
       "      <th>user_id</th>\n",
       "      <th>month</th>\n",
       "      <th>mb_used</th>\n",
       "    </tr>\n",
       "  </thead>\n",
       "  <tbody>\n",
       "    <tr>\n",
       "      <td>0</td>\n",
       "      <td>1000</td>\n",
       "      <td>5</td>\n",
       "      <td>2256.0</td>\n",
       "    </tr>\n",
       "    <tr>\n",
       "      <td>1</td>\n",
       "      <td>1000</td>\n",
       "      <td>6</td>\n",
       "      <td>23257.0</td>\n",
       "    </tr>\n",
       "    <tr>\n",
       "      <td>2</td>\n",
       "      <td>1000</td>\n",
       "      <td>7</td>\n",
       "      <td>14016.0</td>\n",
       "    </tr>\n",
       "    <tr>\n",
       "      <td>3</td>\n",
       "      <td>1000</td>\n",
       "      <td>8</td>\n",
       "      <td>14070.0</td>\n",
       "    </tr>\n",
       "    <tr>\n",
       "      <td>4</td>\n",
       "      <td>1000</td>\n",
       "      <td>9</td>\n",
       "      <td>14581.0</td>\n",
       "    </tr>\n",
       "  </tbody>\n",
       "</table>\n",
       "</div>"
      ],
      "text/plain": [
       "   user_id  month  mb_used\n",
       "0     1000      5   2256.0\n",
       "1     1000      6  23257.0\n",
       "2     1000      7  14016.0\n",
       "3     1000      8  14070.0\n",
       "4     1000      9  14581.0"
      ]
     },
     "execution_count": 23,
     "metadata": {},
     "output_type": "execute_result"
    }
   ],
   "source": [
    "internet.head()"
   ]
  },
  {
   "cell_type": "code",
   "execution_count": 24,
   "metadata": {},
   "outputs": [],
   "source": [
    "# смена типа данных \n",
    "\n",
    "df_messages['message_date'] = df_messages['message_date'] = pd.to_datetime(df_messages['message_date'], format='%Y-%m-%dT%H:%M:%S')"
   ]
  },
  {
   "cell_type": "code",
   "execution_count": 25,
   "metadata": {},
   "outputs": [],
   "source": [
    "df_messages['month'] = df_messages['message_date'].dt.month"
   ]
  },
  {
   "cell_type": "markdown",
   "metadata": {},
   "source": [
    "Рассчитаем количество отправленных сообщений для каждого пользователя по месяцам"
   ]
  },
  {
   "cell_type": "code",
   "execution_count": 26,
   "metadata": {},
   "outputs": [],
   "source": [
    "messages = df_messages.pivot_table(index = ['user_id','month'], values = 'id', aggfunc = ['count']).reset_index()"
   ]
  },
  {
   "cell_type": "code",
   "execution_count": 27,
   "metadata": {},
   "outputs": [],
   "source": [
    "messages.columns = (['user_id', 'month','messages'])"
   ]
  },
  {
   "cell_type": "code",
   "execution_count": 28,
   "metadata": {},
   "outputs": [
    {
     "data": {
      "text/html": [
       "<div>\n",
       "<style scoped>\n",
       "    .dataframe tbody tr th:only-of-type {\n",
       "        vertical-align: middle;\n",
       "    }\n",
       "\n",
       "    .dataframe tbody tr th {\n",
       "        vertical-align: top;\n",
       "    }\n",
       "\n",
       "    .dataframe thead th {\n",
       "        text-align: right;\n",
       "    }\n",
       "</style>\n",
       "<table border=\"1\" class=\"dataframe\">\n",
       "  <thead>\n",
       "    <tr style=\"text-align: right;\">\n",
       "      <th></th>\n",
       "      <th>user_id</th>\n",
       "      <th>month</th>\n",
       "      <th>messages</th>\n",
       "    </tr>\n",
       "  </thead>\n",
       "  <tbody>\n",
       "    <tr>\n",
       "      <td>0</td>\n",
       "      <td>1000</td>\n",
       "      <td>5</td>\n",
       "      <td>22</td>\n",
       "    </tr>\n",
       "    <tr>\n",
       "      <td>1</td>\n",
       "      <td>1000</td>\n",
       "      <td>6</td>\n",
       "      <td>60</td>\n",
       "    </tr>\n",
       "    <tr>\n",
       "      <td>2</td>\n",
       "      <td>1000</td>\n",
       "      <td>7</td>\n",
       "      <td>75</td>\n",
       "    </tr>\n",
       "    <tr>\n",
       "      <td>3</td>\n",
       "      <td>1000</td>\n",
       "      <td>8</td>\n",
       "      <td>81</td>\n",
       "    </tr>\n",
       "    <tr>\n",
       "      <td>4</td>\n",
       "      <td>1000</td>\n",
       "      <td>9</td>\n",
       "      <td>57</td>\n",
       "    </tr>\n",
       "  </tbody>\n",
       "</table>\n",
       "</div>"
      ],
      "text/plain": [
       "   user_id  month  messages\n",
       "0     1000      5        22\n",
       "1     1000      6        60\n",
       "2     1000      7        75\n",
       "3     1000      8        81\n",
       "4     1000      9        57"
      ]
     },
     "execution_count": 28,
     "metadata": {},
     "output_type": "execute_result"
    }
   ],
   "source": [
    "messages.head()"
   ]
  },
  {
   "cell_type": "code",
   "execution_count": 29,
   "metadata": {},
   "outputs": [],
   "source": [
    "df_calls['call_date'] = df_calls['call_date'] = pd.to_datetime(df_calls['call_date'], format='%Y-%m-%dT%H:%M:%S')# смена типа данных "
   ]
  },
  {
   "cell_type": "code",
   "execution_count": 30,
   "metadata": {},
   "outputs": [],
   "source": [
    "df_calls['month'] = df_calls['call_date'].dt.month"
   ]
  },
  {
   "cell_type": "code",
   "execution_count": 31,
   "metadata": {},
   "outputs": [],
   "source": [
    "df_calls['duration'] = df_calls['duration'].apply(np.ceil) # оператор округляет \"вверх\" значения продолжительности звонков"
   ]
  },
  {
   "cell_type": "markdown",
   "metadata": {},
   "source": [
    "Рассчитаем количество минут разговора и число звонков для каждого пользователя по месяцам"
   ]
  },
  {
   "cell_type": "code",
   "execution_count": 32,
   "metadata": {},
   "outputs": [],
   "source": [
    "calls = df_calls.pivot_table(index = ['user_id','month'], values = 'duration', aggfunc = ['count', 'sum']).reset_index() "
   ]
  },
  {
   "cell_type": "code",
   "execution_count": 33,
   "metadata": {},
   "outputs": [],
   "source": [
    "calls.columns = (['user_id', 'month','total_calls','calls_duration'])"
   ]
  },
  {
   "cell_type": "code",
   "execution_count": 34,
   "metadata": {},
   "outputs": [
    {
     "data": {
      "text/html": [
       "<div>\n",
       "<style scoped>\n",
       "    .dataframe tbody tr th:only-of-type {\n",
       "        vertical-align: middle;\n",
       "    }\n",
       "\n",
       "    .dataframe tbody tr th {\n",
       "        vertical-align: top;\n",
       "    }\n",
       "\n",
       "    .dataframe thead th {\n",
       "        text-align: right;\n",
       "    }\n",
       "</style>\n",
       "<table border=\"1\" class=\"dataframe\">\n",
       "  <thead>\n",
       "    <tr style=\"text-align: right;\">\n",
       "      <th></th>\n",
       "      <th>user_id</th>\n",
       "      <th>month</th>\n",
       "      <th>total_calls</th>\n",
       "      <th>calls_duration</th>\n",
       "    </tr>\n",
       "  </thead>\n",
       "  <tbody>\n",
       "    <tr>\n",
       "      <td>0</td>\n",
       "      <td>1000</td>\n",
       "      <td>5</td>\n",
       "      <td>22</td>\n",
       "      <td>159.0</td>\n",
       "    </tr>\n",
       "    <tr>\n",
       "      <td>1</td>\n",
       "      <td>1000</td>\n",
       "      <td>6</td>\n",
       "      <td>43</td>\n",
       "      <td>172.0</td>\n",
       "    </tr>\n",
       "    <tr>\n",
       "      <td>2</td>\n",
       "      <td>1000</td>\n",
       "      <td>7</td>\n",
       "      <td>47</td>\n",
       "      <td>340.0</td>\n",
       "    </tr>\n",
       "    <tr>\n",
       "      <td>3</td>\n",
       "      <td>1000</td>\n",
       "      <td>8</td>\n",
       "      <td>52</td>\n",
       "      <td>408.0</td>\n",
       "    </tr>\n",
       "    <tr>\n",
       "      <td>4</td>\n",
       "      <td>1000</td>\n",
       "      <td>9</td>\n",
       "      <td>58</td>\n",
       "      <td>466.0</td>\n",
       "    </tr>\n",
       "  </tbody>\n",
       "</table>\n",
       "</div>"
      ],
      "text/plain": [
       "   user_id  month  total_calls  calls_duration\n",
       "0     1000      5           22           159.0\n",
       "1     1000      6           43           172.0\n",
       "2     1000      7           47           340.0\n",
       "3     1000      8           52           408.0\n",
       "4     1000      9           58           466.0"
      ]
     },
     "execution_count": 34,
     "metadata": {},
     "output_type": "execute_result"
    }
   ],
   "source": [
    "calls.head()"
   ]
  },
  {
   "cell_type": "markdown",
   "metadata": {},
   "source": [
    "Объединим таблицы со звонками, сообщениями и объемом потраченных гигабайт интернета по общим столбцам `user_id`,`month`\n",
    "\n",
    "Таблицы с пользователями и тарифами по столбцу `user_id`"
   ]
  },
  {
   "cell_type": "code",
   "execution_count": 35,
   "metadata": {},
   "outputs": [],
   "source": [
    "users_with_tariffs = df_users.merge(df_tariffs,left_on = 'tariff', right_on = 'tariff_name', how = 'left')"
   ]
  },
  {
   "cell_type": "code",
   "execution_count": 36,
   "metadata": {},
   "outputs": [],
   "source": [
    "df_final = (calls.merge(internet, on =['user_id', 'month'], how = 'outer')\n",
    "    .merge(messages, on = ['user_id', 'month'], how = 'outer')\n",
    "    .merge(users_with_tariffs, on = 'user_id'))\n",
    "\n",
    "df_final.drop(['month_y', 'first_name','tariff_name','last_name'],inplace = True, axis = 'columns')"
   ]
  },
  {
   "cell_type": "code",
   "execution_count": 37,
   "metadata": {},
   "outputs": [
    {
     "data": {
      "text/html": [
       "<div>\n",
       "<style scoped>\n",
       "    .dataframe tbody tr th:only-of-type {\n",
       "        vertical-align: middle;\n",
       "    }\n",
       "\n",
       "    .dataframe tbody tr th {\n",
       "        vertical-align: top;\n",
       "    }\n",
       "\n",
       "    .dataframe thead th {\n",
       "        text-align: right;\n",
       "    }\n",
       "</style>\n",
       "<table border=\"1\" class=\"dataframe\">\n",
       "  <thead>\n",
       "    <tr style=\"text-align: right;\">\n",
       "      <th></th>\n",
       "      <th>user_id</th>\n",
       "      <th>month_x</th>\n",
       "      <th>total_calls</th>\n",
       "      <th>calls_duration</th>\n",
       "      <th>mb_used</th>\n",
       "      <th>messages</th>\n",
       "      <th>age</th>\n",
       "      <th>churn_date</th>\n",
       "      <th>city</th>\n",
       "      <th>reg_date</th>\n",
       "      <th>tariff</th>\n",
       "      <th>messages_included</th>\n",
       "      <th>mb_per_month_included</th>\n",
       "      <th>minutes_included</th>\n",
       "      <th>rub_monthly_fee</th>\n",
       "      <th>rub_per_gb</th>\n",
       "      <th>rub_per_message</th>\n",
       "      <th>rub_per_minute</th>\n",
       "    </tr>\n",
       "  </thead>\n",
       "  <tbody>\n",
       "    <tr>\n",
       "      <td>0</td>\n",
       "      <td>1000</td>\n",
       "      <td>5</td>\n",
       "      <td>22.0</td>\n",
       "      <td>159.0</td>\n",
       "      <td>2256.0</td>\n",
       "      <td>22.0</td>\n",
       "      <td>52</td>\n",
       "      <td>NaT</td>\n",
       "      <td>Краснодар</td>\n",
       "      <td>2018-05-25</td>\n",
       "      <td>ultra</td>\n",
       "      <td>1000</td>\n",
       "      <td>30720</td>\n",
       "      <td>3000</td>\n",
       "      <td>1950</td>\n",
       "      <td>150</td>\n",
       "      <td>1</td>\n",
       "      <td>1</td>\n",
       "    </tr>\n",
       "    <tr>\n",
       "      <td>1</td>\n",
       "      <td>1000</td>\n",
       "      <td>6</td>\n",
       "      <td>43.0</td>\n",
       "      <td>172.0</td>\n",
       "      <td>23257.0</td>\n",
       "      <td>60.0</td>\n",
       "      <td>52</td>\n",
       "      <td>NaT</td>\n",
       "      <td>Краснодар</td>\n",
       "      <td>2018-05-25</td>\n",
       "      <td>ultra</td>\n",
       "      <td>1000</td>\n",
       "      <td>30720</td>\n",
       "      <td>3000</td>\n",
       "      <td>1950</td>\n",
       "      <td>150</td>\n",
       "      <td>1</td>\n",
       "      <td>1</td>\n",
       "    </tr>\n",
       "    <tr>\n",
       "      <td>2</td>\n",
       "      <td>1000</td>\n",
       "      <td>7</td>\n",
       "      <td>47.0</td>\n",
       "      <td>340.0</td>\n",
       "      <td>14016.0</td>\n",
       "      <td>75.0</td>\n",
       "      <td>52</td>\n",
       "      <td>NaT</td>\n",
       "      <td>Краснодар</td>\n",
       "      <td>2018-05-25</td>\n",
       "      <td>ultra</td>\n",
       "      <td>1000</td>\n",
       "      <td>30720</td>\n",
       "      <td>3000</td>\n",
       "      <td>1950</td>\n",
       "      <td>150</td>\n",
       "      <td>1</td>\n",
       "      <td>1</td>\n",
       "    </tr>\n",
       "    <tr>\n",
       "      <td>3</td>\n",
       "      <td>1000</td>\n",
       "      <td>8</td>\n",
       "      <td>52.0</td>\n",
       "      <td>408.0</td>\n",
       "      <td>14070.0</td>\n",
       "      <td>81.0</td>\n",
       "      <td>52</td>\n",
       "      <td>NaT</td>\n",
       "      <td>Краснодар</td>\n",
       "      <td>2018-05-25</td>\n",
       "      <td>ultra</td>\n",
       "      <td>1000</td>\n",
       "      <td>30720</td>\n",
       "      <td>3000</td>\n",
       "      <td>1950</td>\n",
       "      <td>150</td>\n",
       "      <td>1</td>\n",
       "      <td>1</td>\n",
       "    </tr>\n",
       "    <tr>\n",
       "      <td>4</td>\n",
       "      <td>1000</td>\n",
       "      <td>9</td>\n",
       "      <td>58.0</td>\n",
       "      <td>466.0</td>\n",
       "      <td>14581.0</td>\n",
       "      <td>57.0</td>\n",
       "      <td>52</td>\n",
       "      <td>NaT</td>\n",
       "      <td>Краснодар</td>\n",
       "      <td>2018-05-25</td>\n",
       "      <td>ultra</td>\n",
       "      <td>1000</td>\n",
       "      <td>30720</td>\n",
       "      <td>3000</td>\n",
       "      <td>1950</td>\n",
       "      <td>150</td>\n",
       "      <td>1</td>\n",
       "      <td>1</td>\n",
       "    </tr>\n",
       "  </tbody>\n",
       "</table>\n",
       "</div>"
      ],
      "text/plain": [
       "   user_id  month_x  total_calls  calls_duration  mb_used  messages  age  \\\n",
       "0     1000        5         22.0           159.0   2256.0      22.0   52   \n",
       "1     1000        6         43.0           172.0  23257.0      60.0   52   \n",
       "2     1000        7         47.0           340.0  14016.0      75.0   52   \n",
       "3     1000        8         52.0           408.0  14070.0      81.0   52   \n",
       "4     1000        9         58.0           466.0  14581.0      57.0   52   \n",
       "\n",
       "  churn_date       city   reg_date tariff  messages_included  \\\n",
       "0        NaT  Краснодар 2018-05-25  ultra               1000   \n",
       "1        NaT  Краснодар 2018-05-25  ultra               1000   \n",
       "2        NaT  Краснодар 2018-05-25  ultra               1000   \n",
       "3        NaT  Краснодар 2018-05-25  ultra               1000   \n",
       "4        NaT  Краснодар 2018-05-25  ultra               1000   \n",
       "\n",
       "   mb_per_month_included  minutes_included  rub_monthly_fee  rub_per_gb  \\\n",
       "0                  30720              3000             1950         150   \n",
       "1                  30720              3000             1950         150   \n",
       "2                  30720              3000             1950         150   \n",
       "3                  30720              3000             1950         150   \n",
       "4                  30720              3000             1950         150   \n",
       "\n",
       "   rub_per_message  rub_per_minute  \n",
       "0                1               1  \n",
       "1                1               1  \n",
       "2                1               1  \n",
       "3                1               1  \n",
       "4                1               1  "
      ]
     },
     "execution_count": 37,
     "metadata": {},
     "output_type": "execute_result"
    }
   ],
   "source": [
    "df_final.head()"
   ]
  },
  {
   "cell_type": "code",
   "execution_count": 38,
   "metadata": {},
   "outputs": [],
   "source": [
    "#Назначим функцию для расчета ежемесячной выручки от каждого пользователя. При расчете будут учитываться превышение лимитов вне тарифного плана.\n",
    "\n",
    "def count_fee(row):\n",
    "    total_fee = 0\n",
    "    if (row['calls_duration'] > row['minutes_included']):\n",
    "        total_fee += (row['calls_duration'] - row['minutes_included'])* row['rub_per_minute'] \n",
    "    if (row['mb_used'] > row['mb_per_month_included']):\n",
    "        total_fee += np.ceil((row['mb_used'] - row['mb_per_month_included'])/1024)* row['rub_per_gb'] \n",
    "    if (row['messages'] > row['messages_included']):\n",
    "        total_fee += (row['messages'] - row['messages_included'])* row['rub_per_message']\n",
    "    total_fee += row['rub_monthly_fee']    \n",
    "    \n",
    "    return total_fee"
   ]
  },
  {
   "cell_type": "code",
   "execution_count": 39,
   "metadata": {},
   "outputs": [
    {
     "data": {
      "text/html": [
       "<div>\n",
       "<style scoped>\n",
       "    .dataframe tbody tr th:only-of-type {\n",
       "        vertical-align: middle;\n",
       "    }\n",
       "\n",
       "    .dataframe tbody tr th {\n",
       "        vertical-align: top;\n",
       "    }\n",
       "\n",
       "    .dataframe thead th {\n",
       "        text-align: right;\n",
       "    }\n",
       "</style>\n",
       "<table border=\"1\" class=\"dataframe\">\n",
       "  <thead>\n",
       "    <tr style=\"text-align: right;\">\n",
       "      <th></th>\n",
       "      <th>user_id</th>\n",
       "      <th>month_x</th>\n",
       "      <th>total_calls</th>\n",
       "      <th>calls_duration</th>\n",
       "      <th>mb_used</th>\n",
       "      <th>messages</th>\n",
       "      <th>age</th>\n",
       "      <th>churn_date</th>\n",
       "      <th>city</th>\n",
       "      <th>reg_date</th>\n",
       "      <th>tariff</th>\n",
       "      <th>messages_included</th>\n",
       "      <th>mb_per_month_included</th>\n",
       "      <th>minutes_included</th>\n",
       "      <th>rub_monthly_fee</th>\n",
       "      <th>rub_per_gb</th>\n",
       "      <th>rub_per_message</th>\n",
       "      <th>rub_per_minute</th>\n",
       "      <th>total_fee</th>\n",
       "    </tr>\n",
       "  </thead>\n",
       "  <tbody>\n",
       "    <tr>\n",
       "      <td>0</td>\n",
       "      <td>1000</td>\n",
       "      <td>5</td>\n",
       "      <td>22.0</td>\n",
       "      <td>159.0</td>\n",
       "      <td>2256.0</td>\n",
       "      <td>22.0</td>\n",
       "      <td>52</td>\n",
       "      <td>NaT</td>\n",
       "      <td>Краснодар</td>\n",
       "      <td>2018-05-25</td>\n",
       "      <td>ultra</td>\n",
       "      <td>1000</td>\n",
       "      <td>30720</td>\n",
       "      <td>3000</td>\n",
       "      <td>1950</td>\n",
       "      <td>150</td>\n",
       "      <td>1</td>\n",
       "      <td>1</td>\n",
       "      <td>1950.0</td>\n",
       "    </tr>\n",
       "    <tr>\n",
       "      <td>1</td>\n",
       "      <td>1000</td>\n",
       "      <td>6</td>\n",
       "      <td>43.0</td>\n",
       "      <td>172.0</td>\n",
       "      <td>23257.0</td>\n",
       "      <td>60.0</td>\n",
       "      <td>52</td>\n",
       "      <td>NaT</td>\n",
       "      <td>Краснодар</td>\n",
       "      <td>2018-05-25</td>\n",
       "      <td>ultra</td>\n",
       "      <td>1000</td>\n",
       "      <td>30720</td>\n",
       "      <td>3000</td>\n",
       "      <td>1950</td>\n",
       "      <td>150</td>\n",
       "      <td>1</td>\n",
       "      <td>1</td>\n",
       "      <td>1950.0</td>\n",
       "    </tr>\n",
       "    <tr>\n",
       "      <td>2</td>\n",
       "      <td>1000</td>\n",
       "      <td>7</td>\n",
       "      <td>47.0</td>\n",
       "      <td>340.0</td>\n",
       "      <td>14016.0</td>\n",
       "      <td>75.0</td>\n",
       "      <td>52</td>\n",
       "      <td>NaT</td>\n",
       "      <td>Краснодар</td>\n",
       "      <td>2018-05-25</td>\n",
       "      <td>ultra</td>\n",
       "      <td>1000</td>\n",
       "      <td>30720</td>\n",
       "      <td>3000</td>\n",
       "      <td>1950</td>\n",
       "      <td>150</td>\n",
       "      <td>1</td>\n",
       "      <td>1</td>\n",
       "      <td>1950.0</td>\n",
       "    </tr>\n",
       "    <tr>\n",
       "      <td>3</td>\n",
       "      <td>1000</td>\n",
       "      <td>8</td>\n",
       "      <td>52.0</td>\n",
       "      <td>408.0</td>\n",
       "      <td>14070.0</td>\n",
       "      <td>81.0</td>\n",
       "      <td>52</td>\n",
       "      <td>NaT</td>\n",
       "      <td>Краснодар</td>\n",
       "      <td>2018-05-25</td>\n",
       "      <td>ultra</td>\n",
       "      <td>1000</td>\n",
       "      <td>30720</td>\n",
       "      <td>3000</td>\n",
       "      <td>1950</td>\n",
       "      <td>150</td>\n",
       "      <td>1</td>\n",
       "      <td>1</td>\n",
       "      <td>1950.0</td>\n",
       "    </tr>\n",
       "    <tr>\n",
       "      <td>4</td>\n",
       "      <td>1000</td>\n",
       "      <td>9</td>\n",
       "      <td>58.0</td>\n",
       "      <td>466.0</td>\n",
       "      <td>14581.0</td>\n",
       "      <td>57.0</td>\n",
       "      <td>52</td>\n",
       "      <td>NaT</td>\n",
       "      <td>Краснодар</td>\n",
       "      <td>2018-05-25</td>\n",
       "      <td>ultra</td>\n",
       "      <td>1000</td>\n",
       "      <td>30720</td>\n",
       "      <td>3000</td>\n",
       "      <td>1950</td>\n",
       "      <td>150</td>\n",
       "      <td>1</td>\n",
       "      <td>1</td>\n",
       "      <td>1950.0</td>\n",
       "    </tr>\n",
       "  </tbody>\n",
       "</table>\n",
       "</div>"
      ],
      "text/plain": [
       "   user_id  month_x  total_calls  calls_duration  mb_used  messages  age  \\\n",
       "0     1000        5         22.0           159.0   2256.0      22.0   52   \n",
       "1     1000        6         43.0           172.0  23257.0      60.0   52   \n",
       "2     1000        7         47.0           340.0  14016.0      75.0   52   \n",
       "3     1000        8         52.0           408.0  14070.0      81.0   52   \n",
       "4     1000        9         58.0           466.0  14581.0      57.0   52   \n",
       "\n",
       "  churn_date       city   reg_date tariff  messages_included  \\\n",
       "0        NaT  Краснодар 2018-05-25  ultra               1000   \n",
       "1        NaT  Краснодар 2018-05-25  ultra               1000   \n",
       "2        NaT  Краснодар 2018-05-25  ultra               1000   \n",
       "3        NaT  Краснодар 2018-05-25  ultra               1000   \n",
       "4        NaT  Краснодар 2018-05-25  ultra               1000   \n",
       "\n",
       "   mb_per_month_included  minutes_included  rub_monthly_fee  rub_per_gb  \\\n",
       "0                  30720              3000             1950         150   \n",
       "1                  30720              3000             1950         150   \n",
       "2                  30720              3000             1950         150   \n",
       "3                  30720              3000             1950         150   \n",
       "4                  30720              3000             1950         150   \n",
       "\n",
       "   rub_per_message  rub_per_minute  total_fee  \n",
       "0                1               1     1950.0  \n",
       "1                1               1     1950.0  \n",
       "2                1               1     1950.0  \n",
       "3                1               1     1950.0  \n",
       "4                1               1     1950.0  "
      ]
     },
     "execution_count": 39,
     "metadata": {},
     "output_type": "execute_result"
    }
   ],
   "source": [
    "df_final['total_fee'] = df_final.apply(count_fee, axis = 1)\n",
    "\n",
    "df_final.head()"
   ]
  },
  {
   "cell_type": "code",
   "execution_count": 40,
   "metadata": {},
   "outputs": [],
   "source": [
    "df_final['total_fee']  = df_final['total_fee'].astype('int') # приводим к целочисленному типу данных"
   ]
  },
  {
   "cell_type": "code",
   "execution_count": 41,
   "metadata": {},
   "outputs": [
    {
     "data": {
      "text/html": [
       "<div>\n",
       "<style scoped>\n",
       "    .dataframe tbody tr th:only-of-type {\n",
       "        vertical-align: middle;\n",
       "    }\n",
       "\n",
       "    .dataframe tbody tr th {\n",
       "        vertical-align: top;\n",
       "    }\n",
       "\n",
       "    .dataframe thead th {\n",
       "        text-align: right;\n",
       "    }\n",
       "</style>\n",
       "<table border=\"1\" class=\"dataframe\">\n",
       "  <thead>\n",
       "    <tr style=\"text-align: right;\">\n",
       "      <th></th>\n",
       "      <th>user_id</th>\n",
       "      <th>month_x</th>\n",
       "      <th>total_calls</th>\n",
       "      <th>calls_duration</th>\n",
       "      <th>mb_used</th>\n",
       "      <th>messages</th>\n",
       "      <th>age</th>\n",
       "      <th>churn_date</th>\n",
       "      <th>city</th>\n",
       "      <th>reg_date</th>\n",
       "      <th>tariff</th>\n",
       "      <th>messages_included</th>\n",
       "      <th>mb_per_month_included</th>\n",
       "      <th>minutes_included</th>\n",
       "      <th>rub_monthly_fee</th>\n",
       "      <th>rub_per_gb</th>\n",
       "      <th>rub_per_message</th>\n",
       "      <th>rub_per_minute</th>\n",
       "      <th>total_fee</th>\n",
       "    </tr>\n",
       "  </thead>\n",
       "  <tbody>\n",
       "    <tr>\n",
       "      <td>171</td>\n",
       "      <td>1026</td>\n",
       "      <td>10</td>\n",
       "      <td>72.0</td>\n",
       "      <td>535.0</td>\n",
       "      <td>14199.0</td>\n",
       "      <td>39.0</td>\n",
       "      <td>32</td>\n",
       "      <td>NaT</td>\n",
       "      <td>Мурманск</td>\n",
       "      <td>2018-10-06</td>\n",
       "      <td>smart</td>\n",
       "      <td>50</td>\n",
       "      <td>15360</td>\n",
       "      <td>500</td>\n",
       "      <td>550</td>\n",
       "      <td>200</td>\n",
       "      <td>3</td>\n",
       "      <td>3</td>\n",
       "      <td>655</td>\n",
       "    </tr>\n",
       "    <tr>\n",
       "      <td>172</td>\n",
       "      <td>1026</td>\n",
       "      <td>11</td>\n",
       "      <td>61.0</td>\n",
       "      <td>469.0</td>\n",
       "      <td>12204.0</td>\n",
       "      <td>48.0</td>\n",
       "      <td>32</td>\n",
       "      <td>NaT</td>\n",
       "      <td>Мурманск</td>\n",
       "      <td>2018-10-06</td>\n",
       "      <td>smart</td>\n",
       "      <td>50</td>\n",
       "      <td>15360</td>\n",
       "      <td>500</td>\n",
       "      <td>550</td>\n",
       "      <td>200</td>\n",
       "      <td>3</td>\n",
       "      <td>3</td>\n",
       "      <td>550</td>\n",
       "    </tr>\n",
       "    <tr>\n",
       "      <td>173</td>\n",
       "      <td>1026</td>\n",
       "      <td>12</td>\n",
       "      <td>68.0</td>\n",
       "      <td>531.0</td>\n",
       "      <td>16560.0</td>\n",
       "      <td>57.0</td>\n",
       "      <td>32</td>\n",
       "      <td>NaT</td>\n",
       "      <td>Мурманск</td>\n",
       "      <td>2018-10-06</td>\n",
       "      <td>smart</td>\n",
       "      <td>50</td>\n",
       "      <td>15360</td>\n",
       "      <td>500</td>\n",
       "      <td>550</td>\n",
       "      <td>200</td>\n",
       "      <td>3</td>\n",
       "      <td>3</td>\n",
       "      <td>1064</td>\n",
       "    </tr>\n",
       "  </tbody>\n",
       "</table>\n",
       "</div>"
      ],
      "text/plain": [
       "     user_id  month_x  total_calls  calls_duration  mb_used  messages  age  \\\n",
       "171     1026       10         72.0           535.0  14199.0      39.0   32   \n",
       "172     1026       11         61.0           469.0  12204.0      48.0   32   \n",
       "173     1026       12         68.0           531.0  16560.0      57.0   32   \n",
       "\n",
       "    churn_date      city   reg_date tariff  messages_included  \\\n",
       "171        NaT  Мурманск 2018-10-06  smart                 50   \n",
       "172        NaT  Мурманск 2018-10-06  smart                 50   \n",
       "173        NaT  Мурманск 2018-10-06  smart                 50   \n",
       "\n",
       "     mb_per_month_included  minutes_included  rub_monthly_fee  rub_per_gb  \\\n",
       "171                  15360               500              550         200   \n",
       "172                  15360               500              550         200   \n",
       "173                  15360               500              550         200   \n",
       "\n",
       "     rub_per_message  rub_per_minute  total_fee  \n",
       "171                3               3        655  \n",
       "172                3               3        550  \n",
       "173                3               3       1064  "
      ]
     },
     "execution_count": 41,
     "metadata": {},
     "output_type": "execute_result"
    }
   ],
   "source": [
    "df_final[df_final['user_id'] == 1026] # посмотрим на отдельного пользователя "
   ]
  },
  {
   "cell_type": "markdown",
   "metadata": {},
   "source": [
    "## Описание распределений <a name=\"part_2\"></a>"
   ]
  },
  {
   "cell_type": "code",
   "execution_count": 42,
   "metadata": {},
   "outputs": [],
   "source": [
    "# Посмотрим отдельно на поведение клиентов в зависимости от тарифа\n",
    "\n",
    "smart_users = df_final.query('tariff == \"smart\"')\n",
    "ultra_users = df_final.query('tariff == \"ultra\"')"
   ]
  },
  {
   "cell_type": "code",
   "execution_count": 43,
   "metadata": {},
   "outputs": [
    {
     "data": {
      "text/plain": [
       "419.0629779577148"
      ]
     },
     "execution_count": 43,
     "metadata": {},
     "output_type": "execute_result"
    }
   ],
   "source": [
    "smart_users['calls_duration'].mean()  # найдем среднее значение"
   ]
  },
  {
   "cell_type": "code",
   "execution_count": 44,
   "metadata": {},
   "outputs": [
    {
     "data": {
      "text/plain": [
       "35828.06530953033"
      ]
     },
     "execution_count": 44,
     "metadata": {},
     "output_type": "execute_result"
    }
   ],
   "source": [
    "np.var(smart_users['calls_duration']) # найдем дисперсию"
   ]
  },
  {
   "cell_type": "code",
   "execution_count": 45,
   "metadata": {},
   "outputs": [
    {
     "data": {
      "text/plain": [
       "189.2830296395594"
      ]
     },
     "execution_count": 45,
     "metadata": {},
     "output_type": "execute_result"
    }
   ],
   "source": [
    "np.std(smart_users['calls_duration']) # найдем стандартное отклонение"
   ]
  },
  {
   "cell_type": "code",
   "execution_count": 46,
   "metadata": {},
   "outputs": [
    {
     "data": {
      "image/png": "[encoded data removed]",
      "text/plain": [
       "<Figure size 432x288 with 1 Axes>"
      ]
     },
     "metadata": {
      "needs_background": "light"
     },
     "output_type": "display_data"
    }
   ],
   "source": [
    "# Посмотрим распределение на гистограмме \n",
    "\n",
    "smart_calls = smart_users['calls_duration'].hist()\n",
    "smart_calls.set_xlabel('Длительность звонков')\n",
    "smart_calls.set_ylabel('Количество клиентов')\n",
    "smart_calls.set_title('calls_duration')\n",
    "plt.show()"
   ]
  },
  {
   "cell_type": "markdown",
   "metadata": {},
   "source": [
    "В среднем клиенты на тарифе Smart говорят 419 минут, все разговоры в рамках тарифа Smart\n",
    "Дисперсия израсходованных минут в месяц для клиента тариного плана Smart составляет - 35828.06530953033\n",
    "Стандартное отклонение израсходованных минут в месяц для клиента тариного плана Smart составляет - 189.2830296395594"
   ]
  },
  {
   "cell_type": "code",
   "execution_count": 47,
   "metadata": {},
   "outputs": [
    {
     "data": {
      "text/plain": [
       "16236.47262118492"
      ]
     },
     "execution_count": 47,
     "metadata": {},
     "output_type": "execute_result"
    }
   ],
   "source": [
    "smart_users['mb_used'].mean() # найдем среднее значение"
   ]
  },
  {
   "cell_type": "code",
   "execution_count": 48,
   "metadata": {},
   "outputs": [
    {
     "data": {
      "text/plain": [
       "34427641.479950584"
      ]
     },
     "execution_count": 48,
     "metadata": {},
     "output_type": "execute_result"
    }
   ],
   "source": [
    "np.var(smart_users['mb_used'])# найдем дисперсию"
   ]
  },
  {
   "cell_type": "code",
   "execution_count": 49,
   "metadata": {},
   "outputs": [
    {
     "data": {
      "text/plain": [
       "5867.507262880088"
      ]
     },
     "execution_count": 49,
     "metadata": {},
     "output_type": "execute_result"
    }
   ],
   "source": [
    "np.std(smart_users['mb_used']) # найдем стандартное отклонение"
   ]
  },
  {
   "cell_type": "code",
   "execution_count": 50,
   "metadata": {},
   "outputs": [
    {
     "data": {
      "image/png": "[encoded data removed]",
      "text/plain": [
       "<Figure size 432x288 with 1 Axes>"
      ]
     },
     "metadata": {
      "needs_background": "light"
     },
     "output_type": "display_data"
    }
   ],
   "source": [
    "smart_mb = smart_users['mb_used'].hist()\n",
    "smart_mb.set_xlabel('Объем мегабайт')\n",
    "smart_mb.set_ylabel('Количество клиентов')\n",
    "smart_mb.set_title('Объём потраченного интернет-трафика Smart')\n",
    "plt.show()"
   ]
  },
  {
   "cell_type": "markdown",
   "metadata": {},
   "source": [
    "В среднем клиенты на тарифе Smart тратят мегабайт больше,чем им предложено в рамках тарифного плана, средний показатель составляет - 16215\n",
    "Дисперсия израсходованных минут в месяц для клиента тариного плана Smart составляет - 34344529.80091768\n",
    "Стандартное отклонение израсходованных минут в месяц для клиента тариного плана Smart составляет - 5860.420616382213"
   ]
  },
  {
   "cell_type": "code",
   "execution_count": 51,
   "metadata": {},
   "outputs": [
    {
     "data": {
      "text/plain": [
       "38.71644120707596"
      ]
     },
     "execution_count": 51,
     "metadata": {},
     "output_type": "execute_result"
    }
   ],
   "source": [
    "smart_users['messages'].mean() # найдем среднее значение"
   ]
  },
  {
   "cell_type": "code",
   "execution_count": 52,
   "metadata": {},
   "outputs": [
    {
     "data": {
      "text/plain": [
       "717.220843110227"
      ]
     },
     "execution_count": 52,
     "metadata": {},
     "output_type": "execute_result"
    }
   ],
   "source": [
    "np.var(smart_users['messages'])# найдем дисперсию"
   ]
  },
  {
   "cell_type": "code",
   "execution_count": 53,
   "metadata": {},
   "outputs": [
    {
     "data": {
      "text/plain": [
       "26.780979129042816"
      ]
     },
     "execution_count": 53,
     "metadata": {},
     "output_type": "execute_result"
    }
   ],
   "source": [
    "np.std(smart_users['messages']) # найдем стандартное отклонение"
   ]
  },
  {
   "cell_type": "code",
   "execution_count": 54,
   "metadata": {},
   "outputs": [
    {
     "data": {
      "image/png": "[encoded data removed]",
      "text/plain": [
       "<Figure size 432x288 with 1 Axes>"
      ]
     },
     "metadata": {
      "needs_background": "light"
     },
     "output_type": "display_data"
    }
   ],
   "source": [
    "smart_sms = smart_users['messages'].hist()\n",
    "smart_sms.set_xlabel('Сообщения')\n",
    "smart_sms.set_ylabel('Количество')\n",
    "smart_sms.set_title('Отправленные сообщения пользователей тарифа Smart')\n",
    "plt.show()"
   ]
  },
  {
   "cell_type": "markdown",
   "metadata": {},
   "source": [
    "В среднем клиенты на тарифе Smart отправляют сообщений меньше, чем предложено оператором \n",
    "Дисперсия израсходованных минут в месяц для клиента тариного плана Smart составляет - 717.220843110227\n",
    "Стандартное отклонение израсходованных минут в месяц для клиента тариного плана Smart составляет - 26.780979129042816"
   ]
  },
  {
   "cell_type": "code",
   "execution_count": 55,
   "metadata": {},
   "outputs": [
    {
     "data": {
      "text/plain": [
       "545.4511041009464"
      ]
     },
     "execution_count": 55,
     "metadata": {},
     "output_type": "execute_result"
    }
   ],
   "source": [
    "ultra_users['calls_duration'].mean()  # найдем среднее значение"
   ]
  },
  {
   "cell_type": "code",
   "execution_count": 56,
   "metadata": {},
   "outputs": [
    {
     "data": {
      "text/plain": [
       "94104.36117385984"
      ]
     },
     "execution_count": 56,
     "metadata": {},
     "output_type": "execute_result"
    }
   ],
   "source": [
    "np.var(ultra_users['calls_duration']) # найдем дисперсию"
   ]
  },
  {
   "cell_type": "code",
   "execution_count": 57,
   "metadata": {},
   "outputs": [
    {
     "data": {
      "text/plain": [
       "306.76434143143143"
      ]
     },
     "execution_count": 57,
     "metadata": {},
     "output_type": "execute_result"
    }
   ],
   "source": [
    "np.std(ultra_users['calls_duration']) # найдем стандартное отклонение"
   ]
  },
  {
   "cell_type": "code",
   "execution_count": 58,
   "metadata": {},
   "outputs": [
    {
     "data": {
      "image/png": "[encoded data removed]",
      "text/plain": [
       "<Figure size 432x288 with 1 Axes>"
      ]
     },
     "metadata": {
      "needs_background": "light"
     },
     "output_type": "display_data"
    }
   ],
   "source": [
    "# Посмотрим распределение на гистограмме \n",
    "\n",
    "ultra_calls = ultra_users['calls_duration'].hist()\n",
    "ultra_calls.set_xlabel('Длительность звонков')\n",
    "ultra_calls.set_ylabel('Количество клиентов')\n",
    "ultra_calls.set_title('calls_duration')\n",
    "plt.show()\n"
   ]
  },
  {
   "cell_type": "markdown",
   "metadata": {},
   "source": [
    "В среднем пользователи тарифа Ultra  таритят больше минут почти в два раза, чем предложено тарифом\n",
    "Дисперсия израсходованных минут в месяц для клиента тариного плана Ultra составляет - 94104.36117385984\n",
    "Стандартное отклонение израсходованных минут в месяц для клиента тариного плана Ultra составляет - 306.76434143143143"
   ]
  },
  {
   "cell_type": "code",
   "execution_count": 59,
   "metadata": {},
   "outputs": [
    {
     "data": {
      "text/plain": [
       "19686.76717948718"
      ]
     },
     "execution_count": 59,
     "metadata": {},
     "output_type": "execute_result"
    }
   ],
   "source": [
    "ultra_users['mb_used'].mean()  # найдем среднее значение"
   ]
  },
  {
   "cell_type": "code",
   "execution_count": 60,
   "metadata": {},
   "outputs": [
    {
     "data": {
      "text/plain": [
       "98941856.5929741"
      ]
     },
     "execution_count": 60,
     "metadata": {},
     "output_type": "execute_result"
    }
   ],
   "source": [
    "np.var(ultra_users['mb_used']) # найдем дисперсию"
   ]
  },
  {
   "cell_type": "code",
   "execution_count": 61,
   "metadata": {},
   "outputs": [
    {
     "data": {
      "text/plain": [
       "9946.952125800852"
      ]
     },
     "execution_count": 61,
     "metadata": {},
     "output_type": "execute_result"
    }
   ],
   "source": [
    "np.std(ultra_users['mb_used']) # найдем стандартное отклонение"
   ]
  },
  {
   "cell_type": "code",
   "execution_count": 62,
   "metadata": {},
   "outputs": [
    {
     "data": {
      "image/png": "[encoded data removed]",
      "text/plain": [
       "<Figure size 432x288 with 1 Axes>"
      ]
     },
     "metadata": {
      "needs_background": "light"
     },
     "output_type": "display_data"
    }
   ],
   "source": [
    "# Посмотрим распределение на гистограмме \n",
    "\n",
    "ultra_mb = ultra_users['calls_duration'].hist()\n",
    "ultra_mb.set_xlabel('Объем мегабайт')\n",
    "ultra_mb.set_ylabel('Количество клиентов')\n",
    "ultra_mb.set_title('Объём потраченного интернет-трафика Ultra')\n",
    "plt.show()\n"
   ]
  },
  {
   "cell_type": "markdown",
   "metadata": {},
   "source": [
    "В среднем пользователи тарифа Ultra не выходят за рамки предложенного лимита, средний показатель - 19668.48526153846\n",
    "Дисперсия израсходованных минут в месяц для клиента тариного плана Ultra составляет - 98762849.72293654\n",
    "Стандартное отклонение израсходованных минут в месяц для клиента тариного плана Ultra составляет - 9937.949975872114"
   ]
  },
  {
   "cell_type": "code",
   "execution_count": 63,
   "metadata": {},
   "outputs": [
    {
     "data": {
      "text/plain": [
       "61.161006289308176"
      ]
     },
     "execution_count": 63,
     "metadata": {},
     "output_type": "execute_result"
    }
   ],
   "source": [
    "ultra_users['messages'].mean()  # найдем среднее значение"
   ]
  },
  {
   "cell_type": "code",
   "execution_count": 64,
   "metadata": {},
   "outputs": [
    {
     "data": {
      "text/plain": [
       "2107.0055235156838"
      ]
     },
     "execution_count": 64,
     "metadata": {},
     "output_type": "execute_result"
    }
   ],
   "source": [
    "np.var(ultra_users['messages']) # найдем дисперсию"
   ]
  },
  {
   "cell_type": "code",
   "execution_count": 65,
   "metadata": {},
   "outputs": [
    {
     "data": {
      "text/plain": [
       "45.90212983637779"
      ]
     },
     "execution_count": 65,
     "metadata": {},
     "output_type": "execute_result"
    }
   ],
   "source": [
    "np.std(ultra_users['messages']) # найдем стандартное отклонение"
   ]
  },
  {
   "cell_type": "code",
   "execution_count": 66,
   "metadata": {},
   "outputs": [
    {
     "data": {
      "image/png": "[encoded data removed]",
      "text/plain": [
       "<Figure size 432x288 with 1 Axes>"
      ]
     },
     "metadata": {
      "needs_background": "light"
     },
     "output_type": "display_data"
    }
   ],
   "source": [
    "# Посмотрим распределение на гистограмме \n",
    "ultra_sms = ultra_users['messages'].hist()\n",
    "ultra_sms.set_xlabel('Сообщения')\n",
    "ultra_sms.set_ylabel('Количество')\n",
    "ultra_sms.set_title('Отправленные сообщения пользователей тарифа Ultra')\n",
    "plt.show()\n"
   ]
  },
  {
   "cell_type": "markdown",
   "metadata": {},
   "source": [
    "В среднем пользователи тарифа Ultra не выходят за рамки предложенного лимита, средний показатель - 61\n",
    "Дисперсия израсходованных минут в месяц для клиента тариного плана Ultra составляет - 2107.0055235156838\n",
    "Стандартное отклонение израсходованных минут в месяц для клиента тариного плана Ultra составляет - 45.90212983637779"
   ]
  },
  {
   "cell_type": "markdown",
   "metadata": {},
   "source": [
    "###  Распределение тарифов Ultra и Smart:<a name=\"part_3\"></a>"
   ]
  },
  {
   "cell_type": "code",
   "execution_count": 67,
   "metadata": {},
   "outputs": [
    {
     "data": {
      "image/png": "[encoded data removed]",
      "text/plain": [
       "<Figure size 432x288 with 1 Axes>"
      ]
     },
     "metadata": {
      "needs_background": "light"
     },
     "output_type": "display_data"
    }
   ],
   "source": [
    "sns.distplot(smart_users['calls_duration'], bins = 100, kde_kws = {'label':'smart'})\n",
    "sns.distplot(ultra_users['calls_duration'], bins = 100, kde_kws = {'label':'ultra'})\n",
    "plt.show()"
   ]
  },
  {
   "cell_type": "code",
   "execution_count": 68,
   "metadata": {},
   "outputs": [
    {
     "data": {
      "image/png": "[encoded data removed]",
      "text/plain": [
       "<Figure size 432x288 with 1 Axes>"
      ]
     },
     "metadata": {
      "needs_background": "light"
     },
     "output_type": "display_data"
    }
   ],
   "source": [
    "sns.distplot(smart_users['mb_used'], bins = 100, kde_kws = {'label':'smart'})\n",
    "sns.distplot(ultra_users['mb_used'], bins = 100, kde_kws = {'label':'ultra'})\n",
    "plt.show()"
   ]
  },
  {
   "cell_type": "code",
   "execution_count": 69,
   "metadata": {},
   "outputs": [
    {
     "data": {
      "image/png": "[encoded data removed]",
      "text/plain": [
       "<Figure size 432x288 with 1 Axes>"
      ]
     },
     "metadata": {
      "needs_background": "light"
     },
     "output_type": "display_data"
    }
   ],
   "source": [
    "sns.distplot(smart_users['messages'], bins = 100, kde_kws = {'label':'smart'})\n",
    "sns.distplot(ultra_users['messages'], bins = 100, kde_kws = {'label':'ultra'})\n",
    "plt.show()"
   ]
  },
  {
   "cell_type": "code",
   "execution_count": 70,
   "metadata": {},
   "outputs": [
    {
     "data": {
      "image/png": "[encoded data removed]",
      "text/plain": [
       "<Figure size 432x288 with 1 Axes>"
      ]
     },
     "metadata": {
      "needs_background": "light"
     },
     "output_type": "display_data"
    }
   ],
   "source": [
    "sns.distplot(smart_users['total_fee'],bins = 5, kde_kws = {'label':'smart'})\n",
    "sns.distplot(ultra_users['total_fee'],bins = 5, kde_kws = {'label':'ultra'})\n",
    "plt.show()"
   ]
  },
  {
   "cell_type": "markdown",
   "metadata": {},
   "source": [
    "## Проверка гипотез <a name=\"part_4\"></a>"
   ]
  },
  {
   "cell_type": "markdown",
   "metadata": {},
   "source": [
    "Начнем с формулировки нулевой гипотезы: средняя выручка пользователей тарифов «Ультра» и «Смарт» равна.\n",
    "Альтернативная гипотеза  для этой H-0 звучит как средняя выручка пользователей тарифов «Ультра» и «Смарт» различается"
   ]
  },
  {
   "cell_type": "code",
   "execution_count": 71,
   "metadata": {},
   "outputs": [
    {
     "name": "stdout",
     "output_type": "stream",
     "text": [
      "p-значение: 2.9776448000521676e-158\n",
      "Отвергаем нулевую гипотезу\n"
     ]
    }
   ],
   "source": [
    "ultra_mean = ultra_users['total_fee']\n",
    "smart_mean = smart_users['total_fee']\n",
    "alpha = .05 # критический уровень статистической значимости\n",
    "\n",
    "results = st.ttest_ind(\n",
    "    ultra_mean, \n",
    "    smart_mean)\n",
    "\n",
    "print('p-значение:', results.pvalue)\n",
    "\n",
    "if (results.pvalue < alpha):\n",
    "    print(\"Отвергаем нулевую гипотезу\")\n",
    "else:\n",
    "    print(\"Не получилось отвергнуть нулевую гипотезу\")\n"
   ]
  },
  {
   "cell_type": "markdown",
   "metadata": {},
   "source": [
    "Нулевая гипотеза отвергнута, мы можем принять альтернативную - средние выручки пользователей тарифов различны. \n",
    "Подтвердим альтернатвную гипотезу и посмотрим на цифры:"
   ]
  },
  {
   "cell_type": "code",
   "execution_count": 72,
   "metadata": {},
   "outputs": [
    {
     "data": {
      "text/plain": [
       "2071.0659898477156"
      ]
     },
     "execution_count": 72,
     "metadata": {},
     "output_type": "execute_result"
    }
   ],
   "source": [
    "ultra_users['total_fee'].mean()"
   ]
  },
  {
   "cell_type": "code",
   "execution_count": 73,
   "metadata": {},
   "outputs": [
    {
     "data": {
      "text/plain": [
       "1294.6393001345896"
      ]
     },
     "execution_count": 73,
     "metadata": {},
     "output_type": "execute_result"
    }
   ],
   "source": [
    "smart_users['total_fee'].mean()"
   ]
  },
  {
   "cell_type": "markdown",
   "metadata": {},
   "source": [
    "Выручка пользователей тарифного плана Ultra на ~60% больше, чем от пользователей Smart"
   ]
  },
  {
   "cell_type": "code",
   "execution_count": 74,
   "metadata": {},
   "outputs": [],
   "source": [
    "#Посмотрим отдельно на пользователей Москвы и из других регионов\n",
    "\n",
    "moscow_users = df_final.query('city == \"Москва\"')\n",
    "region_users = df_final.query('city != \"Москва\"')"
   ]
  },
  {
   "cell_type": "markdown",
   "metadata": {},
   "source": [
    "Начнем с формулировки нулевой гипотезы: средняя выручка пользователей из Москвы равна выручки пользователей из других регионов. \n",
    "\n",
    "Альтернативная гипотеза для этой H-0 звучит как средняя выручка пользователей из Москвы отличается от выручки пользователей из других регионов"
   ]
  },
  {
   "cell_type": "code",
   "execution_count": 75,
   "metadata": {},
   "outputs": [
    {
     "name": "stdout",
     "output_type": "stream",
     "text": [
      "p-значение: 0.531666503831252\n",
      "Не получилось отвергнуть нулевую гипотезу\n"
     ]
    }
   ],
   "source": [
    "moscow_mean = moscow_users['total_fee']\n",
    "region_mean = region_users['total_fee']\n",
    "alpha = .05 # критический уровень статистической значимости\n",
    "\n",
    "results = st.ttest_ind(moscow_mean, region_mean, equal_var = True)\n",
    "\n",
    "print('p-значение:', results.pvalue)\n",
    "\n",
    "if (results.pvalue < alpha):\n",
    "    print(\"Отвергаем нулевую гипотезу\")\n",
    "else:\n",
    "    print(\"Не получилось отвергнуть нулевую гипотезу\")\n"
   ]
  },
  {
   "cell_type": "markdown",
   "metadata": {},
   "source": [
    "Нулевая гипотеза не отвергается, а значит необходимо отвергнуть альтернативную гипотезу о том, что выручики по Москве и других регионов равны. Подтвердим нулевую гипотезу:"
   ]
  },
  {
   "cell_type": "code",
   "execution_count": 76,
   "metadata": {},
   "outputs": [
    {
     "data": {
      "text/plain": [
       "1550.8052373158755"
      ]
     },
     "execution_count": 76,
     "metadata": {},
     "output_type": "execute_result"
    }
   ],
   "source": [
    "moscow_users['total_fee'].mean()"
   ]
  },
  {
   "cell_type": "code",
   "execution_count": 77,
   "metadata": {},
   "outputs": [
    {
     "data": {
      "text/plain": [
       "565256.3794161058"
      ]
     },
     "execution_count": 77,
     "metadata": {},
     "output_type": "execute_result"
    }
   ],
   "source": [
    "np.var(moscow_users['total_fee'])"
   ]
  },
  {
   "cell_type": "code",
   "execution_count": 78,
   "metadata": {},
   "outputs": [
    {
     "data": {
      "text/plain": [
       "1528.3169419900116"
      ]
     },
     "execution_count": 78,
     "metadata": {},
     "output_type": "execute_result"
    }
   ],
   "source": [
    "region_users['total_fee'].mean()"
   ]
  },
  {
   "cell_type": "code",
   "execution_count": 79,
   "metadata": {},
   "outputs": [
    {
     "data": {
      "text/plain": [
       "656514.2841040562"
      ]
     },
     "execution_count": 79,
     "metadata": {},
     "output_type": "execute_result"
    }
   ],
   "source": [
    "np.var(region_users['total_fee'])"
   ]
  },
  {
   "cell_type": "markdown",
   "metadata": {},
   "source": [
    "Действительно, разница выручики по Москве и других регионов не значительна."
   ]
  },
  {
   "cell_type": "markdown",
   "metadata": {},
   "source": [
    "# Общий вывод <a name=\"part_5\"></a>"
   ]
  },
  {
   "cell_type": "markdown",
   "metadata": {},
   "source": [
    "В ходе обработки полученных данных было расчитано количество сделанных звонков и израсходованных минут разговора, отправленных сообщений и объем израсходованного интернет-трафика по месяцам. Был добавлен столбец с ежемесячной выручкой для каждого клиента. \n",
    "\n",
    "Для определения лучшего тарифа полученные величины были сгруппированы по тарифам. Распределения данных были описаны посредствам среднего, дисперсии, стандартного отклонения, а так же с помощью гистограмм. Больше всего запросам пользователей отвечает тарифный план Smart, клиенты пользуются предложенными тарифами, и практически не выходят за лимиты тарифа, либо выходят, но не значительно (трафик интернет-сессии).\n",
    "Пользователи тарифа Ultra значительно превышают лимит предложенный операторам по минутам разговора. Лимит интернет-сессии и сообщений пользователями не превышается.\n",
    "Выручка от пользователей тарифного плана Ultra выше на 60%, чем тарифного плана Smart.\n",
    "\n",
    "Также в ходе исследования были проверены 2 гипотезы:\n",
    "\n",
    "1. Средняя выручка пользователей тарифов «Ультра» и «Смарт» различается\n",
    "2. Средняя выручка пользователей из Москвы отличается от выручки пользователей из других регионов\n",
    "\n",
    "Первая гипотеза была принята, действительно, выручка от пользователей тарифного плана Ultra выше на 60%. Вторая опровергнута, разница выручки по Москве и других регионов не значительна.\n"
   ]
  }
 ],
 "metadata": {
  "ExecuteTimeLog": [
   {
    "duration": 2136,
    "start_time": "2021-06-15T10:08:13.076Z"
   },
   {
    "duration": 18,
    "start_time": "2021-06-15T10:08:15.215Z"
   },
   {
    "duration": 18,
    "start_time": "2021-06-15T10:08:15.240Z"
   },
   {
    "duration": 25,
    "start_time": "2021-06-15T10:08:15.262Z"
   },
   {
    "duration": 21,
    "start_time": "2021-06-15T10:08:15.289Z"
   },
   {
    "duration": 51,
    "start_time": "2021-06-15T10:08:15.313Z"
   },
   {
    "duration": 107,
    "start_time": "2021-06-15T10:08:15.371Z"
   },
   {
    "duration": 16,
    "start_time": "2021-06-15T10:08:15.482Z"
   },
   {
    "duration": 19,
    "start_time": "2021-06-15T10:08:15.501Z"
   },
   {
    "duration": 6,
    "start_time": "2021-06-15T10:08:15.523Z"
   },
   {
    "duration": 98,
    "start_time": "2021-06-15T10:08:15.556Z"
   },
   {
    "duration": 173,
    "start_time": "2021-06-15T10:08:15.657Z"
   },
   {
    "duration": 25,
    "start_time": "2021-06-15T10:08:15.833Z"
   },
   {
    "duration": 6,
    "start_time": "2021-06-15T10:08:15.861Z"
   },
   {
    "duration": 19,
    "start_time": "2021-06-15T10:08:15.869Z"
   },
   {
    "duration": 15,
    "start_time": "2021-06-15T10:08:15.890Z"
   },
   {
    "duration": 14,
    "start_time": "2021-06-15T10:08:15.908Z"
   },
   {
    "duration": 49,
    "start_time": "2021-06-15T10:08:15.924Z"
   },
   {
    "duration": 24,
    "start_time": "2021-06-15T10:08:15.976Z"
   },
   {
    "duration": 5,
    "start_time": "2021-06-15T10:08:16.003Z"
   },
   {
    "duration": 26,
    "start_time": "2021-06-15T10:08:16.011Z"
   },
   {
    "duration": 45,
    "start_time": "2021-06-15T10:08:16.043Z"
   },
   {
    "duration": 15,
    "start_time": "2021-06-15T10:08:16.092Z"
   },
   {
    "duration": 55,
    "start_time": "2021-06-15T10:08:16.109Z"
   },
   {
    "duration": 22,
    "start_time": "2021-06-15T10:08:16.167Z"
   },
   {
    "duration": 41,
    "start_time": "2021-06-15T10:08:16.192Z"
   },
   {
    "duration": 21,
    "start_time": "2021-06-15T10:08:16.236Z"
   },
   {
    "duration": 17,
    "start_time": "2021-06-15T10:08:16.259Z"
   },
   {
    "duration": 38,
    "start_time": "2021-06-15T10:08:16.278Z"
   },
   {
    "duration": 55,
    "start_time": "2021-06-15T10:08:16.319Z"
   },
   {
    "duration": 5,
    "start_time": "2021-06-15T10:08:16.377Z"
   },
   {
    "duration": 99,
    "start_time": "2021-06-15T10:08:16.385Z"
   },
   {
    "duration": 3,
    "start_time": "2021-06-15T10:08:16.487Z"
   },
   {
    "duration": 19,
    "start_time": "2021-06-15T10:08:16.494Z"
   },
   {
    "duration": 11,
    "start_time": "2021-06-15T10:08:16.516Z"
   },
   {
    "duration": 31,
    "start_time": "2021-06-15T10:08:16.556Z"
   },
   {
    "duration": 36,
    "start_time": "2021-06-15T10:08:16.590Z"
   },
   {
    "duration": 6,
    "start_time": "2021-06-15T10:08:16.656Z"
   },
   {
    "duration": 406,
    "start_time": "2021-06-15T10:08:16.664Z"
   },
   {
    "duration": 5,
    "start_time": "2021-06-15T10:08:17.072Z"
   },
   {
    "duration": 26,
    "start_time": "2021-06-15T10:08:17.079Z"
   },
   {
    "duration": 11,
    "start_time": "2021-06-15T10:08:17.107Z"
   },
   {
    "duration": 6,
    "start_time": "2021-06-15T10:08:17.156Z"
   },
   {
    "duration": 10,
    "start_time": "2021-06-15T10:08:17.165Z"
   },
   {
    "duration": 6,
    "start_time": "2021-06-15T10:08:17.177Z"
   },
   {
    "duration": 377,
    "start_time": "2021-06-15T10:08:17.186Z"
   },
   {
    "duration": 6,
    "start_time": "2021-06-15T10:08:17.565Z"
   },
   {
    "duration": 11,
    "start_time": "2021-06-15T10:08:17.573Z"
   },
   {
    "duration": 9,
    "start_time": "2021-06-15T10:08:17.587Z"
   },
   {
    "duration": 375,
    "start_time": "2021-06-15T10:08:17.598Z"
   },
   {
    "duration": 6,
    "start_time": "2021-06-15T10:08:17.976Z"
   },
   {
    "duration": 7,
    "start_time": "2021-06-15T10:08:17.985Z"
   },
   {
    "duration": 18,
    "start_time": "2021-06-15T10:08:17.994Z"
   },
   {
    "duration": 369,
    "start_time": "2021-06-15T10:08:18.015Z"
   },
   {
    "duration": 7,
    "start_time": "2021-06-15T10:08:18.387Z"
   },
   {
    "duration": 9,
    "start_time": "2021-06-15T10:08:18.396Z"
   },
   {
    "duration": 7,
    "start_time": "2021-06-15T10:08:18.407Z"
   },
   {
    "duration": 372,
    "start_time": "2021-06-15T10:08:18.416Z"
   },
   {
    "duration": 6,
    "start_time": "2021-06-15T10:08:18.790Z"
   },
   {
    "duration": 9,
    "start_time": "2021-06-15T10:08:18.799Z"
   },
   {
    "duration": 45,
    "start_time": "2021-06-15T10:08:18.810Z"
   },
   {
    "duration": 353,
    "start_time": "2021-06-15T10:08:18.858Z"
   },
   {
    "duration": 7,
    "start_time": "2021-06-15T10:08:19.213Z"
   },
   {
    "duration": 34,
    "start_time": "2021-06-15T10:08:19.222Z"
   },
   {
    "duration": 7,
    "start_time": "2021-06-15T10:08:19.258Z"
   },
   {
    "duration": 417,
    "start_time": "2021-06-15T10:08:19.268Z"
   },
   {
    "duration": 1005,
    "start_time": "2021-06-15T10:08:19.692Z"
   },
   {
    "duration": 1033,
    "start_time": "2021-06-15T10:08:20.700Z"
   },
   {
    "duration": 999,
    "start_time": "2021-06-15T10:08:21.736Z"
   },
   {
    "duration": 383,
    "start_time": "2021-06-15T10:08:22.737Z"
   },
   {
    "duration": 7,
    "start_time": "2021-06-15T10:08:23.122Z"
   },
   {
    "duration": 25,
    "start_time": "2021-06-15T10:08:23.131Z"
   },
   {
    "duration": 14,
    "start_time": "2021-06-15T10:08:23.158Z"
   },
   {
    "duration": 12,
    "start_time": "2021-06-15T10:08:23.174Z"
   },
   {
    "duration": 11,
    "start_time": "2021-06-15T10:08:23.188Z"
   },
   {
    "duration": 55,
    "start_time": "2021-06-15T10:08:23.201Z"
   },
   {
    "duration": 10,
    "start_time": "2021-06-15T10:08:23.258Z"
   },
   {
    "duration": 6,
    "start_time": "2021-06-15T10:08:23.270Z"
   },
   {
    "duration": 9,
    "start_time": "2021-06-15T10:08:23.278Z"
   },
   {
    "duration": 2014,
    "start_time": "2021-06-25T16:14:09.638Z"
   },
   {
    "duration": 26,
    "start_time": "2021-06-25T16:15:00.934Z"
   },
   {
    "duration": 412,
    "start_time": "2021-06-25T16:15:07.225Z"
   },
   {
    "duration": 26,
    "start_time": "2021-06-25T16:27:09.183Z"
   },
   {
    "duration": 14,
    "start_time": "2021-06-25T16:34:56.558Z"
   },
   {
    "duration": 9,
    "start_time": "2021-06-25T16:34:57.111Z"
   },
   {
    "duration": 26,
    "start_time": "2021-06-25T16:34:57.502Z"
   },
   {
    "duration": 10,
    "start_time": "2021-06-25T16:34:57.809Z"
   },
   {
    "duration": 22,
    "start_time": "2021-06-25T16:34:58.117Z"
   },
   {
    "duration": 64,
    "start_time": "2021-06-25T16:34:58.396Z"
   },
   {
    "duration": 12,
    "start_time": "2021-06-25T16:34:58.717Z"
   },
   {
    "duration": 16,
    "start_time": "2021-06-25T16:34:59.052Z"
   },
   {
    "duration": 6,
    "start_time": "2021-06-25T16:34:59.541Z"
   },
   {
    "duration": 23,
    "start_time": "2021-06-25T16:35:53.865Z"
   },
   {
    "duration": 12,
    "start_time": "2021-06-25T16:36:14.473Z"
   },
   {
    "duration": 6,
    "start_time": "2021-06-25T16:36:18.009Z"
   },
   {
    "duration": 84,
    "start_time": "2021-06-25T16:36:18.666Z"
   },
   {
    "duration": 154,
    "start_time": "2021-06-25T16:36:19.326Z"
   },
   {
    "duration": 17,
    "start_time": "2021-06-25T16:36:36.577Z"
   },
   {
    "duration": 5,
    "start_time": "2021-06-25T16:36:37.667Z"
   },
   {
    "duration": 8,
    "start_time": "2021-06-25T16:38:28.106Z"
   },
   {
    "duration": 6,
    "start_time": "2021-06-25T16:38:44.207Z"
   },
   {
    "duration": 6,
    "start_time": "2021-06-25T16:39:34.183Z"
   },
   {
    "duration": 31,
    "start_time": "2021-06-25T16:39:34.855Z"
   },
   {
    "duration": 25,
    "start_time": "2021-06-25T16:39:44.199Z"
   },
   {
    "duration": 6,
    "start_time": "2021-06-25T16:39:44.829Z"
   },
   {
    "duration": 10,
    "start_time": "2021-06-25T16:39:51.088Z"
   },
   {
    "duration": 9,
    "start_time": "2021-06-25T16:41:09.708Z"
   },
   {
    "duration": 36,
    "start_time": "2021-06-25T16:41:12.822Z"
   },
   {
    "duration": 10,
    "start_time": "2021-06-25T16:41:13.593Z"
   },
   {
    "duration": 24,
    "start_time": "2021-06-25T16:41:40.925Z"
   },
   {
    "duration": 21,
    "start_time": "2021-06-25T16:41:42.773Z"
   },
   {
    "duration": 43,
    "start_time": "2021-06-25T16:41:47.858Z"
   },
   {
    "duration": 5,
    "start_time": "2021-06-25T16:41:48.467Z"
   },
   {
    "duration": 10,
    "start_time": "2021-06-25T16:41:55.094Z"
   },
   {
    "duration": 39,
    "start_time": "2021-06-25T16:42:01.621Z"
   },
   {
    "duration": 34,
    "start_time": "2021-06-25T16:42:02.140Z"
   },
   {
    "duration": 6,
    "start_time": "2021-06-25T16:42:02.685Z"
   },
   {
    "duration": 5,
    "start_time": "2021-06-25T16:42:27.191Z"
   },
   {
    "duration": 69,
    "start_time": "2021-06-25T16:42:32.449Z"
   },
   {
    "duration": 4,
    "start_time": "2021-06-25T16:42:33.025Z"
   },
   {
    "duration": 11,
    "start_time": "2021-06-25T16:42:33.648Z"
   },
   {
    "duration": 9,
    "start_time": "2021-06-25T16:44:25.571Z"
   },
   {
    "duration": 31,
    "start_time": "2021-06-25T16:44:25.982Z"
   },
   {
    "duration": 21,
    "start_time": "2021-06-25T16:44:34.002Z"
   },
   {
    "duration": 6,
    "start_time": "2021-06-25T16:44:38.321Z"
   },
   {
    "duration": 371,
    "start_time": "2021-06-25T16:44:41.113Z"
   },
   {
    "duration": 5,
    "start_time": "2021-06-25T16:44:45.573Z"
   },
   {
    "duration": 23,
    "start_time": "2021-06-25T16:44:46.154Z"
   },
   {
    "duration": 11,
    "start_time": "2021-06-25T16:46:19.495Z"
   },
   {
    "duration": 6,
    "start_time": "2021-06-25T16:46:20.187Z"
   },
   {
    "duration": 7,
    "start_time": "2021-06-25T16:46:20.785Z"
   },
   {
    "duration": 6,
    "start_time": "2021-06-25T16:46:22.705Z"
   },
   {
    "duration": 314,
    "start_time": "2021-06-25T16:46:25.491Z"
   },
   {
    "duration": 303,
    "start_time": "2021-06-25T16:46:38.701Z"
   },
   {
    "duration": 289,
    "start_time": "2021-06-25T16:46:51.556Z"
   },
   {
    "duration": 6,
    "start_time": "2021-06-25T16:46:53.007Z"
   },
   {
    "duration": 7,
    "start_time": "2021-06-25T16:46:53.692Z"
   },
   {
    "duration": 6,
    "start_time": "2021-06-25T16:46:54.606Z"
   },
   {
    "duration": 303,
    "start_time": "2021-06-25T16:46:58.173Z"
   },
   {
    "duration": 7,
    "start_time": "2021-06-25T16:47:02.603Z"
   },
   {
    "duration": 6,
    "start_time": "2021-06-25T16:47:02.923Z"
   },
   {
    "duration": 7,
    "start_time": "2021-06-25T16:47:03.292Z"
   },
   {
    "duration": 307,
    "start_time": "2021-06-25T16:47:07.544Z"
   },
   {
    "duration": 7,
    "start_time": "2021-06-25T16:47:12.202Z"
   },
   {
    "duration": 7,
    "start_time": "2021-06-25T16:47:12.828Z"
   },
   {
    "duration": 6,
    "start_time": "2021-06-25T16:47:13.532Z"
   },
   {
    "duration": 363,
    "start_time": "2021-06-25T16:47:18.020Z"
   },
   {
    "duration": 7,
    "start_time": "2021-06-25T16:47:23.142Z"
   },
   {
    "duration": 6,
    "start_time": "2021-06-25T16:47:23.727Z"
   },
   {
    "duration": 7,
    "start_time": "2021-06-25T16:47:24.142Z"
   },
   {
    "duration": 311,
    "start_time": "2021-06-25T16:47:29.851Z"
   },
   {
    "duration": 7,
    "start_time": "2021-06-25T16:47:52.123Z"
   },
   {
    "duration": 7,
    "start_time": "2021-06-25T16:47:52.896Z"
   },
   {
    "duration": 7,
    "start_time": "2021-06-25T16:47:53.604Z"
   },
   {
    "duration": 293,
    "start_time": "2021-06-25T16:48:03.934Z"
   },
   {
    "duration": 968,
    "start_time": "2021-06-25T16:48:20.565Z"
   },
   {
    "duration": 943,
    "start_time": "2021-06-25T16:48:33.668Z"
   },
   {
    "duration": 1135,
    "start_time": "2021-06-25T16:48:46.532Z"
   },
   {
    "duration": 340,
    "start_time": "2021-06-25T16:48:53.497Z"
   },
   {
    "duration": 7,
    "start_time": "2021-06-25T16:49:15.394Z"
   },
   {
    "duration": 6,
    "start_time": "2021-06-25T16:49:16.940Z"
   },
   {
    "duration": 6,
    "start_time": "2021-06-25T16:49:19.661Z"
   },
   {
    "duration": 11,
    "start_time": "2021-06-25T16:49:22.681Z"
   },
   {
    "duration": 11,
    "start_time": "2021-06-25T16:49:26.278Z"
   },
   {
    "duration": 9,
    "start_time": "2021-06-25T16:49:29.496Z"
   },
   {
    "duration": 6,
    "start_time": "2021-06-25T16:49:30.585Z"
   },
   {
    "duration": 6,
    "start_time": "2021-06-25T16:49:31.028Z"
   },
   {
    "duration": 6,
    "start_time": "2021-06-25T16:49:31.418Z"
   },
   {
    "duration": 1887,
    "start_time": "2021-06-25T16:56:06.390Z"
   },
   {
    "duration": 17,
    "start_time": "2021-06-25T16:56:08.280Z"
   },
   {
    "duration": 11,
    "start_time": "2021-06-25T16:56:08.300Z"
   },
   {
    "duration": 28,
    "start_time": "2021-06-25T16:56:08.314Z"
   },
   {
    "duration": 9,
    "start_time": "2021-06-25T16:56:08.345Z"
   },
   {
    "duration": 20,
    "start_time": "2021-06-25T16:56:08.384Z"
   },
   {
    "duration": 90,
    "start_time": "2021-06-25T16:56:08.408Z"
   },
   {
    "duration": 13,
    "start_time": "2021-06-25T16:56:08.501Z"
   },
   {
    "duration": 20,
    "start_time": "2021-06-25T16:56:08.516Z"
   },
   {
    "duration": 5,
    "start_time": "2021-06-25T16:56:08.538Z"
   },
   {
    "duration": 112,
    "start_time": "2021-06-25T16:56:08.545Z"
   },
   {
    "duration": 179,
    "start_time": "2021-06-25T16:56:08.660Z"
   },
   {
    "duration": 15,
    "start_time": "2021-06-25T16:56:08.842Z"
   },
   {
    "duration": 25,
    "start_time": "2021-06-25T16:56:08.860Z"
   },
   {
    "duration": 9,
    "start_time": "2021-06-25T16:56:08.888Z"
   },
   {
    "duration": 8,
    "start_time": "2021-06-25T16:56:08.899Z"
   },
   {
    "duration": 9,
    "start_time": "2021-06-25T16:56:08.909Z"
   },
   {
    "duration": 32,
    "start_time": "2021-06-25T16:56:08.921Z"
   },
   {
    "duration": 23,
    "start_time": "2021-06-25T16:56:08.983Z"
   },
   {
    "duration": 6,
    "start_time": "2021-06-25T16:56:09.008Z"
   },
   {
    "duration": 11,
    "start_time": "2021-06-25T16:56:09.017Z"
   },
   {
    "duration": 70,
    "start_time": "2021-06-25T16:56:09.035Z"
   },
   {
    "duration": 10,
    "start_time": "2021-06-25T16:56:09.109Z"
   },
   {
    "duration": 29,
    "start_time": "2021-06-25T16:56:09.122Z"
   },
   {
    "duration": 40,
    "start_time": "2021-06-25T16:56:09.153Z"
   },
   {
    "duration": 42,
    "start_time": "2021-06-25T16:56:09.196Z"
   },
   {
    "duration": 4,
    "start_time": "2021-06-25T16:56:09.240Z"
   },
   {
    "duration": 40,
    "start_time": "2021-06-25T16:56:09.246Z"
   },
   {
    "duration": 40,
    "start_time": "2021-06-25T16:56:09.289Z"
   },
   {
    "duration": 30,
    "start_time": "2021-06-25T16:56:09.331Z"
   },
   {
    "duration": 5,
    "start_time": "2021-06-25T16:56:09.383Z"
   },
   {
    "duration": 73,
    "start_time": "2021-06-25T16:56:09.390Z"
   },
   {
    "duration": 20,
    "start_time": "2021-06-25T16:56:09.465Z"
   },
   {
    "duration": 13,
    "start_time": "2021-06-25T16:56:09.488Z"
   },
   {
    "duration": 18,
    "start_time": "2021-06-25T16:56:09.503Z"
   },
   {
    "duration": 32,
    "start_time": "2021-06-25T16:56:09.523Z"
   },
   {
    "duration": 44,
    "start_time": "2021-06-25T16:56:09.558Z"
   },
   {
    "duration": 7,
    "start_time": "2021-06-25T16:56:09.604Z"
   },
   {
    "duration": 379,
    "start_time": "2021-06-25T16:56:09.613Z"
   },
   {
    "duration": 4,
    "start_time": "2021-06-25T16:56:09.995Z"
   },
   {
    "duration": 29,
    "start_time": "2021-06-25T16:56:10.002Z"
   },
   {
    "duration": 11,
    "start_time": "2021-06-25T16:56:10.033Z"
   },
   {
    "duration": 39,
    "start_time": "2021-06-25T16:56:10.047Z"
   },
   {
    "duration": 6,
    "start_time": "2021-06-25T16:56:10.088Z"
   },
   {
    "duration": 14,
    "start_time": "2021-06-25T16:56:10.096Z"
   },
   {
    "duration": 315,
    "start_time": "2021-06-25T16:56:10.112Z"
   },
   {
    "duration": 7,
    "start_time": "2021-06-25T16:56:10.429Z"
   },
   {
    "duration": 17,
    "start_time": "2021-06-25T16:56:10.438Z"
   },
   {
    "duration": 26,
    "start_time": "2021-06-25T16:56:10.458Z"
   },
   {
    "duration": 311,
    "start_time": "2021-06-25T16:56:10.487Z"
   },
   {
    "duration": 6,
    "start_time": "2021-06-25T16:56:10.801Z"
   },
   {
    "duration": 11,
    "start_time": "2021-06-25T16:56:10.809Z"
   },
   {
    "duration": 14,
    "start_time": "2021-06-25T16:56:10.823Z"
   },
   {
    "duration": 349,
    "start_time": "2021-06-25T16:56:10.840Z"
   },
   {
    "duration": 7,
    "start_time": "2021-06-25T16:56:11.193Z"
   },
   {
    "duration": 9,
    "start_time": "2021-06-25T16:56:11.202Z"
   },
   {
    "duration": 7,
    "start_time": "2021-06-25T16:56:11.213Z"
   },
   {
    "duration": 361,
    "start_time": "2021-06-25T16:56:11.222Z"
   },
   {
    "duration": 7,
    "start_time": "2021-06-25T16:56:11.585Z"
   },
   {
    "duration": 23,
    "start_time": "2021-06-25T16:56:11.594Z"
   },
   {
    "duration": 15,
    "start_time": "2021-06-25T16:56:11.620Z"
   },
   {
    "duration": 312,
    "start_time": "2021-06-25T16:56:11.637Z"
   },
   {
    "duration": 6,
    "start_time": "2021-06-25T16:56:11.952Z"
   },
   {
    "duration": 25,
    "start_time": "2021-06-25T16:56:11.960Z"
   },
   {
    "duration": 6,
    "start_time": "2021-06-25T16:56:11.987Z"
   },
   {
    "duration": 372,
    "start_time": "2021-06-25T16:56:11.995Z"
   },
   {
    "duration": 914,
    "start_time": "2021-06-25T16:56:12.374Z"
   },
   {
    "duration": 958,
    "start_time": "2021-06-25T16:56:13.291Z"
   },
   {
    "duration": 908,
    "start_time": "2021-06-25T16:56:14.252Z"
   },
   {
    "duration": 347,
    "start_time": "2021-06-25T16:56:15.162Z"
   },
   {
    "duration": 8,
    "start_time": "2021-06-25T16:56:15.512Z"
   },
   {
    "duration": 29,
    "start_time": "2021-06-25T16:56:15.523Z"
   },
   {
    "duration": 17,
    "start_time": "2021-06-25T16:56:15.555Z"
   },
   {
    "duration": 27,
    "start_time": "2021-06-25T16:56:15.575Z"
   },
   {
    "duration": 28,
    "start_time": "2021-06-25T16:56:15.604Z"
   },
   {
    "duration": 22,
    "start_time": "2021-06-25T16:56:15.635Z"
   },
   {
    "duration": 14,
    "start_time": "2021-06-25T16:56:15.660Z"
   },
   {
    "duration": 20,
    "start_time": "2021-06-25T16:56:15.677Z"
   },
   {
    "duration": 23,
    "start_time": "2021-06-25T16:56:15.700Z"
   },
   {
    "duration": 1872,
    "start_time": "2021-06-25T17:02:02.193Z"
   },
   {
    "duration": 19,
    "start_time": "2021-06-25T17:02:04.067Z"
   },
   {
    "duration": 13,
    "start_time": "2021-06-25T17:02:04.091Z"
   },
   {
    "duration": 28,
    "start_time": "2021-06-25T17:02:04.107Z"
   },
   {
    "duration": 11,
    "start_time": "2021-06-25T17:02:04.138Z"
   },
   {
    "duration": 23,
    "start_time": "2021-06-25T17:02:04.182Z"
   },
   {
    "duration": 87,
    "start_time": "2021-06-25T17:02:04.208Z"
   },
   {
    "duration": 12,
    "start_time": "2021-06-25T17:02:04.298Z"
   },
   {
    "duration": 17,
    "start_time": "2021-06-25T17:02:04.317Z"
   },
   {
    "duration": 6,
    "start_time": "2021-06-25T17:02:04.338Z"
   },
   {
    "duration": 138,
    "start_time": "2021-06-25T17:02:04.347Z"
   },
   {
    "duration": 162,
    "start_time": "2021-06-25T17:02:04.488Z"
   },
   {
    "duration": 33,
    "start_time": "2021-06-25T17:02:04.653Z"
   },
   {
    "duration": 7,
    "start_time": "2021-06-25T17:02:04.689Z"
   },
   {
    "duration": 11,
    "start_time": "2021-06-25T17:02:04.699Z"
   },
   {
    "duration": 9,
    "start_time": "2021-06-25T17:02:04.713Z"
   },
   {
    "duration": 8,
    "start_time": "2021-06-25T17:02:04.725Z"
   },
   {
    "duration": 72,
    "start_time": "2021-06-25T17:02:04.735Z"
   },
   {
    "duration": 22,
    "start_time": "2021-06-25T17:02:04.810Z"
   },
   {
    "duration": 6,
    "start_time": "2021-06-25T17:02:04.834Z"
   },
   {
    "duration": 10,
    "start_time": "2021-06-25T17:02:04.842Z"
   },
   {
    "duration": 62,
    "start_time": "2021-06-25T17:02:04.854Z"
   },
   {
    "duration": 10,
    "start_time": "2021-06-25T17:02:04.919Z"
   },
   {
    "duration": 56,
    "start_time": "2021-06-25T17:02:04.931Z"
   },
   {
    "duration": 20,
    "start_time": "2021-06-25T17:02:04.990Z"
   },
   {
    "duration": 42,
    "start_time": "2021-06-25T17:02:05.012Z"
   },
   {
    "duration": 23,
    "start_time": "2021-06-25T17:02:05.060Z"
   },
   {
    "duration": 10,
    "start_time": "2021-06-25T17:02:05.087Z"
   },
   {
    "duration": 42,
    "start_time": "2021-06-25T17:02:05.099Z"
   },
   {
    "duration": 58,
    "start_time": "2021-06-25T17:02:05.143Z"
   },
   {
    "duration": 5,
    "start_time": "2021-06-25T17:02:05.203Z"
   },
   {
    "duration": 85,
    "start_time": "2021-06-25T17:02:05.210Z"
   },
   {
    "duration": 3,
    "start_time": "2021-06-25T17:02:05.297Z"
   },
   {
    "duration": 16,
    "start_time": "2021-06-25T17:02:05.302Z"
   },
   {
    "duration": 9,
    "start_time": "2021-06-25T17:02:05.321Z"
   },
   {
    "duration": 58,
    "start_time": "2021-06-25T17:02:05.333Z"
   },
   {
    "duration": 21,
    "start_time": "2021-06-25T17:02:05.393Z"
   },
   {
    "duration": 8,
    "start_time": "2021-06-25T17:02:05.417Z"
   },
   {
    "duration": 377,
    "start_time": "2021-06-25T17:02:05.427Z"
   },
   {
    "duration": 5,
    "start_time": "2021-06-25T17:02:05.806Z"
   },
   {
    "duration": 30,
    "start_time": "2021-06-25T17:02:05.813Z"
   },
   {
    "duration": 10,
    "start_time": "2021-06-25T17:02:05.846Z"
   },
   {
    "duration": 28,
    "start_time": "2021-06-25T17:02:05.859Z"
   },
   {
    "duration": 8,
    "start_time": "2021-06-25T17:02:05.889Z"
   },
   {
    "duration": 10,
    "start_time": "2021-06-25T17:02:05.899Z"
   },
   {
    "duration": 322,
    "start_time": "2021-06-25T17:02:05.911Z"
   },
   {
    "duration": 6,
    "start_time": "2021-06-25T17:02:06.235Z"
   },
   {
    "duration": 8,
    "start_time": "2021-06-25T17:02:06.243Z"
   },
   {
    "duration": 31,
    "start_time": "2021-06-25T17:02:06.253Z"
   },
   {
    "duration": 313,
    "start_time": "2021-06-25T17:02:06.286Z"
   },
   {
    "duration": 6,
    "start_time": "2021-06-25T17:02:06.601Z"
   },
   {
    "duration": 9,
    "start_time": "2021-06-25T17:02:06.609Z"
   },
   {
    "duration": 8,
    "start_time": "2021-06-25T17:02:06.620Z"
   },
   {
    "duration": 325,
    "start_time": "2021-06-25T17:02:06.630Z"
   },
   {
    "duration": 7,
    "start_time": "2021-06-25T17:02:06.957Z"
   },
   {
    "duration": 20,
    "start_time": "2021-06-25T17:02:06.966Z"
   },
   {
    "duration": 7,
    "start_time": "2021-06-25T17:02:06.989Z"
   },
   {
    "duration": 320,
    "start_time": "2021-06-25T17:02:06.998Z"
   },
   {
    "duration": 6,
    "start_time": "2021-06-25T17:02:07.320Z"
   },
   {
    "duration": 8,
    "start_time": "2021-06-25T17:02:07.328Z"
   },
   {
    "duration": 7,
    "start_time": "2021-06-25T17:02:07.339Z"
   },
   {
    "duration": 338,
    "start_time": "2021-06-25T17:02:07.348Z"
   },
   {
    "duration": 6,
    "start_time": "2021-06-25T17:02:07.688Z"
   },
   {
    "duration": 8,
    "start_time": "2021-06-25T17:02:07.696Z"
   },
   {
    "duration": 8,
    "start_time": "2021-06-25T17:02:07.707Z"
   },
   {
    "duration": 368,
    "start_time": "2021-06-25T17:02:07.717Z"
   },
   {
    "duration": 888,
    "start_time": "2021-06-25T17:02:08.087Z"
   },
   {
    "duration": 951,
    "start_time": "2021-06-25T17:02:08.982Z"
   },
   {
    "duration": 944,
    "start_time": "2021-06-25T17:02:09.936Z"
   },
   {
    "duration": 369,
    "start_time": "2021-06-25T17:02:10.884Z"
   },
   {
    "duration": 8,
    "start_time": "2021-06-25T17:02:11.256Z"
   },
   {
    "duration": 22,
    "start_time": "2021-06-25T17:02:11.267Z"
   },
   {
    "duration": 8,
    "start_time": "2021-06-25T17:02:11.292Z"
   },
   {
    "duration": 14,
    "start_time": "2021-06-25T17:02:11.304Z"
   },
   {
    "duration": 10,
    "start_time": "2021-06-25T17:02:11.321Z"
   },
   {
    "duration": 54,
    "start_time": "2021-06-25T17:02:11.334Z"
   },
   {
    "duration": 8,
    "start_time": "2021-06-25T17:02:11.390Z"
   },
   {
    "duration": 9,
    "start_time": "2021-06-25T17:02:11.400Z"
   },
   {
    "duration": 147,
    "start_time": "2021-06-25T17:02:11.412Z"
   }
  ],
  "kernelspec": {
   "display_name": "Python 3",
   "language": "python",
   "name": "python3"
  },
  "language_info": {
   "codemirror_mode": {
    "name": "ipython",
    "version": 3
   },
   "file_extension": ".py",
   "mimetype": "text/x-python",
   "name": "python",
   "nbconvert_exporter": "python",
   "pygments_lexer": "ipython3",
   "version": "3.7.8"
  },
  "toc": {
   "base_numbering": 1,
   "nav_menu": {
    "height": "210px",
    "width": "230px"
   },
   "number_sections": true,
   "sideBar": true,
   "skip_h1_title": true,
   "title_cell": "Table of Contents",
   "title_sidebar": "Contents",
   "toc_cell": false,
   "toc_position": {},
   "toc_section_display": true,
   "toc_window_display": false
  }
 },
 "nbformat": 4,
 "nbformat_minor": 2
}
